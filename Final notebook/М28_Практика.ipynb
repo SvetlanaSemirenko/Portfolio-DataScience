{
 "cells": [
  {
   "cell_type": "markdown",
   "metadata": {
    "id": "R7z_bLlN82Fq"
   },
   "source": [
    "## Практическая работа"
   ]
  },
  {
   "cell_type": "markdown",
   "metadata": {
    "id": "kkjjqZ3h8_Xs"
   },
   "source": [
    "В этой работе вам нужно будет подготовить финальный нотбук по задаче предсказания стоимости поддержанного автомобиля, которую мы решали на протяжении нескольких модулей. \n",
    "<br>\n",
    "*Обязательные задачи* помогут проверить, что вы действительно усвоили материал. Если у вас всё получилось, можете переходить к следующей теме.\n",
    "<br>\n",
    "Удачи!"
   ]
  },
  {
   "cell_type": "markdown",
   "metadata": {
    "id": "L7jIYdtWLK83"
   },
   "source": [
    "Цели практической работы: \n",
    "\n",
    "1.   Потренироваться в формировании понятного и структурированного ноутбука по результатам исследования.\n",
    "2.   Отработать выбор наилучшей предсказательной модели с помощью кросс-валидации. \n",
    "3.   На основе результатов метрик научиться делать выводы о переобучении/недообучении модели.\n",
    "4.   Научиться сохранять обученные модели в формате `pickle`.\n",
    "\n",
    "\n"
   ]
  },
  {
   "cell_type": "markdown",
   "metadata": {
    "id": "euoZ2_MKMq8a"
   },
   "source": [
    "Что оценивается:\n",
    "\n",
    "*   Ноутбук состоит из блоков: каждый блок соответствует определённой фазе работы с задачей.\n",
    "*   Блоки, которые состоят из нескольких этапов, декомпозированы на подблоки (например, в `Data Preparation` может быть несколько подблоков: `Data cleaning`, `Feature Selection` и тому подобное).\n",
    "*   Код написан в едином стиле и не нарушает PEP-8.\n",
    "*   Код покрыт комментариями.\n",
    "*   Код воспроизводим (то есть проверяющий, запустив ноутбук, получит ровно такие же результаты).\n",
    "*   Все условия задач выполнены.\n",
    "\n",
    "\n",
    "\n"
   ]
  },
  {
   "cell_type": "markdown",
   "metadata": {
    "id": "o6QMs6bwNahN"
   },
   "source": [
    "## Обязательные задачи"
   ]
  },
  {
   "cell_type": "markdown",
   "metadata": {
    "id": "oTIytkb-P_fc"
   },
   "source": [
    "### Постановка общей задачи:\n",
    "\n"
   ]
  },
  {
   "cell_type": "markdown",
   "metadata": {
    "id": "3OVyFidZQQCM"
   },
   "source": [
    "Напомним, что вы работаете с небольшой выборкой из коллекции подержанных автомобилей, выставленных на продажу в Соединённых Штатах. На этих данных вам нужно построить модель классификации, определяющую категорию цены подержанного автомобиля в зависимости от характеристик транспортного средства."
   ]
  },
  {
   "cell_type": "markdown",
   "metadata": {
    "id": "aXJiblYGPnl7"
   },
   "source": [
    "### Описание датасета:\n",
    "\n"
   ]
  },
  {
   "cell_type": "markdown",
   "metadata": {
    "id": "iEkPagJvQMct"
   },
   "source": [
    "- `id`: идентификатор записи;\n",
    "- `url`: URL записи о продаже;\n",
    "- `region`: регион;\n",
    "- `region_url`: URL региона;\n",
    "- `price`: стоимость;\n",
    "- `year`: год выпуска;\n",
    "- `manufacturer`: производитель;\n",
    "- `model`: модель;\n",
    "- `condition`: состояние;\n",
    "- `cylinders`: количество цилиндров;\n",
    "- `fuel`: тип топлива;\n",
    "- `odometer`: количество пройденных миль;\n",
    "- `title_status`: статус;\n",
    "- `transmission`: коробка передач;\n",
    "- `VIN`: идентификационный номер;\n",
    "- `drive`: тип привода;\n",
    "- `size`: размер;\n",
    "- `type`: кузов;\n",
    "- `paint_color`: цвет;\n",
    "- `image_url`: URL изображения;\n",
    "- `description`: указанное описание;\n",
    "- `county`: страна;\n",
    "- `state`: штат;\n",
    "- `lat`: широта;\n",
    "- `long`: долгота;\n",
    "- `posting_date`: дата размещения объявления о продаже;\n",
    "- `price_category`: категория цены."
   ]
  },
  {
   "cell_type": "markdown",
   "metadata": {
    "id": "QOz03a6IS3yM"
   },
   "source": [
    "###  Задачи:"
   ]
  },
  {
   "cell_type": "markdown",
   "metadata": {
    "id": "fyPW74cuS0xV"
   },
   "source": [
    "Ниже представлены задачи по проекту построения модели. Выполните их и в отдельном файле соберите финальный ноутбук проекта. "
   ]
  },
  {
   "cell_type": "markdown",
   "metadata": {
    "id": "foZlR0n9Qe5d"
   },
   "source": [
    "0. *Импорт сторонних библиотек*\n",
    "\n",
    "В первой ячейке ноутбука импортируйте библиотеки, которые необходимы для работы с данными. Впоследствии все импорты добавляйте в эту ячейку. Структурируйте их по PEP-8. \n",
    "\n",
    "[Документация по оформлению import'ов (PEP-8)](https://peps.python.org/pep-0008/#imports)"
   ]
  },
  {
   "cell_type": "markdown",
   "metadata": {
    "id": "bhYiJs3jSRzu"
   },
   "source": [
    "1. *Загрузка данных*\n",
    "\n",
    "Загрузите данные из файла `df_out`. Выведите размерность и первые 5 строчек данных."
   ]
  },
  {
   "cell_type": "markdown",
   "metadata": {
    "id": "yU_ge0TwTQu_"
   },
   "source": [
    "2. *Data Preparation*\n",
    "\n",
    "Объявите блок Data Preparation. В этом блоке:\n",
    "* произведите преобразование типов данных, если нужно;\n",
    "* исследуйте данные на пропуски, обработайте их (например, заполните какими-то значениями);\n",
    "* избавьтесь от аномалий, если нужно.\n",
    "\n",
    "В решении данной задачи опирайтесь на результаты работы в 17-19 модулях блока Data Preparation. Исследование данных подкрепляйте соответствующей визуализацией в виде графиков, таблиц или статистических значений.\n",
    "\n",
    "Декомпозируйте блок на подблоки.\n"
   ]
  },
  {
   "cell_type": "markdown",
   "metadata": {
    "id": "hzw5oxCacLEN"
   },
   "source": [
    "3. *Feature engineering*\n",
    "\n",
    "Объявите блок Feature engineering. В этом блоке:\n",
    "* подготовьте категориальные переменные с помощью OneHotEncoder;\n",
    "* стандартизируйте и нормализуйте переменные, если нужно;\n",
    "* создайте новые признаки на основе информации в датафрейме (на основе дат, текстовых значений переменных, и так далее);\n",
    "* удалите неинформативные колонки, которые появились в датасете в результате Feature engineering;\n",
    "* сформируйте финальный датасет, на котором будет производиться моделирование, и сохраните его в отдельный файл.\n",
    "\n",
    "В решении данной задачи опирайтесь на результаты работы в 20 модуле блока Data Preparation. Исследование подкрепляйте соответствующей визуализацией в виде графиков, таблиц или матриц корреляций, если это нужно.\n",
    "\n",
    "Декомпозируйте блок на подблоки."
   ]
  },
  {
   "cell_type": "markdown",
   "metadata": {
    "id": "oPvQ_MlUeU6n"
   },
   "source": [
    "4. *Modelling*\n",
    "\n",
    "Объявите блок Modelling. В этом блоке:\n",
    "* сформируйте датасет для обучения; инициализируйте фичи и целевую переменную \n",
    "(`price_category`); положите их в соответствующие переменные;\n",
    "* разделите данные на треин и тест;\n",
    "* объявите три модели: логистическая регрессия, случайный лес и многослойный персептрон;\n",
    "* поработайте с моделями: сделайте тюнинг параметров и выберите лучшую модель с помощью кросс-валидации на тренировочной выборке;\n",
    "* по результатам кросс-валидации выберите лучшую модель;\n",
    "* посчитайте значение метрики лучшей модели на тестовой выборке; убедитесь, что модель не переобучилась.\n",
    "\n",
    "В решении данной задачи опирайтесь на результаты работы в 22-23 модулях блока Modelling. Исследование подкрепляйте соответствующей визуализацией в виде графиков, таблиц или матриц корреляций, если это нужно.\n",
    "\n",
    "Декомпозируйте блок на подблоки, если это нужно."
   ]
  },
  {
   "cell_type": "markdown",
   "metadata": {
    "id": "LPADUk0IiiEJ"
   },
   "source": [
    "4. *Results*\n",
    "\n",
    "Объявите блок Results. В этом блоке:\n",
    "\n",
    "* подведите итог: какая модель показала себя лучше всего и будет финальным результатом данного ноутбука;\n",
    "* обучите эту модель на всём датасете;\n",
    "* сохраните обученную модель в `pickle`."
   ]
  },
  {
   "cell_type": "markdown",
   "metadata": {
    "id": "w6-JQdeGzhdk"
   },
   "source": [
    "## Как отправить работу на проверку\n"
   ]
  },
  {
   "cell_type": "markdown",
   "metadata": {
    "id": "_lKrJVJpzqNA"
   },
   "source": [
    "Отправьте куратору на проверку финальный ноутбук проекта, а также файл обученной модели в формате `pickle`."
   ]
  },
  {
   "cell_type": "code",
   "execution_count": 1,
   "metadata": {
    "id": "a9HIfIFknpKW"
   },
   "outputs": [],
   "source": [
    "import matplotlib.pyplot as plt\n",
    "import pandas as pd\n",
    "import pickle\n",
    "\n",
    "from matplotlib.ticker import FormatStrFormatter\n",
    "from sklearn.ensemble import RandomForestClassifier\n",
    "from sklearn.linear_model import LogisticRegression, LinearRegression\n",
    "from sklearn.metrics import accuracy_score, confusion_matrix, mean_absolute_error\n",
    "from sklearn.model_selection import train_test_split, cross_val_score, cross_validate\n",
    "from sklearn.neural_network import MLPClassifier\n",
    "from sklearn.preprocessing import OneHotEncoder, StandardScaler"
   ]
  },
  {
   "cell_type": "code",
   "execution_count": 2,
   "metadata": {},
   "outputs": [
    {
     "data": {
      "text/html": [
       "<div>\n",
       "<style scoped>\n",
       "    .dataframe tbody tr th:only-of-type {\n",
       "        vertical-align: middle;\n",
       "    }\n",
       "\n",
       "    .dataframe tbody tr th {\n",
       "        vertical-align: top;\n",
       "    }\n",
       "\n",
       "    .dataframe thead th {\n",
       "        text-align: right;\n",
       "    }\n",
       "</style>\n",
       "<table border=\"1\" class=\"dataframe\">\n",
       "  <thead>\n",
       "    <tr style=\"text-align: right;\">\n",
       "      <th></th>\n",
       "      <th>id</th>\n",
       "      <th>url</th>\n",
       "      <th>region</th>\n",
       "      <th>region_url</th>\n",
       "      <th>price</th>\n",
       "      <th>year</th>\n",
       "      <th>manufacturer</th>\n",
       "      <th>model</th>\n",
       "      <th>fuel</th>\n",
       "      <th>odometer</th>\n",
       "      <th>title_status</th>\n",
       "      <th>transmission</th>\n",
       "      <th>image_url</th>\n",
       "      <th>description</th>\n",
       "      <th>state</th>\n",
       "      <th>lat</th>\n",
       "      <th>long</th>\n",
       "      <th>posting_date</th>\n",
       "      <th>price_category</th>\n",
       "      <th>date</th>\n",
       "    </tr>\n",
       "  </thead>\n",
       "  <tbody>\n",
       "    <tr>\n",
       "      <th>0</th>\n",
       "      <td>7308295377</td>\n",
       "      <td>https://chattanooga.craigslist.org/ctd/d/chatt...</td>\n",
       "      <td>chattanooga</td>\n",
       "      <td>https://chattanooga.craigslist.org</td>\n",
       "      <td>54990</td>\n",
       "      <td>2020.0</td>\n",
       "      <td>ram</td>\n",
       "      <td>2500 crew cab big horn</td>\n",
       "      <td>diesel</td>\n",
       "      <td>27442</td>\n",
       "      <td>clean</td>\n",
       "      <td>other</td>\n",
       "      <td>https://images.craigslist.org/00N0N_1xMPvfxRAI...</td>\n",
       "      <td>Carvana is the safer way to buy a car During t...</td>\n",
       "      <td>tn</td>\n",
       "      <td>35.060000</td>\n",
       "      <td>-85.250000</td>\n",
       "      <td>2021-04-17T12:30:50-0400</td>\n",
       "      <td>high</td>\n",
       "      <td>2021-04-17 16:30:50+00:00</td>\n",
       "    </tr>\n",
       "    <tr>\n",
       "      <th>1</th>\n",
       "      <td>7316380095</td>\n",
       "      <td>https://newjersey.craigslist.org/ctd/d/carlsta...</td>\n",
       "      <td>north jersey</td>\n",
       "      <td>https://newjersey.craigslist.org</td>\n",
       "      <td>16942</td>\n",
       "      <td>2016.0</td>\n",
       "      <td>ford</td>\n",
       "      <td>explorer 4wd 4dr xlt</td>\n",
       "      <td>NaN</td>\n",
       "      <td>60023</td>\n",
       "      <td>clean</td>\n",
       "      <td>automatic</td>\n",
       "      <td>https://images.craigslist.org/00x0x_26jl9F0cnL...</td>\n",
       "      <td>***Call Us for more information at: 201-635-14...</td>\n",
       "      <td>nj</td>\n",
       "      <td>40.821805</td>\n",
       "      <td>-74.061962</td>\n",
       "      <td>2021-05-03T15:40:21-0400</td>\n",
       "      <td>medium</td>\n",
       "      <td>2021-05-03 19:40:21+00:00</td>\n",
       "    </tr>\n",
       "    <tr>\n",
       "      <th>2</th>\n",
       "      <td>7313733749</td>\n",
       "      <td>https://reno.craigslist.org/ctd/d/atlanta-2017...</td>\n",
       "      <td>reno / tahoe</td>\n",
       "      <td>https://reno.craigslist.org</td>\n",
       "      <td>35590</td>\n",
       "      <td>2017.0</td>\n",
       "      <td>volkswagen</td>\n",
       "      <td>golf r hatchback</td>\n",
       "      <td>gas</td>\n",
       "      <td>14048</td>\n",
       "      <td>clean</td>\n",
       "      <td>other</td>\n",
       "      <td>https://images.craigslist.org/00y0y_eeZjWeiSfb...</td>\n",
       "      <td>Carvana is the safer way to buy a car During t...</td>\n",
       "      <td>ca</td>\n",
       "      <td>33.779214</td>\n",
       "      <td>-84.411811</td>\n",
       "      <td>2021-04-28T03:52:20-0700</td>\n",
       "      <td>high</td>\n",
       "      <td>2021-04-28 10:52:20+00:00</td>\n",
       "    </tr>\n",
       "    <tr>\n",
       "      <th>3</th>\n",
       "      <td>7308210929</td>\n",
       "      <td>https://fayetteville.craigslist.org/ctd/d/rale...</td>\n",
       "      <td>fayetteville</td>\n",
       "      <td>https://fayetteville.craigslist.org</td>\n",
       "      <td>14500</td>\n",
       "      <td>2013.0</td>\n",
       "      <td>toyota</td>\n",
       "      <td>rav4</td>\n",
       "      <td>gas</td>\n",
       "      <td>117291</td>\n",
       "      <td>clean</td>\n",
       "      <td>automatic</td>\n",
       "      <td>https://images.craigslist.org/00606_iGe5iXidib...</td>\n",
       "      <td>2013 Toyota RAV4 XLE 4dr SUV     Offered by: R...</td>\n",
       "      <td>nc</td>\n",
       "      <td>35.715954</td>\n",
       "      <td>-78.655304</td>\n",
       "      <td>2021-04-17T10:08:57-0400</td>\n",
       "      <td>medium</td>\n",
       "      <td>2021-04-17 14:08:57+00:00</td>\n",
       "    </tr>\n",
       "    <tr>\n",
       "      <th>4</th>\n",
       "      <td>7316474668</td>\n",
       "      <td>https://newyork.craigslist.org/lgi/cto/d/baldw...</td>\n",
       "      <td>new york city</td>\n",
       "      <td>https://newyork.craigslist.org</td>\n",
       "      <td>21800</td>\n",
       "      <td>2021.0</td>\n",
       "      <td>nissan</td>\n",
       "      <td>altima</td>\n",
       "      <td>gas</td>\n",
       "      <td>8000</td>\n",
       "      <td>clean</td>\n",
       "      <td>automatic</td>\n",
       "      <td>https://images.craigslist.org/00V0V_3pSOiPZ3Sd...</td>\n",
       "      <td>2021 Nissan Altima Sv with Only 8 K Miles Titl...</td>\n",
       "      <td>ny</td>\n",
       "      <td>40.654800</td>\n",
       "      <td>-73.609700</td>\n",
       "      <td>2021-05-03T18:32:06-0400</td>\n",
       "      <td>medium</td>\n",
       "      <td>2021-05-03 22:32:06+00:00</td>\n",
       "    </tr>\n",
       "  </tbody>\n",
       "</table>\n",
       "</div>"
      ],
      "text/plain": [
       "           id                                                url  \\\n",
       "0  7308295377  https://chattanooga.craigslist.org/ctd/d/chatt...   \n",
       "1  7316380095  https://newjersey.craigslist.org/ctd/d/carlsta...   \n",
       "2  7313733749  https://reno.craigslist.org/ctd/d/atlanta-2017...   \n",
       "3  7308210929  https://fayetteville.craigslist.org/ctd/d/rale...   \n",
       "4  7316474668  https://newyork.craigslist.org/lgi/cto/d/baldw...   \n",
       "\n",
       "          region                           region_url  price    year  \\\n",
       "0    chattanooga   https://chattanooga.craigslist.org  54990  2020.0   \n",
       "1   north jersey     https://newjersey.craigslist.org  16942  2016.0   \n",
       "2   reno / tahoe          https://reno.craigslist.org  35590  2017.0   \n",
       "3   fayetteville  https://fayetteville.craigslist.org  14500  2013.0   \n",
       "4  new york city       https://newyork.craigslist.org  21800  2021.0   \n",
       "\n",
       "  manufacturer                   model    fuel  odometer title_status  \\\n",
       "0          ram  2500 crew cab big horn  diesel     27442        clean   \n",
       "1         ford    explorer 4wd 4dr xlt     NaN     60023        clean   \n",
       "2   volkswagen        golf r hatchback     gas     14048        clean   \n",
       "3       toyota                    rav4     gas    117291        clean   \n",
       "4       nissan                  altima     gas      8000        clean   \n",
       "\n",
       "  transmission                                          image_url  \\\n",
       "0        other  https://images.craigslist.org/00N0N_1xMPvfxRAI...   \n",
       "1    automatic  https://images.craigslist.org/00x0x_26jl9F0cnL...   \n",
       "2        other  https://images.craigslist.org/00y0y_eeZjWeiSfb...   \n",
       "3    automatic  https://images.craigslist.org/00606_iGe5iXidib...   \n",
       "4    automatic  https://images.craigslist.org/00V0V_3pSOiPZ3Sd...   \n",
       "\n",
       "                                         description state        lat  \\\n",
       "0  Carvana is the safer way to buy a car During t...    tn  35.060000   \n",
       "1  ***Call Us for more information at: 201-635-14...    nj  40.821805   \n",
       "2  Carvana is the safer way to buy a car During t...    ca  33.779214   \n",
       "3  2013 Toyota RAV4 XLE 4dr SUV     Offered by: R...    nc  35.715954   \n",
       "4  2021 Nissan Altima Sv with Only 8 K Miles Titl...    ny  40.654800   \n",
       "\n",
       "        long              posting_date price_category  \\\n",
       "0 -85.250000  2021-04-17T12:30:50-0400           high   \n",
       "1 -74.061962  2021-05-03T15:40:21-0400         medium   \n",
       "2 -84.411811  2021-04-28T03:52:20-0700           high   \n",
       "3 -78.655304  2021-04-17T10:08:57-0400         medium   \n",
       "4 -73.609700  2021-05-03T18:32:06-0400         medium   \n",
       "\n",
       "                        date  \n",
       "0  2021-04-17 16:30:50+00:00  \n",
       "1  2021-05-03 19:40:21+00:00  \n",
       "2  2021-04-28 10:52:20+00:00  \n",
       "3  2021-04-17 14:08:57+00:00  \n",
       "4  2021-05-03 22:32:06+00:00  "
      ]
     },
     "execution_count": 2,
     "metadata": {},
     "output_type": "execute_result"
    }
   ],
   "source": [
    "df_out = pd.read_csv('data/df_out.csv')\n",
    "df_out.head()"
   ]
  },
  {
   "cell_type": "markdown",
   "metadata": {
    "jp-MarkdownHeadingCollapsed": true,
    "tags": []
   },
   "source": [
    "## DATA PREPARATION"
   ]
  },
  {
   "cell_type": "markdown",
   "metadata": {
    "jp-MarkdownHeadingCollapsed": true,
    "tags": []
   },
   "source": [
    "### Data Cleaning"
   ]
  },
  {
   "cell_type": "code",
   "execution_count": 3,
   "metadata": {},
   "outputs": [
    {
     "data": {
      "text/html": [
       "<div>\n",
       "<style scoped>\n",
       "    .dataframe tbody tr th:only-of-type {\n",
       "        vertical-align: middle;\n",
       "    }\n",
       "\n",
       "    .dataframe tbody tr th {\n",
       "        vertical-align: top;\n",
       "    }\n",
       "\n",
       "    .dataframe thead th {\n",
       "        text-align: right;\n",
       "    }\n",
       "</style>\n",
       "<table border=\"1\" class=\"dataframe\">\n",
       "  <thead>\n",
       "    <tr style=\"text-align: right;\">\n",
       "      <th></th>\n",
       "      <th>id</th>\n",
       "      <th>url</th>\n",
       "      <th>region</th>\n",
       "      <th>region_url</th>\n",
       "      <th>price</th>\n",
       "      <th>year</th>\n",
       "      <th>manufacturer</th>\n",
       "      <th>model</th>\n",
       "      <th>fuel</th>\n",
       "      <th>odometer</th>\n",
       "      <th>title_status</th>\n",
       "      <th>transmission</th>\n",
       "      <th>image_url</th>\n",
       "      <th>description</th>\n",
       "      <th>state</th>\n",
       "      <th>lat</th>\n",
       "      <th>long</th>\n",
       "      <th>posting_date</th>\n",
       "      <th>price_category</th>\n",
       "      <th>date</th>\n",
       "    </tr>\n",
       "  </thead>\n",
       "  <tbody>\n",
       "    <tr>\n",
       "      <th>0</th>\n",
       "      <td>7308295377</td>\n",
       "      <td>https://chattanooga.craigslist.org/ctd/d/chatt...</td>\n",
       "      <td>chattanooga</td>\n",
       "      <td>https://chattanooga.craigslist.org</td>\n",
       "      <td>54990</td>\n",
       "      <td>2020.0</td>\n",
       "      <td>ram</td>\n",
       "      <td>2500 crew cab big horn</td>\n",
       "      <td>diesel</td>\n",
       "      <td>27442</td>\n",
       "      <td>clean</td>\n",
       "      <td>other</td>\n",
       "      <td>https://images.craigslist.org/00N0N_1xMPvfxRAI...</td>\n",
       "      <td>Carvana is the safer way to buy a car During t...</td>\n",
       "      <td>tn</td>\n",
       "      <td>35.060000</td>\n",
       "      <td>-85.250000</td>\n",
       "      <td>2021-04-17T12:30:50-0400</td>\n",
       "      <td>high</td>\n",
       "      <td>2021-04-17 16:30:50+00:00</td>\n",
       "    </tr>\n",
       "    <tr>\n",
       "      <th>1</th>\n",
       "      <td>7316380095</td>\n",
       "      <td>https://newjersey.craigslist.org/ctd/d/carlsta...</td>\n",
       "      <td>north jersey</td>\n",
       "      <td>https://newjersey.craigslist.org</td>\n",
       "      <td>16942</td>\n",
       "      <td>2016.0</td>\n",
       "      <td>ford</td>\n",
       "      <td>explorer 4wd 4dr xlt</td>\n",
       "      <td>NaN</td>\n",
       "      <td>60023</td>\n",
       "      <td>clean</td>\n",
       "      <td>automatic</td>\n",
       "      <td>https://images.craigslist.org/00x0x_26jl9F0cnL...</td>\n",
       "      <td>***Call Us for more information at: 201-635-14...</td>\n",
       "      <td>nj</td>\n",
       "      <td>40.821805</td>\n",
       "      <td>-74.061962</td>\n",
       "      <td>2021-05-03T15:40:21-0400</td>\n",
       "      <td>medium</td>\n",
       "      <td>2021-05-03 19:40:21+00:00</td>\n",
       "    </tr>\n",
       "    <tr>\n",
       "      <th>2</th>\n",
       "      <td>7313733749</td>\n",
       "      <td>https://reno.craigslist.org/ctd/d/atlanta-2017...</td>\n",
       "      <td>reno / tahoe</td>\n",
       "      <td>https://reno.craigslist.org</td>\n",
       "      <td>35590</td>\n",
       "      <td>2017.0</td>\n",
       "      <td>volkswagen</td>\n",
       "      <td>golf r hatchback</td>\n",
       "      <td>gas</td>\n",
       "      <td>14048</td>\n",
       "      <td>clean</td>\n",
       "      <td>other</td>\n",
       "      <td>https://images.craigslist.org/00y0y_eeZjWeiSfb...</td>\n",
       "      <td>Carvana is the safer way to buy a car During t...</td>\n",
       "      <td>ca</td>\n",
       "      <td>33.779214</td>\n",
       "      <td>-84.411811</td>\n",
       "      <td>2021-04-28T03:52:20-0700</td>\n",
       "      <td>high</td>\n",
       "      <td>2021-04-28 10:52:20+00:00</td>\n",
       "    </tr>\n",
       "    <tr>\n",
       "      <th>3</th>\n",
       "      <td>7308210929</td>\n",
       "      <td>https://fayetteville.craigslist.org/ctd/d/rale...</td>\n",
       "      <td>fayetteville</td>\n",
       "      <td>https://fayetteville.craigslist.org</td>\n",
       "      <td>14500</td>\n",
       "      <td>2013.0</td>\n",
       "      <td>toyota</td>\n",
       "      <td>rav4</td>\n",
       "      <td>gas</td>\n",
       "      <td>117291</td>\n",
       "      <td>clean</td>\n",
       "      <td>automatic</td>\n",
       "      <td>https://images.craigslist.org/00606_iGe5iXidib...</td>\n",
       "      <td>2013 Toyota RAV4 XLE 4dr SUV     Offered by: R...</td>\n",
       "      <td>nc</td>\n",
       "      <td>35.715954</td>\n",
       "      <td>-78.655304</td>\n",
       "      <td>2021-04-17T10:08:57-0400</td>\n",
       "      <td>medium</td>\n",
       "      <td>2021-04-17 14:08:57+00:00</td>\n",
       "    </tr>\n",
       "    <tr>\n",
       "      <th>4</th>\n",
       "      <td>7316474668</td>\n",
       "      <td>https://newyork.craigslist.org/lgi/cto/d/baldw...</td>\n",
       "      <td>new york city</td>\n",
       "      <td>https://newyork.craigslist.org</td>\n",
       "      <td>21800</td>\n",
       "      <td>2021.0</td>\n",
       "      <td>nissan</td>\n",
       "      <td>altima</td>\n",
       "      <td>gas</td>\n",
       "      <td>8000</td>\n",
       "      <td>clean</td>\n",
       "      <td>automatic</td>\n",
       "      <td>https://images.craigslist.org/00V0V_3pSOiPZ3Sd...</td>\n",
       "      <td>2021 Nissan Altima Sv with Only 8 K Miles Titl...</td>\n",
       "      <td>ny</td>\n",
       "      <td>40.654800</td>\n",
       "      <td>-73.609700</td>\n",
       "      <td>2021-05-03T18:32:06-0400</td>\n",
       "      <td>medium</td>\n",
       "      <td>2021-05-03 22:32:06+00:00</td>\n",
       "    </tr>\n",
       "  </tbody>\n",
       "</table>\n",
       "</div>"
      ],
      "text/plain": [
       "           id                                                url  \\\n",
       "0  7308295377  https://chattanooga.craigslist.org/ctd/d/chatt...   \n",
       "1  7316380095  https://newjersey.craigslist.org/ctd/d/carlsta...   \n",
       "2  7313733749  https://reno.craigslist.org/ctd/d/atlanta-2017...   \n",
       "3  7308210929  https://fayetteville.craigslist.org/ctd/d/rale...   \n",
       "4  7316474668  https://newyork.craigslist.org/lgi/cto/d/baldw...   \n",
       "\n",
       "          region                           region_url  price    year  \\\n",
       "0    chattanooga   https://chattanooga.craigslist.org  54990  2020.0   \n",
       "1   north jersey     https://newjersey.craigslist.org  16942  2016.0   \n",
       "2   reno / tahoe          https://reno.craigslist.org  35590  2017.0   \n",
       "3   fayetteville  https://fayetteville.craigslist.org  14500  2013.0   \n",
       "4  new york city       https://newyork.craigslist.org  21800  2021.0   \n",
       "\n",
       "  manufacturer                   model    fuel  odometer title_status  \\\n",
       "0          ram  2500 crew cab big horn  diesel     27442        clean   \n",
       "1         ford    explorer 4wd 4dr xlt     NaN     60023        clean   \n",
       "2   volkswagen        golf r hatchback     gas     14048        clean   \n",
       "3       toyota                    rav4     gas    117291        clean   \n",
       "4       nissan                  altima     gas      8000        clean   \n",
       "\n",
       "  transmission                                          image_url  \\\n",
       "0        other  https://images.craigslist.org/00N0N_1xMPvfxRAI...   \n",
       "1    automatic  https://images.craigslist.org/00x0x_26jl9F0cnL...   \n",
       "2        other  https://images.craigslist.org/00y0y_eeZjWeiSfb...   \n",
       "3    automatic  https://images.craigslist.org/00606_iGe5iXidib...   \n",
       "4    automatic  https://images.craigslist.org/00V0V_3pSOiPZ3Sd...   \n",
       "\n",
       "                                         description state        lat  \\\n",
       "0  Carvana is the safer way to buy a car During t...    tn  35.060000   \n",
       "1  ***Call Us for more information at: 201-635-14...    nj  40.821805   \n",
       "2  Carvana is the safer way to buy a car During t...    ca  33.779214   \n",
       "3  2013 Toyota RAV4 XLE 4dr SUV     Offered by: R...    nc  35.715954   \n",
       "4  2021 Nissan Altima Sv with Only 8 K Miles Titl...    ny  40.654800   \n",
       "\n",
       "        long              posting_date price_category  \\\n",
       "0 -85.250000  2021-04-17T12:30:50-0400           high   \n",
       "1 -74.061962  2021-05-03T15:40:21-0400         medium   \n",
       "2 -84.411811  2021-04-28T03:52:20-0700           high   \n",
       "3 -78.655304  2021-04-17T10:08:57-0400         medium   \n",
       "4 -73.609700  2021-05-03T18:32:06-0400         medium   \n",
       "\n",
       "                        date  \n",
       "0  2021-04-17 16:30:50+00:00  \n",
       "1  2021-05-03 19:40:21+00:00  \n",
       "2  2021-04-28 10:52:20+00:00  \n",
       "3  2021-04-17 14:08:57+00:00  \n",
       "4  2021-05-03 22:32:06+00:00  "
      ]
     },
     "execution_count": 3,
     "metadata": {},
     "output_type": "execute_result"
    }
   ],
   "source": [
    "df = df_out.copy()\n",
    "df.head()"
   ]
  },
  {
   "cell_type": "code",
   "execution_count": 4,
   "metadata": {},
   "outputs": [
    {
     "name": "stdout",
     "output_type": "stream",
     "text": [
      "Размер выборки: 10000, 20\n"
     ]
    }
   ],
   "source": [
    "print('Размер выборки: {}, {}'.format(df.shape[0], df.shape[1]))"
   ]
  },
  {
   "cell_type": "code",
   "execution_count": 5,
   "metadata": {},
   "outputs": [
    {
     "data": {
      "text/plain": [
       "0       False\n",
       "1       False\n",
       "2       False\n",
       "3       False\n",
       "4       False\n",
       "        ...  \n",
       "9995    False\n",
       "9996    False\n",
       "9997    False\n",
       "9998    False\n",
       "9999    False\n",
       "Length: 10000, dtype: bool"
      ]
     },
     "execution_count": 5,
     "metadata": {},
     "output_type": "execute_result"
    }
   ],
   "source": [
    "df.duplicated()"
   ]
  },
  {
   "cell_type": "markdown",
   "metadata": {},
   "source": [
    "Дубликатов нет"
   ]
  },
  {
   "cell_type": "code",
   "execution_count": 6,
   "metadata": {},
   "outputs": [
    {
     "name": "stdout",
     "output_type": "stream",
     "text": [
      "Информация о выборке: \n",
      "\n",
      "<class 'pandas.core.frame.DataFrame'>\n",
      "RangeIndex: 10000 entries, 0 to 9999\n",
      "Data columns (total 20 columns):\n",
      " #   Column          Non-Null Count  Dtype  \n",
      "---  ------          --------------  -----  \n",
      " 0   id              10000 non-null  int64  \n",
      " 1   url             10000 non-null  object \n",
      " 2   region          10000 non-null  object \n",
      " 3   region_url      10000 non-null  object \n",
      " 4   price           10000 non-null  int64  \n",
      " 5   year            9964 non-null   float64\n",
      " 6   manufacturer    10000 non-null  object \n",
      " 7   model           9872 non-null   object \n",
      " 8   fuel            9937 non-null   object \n",
      " 9   odometer        10000 non-null  int64  \n",
      " 10  title_status    9834 non-null   object \n",
      " 11  transmission    9955 non-null   object \n",
      " 12  image_url       9998 non-null   object \n",
      " 13  description     9998 non-null   object \n",
      " 14  state           10000 non-null  object \n",
      " 15  lat             9902 non-null   float64\n",
      " 16  long            9902 non-null   float64\n",
      " 17  posting_date    9998 non-null   object \n",
      " 18  price_category  10000 non-null  object \n",
      " 19  date            9998 non-null   object \n",
      "dtypes: float64(3), int64(3), object(14)\n",
      "memory usage: 1.5+ MB\n"
     ]
    }
   ],
   "source": [
    "print('Информация о выборке: \\n')\n",
    "df.info()"
   ]
  },
  {
   "cell_type": "code",
   "execution_count": 7,
   "metadata": {},
   "outputs": [
    {
     "name": "stdout",
     "output_type": "stream",
     "text": [
      "Процент пропущенных значений:\n"
     ]
    },
    {
     "data": {
      "text/plain": [
       "title_status      1.66\n",
       "model             1.28\n",
       "long              0.98\n",
       "lat               0.98\n",
       "fuel              0.63\n",
       "transmission      0.45\n",
       "year              0.36\n",
       "posting_date      0.02\n",
       "description       0.02\n",
       "image_url         0.02\n",
       "date              0.02\n",
       "url               0.00\n",
       "odometer          0.00\n",
       "manufacturer      0.00\n",
       "state             0.00\n",
       "price             0.00\n",
       "region_url        0.00\n",
       "region            0.00\n",
       "price_category    0.00\n",
       "id                0.00\n",
       "dtype: float64"
      ]
     },
     "execution_count": 7,
     "metadata": {},
     "output_type": "execute_result"
    }
   ],
   "source": [
    "missing_values = ((df.isna().sum()/len(df)) * 100).sort_values(ascending=False)\n",
    "print('Процент пропущенных значений:')\n",
    "missing_values"
   ]
  },
  {
   "cell_type": "code",
   "execution_count": 8,
   "metadata": {},
   "outputs": [],
   "source": [
    "def print_useful_rows_info(df):\n",
    "    print('Количество полностью заполненных объектов из всей выборки:', len(df.dropna()))\n",
    "    print('Процент полностью заполненных объектов из всей выборки:', round(len(df.dropna())/len(df)*100, 2))"
   ]
  },
  {
   "cell_type": "code",
   "execution_count": 9,
   "metadata": {},
   "outputs": [
    {
     "name": "stdout",
     "output_type": "stream",
     "text": [
      "Количество полностью заполненных объектов из всей выборки: 9507\n",
      "Процент полностью заполненных объектов из всей выборки: 95.07\n"
     ]
    }
   ],
   "source": [
    "print_useful_rows_info(df)"
   ]
  },
  {
   "cell_type": "code",
   "execution_count": 10,
   "metadata": {},
   "outputs": [
    {
     "data": {
      "text/plain": [
       "['title_status',\n",
       " 'model',\n",
       " 'long',\n",
       " 'lat',\n",
       " 'fuel',\n",
       " 'transmission',\n",
       " 'year',\n",
       " 'posting_date',\n",
       " 'description',\n",
       " 'image_url',\n",
       " 'date']"
      ]
     },
     "execution_count": 10,
     "metadata": {},
     "output_type": "execute_result"
    }
   ],
   "source": [
    "missing_columns = missing_values[missing_values.values > 0].index.tolist()\n",
    "missing_columns"
   ]
  },
  {
   "cell_type": "markdown",
   "metadata": {
    "jp-MarkdownHeadingCollapsed": true,
    "tags": []
   },
   "source": [
    "#### Pass processing"
   ]
  },
  {
   "cell_type": "markdown",
   "metadata": {
    "jp-MarkdownHeadingCollapsed": true,
    "tags": []
   },
   "source": [
    "##### Year of car manufacture"
   ]
  },
  {
   "cell_type": "code",
   "execution_count": 11,
   "metadata": {},
   "outputs": [
    {
     "data": {
      "text/plain": [
       "2018.0    810\n",
       "2017.0    809\n",
       "2016.0    745\n",
       "2013.0    699\n",
       "2015.0    668\n",
       "         ... \n",
       "1927.0      1\n",
       "1958.0      1\n",
       "1941.0      1\n",
       "1935.0      1\n",
       "1954.0      1\n",
       "Name: year, Length: 90, dtype: int64"
      ]
     },
     "execution_count": 11,
     "metadata": {},
     "output_type": "execute_result"
    }
   ],
   "source": [
    "df.year.value_counts(dropna=False)"
   ]
  },
  {
   "cell_type": "code",
   "execution_count": 12,
   "metadata": {},
   "outputs": [
    {
     "data": {
      "text/plain": [
       "36"
      ]
     },
     "execution_count": 12,
     "metadata": {},
     "output_type": "execute_result"
    }
   ],
   "source": [
    "df.year.isna().sum()"
   ]
  },
  {
   "cell_type": "code",
   "execution_count": 13,
   "metadata": {},
   "outputs": [
    {
     "data": {
      "text/plain": [
       "count    9964.000000\n",
       "mean     2010.927941\n",
       "std         9.672040\n",
       "min      1915.000000\n",
       "25%      2008.000000\n",
       "50%      2013.000000\n",
       "75%      2017.000000\n",
       "max      2022.000000\n",
       "Name: year, dtype: float64"
      ]
     },
     "execution_count": 13,
     "metadata": {},
     "output_type": "execute_result"
    }
   ],
   "source": [
    "df.year.describe()"
   ]
  },
  {
   "cell_type": "code",
   "execution_count": 14,
   "metadata": {},
   "outputs": [
    {
     "name": "stdout",
     "output_type": "stream",
     "text": [
      "Количество пропущенных значений в year: 0\n"
     ]
    }
   ],
   "source": [
    "\n",
    "df = df[df.year.notna()]\n",
    "print('Количество пропущенных значений в year:', df.year.isna().sum())"
   ]
  },
  {
   "cell_type": "code",
   "execution_count": 15,
   "metadata": {},
   "outputs": [
    {
     "data": {
      "text/plain": [
       "dtype('int32')"
      ]
     },
     "execution_count": 15,
     "metadata": {},
     "output_type": "execute_result"
    }
   ],
   "source": [
    "df.year = df.year.astype('int')\n",
    "df.year.dtype"
   ]
  },
  {
   "cell_type": "markdown",
   "metadata": {
    "jp-MarkdownHeadingCollapsed": true,
    "tags": []
   },
   "source": [
    "\n",
    "##### Fuel type"
   ]
  },
  {
   "cell_type": "code",
   "execution_count": 16,
   "metadata": {},
   "outputs": [
    {
     "data": {
      "text/plain": [
       "gas         8379\n",
       "other        729\n",
       "diesel       650\n",
       "hybrid       108\n",
       "NaN           54\n",
       "electric      44\n",
       "Name: fuel, dtype: int64"
      ]
     },
     "execution_count": 16,
     "metadata": {},
     "output_type": "execute_result"
    }
   ],
   "source": [
    "df.fuel.value_counts(dropna=False)"
   ]
  },
  {
   "cell_type": "code",
   "execution_count": 17,
   "metadata": {},
   "outputs": [
    {
     "data": {
      "text/plain": [
       "54"
      ]
     },
     "execution_count": 17,
     "metadata": {},
     "output_type": "execute_result"
    }
   ],
   "source": [
    "df.fuel.isna().sum()"
   ]
  },
  {
   "cell_type": "code",
   "execution_count": 18,
   "metadata": {},
   "outputs": [
    {
     "data": {
      "text/plain": [
       "0       diesel\n",
       "1        other\n",
       "2          gas\n",
       "3          gas\n",
       "4          gas\n",
       "         ...  \n",
       "9995       gas\n",
       "9996       gas\n",
       "9997       gas\n",
       "9998    hybrid\n",
       "9999       gas\n",
       "Name: fuel, Length: 9964, dtype: object"
      ]
     },
     "execution_count": 18,
     "metadata": {},
     "output_type": "execute_result"
    }
   ],
   "source": [
    "\n",
    "df.fuel = df.fuel.fillna('other')\n",
    "df.fuel"
   ]
  },
  {
   "cell_type": "code",
   "execution_count": 19,
   "metadata": {},
   "outputs": [
    {
     "name": "stdout",
     "output_type": "stream",
     "text": [
      "Количество пропущенных значений в fuel: 0\n"
     ]
    }
   ],
   "source": [
    "print('Количество пропущенных значений в fuel:', df.fuel.isna().sum())"
   ]
  },
  {
   "cell_type": "code",
   "execution_count": 20,
   "metadata": {},
   "outputs": [
    {
     "data": {
      "text/plain": [
       "count     9964\n",
       "unique       5\n",
       "top        gas\n",
       "freq      8379\n",
       "Name: fuel, dtype: object"
      ]
     },
     "execution_count": 20,
     "metadata": {},
     "output_type": "execute_result"
    }
   ],
   "source": [
    "df.fuel.describe()"
   ]
  },
  {
   "cell_type": "code",
   "execution_count": 21,
   "metadata": {},
   "outputs": [
    {
     "data": {
      "text/plain": [
       "dtype('O')"
      ]
     },
     "execution_count": 21,
     "metadata": {},
     "output_type": "execute_result"
    }
   ],
   "source": [
    "df.fuel.dtype"
   ]
  },
  {
   "cell_type": "code",
   "execution_count": 22,
   "metadata": {},
   "outputs": [
    {
     "data": {
      "text/plain": [
       "0       diesel\n",
       "1        other\n",
       "2          gas\n",
       "3          gas\n",
       "4          gas\n",
       "         ...  \n",
       "9995       gas\n",
       "9996       gas\n",
       "9997       gas\n",
       "9998    hybrid\n",
       "9999       gas\n",
       "Name: fuel, Length: 9964, dtype: category\n",
       "Categories (5, object): ['diesel', 'electric', 'gas', 'hybrid', 'other']"
      ]
     },
     "execution_count": 22,
     "metadata": {},
     "output_type": "execute_result"
    }
   ],
   "source": [
    "series = df.fuel.astype('category')\n",
    "series"
   ]
  },
  {
   "cell_type": "code",
   "execution_count": 23,
   "metadata": {},
   "outputs": [
    {
     "data": {
      "text/plain": [
       "CategoricalDtype(categories=['diesel', 'electric', 'gas', 'hybrid', 'other'], ordered=False)"
      ]
     },
     "execution_count": 23,
     "metadata": {},
     "output_type": "execute_result"
    }
   ],
   "source": [
    "series.dtype"
   ]
  },
  {
   "cell_type": "markdown",
   "metadata": {
    "jp-MarkdownHeadingCollapsed": true,
    "tags": []
   },
   "source": [
    "##### Model"
   ]
  },
  {
   "cell_type": "code",
   "execution_count": 24,
   "metadata": {},
   "outputs": [
    {
     "data": {
      "text/plain": [
       "f-150                        151\n",
       "NaN                          126\n",
       "silverado 1500               110\n",
       "1500                         100\n",
       "camry                         77\n",
       "                            ... \n",
       "sorrento lx v6                 1\n",
       "sierra1500 crewcab 4x4         1\n",
       "corolla se                     1\n",
       "xc60 t6 inscription sport      1\n",
       "a3 2.0t premium plus pzev      1\n",
       "Name: model, Length: 3447, dtype: int64"
      ]
     },
     "execution_count": 24,
     "metadata": {},
     "output_type": "execute_result"
    }
   ],
   "source": [
    "df.model.value_counts(dropna=False)"
   ]
  },
  {
   "cell_type": "code",
   "execution_count": 25,
   "metadata": {},
   "outputs": [
    {
     "data": {
      "text/plain": [
       "126"
      ]
     },
     "execution_count": 25,
     "metadata": {},
     "output_type": "execute_result"
    }
   ],
   "source": [
    "df.model.isna().sum()"
   ]
  },
  {
   "cell_type": "code",
   "execution_count": 26,
   "metadata": {},
   "outputs": [
    {
     "data": {
      "text/plain": [
       "0          2500 crew cab big horn\n",
       "1            explorer 4wd 4dr xlt\n",
       "2                golf r hatchback\n",
       "3                            rav4\n",
       "4                          altima\n",
       "                  ...            \n",
       "9995                         rav4\n",
       "9996                     wrangler\n",
       "9997    a3 2.0t premium plus pzev\n",
       "9998                      cayenne\n",
       "9999       1500 crew cab big horn\n",
       "Name: model, Length: 9964, dtype: object"
      ]
     },
     "execution_count": 26,
     "metadata": {},
     "output_type": "execute_result"
    }
   ],
   "source": [
    "df.model = df.model.fillna('other')\n",
    "df.model"
   ]
  },
  {
   "cell_type": "code",
   "execution_count": 27,
   "metadata": {},
   "outputs": [
    {
     "name": "stdout",
     "output_type": "stream",
     "text": [
      "Количество пропущенных значений в model: 0\n"
     ]
    }
   ],
   "source": [
    "print('Количество пропущенных значений в model:', df.model.isna().sum())"
   ]
  },
  {
   "cell_type": "code",
   "execution_count": 28,
   "metadata": {},
   "outputs": [
    {
     "data": {
      "text/plain": [
       "count      9964\n",
       "unique     3447\n",
       "top       f-150\n",
       "freq        151\n",
       "Name: model, dtype: object"
      ]
     },
     "execution_count": 28,
     "metadata": {},
     "output_type": "execute_result"
    }
   ],
   "source": [
    "df.model.describe()"
   ]
  },
  {
   "cell_type": "markdown",
   "metadata": {
    "jp-MarkdownHeadingCollapsed": true,
    "tags": []
   },
   "source": [
    "##### Title_status"
   ]
  },
  {
   "cell_type": "code",
   "execution_count": 29,
   "metadata": {},
   "outputs": [
    {
     "data": {
      "text/plain": [
       "clean         9492\n",
       "rebuilt        168\n",
       "NaN            159\n",
       "salvage         92\n",
       "lien            35\n",
       "missing         16\n",
       "parts only       2\n",
       "Name: title_status, dtype: int64"
      ]
     },
     "execution_count": 29,
     "metadata": {},
     "output_type": "execute_result"
    }
   ],
   "source": [
    "df.title_status.value_counts(dropna=False)"
   ]
  },
  {
   "cell_type": "code",
   "execution_count": 30,
   "metadata": {},
   "outputs": [
    {
     "data": {
      "text/plain": [
       "count      9805\n",
       "unique        6\n",
       "top       clean\n",
       "freq       9492\n",
       "Name: title_status, dtype: object"
      ]
     },
     "execution_count": 30,
     "metadata": {},
     "output_type": "execute_result"
    }
   ],
   "source": [
    "df['title_status'].describe()"
   ]
  },
  {
   "cell_type": "code",
   "execution_count": 31,
   "metadata": {},
   "outputs": [
    {
     "data": {
      "text/plain": [
       "0       clean\n",
       "1       clean\n",
       "2       clean\n",
       "3       clean\n",
       "4       clean\n",
       "        ...  \n",
       "9995    clean\n",
       "9996    clean\n",
       "9997    clean\n",
       "9998    clean\n",
       "9999    clean\n",
       "Name: title_status, Length: 9964, dtype: object"
      ]
     },
     "execution_count": 31,
     "metadata": {},
     "output_type": "execute_result"
    }
   ],
   "source": [
    "df.title_status = df.title_status.fillna('clean')\n",
    "df.title_status"
   ]
  },
  {
   "cell_type": "code",
   "execution_count": 32,
   "metadata": {},
   "outputs": [
    {
     "name": "stdout",
     "output_type": "stream",
     "text": [
      "Количество пропущенных значений в title_status: 0\n"
     ]
    }
   ],
   "source": [
    "print('Количество пропущенных значений в title_status:', df.title_status.isna().sum())"
   ]
  },
  {
   "cell_type": "code",
   "execution_count": 33,
   "metadata": {},
   "outputs": [
    {
     "data": {
      "text/plain": [
       "count      9964\n",
       "unique        6\n",
       "top       clean\n",
       "freq       9651\n",
       "Name: title_status, dtype: object"
      ]
     },
     "execution_count": 33,
     "metadata": {},
     "output_type": "execute_result"
    }
   ],
   "source": [
    "df.title_status.describe()"
   ]
  },
  {
   "cell_type": "markdown",
   "metadata": {
    "jp-MarkdownHeadingCollapsed": true,
    "tags": []
   },
   "source": [
    "##### Transmission"
   ]
  },
  {
   "cell_type": "code",
   "execution_count": 34,
   "metadata": {},
   "outputs": [
    {
     "data": {
      "text/plain": [
       "automatic    7667\n",
       "other        1623\n",
       "manual        631\n",
       "NaN            43\n",
       "Name: transmission, dtype: int64"
      ]
     },
     "execution_count": 34,
     "metadata": {},
     "output_type": "execute_result"
    }
   ],
   "source": [
    "df.transmission.value_counts(dropna = False)"
   ]
  },
  {
   "cell_type": "code",
   "execution_count": 35,
   "metadata": {},
   "outputs": [
    {
     "data": {
      "text/plain": [
       "count          9921\n",
       "unique            3\n",
       "top       automatic\n",
       "freq           7667\n",
       "Name: transmission, dtype: object"
      ]
     },
     "execution_count": 35,
     "metadata": {},
     "output_type": "execute_result"
    }
   ],
   "source": [
    "df.transmission.describe()"
   ]
  },
  {
   "cell_type": "code",
   "execution_count": 36,
   "metadata": {},
   "outputs": [
    {
     "data": {
      "text/html": [
       "<div>\n",
       "<style scoped>\n",
       "    .dataframe tbody tr th:only-of-type {\n",
       "        vertical-align: middle;\n",
       "    }\n",
       "\n",
       "    .dataframe tbody tr th {\n",
       "        vertical-align: top;\n",
       "    }\n",
       "\n",
       "    .dataframe thead th {\n",
       "        text-align: right;\n",
       "    }\n",
       "</style>\n",
       "<table border=\"1\" class=\"dataframe\">\n",
       "  <thead>\n",
       "    <tr style=\"text-align: right;\">\n",
       "      <th></th>\n",
       "      <th>id</th>\n",
       "      <th>url</th>\n",
       "      <th>region</th>\n",
       "      <th>region_url</th>\n",
       "      <th>price</th>\n",
       "      <th>year</th>\n",
       "      <th>manufacturer</th>\n",
       "      <th>model</th>\n",
       "      <th>fuel</th>\n",
       "      <th>odometer</th>\n",
       "      <th>title_status</th>\n",
       "      <th>transmission</th>\n",
       "      <th>image_url</th>\n",
       "      <th>description</th>\n",
       "      <th>state</th>\n",
       "      <th>lat</th>\n",
       "      <th>long</th>\n",
       "      <th>posting_date</th>\n",
       "      <th>price_category</th>\n",
       "      <th>date</th>\n",
       "    </tr>\n",
       "  </thead>\n",
       "  <tbody>\n",
       "    <tr>\n",
       "      <th>111</th>\n",
       "      <td>7305109580</td>\n",
       "      <td>https://grandrapids.craigslist.org/ctd/d/comst...</td>\n",
       "      <td>grand rapids</td>\n",
       "      <td>https://grandrapids.craigslist.org</td>\n",
       "      <td>12750</td>\n",
       "      <td>2013</td>\n",
       "      <td>lexus</td>\n",
       "      <td>es</td>\n",
       "      <td>gas</td>\n",
       "      <td>109382</td>\n",
       "      <td>clean</td>\n",
       "      <td>NaN</td>\n",
       "      <td>https://images.craigslist.org/00n0n_kACT1l7OCN...</td>\n",
       "      <td>2013 Lexus ES 350 4dr Sdn     Offered by: Auto...</td>\n",
       "      <td>mi</td>\n",
       "      <td>43.059210</td>\n",
       "      <td>-85.688970</td>\n",
       "      <td>2021-04-11T09:41:58-0400</td>\n",
       "      <td>medium</td>\n",
       "      <td>2021-04-11 13:41:58+00:00</td>\n",
       "    </tr>\n",
       "    <tr>\n",
       "      <th>112</th>\n",
       "      <td>7314951119</td>\n",
       "      <td>https://southjersey.craigslist.org/ctd/d/chest...</td>\n",
       "      <td>south jersey</td>\n",
       "      <td>https://southjersey.craigslist.org</td>\n",
       "      <td>18199</td>\n",
       "      <td>2012</td>\n",
       "      <td>jeep</td>\n",
       "      <td>wrangler</td>\n",
       "      <td>other</td>\n",
       "      <td>130174</td>\n",
       "      <td>clean</td>\n",
       "      <td>NaN</td>\n",
       "      <td>https://images.craigslist.org/00I0I_gRmuXmqil1...</td>\n",
       "      <td>2012 Jeep Wrangler Unlimited Sport 4WD     Off...</td>\n",
       "      <td>nj</td>\n",
       "      <td>40.135190</td>\n",
       "      <td>-74.703570</td>\n",
       "      <td>2021-04-30T14:58:56-0400</td>\n",
       "      <td>medium</td>\n",
       "      <td>2021-04-30 18:58:56+00:00</td>\n",
       "    </tr>\n",
       "    <tr>\n",
       "      <th>817</th>\n",
       "      <td>7308021604</td>\n",
       "      <td>https://southjersey.craigslist.org/ctd/d/maple...</td>\n",
       "      <td>south jersey</td>\n",
       "      <td>https://southjersey.craigslist.org</td>\n",
       "      <td>11999</td>\n",
       "      <td>2015</td>\n",
       "      <td>honda</td>\n",
       "      <td>civic</td>\n",
       "      <td>gas</td>\n",
       "      <td>79797</td>\n",
       "      <td>clean</td>\n",
       "      <td>NaN</td>\n",
       "      <td>https://images.craigslist.org/00b0b_aCqgRZ7sAx...</td>\n",
       "      <td>2015 Honda Civic EX     Offered by: VIP Auto O...</td>\n",
       "      <td>nj</td>\n",
       "      <td>39.938023</td>\n",
       "      <td>-74.971461</td>\n",
       "      <td>2021-04-16T19:46:55-0400</td>\n",
       "      <td>medium</td>\n",
       "      <td>2021-04-16 23:46:55+00:00</td>\n",
       "    </tr>\n",
       "    <tr>\n",
       "      <th>931</th>\n",
       "      <td>7314781483</td>\n",
       "      <td>https://nh.craigslist.org/ctd/d/plaistow-2018-...</td>\n",
       "      <td>new hampshire</td>\n",
       "      <td>https://nh.craigslist.org</td>\n",
       "      <td>64990</td>\n",
       "      <td>2018</td>\n",
       "      <td>ram</td>\n",
       "      <td>3500</td>\n",
       "      <td>other</td>\n",
       "      <td>8853</td>\n",
       "      <td>clean</td>\n",
       "      <td>NaN</td>\n",
       "      <td>https://images.craigslist.org/00000_iHpXs2BVmN...</td>\n",
       "      <td>2018 RAM Ram Chassis 3500 Short Wheelbase (Dua...</td>\n",
       "      <td>nh</td>\n",
       "      <td>42.834977</td>\n",
       "      <td>-71.107791</td>\n",
       "      <td>2021-04-30T10:15:30-0400</td>\n",
       "      <td>high</td>\n",
       "      <td>2021-04-30 14:15:30+00:00</td>\n",
       "    </tr>\n",
       "    <tr>\n",
       "      <th>970</th>\n",
       "      <td>7315044723</td>\n",
       "      <td>https://poconos.craigslist.org/ctd/d/chesterfi...</td>\n",
       "      <td>poconos</td>\n",
       "      <td>https://poconos.craigslist.org</td>\n",
       "      <td>22699</td>\n",
       "      <td>2014</td>\n",
       "      <td>jeep</td>\n",
       "      <td>wrangler</td>\n",
       "      <td>gas</td>\n",
       "      <td>110493</td>\n",
       "      <td>clean</td>\n",
       "      <td>NaN</td>\n",
       "      <td>https://images.craigslist.org/00M0M_aFDXWIfug9...</td>\n",
       "      <td>2014 Jeep Wrangler Unlimited Sport 4WD     Off...</td>\n",
       "      <td>pa</td>\n",
       "      <td>40.135190</td>\n",
       "      <td>-74.703570</td>\n",
       "      <td>2021-04-30T17:46:04-0400</td>\n",
       "      <td>high</td>\n",
       "      <td>2021-04-30 21:46:04+00:00</td>\n",
       "    </tr>\n",
       "    <tr>\n",
       "      <th>1156</th>\n",
       "      <td>7311083008</td>\n",
       "      <td>https://greenville.craigslist.org/ctd/d/greenv...</td>\n",
       "      <td>greenville / upstate</td>\n",
       "      <td>https://greenville.craigslist.org</td>\n",
       "      <td>9998</td>\n",
       "      <td>2013</td>\n",
       "      <td>volkswagen</td>\n",
       "      <td>jetta</td>\n",
       "      <td>diesel</td>\n",
       "      <td>96115</td>\n",
       "      <td>clean</td>\n",
       "      <td>NaN</td>\n",
       "      <td>https://images.craigslist.org/00F0F_9oq0KNmZIM...</td>\n",
       "      <td>2013 VOLKSWAGEN JETTA TDI Highline     Offered...</td>\n",
       "      <td>sc</td>\n",
       "      <td>34.832550</td>\n",
       "      <td>-82.368350</td>\n",
       "      <td>2021-04-22T17:55:57-0400</td>\n",
       "      <td>medium</td>\n",
       "      <td>2021-04-22 21:55:57+00:00</td>\n",
       "    </tr>\n",
       "    <tr>\n",
       "      <th>1349</th>\n",
       "      <td>7303942891</td>\n",
       "      <td>https://wenatchee.craigslist.org/ctd/d/everett...</td>\n",
       "      <td>wenatchee</td>\n",
       "      <td>https://wenatchee.craigslist.org</td>\n",
       "      <td>4995</td>\n",
       "      <td>2005</td>\n",
       "      <td>honda</td>\n",
       "      <td>pilot</td>\n",
       "      <td>gas</td>\n",
       "      <td>261591</td>\n",
       "      <td>clean</td>\n",
       "      <td>NaN</td>\n",
       "      <td>https://images.craigslist.org/00S0S_aASnH27HDH...</td>\n",
       "      <td>2005 Honda Pilot EX     Offered by: Corn Motor...</td>\n",
       "      <td>wa</td>\n",
       "      <td>47.912956</td>\n",
       "      <td>-122.235725</td>\n",
       "      <td>2021-04-08T16:52:48-0700</td>\n",
       "      <td>low</td>\n",
       "      <td>2021-04-08 23:52:48+00:00</td>\n",
       "    </tr>\n",
       "    <tr>\n",
       "      <th>1715</th>\n",
       "      <td>7310344536</td>\n",
       "      <td>https://roanoke.craigslist.org/ctd/d/roanoke-2...</td>\n",
       "      <td>roanoke</td>\n",
       "      <td>https://roanoke.craigslist.org</td>\n",
       "      <td>3995</td>\n",
       "      <td>2007</td>\n",
       "      <td>ford</td>\n",
       "      <td>mustang</td>\n",
       "      <td>gas</td>\n",
       "      <td>159342</td>\n",
       "      <td>clean</td>\n",
       "      <td>NaN</td>\n",
       "      <td>https://images.craigslist.org/00J0J_6BuTyEWqNQ...</td>\n",
       "      <td>2007 Ford Mustang V6 Deluxe Coupe     Offered ...</td>\n",
       "      <td>va</td>\n",
       "      <td>37.335355</td>\n",
       "      <td>-79.859385</td>\n",
       "      <td>2021-04-21T11:30:46-0400</td>\n",
       "      <td>low</td>\n",
       "      <td>2021-04-21 15:30:46+00:00</td>\n",
       "    </tr>\n",
       "    <tr>\n",
       "      <th>1914</th>\n",
       "      <td>7307857568</td>\n",
       "      <td>https://fortmyers.craigslist.org/lee/ctd/d/for...</td>\n",
       "      <td>ft myers / SW florida</td>\n",
       "      <td>https://fortmyers.craigslist.org</td>\n",
       "      <td>17000</td>\n",
       "      <td>2012</td>\n",
       "      <td>jeep</td>\n",
       "      <td>grand cherokee</td>\n",
       "      <td>gas</td>\n",
       "      <td>116079</td>\n",
       "      <td>clean</td>\n",
       "      <td>NaN</td>\n",
       "      <td>https://images.craigslist.org/00000_gqxck1dkEu...</td>\n",
       "      <td>2012 Jeep Grand Cherokee Limited     Offered b...</td>\n",
       "      <td>fl</td>\n",
       "      <td>26.498960</td>\n",
       "      <td>-81.819380</td>\n",
       "      <td>2021-04-16T14:46:41-0400</td>\n",
       "      <td>medium</td>\n",
       "      <td>2021-04-16 18:46:41+00:00</td>\n",
       "    </tr>\n",
       "    <tr>\n",
       "      <th>2023</th>\n",
       "      <td>7314592581</td>\n",
       "      <td>https://pueblo.craigslist.org/ctd/d/pueblo-200...</td>\n",
       "      <td>pueblo</td>\n",
       "      <td>https://pueblo.craigslist.org</td>\n",
       "      <td>8494</td>\n",
       "      <td>2004</td>\n",
       "      <td>ford</td>\n",
       "      <td>ranger</td>\n",
       "      <td>gas</td>\n",
       "      <td>156969</td>\n",
       "      <td>clean</td>\n",
       "      <td>NaN</td>\n",
       "      <td>https://images.craigslist.org/01212_6ixSUy4WCq...</td>\n",
       "      <td>2004 Ford Ranger     Offered by: Discount Moto...</td>\n",
       "      <td>co</td>\n",
       "      <td>38.298339</td>\n",
       "      <td>-104.616024</td>\n",
       "      <td>2021-04-29T17:30:13-0600</td>\n",
       "      <td>low</td>\n",
       "      <td>2021-04-29 23:30:13+00:00</td>\n",
       "    </tr>\n",
       "    <tr>\n",
       "      <th>2072</th>\n",
       "      <td>7307459834</td>\n",
       "      <td>https://tallahassee.craigslist.org/ctd/d/ocala...</td>\n",
       "      <td>tallahassee</td>\n",
       "      <td>https://tallahassee.craigslist.org</td>\n",
       "      <td>22900</td>\n",
       "      <td>2013</td>\n",
       "      <td>ford</td>\n",
       "      <td>f-450</td>\n",
       "      <td>other</td>\n",
       "      <td>225804</td>\n",
       "      <td>clean</td>\n",
       "      <td>NaN</td>\n",
       "      <td>https://images.craigslist.org/00Y0Y_73hcVVn32A...</td>\n",
       "      <td>2013 Ford F-450 Super Duty 4X2 4dr SuperCab 16...</td>\n",
       "      <td>fl</td>\n",
       "      <td>29.230860</td>\n",
       "      <td>-82.149150</td>\n",
       "      <td>2021-04-15T18:47:10-0400</td>\n",
       "      <td>high</td>\n",
       "      <td>2021-04-15 22:47:10+00:00</td>\n",
       "    </tr>\n",
       "    <tr>\n",
       "      <th>2078</th>\n",
       "      <td>7314485544</td>\n",
       "      <td>https://stlouis.craigslist.org/ctd/d/saint-pet...</td>\n",
       "      <td>st louis, MO</td>\n",
       "      <td>https://stlouis.craigslist.org</td>\n",
       "      <td>15891</td>\n",
       "      <td>2019</td>\n",
       "      <td>nissan</td>\n",
       "      <td>sentra</td>\n",
       "      <td>gas</td>\n",
       "      <td>90811</td>\n",
       "      <td>clean</td>\n",
       "      <td>NaN</td>\n",
       "      <td>https://images.craigslist.org/00T0T_2tloqlG3YB...</td>\n",
       "      <td>2019 Nissan Sentra SV     Offered by: Auto Pla...</td>\n",
       "      <td>il</td>\n",
       "      <td>38.802269</td>\n",
       "      <td>-90.673649</td>\n",
       "      <td>2021-04-29T14:55:20-0500</td>\n",
       "      <td>medium</td>\n",
       "      <td>2021-04-29 19:55:20+00:00</td>\n",
       "    </tr>\n",
       "    <tr>\n",
       "      <th>2129</th>\n",
       "      <td>7302733118</td>\n",
       "      <td>https://harrisburg.craigslist.org/ctd/d/brockp...</td>\n",
       "      <td>harrisburg</td>\n",
       "      <td>https://harrisburg.craigslist.org</td>\n",
       "      <td>14700</td>\n",
       "      <td>2016</td>\n",
       "      <td>ford</td>\n",
       "      <td>fusion</td>\n",
       "      <td>other</td>\n",
       "      <td>95674</td>\n",
       "      <td>clean</td>\n",
       "      <td>NaN</td>\n",
       "      <td>https://images.craigslist.org/00O0O_fkFRDDi4yq...</td>\n",
       "      <td>Car Starz Call Sales at 717-401-4221 2016 Ford...</td>\n",
       "      <td>pa</td>\n",
       "      <td>41.261540</td>\n",
       "      <td>-78.704520</td>\n",
       "      <td>2021-04-06T14:39:29-0400</td>\n",
       "      <td>medium</td>\n",
       "      <td>2021-04-06 18:39:29+00:00</td>\n",
       "    </tr>\n",
       "    <tr>\n",
       "      <th>2627</th>\n",
       "      <td>7314386590</td>\n",
       "      <td>https://roanoke.craigslist.org/ctd/d/roanoke-2...</td>\n",
       "      <td>roanoke</td>\n",
       "      <td>https://roanoke.craigslist.org</td>\n",
       "      <td>7995</td>\n",
       "      <td>2013</td>\n",
       "      <td>nissan</td>\n",
       "      <td>altima</td>\n",
       "      <td>gas</td>\n",
       "      <td>87004</td>\n",
       "      <td>clean</td>\n",
       "      <td>NaN</td>\n",
       "      <td>https://images.craigslist.org/00E0E_T1UmvdZBIq...</td>\n",
       "      <td>2013 Nissan Altima 2.5 SL     Offered by: Blue...</td>\n",
       "      <td>va</td>\n",
       "      <td>37.335355</td>\n",
       "      <td>-79.859385</td>\n",
       "      <td>2021-04-29T13:05:26-0400</td>\n",
       "      <td>low</td>\n",
       "      <td>2021-04-29 17:05:26+00:00</td>\n",
       "    </tr>\n",
       "    <tr>\n",
       "      <th>3192</th>\n",
       "      <td>7307686006</td>\n",
       "      <td>https://cincinnati.craigslist.org/ctd/d/newpor...</td>\n",
       "      <td>cincinnati</td>\n",
       "      <td>https://cincinnati.craigslist.org</td>\n",
       "      <td>7995</td>\n",
       "      <td>2012</td>\n",
       "      <td>chevrolet</td>\n",
       "      <td>volt</td>\n",
       "      <td>hybrid</td>\n",
       "      <td>72205</td>\n",
       "      <td>clean</td>\n",
       "      <td>NaN</td>\n",
       "      <td>https://images.craigslist.org/00Y0Y_l66xSh7dIq...</td>\n",
       "      <td>2012 Chevrolet Chevy Volt Premium     Offered ...</td>\n",
       "      <td>oh</td>\n",
       "      <td>39.002570</td>\n",
       "      <td>-84.423424</td>\n",
       "      <td>2021-04-16T10:31:31-0400</td>\n",
       "      <td>low</td>\n",
       "      <td>2021-04-16 14:31:31+00:00</td>\n",
       "    </tr>\n",
       "    <tr>\n",
       "      <th>3551</th>\n",
       "      <td>7310989457</td>\n",
       "      <td>https://oklahomacity.craigslist.org/ctd/d/fort...</td>\n",
       "      <td>oklahoma city</td>\n",
       "      <td>https://oklahomacity.craigslist.org</td>\n",
       "      <td>10495</td>\n",
       "      <td>2016</td>\n",
       "      <td>subaru</td>\n",
       "      <td>outback</td>\n",
       "      <td>gas</td>\n",
       "      <td>205315</td>\n",
       "      <td>clean</td>\n",
       "      <td>NaN</td>\n",
       "      <td>https://images.craigslist.org/00909_iyoxNVG6Hv...</td>\n",
       "      <td>Se Habla Español! This GORGEOUS Subaru Outback...</td>\n",
       "      <td>ok</td>\n",
       "      <td>39.029900</td>\n",
       "      <td>-96.839600</td>\n",
       "      <td>2021-04-22T14:06:51-0500</td>\n",
       "      <td>medium</td>\n",
       "      <td>2021-04-22 19:06:51+00:00</td>\n",
       "    </tr>\n",
       "    <tr>\n",
       "      <th>3814</th>\n",
       "      <td>7314143519</td>\n",
       "      <td>https://boise.craigslist.org/ctd/d/nampa-1971-...</td>\n",
       "      <td>boise</td>\n",
       "      <td>https://boise.craigslist.org</td>\n",
       "      <td>10395</td>\n",
       "      <td>1971</td>\n",
       "      <td>other</td>\n",
       "      <td>American LaFrance Fire Truck</td>\n",
       "      <td>other</td>\n",
       "      <td>78974</td>\n",
       "      <td>clean</td>\n",
       "      <td>NaN</td>\n",
       "      <td>https://images.craigslist.org/00909_aLVPntLOWj...</td>\n",
       "      <td>1971 American LaFrance Fire Truck   - $10,395....</td>\n",
       "      <td>id</td>\n",
       "      <td>43.593700</td>\n",
       "      <td>-116.536000</td>\n",
       "      <td>2021-04-28T19:02:38-0600</td>\n",
       "      <td>medium</td>\n",
       "      <td>2021-04-29 01:02:38+00:00</td>\n",
       "    </tr>\n",
       "    <tr>\n",
       "      <th>3821</th>\n",
       "      <td>7314284239</td>\n",
       "      <td>https://gainesville.craigslist.org/ctd/d/kissi...</td>\n",
       "      <td>gainesville</td>\n",
       "      <td>https://gainesville.craigslist.org</td>\n",
       "      <td>12600</td>\n",
       "      <td>2012</td>\n",
       "      <td>lexus</td>\n",
       "      <td>is</td>\n",
       "      <td>gas</td>\n",
       "      <td>119123</td>\n",
       "      <td>clean</td>\n",
       "      <td>NaN</td>\n",
       "      <td>https://images.craigslist.org/00a0a_iLNqrX7M6C...</td>\n",
       "      <td>2012 Lexus IS 250 RWD     Offered by: WE ARE O...</td>\n",
       "      <td>fl</td>\n",
       "      <td>28.329026</td>\n",
       "      <td>-81.404237</td>\n",
       "      <td>2021-04-29T10:05:17-0400</td>\n",
       "      <td>medium</td>\n",
       "      <td>2021-04-29 14:05:17+00:00</td>\n",
       "    </tr>\n",
       "    <tr>\n",
       "      <th>3938</th>\n",
       "      <td>7313340095</td>\n",
       "      <td>https://flint.craigslist.org/ctd/d/burton-2018...</td>\n",
       "      <td>flint</td>\n",
       "      <td>https://flint.craigslist.org</td>\n",
       "      <td>8999</td>\n",
       "      <td>2018</td>\n",
       "      <td>nissan</td>\n",
       "      <td>sentra</td>\n",
       "      <td>gas</td>\n",
       "      <td>100502</td>\n",
       "      <td>clean</td>\n",
       "      <td>NaN</td>\n",
       "      <td>https://images.craigslist.org/01313_1Otgvohan8...</td>\n",
       "      <td>2018 NISSAN SENTRA SV     Offered by: Tom's Di...</td>\n",
       "      <td>mi</td>\n",
       "      <td>43.004529</td>\n",
       "      <td>-83.635055</td>\n",
       "      <td>2021-04-27T11:36:15-0400</td>\n",
       "      <td>low</td>\n",
       "      <td>2021-04-27 15:36:15+00:00</td>\n",
       "    </tr>\n",
       "    <tr>\n",
       "      <th>4087</th>\n",
       "      <td>7309751102</td>\n",
       "      <td>https://providence.craigslist.org/ctd/d/hookse...</td>\n",
       "      <td>rhode island</td>\n",
       "      <td>https://providence.craigslist.org</td>\n",
       "      <td>29888</td>\n",
       "      <td>2015</td>\n",
       "      <td>jeep</td>\n",
       "      <td>wrangler</td>\n",
       "      <td>gas</td>\n",
       "      <td>79873</td>\n",
       "      <td>clean</td>\n",
       "      <td>NaN</td>\n",
       "      <td>https://images.craigslist.org/00r0r_3nZoSFWLjf...</td>\n",
       "      <td>2015 Jeep Wrangler Rubicon 4WD     Offered by:...</td>\n",
       "      <td>ri</td>\n",
       "      <td>43.066264</td>\n",
       "      <td>-71.447000</td>\n",
       "      <td>2021-04-20T09:32:59-0400</td>\n",
       "      <td>high</td>\n",
       "      <td>2021-04-20 13:32:59+00:00</td>\n",
       "    </tr>\n",
       "    <tr>\n",
       "      <th>5081</th>\n",
       "      <td>7316685506</td>\n",
       "      <td>https://tampa.craigslist.org/hil/ctd/d/brandon...</td>\n",
       "      <td>tampa bay area</td>\n",
       "      <td>https://tampa.craigslist.org</td>\n",
       "      <td>16991</td>\n",
       "      <td>2016</td>\n",
       "      <td>ford</td>\n",
       "      <td>mustang</td>\n",
       "      <td>gas</td>\n",
       "      <td>81028</td>\n",
       "      <td>clean</td>\n",
       "      <td>NaN</td>\n",
       "      <td>https://images.craigslist.org/00q0q_ff4BI4TwI4...</td>\n",
       "      <td>2016 Ford Mustang EcoBoost     Offered by: Bra...</td>\n",
       "      <td>fl</td>\n",
       "      <td>27.946392</td>\n",
       "      <td>-82.342089</td>\n",
       "      <td>2021-05-04T10:01:03-0400</td>\n",
       "      <td>medium</td>\n",
       "      <td>2021-05-04 14:01:03+00:00</td>\n",
       "    </tr>\n",
       "    <tr>\n",
       "      <th>5260</th>\n",
       "      <td>7307388962</td>\n",
       "      <td>https://medford.craigslist.org/ctd/d/medford-2...</td>\n",
       "      <td>medford-ashland</td>\n",
       "      <td>https://medford.craigslist.org</td>\n",
       "      <td>14984</td>\n",
       "      <td>2010</td>\n",
       "      <td>ford</td>\n",
       "      <td>expedition</td>\n",
       "      <td>other</td>\n",
       "      <td>128975</td>\n",
       "      <td>clean</td>\n",
       "      <td>NaN</td>\n",
       "      <td>https://images.craigslist.org/00B0B_aSYu1CvWOQ...</td>\n",
       "      <td>2010 Ford Expedition Eddie Bauer Sport Utility...</td>\n",
       "      <td>or</td>\n",
       "      <td>42.329925</td>\n",
       "      <td>-122.875811</td>\n",
       "      <td>2021-04-15T13:28:27-0700</td>\n",
       "      <td>medium</td>\n",
       "      <td>2021-04-15 20:28:27+00:00</td>\n",
       "    </tr>\n",
       "    <tr>\n",
       "      <th>5320</th>\n",
       "      <td>7315518091</td>\n",
       "      <td>https://inlandempire.craigslist.org/ctd/d/font...</td>\n",
       "      <td>inland empire</td>\n",
       "      <td>https://inlandempire.craigslist.org</td>\n",
       "      <td>20775</td>\n",
       "      <td>2012</td>\n",
       "      <td>gmc</td>\n",
       "      <td>yukon</td>\n",
       "      <td>gas</td>\n",
       "      <td>104908</td>\n",
       "      <td>clean</td>\n",
       "      <td>NaN</td>\n",
       "      <td>https://images.craigslist.org/00y0y_jYD9hosoC3...</td>\n",
       "      <td>2012 GMC Yukon SLT     Offered by: R &amp; B AUTOS...</td>\n",
       "      <td>ca</td>\n",
       "      <td>34.107223</td>\n",
       "      <td>-117.455322</td>\n",
       "      <td>2021-05-01T14:30:28-0700</td>\n",
       "      <td>medium</td>\n",
       "      <td>2021-05-01 21:30:28+00:00</td>\n",
       "    </tr>\n",
       "    <tr>\n",
       "      <th>5475</th>\n",
       "      <td>7303944212</td>\n",
       "      <td>https://yakima.craigslist.org/ctd/d/everett-20...</td>\n",
       "      <td>yakima</td>\n",
       "      <td>https://yakima.craigslist.org</td>\n",
       "      <td>7995</td>\n",
       "      <td>2013</td>\n",
       "      <td>dodge</td>\n",
       "      <td>grand caravan</td>\n",
       "      <td>gas</td>\n",
       "      <td>144401</td>\n",
       "      <td>clean</td>\n",
       "      <td>NaN</td>\n",
       "      <td>https://images.craigslist.org/00e0e_gr1IsBb5XA...</td>\n",
       "      <td>2013 Dodge Grand Caravan SE     Offered by: Co...</td>\n",
       "      <td>wa</td>\n",
       "      <td>47.912956</td>\n",
       "      <td>-122.235725</td>\n",
       "      <td>2021-04-08T16:56:02-0700</td>\n",
       "      <td>low</td>\n",
       "      <td>2021-04-08 23:56:02+00:00</td>\n",
       "    </tr>\n",
       "    <tr>\n",
       "      <th>5491</th>\n",
       "      <td>7302829978</td>\n",
       "      <td>https://greenville.craigslist.org/ctd/d/greenv...</td>\n",
       "      <td>greenville / upstate</td>\n",
       "      <td>https://greenville.craigslist.org</td>\n",
       "      <td>12988</td>\n",
       "      <td>2016</td>\n",
       "      <td>jeep</td>\n",
       "      <td>compass</td>\n",
       "      <td>gas</td>\n",
       "      <td>129674</td>\n",
       "      <td>clean</td>\n",
       "      <td>NaN</td>\n",
       "      <td>https://images.craigslist.org/00d0d_lHeM5HIRyZ...</td>\n",
       "      <td>2016 JEEP COMPASS 4X4 LATITUDE     Offered by:...</td>\n",
       "      <td>sc</td>\n",
       "      <td>34.801450</td>\n",
       "      <td>-82.426210</td>\n",
       "      <td>2021-04-06T17:21:49-0400</td>\n",
       "      <td>medium</td>\n",
       "      <td>2021-04-06 21:21:49+00:00</td>\n",
       "    </tr>\n",
       "    <tr>\n",
       "      <th>6172</th>\n",
       "      <td>7305971655</td>\n",
       "      <td>https://lancaster.craigslist.org/ctd/d/brockpo...</td>\n",
       "      <td>lancaster</td>\n",
       "      <td>https://lancaster.craigslist.org</td>\n",
       "      <td>7600</td>\n",
       "      <td>2012</td>\n",
       "      <td>jeep</td>\n",
       "      <td>patriot</td>\n",
       "      <td>other</td>\n",
       "      <td>95674</td>\n",
       "      <td>clean</td>\n",
       "      <td>NaN</td>\n",
       "      <td>https://images.craigslist.org/00909_hw8K8SHtsk...</td>\n",
       "      <td>Car Starz Call Sales at 717-401-4221 2012 Jeep...</td>\n",
       "      <td>pa</td>\n",
       "      <td>41.261540</td>\n",
       "      <td>-78.704520</td>\n",
       "      <td>2021-04-12T21:08:22-0400</td>\n",
       "      <td>low</td>\n",
       "      <td>2021-04-13 01:08:22+00:00</td>\n",
       "    </tr>\n",
       "    <tr>\n",
       "      <th>6682</th>\n",
       "      <td>7303882218</td>\n",
       "      <td>https://chico.craigslist.org/ctd/d/sacramento-...</td>\n",
       "      <td>chico</td>\n",
       "      <td>https://chico.craigslist.org</td>\n",
       "      <td>27995</td>\n",
       "      <td>2018</td>\n",
       "      <td>ford</td>\n",
       "      <td>f-150</td>\n",
       "      <td>gas</td>\n",
       "      <td>72005</td>\n",
       "      <td>clean</td>\n",
       "      <td>NaN</td>\n",
       "      <td>https://images.craigslist.org/00Z0Z_eRA2RnvAhM...</td>\n",
       "      <td>2018 Ford F-150 F150 F 150 XL 2WD SuperCrew 5....</td>\n",
       "      <td>ca</td>\n",
       "      <td>38.611927</td>\n",
       "      <td>-121.423118</td>\n",
       "      <td>2021-04-08T14:42:05-0700</td>\n",
       "      <td>high</td>\n",
       "      <td>2021-04-08 21:42:05+00:00</td>\n",
       "    </tr>\n",
       "    <tr>\n",
       "      <th>6757</th>\n",
       "      <td>7308278778</td>\n",
       "      <td>https://lincoln.craigslist.org/ctd/d/fort-rile...</td>\n",
       "      <td>lincoln</td>\n",
       "      <td>https://lincoln.craigslist.org</td>\n",
       "      <td>17495</td>\n",
       "      <td>2013</td>\n",
       "      <td>jeep</td>\n",
       "      <td>grand cherokee</td>\n",
       "      <td>gas</td>\n",
       "      <td>119275</td>\n",
       "      <td>clean</td>\n",
       "      <td>NaN</td>\n",
       "      <td>https://images.craigslist.org/00z0z_hH9cJEl2uw...</td>\n",
       "      <td>Se Habla Español! This GORGEOUS Jeep Grand Che...</td>\n",
       "      <td>ne</td>\n",
       "      <td>39.029900</td>\n",
       "      <td>-96.839600</td>\n",
       "      <td>2021-04-17T11:07:19-0500</td>\n",
       "      <td>medium</td>\n",
       "      <td>2021-04-17 16:07:19+00:00</td>\n",
       "    </tr>\n",
       "    <tr>\n",
       "      <th>6817</th>\n",
       "      <td>7310860252</td>\n",
       "      <td>https://charlotte.craigslist.org/ctd/d/greensb...</td>\n",
       "      <td>charlotte</td>\n",
       "      <td>https://charlotte.craigslist.org</td>\n",
       "      <td>6998</td>\n",
       "      <td>2008</td>\n",
       "      <td>honda</td>\n",
       "      <td>civic cpe</td>\n",
       "      <td>other</td>\n",
       "      <td>95674</td>\n",
       "      <td>clean</td>\n",
       "      <td>NaN</td>\n",
       "      <td>https://images.craigslist.org/00l0l_3evmKC5YBJ...</td>\n",
       "      <td>2008 Honda Civic Cpe 2dr Auto EX-L  Oak Ridge ...</td>\n",
       "      <td>nc</td>\n",
       "      <td>36.129540</td>\n",
       "      <td>-79.957520</td>\n",
       "      <td>2021-04-22T11:41:26-0400</td>\n",
       "      <td>low</td>\n",
       "      <td>2021-04-22 15:41:26+00:00</td>\n",
       "    </tr>\n",
       "    <tr>\n",
       "      <th>6851</th>\n",
       "      <td>7312392950</td>\n",
       "      <td>https://stlouis.craigslist.org/ctd/d/saint-pet...</td>\n",
       "      <td>st louis, MO</td>\n",
       "      <td>https://stlouis.craigslist.org</td>\n",
       "      <td>24995</td>\n",
       "      <td>2015</td>\n",
       "      <td>ford</td>\n",
       "      <td>explorer</td>\n",
       "      <td>gas</td>\n",
       "      <td>101241</td>\n",
       "      <td>clean</td>\n",
       "      <td>NaN</td>\n",
       "      <td>https://images.craigslist.org/00B0B_e2X7o0yUFs...</td>\n",
       "      <td>2015 Ford Explorer Sport     Offered by: Auto ...</td>\n",
       "      <td>il</td>\n",
       "      <td>38.802269</td>\n",
       "      <td>-90.673649</td>\n",
       "      <td>2021-04-25T12:13:13-0500</td>\n",
       "      <td>high</td>\n",
       "      <td>2021-04-25 17:13:13+00:00</td>\n",
       "    </tr>\n",
       "    <tr>\n",
       "      <th>6922</th>\n",
       "      <td>7310766348</td>\n",
       "      <td>https://greensboro.craigslist.org/ctd/d/high-p...</td>\n",
       "      <td>greensboro</td>\n",
       "      <td>https://greensboro.craigslist.org</td>\n",
       "      <td>3999</td>\n",
       "      <td>2001</td>\n",
       "      <td>honda</td>\n",
       "      <td>civic</td>\n",
       "      <td>other</td>\n",
       "      <td>95674</td>\n",
       "      <td>clean</td>\n",
       "      <td>NaN</td>\n",
       "      <td>https://images.craigslist.org/01212_hrL1gYZLbs...</td>\n",
       "      <td>Vann York Bargain Cars Call Sales at336-628-88...</td>\n",
       "      <td>nc</td>\n",
       "      <td>35.942696</td>\n",
       "      <td>-80.034679</td>\n",
       "      <td>2021-04-22T08:29:39-0400</td>\n",
       "      <td>low</td>\n",
       "      <td>2021-04-22 12:29:39+00:00</td>\n",
       "    </tr>\n",
       "    <tr>\n",
       "      <th>6933</th>\n",
       "      <td>7311954478</td>\n",
       "      <td>https://slo.craigslist.org/ctd/d/templeton-201...</td>\n",
       "      <td>san luis obispo</td>\n",
       "      <td>https://slo.craigslist.org</td>\n",
       "      <td>28991</td>\n",
       "      <td>2018</td>\n",
       "      <td>chevrolet</td>\n",
       "      <td>express</td>\n",
       "      <td>gas</td>\n",
       "      <td>40238</td>\n",
       "      <td>clean</td>\n",
       "      <td>NaN</td>\n",
       "      <td>https://images.craigslist.org/01414_jnE9CxLsEn...</td>\n",
       "      <td>2018 Chevrolet Chevy Express 2500 Work Van    ...</td>\n",
       "      <td>ca</td>\n",
       "      <td>35.581556</td>\n",
       "      <td>-120.698513</td>\n",
       "      <td>2021-04-24T10:40:55-0700</td>\n",
       "      <td>high</td>\n",
       "      <td>2021-04-24 17:40:55+00:00</td>\n",
       "    </tr>\n",
       "    <tr>\n",
       "      <th>7018</th>\n",
       "      <td>7311616552</td>\n",
       "      <td>https://easttexas.craigslist.org/ctd/d/richard...</td>\n",
       "      <td>tyler / east TX</td>\n",
       "      <td>https://easttexas.craigslist.org</td>\n",
       "      <td>21999</td>\n",
       "      <td>2015</td>\n",
       "      <td>lexus</td>\n",
       "      <td>is</td>\n",
       "      <td>gas</td>\n",
       "      <td>66295</td>\n",
       "      <td>clean</td>\n",
       "      <td>NaN</td>\n",
       "      <td>https://images.craigslist.org/00e0e_gpfrBxDNfL...</td>\n",
       "      <td>2015 Lexus IS 250 ASE30L/GSE31L/GSE36L/GSE37L ...</td>\n",
       "      <td>tx</td>\n",
       "      <td>32.944193</td>\n",
       "      <td>-96.741595</td>\n",
       "      <td>2021-04-23T17:27:59-0500</td>\n",
       "      <td>medium</td>\n",
       "      <td>2021-04-23 22:27:59+00:00</td>\n",
       "    </tr>\n",
       "    <tr>\n",
       "      <th>7196</th>\n",
       "      <td>7307751569</td>\n",
       "      <td>https://ocala.craigslist.org/ctd/d/kissimmee-2...</td>\n",
       "      <td>ocala</td>\n",
       "      <td>https://ocala.craigslist.org</td>\n",
       "      <td>18500</td>\n",
       "      <td>2020</td>\n",
       "      <td>hyundai</td>\n",
       "      <td>elantra</td>\n",
       "      <td>gas</td>\n",
       "      <td>5115</td>\n",
       "      <td>clean</td>\n",
       "      <td>NaN</td>\n",
       "      <td>https://images.craigslist.org/00J0J_65hDZvLxFX...</td>\n",
       "      <td>2020 Hyundai Elantra Limited     Offered by: W...</td>\n",
       "      <td>fl</td>\n",
       "      <td>28.329026</td>\n",
       "      <td>-81.404237</td>\n",
       "      <td>2021-04-16T12:11:35-0400</td>\n",
       "      <td>medium</td>\n",
       "      <td>2021-04-16 16:11:35+00:00</td>\n",
       "    </tr>\n",
       "    <tr>\n",
       "      <th>7751</th>\n",
       "      <td>7311607084</td>\n",
       "      <td>https://southjersey.craigslist.org/ctd/d/maple...</td>\n",
       "      <td>south jersey</td>\n",
       "      <td>https://southjersey.craigslist.org</td>\n",
       "      <td>27499</td>\n",
       "      <td>2019</td>\n",
       "      <td>lexus</td>\n",
       "      <td>ux</td>\n",
       "      <td>gas</td>\n",
       "      <td>16576</td>\n",
       "      <td>clean</td>\n",
       "      <td>NaN</td>\n",
       "      <td>https://images.craigslist.org/00R0R_hrj0btTe5R...</td>\n",
       "      <td>2019 Lexus UX 200 Base     Offered by: VIP Aut...</td>\n",
       "      <td>nj</td>\n",
       "      <td>39.938023</td>\n",
       "      <td>-74.971461</td>\n",
       "      <td>2021-04-23T18:08:04-0400</td>\n",
       "      <td>high</td>\n",
       "      <td>2021-04-23 22:08:04+00:00</td>\n",
       "    </tr>\n",
       "    <tr>\n",
       "      <th>8019</th>\n",
       "      <td>7303721685</td>\n",
       "      <td>https://poconos.craigslist.org/ctd/d/chesterfi...</td>\n",
       "      <td>poconos</td>\n",
       "      <td>https://poconos.craigslist.org</td>\n",
       "      <td>9499</td>\n",
       "      <td>2012</td>\n",
       "      <td>mini</td>\n",
       "      <td>cooper s countryman</td>\n",
       "      <td>gas</td>\n",
       "      <td>116854</td>\n",
       "      <td>clean</td>\n",
       "      <td>NaN</td>\n",
       "      <td>https://images.craigslist.org/01111_bOO9FFof1L...</td>\n",
       "      <td>2012 Mini Countryman S ALL4     Offered by: Ca...</td>\n",
       "      <td>pa</td>\n",
       "      <td>40.135190</td>\n",
       "      <td>-74.703570</td>\n",
       "      <td>2021-04-08T13:11:31-0400</td>\n",
       "      <td>low</td>\n",
       "      <td>2021-04-08 17:11:31+00:00</td>\n",
       "    </tr>\n",
       "    <tr>\n",
       "      <th>8293</th>\n",
       "      <td>7315344895</td>\n",
       "      <td>https://slo.craigslist.org/ctd/d/templeton-201...</td>\n",
       "      <td>san luis obispo</td>\n",
       "      <td>https://slo.craigslist.org</td>\n",
       "      <td>16491</td>\n",
       "      <td>2012</td>\n",
       "      <td>ford</td>\n",
       "      <td>f-150</td>\n",
       "      <td>gas</td>\n",
       "      <td>119689</td>\n",
       "      <td>clean</td>\n",
       "      <td>NaN</td>\n",
       "      <td>https://images.craigslist.org/00I0I_hgsnr1wm1f...</td>\n",
       "      <td>2012 Ford F-150 F150 F 150     Offered by: Pas...</td>\n",
       "      <td>ca</td>\n",
       "      <td>35.581556</td>\n",
       "      <td>-120.698513</td>\n",
       "      <td>2021-05-01T09:25:34-0700</td>\n",
       "      <td>medium</td>\n",
       "      <td>2021-05-01 16:25:34+00:00</td>\n",
       "    </tr>\n",
       "    <tr>\n",
       "      <th>8722</th>\n",
       "      <td>7316880026</td>\n",
       "      <td>https://houston.craigslist.org/ctd/d/houston-2...</td>\n",
       "      <td>houston</td>\n",
       "      <td>https://houston.craigslist.org</td>\n",
       "      <td>9491</td>\n",
       "      <td>2012</td>\n",
       "      <td>ford</td>\n",
       "      <td>mustang</td>\n",
       "      <td>gas</td>\n",
       "      <td>97947</td>\n",
       "      <td>clean</td>\n",
       "      <td>NaN</td>\n",
       "      <td>https://images.craigslist.org/00j0j_3FFSCVEb7v...</td>\n",
       "      <td>2012 Ford Mustang V6 Coupe     Offered by: Hou...</td>\n",
       "      <td>tx</td>\n",
       "      <td>29.721560</td>\n",
       "      <td>-95.524841</td>\n",
       "      <td>2021-05-04T14:14:45-0500</td>\n",
       "      <td>low</td>\n",
       "      <td>2021-05-04 19:14:45+00:00</td>\n",
       "    </tr>\n",
       "    <tr>\n",
       "      <th>9040</th>\n",
       "      <td>7316768908</td>\n",
       "      <td>https://portland.craigslist.org/clc/ctd/d/glad...</td>\n",
       "      <td>portland</td>\n",
       "      <td>https://portland.craigslist.org</td>\n",
       "      <td>25881</td>\n",
       "      <td>2020</td>\n",
       "      <td>nissan</td>\n",
       "      <td>leaf</td>\n",
       "      <td>electric</td>\n",
       "      <td>608</td>\n",
       "      <td>clean</td>\n",
       "      <td>NaN</td>\n",
       "      <td>https://images.craigslist.org/00o0o_gX4sj0dIcC...</td>\n",
       "      <td>2020 Nissan Leaf SV     Offered by: Toyota of ...</td>\n",
       "      <td>or</td>\n",
       "      <td>45.381450</td>\n",
       "      <td>-122.606475</td>\n",
       "      <td>2021-05-04T09:21:15-0700</td>\n",
       "      <td>high</td>\n",
       "      <td>2021-05-04 16:21:15+00:00</td>\n",
       "    </tr>\n",
       "    <tr>\n",
       "      <th>9345</th>\n",
       "      <td>7312061144</td>\n",
       "      <td>https://fortmyers.craigslist.org/lee/ctd/d/for...</td>\n",
       "      <td>ft myers / SW florida</td>\n",
       "      <td>https://fortmyers.craigslist.org</td>\n",
       "      <td>13000</td>\n",
       "      <td>2017</td>\n",
       "      <td>jeep</td>\n",
       "      <td>patriot</td>\n",
       "      <td>gas</td>\n",
       "      <td>37398</td>\n",
       "      <td>clean</td>\n",
       "      <td>NaN</td>\n",
       "      <td>https://images.craigslist.org/00m0m_1awSQ4PROX...</td>\n",
       "      <td>2017 Jeep Patriot Sport SE     Offered by: EVE...</td>\n",
       "      <td>fl</td>\n",
       "      <td>26.498960</td>\n",
       "      <td>-81.819380</td>\n",
       "      <td>2021-04-24T16:37:38-0400</td>\n",
       "      <td>medium</td>\n",
       "      <td>2021-04-24 20:37:38+00:00</td>\n",
       "    </tr>\n",
       "    <tr>\n",
       "      <th>9583</th>\n",
       "      <td>7304393640</td>\n",
       "      <td>https://anchorage.craigslist.org/ctd/d/anchora...</td>\n",
       "      <td>anchorage / mat-su</td>\n",
       "      <td>https://anchorage.craigslist.org</td>\n",
       "      <td>15995</td>\n",
       "      <td>2010</td>\n",
       "      <td>ford</td>\n",
       "      <td>e-350</td>\n",
       "      <td>gas</td>\n",
       "      <td>130626</td>\n",
       "      <td>clean</td>\n",
       "      <td>NaN</td>\n",
       "      <td>https://images.craigslist.org/00r0r_BeaE9Zxl4P...</td>\n",
       "      <td>2010 Ford E-Series Wagon E 350 SD 3dr Extended...</td>\n",
       "      <td>ak</td>\n",
       "      <td>61.161670</td>\n",
       "      <td>-149.863120</td>\n",
       "      <td>2021-04-09T13:27:13-0800</td>\n",
       "      <td>medium</td>\n",
       "      <td>2021-04-09 21:27:13+00:00</td>\n",
       "    </tr>\n",
       "    <tr>\n",
       "      <th>9725</th>\n",
       "      <td>7312289741</td>\n",
       "      <td>https://maine.craigslist.org/ctd/d/methuen-201...</td>\n",
       "      <td>maine</td>\n",
       "      <td>https://maine.craigslist.org</td>\n",
       "      <td>19995</td>\n",
       "      <td>2017</td>\n",
       "      <td>harley-davidson</td>\n",
       "      <td>davidson flhx / street gl</td>\n",
       "      <td>gas</td>\n",
       "      <td>8719</td>\n",
       "      <td>clean</td>\n",
       "      <td>NaN</td>\n",
       "      <td>https://images.craigslist.org/00808_6vpXSxNnic...</td>\n",
       "      <td>2017 Harley-Davidson FLHX SCREAMING EAGLE STAG...</td>\n",
       "      <td>me</td>\n",
       "      <td>42.756205</td>\n",
       "      <td>-71.210258</td>\n",
       "      <td>2021-04-25T09:42:51-0400</td>\n",
       "      <td>medium</td>\n",
       "      <td>2021-04-25 13:42:51+00:00</td>\n",
       "    </tr>\n",
       "    <tr>\n",
       "      <th>9805</th>\n",
       "      <td>7313949726</td>\n",
       "      <td>https://harrisburg.craigslist.org/ctd/d/brockp...</td>\n",
       "      <td>harrisburg</td>\n",
       "      <td>https://harrisburg.craigslist.org</td>\n",
       "      <td>8900</td>\n",
       "      <td>2012</td>\n",
       "      <td>honda</td>\n",
       "      <td>accord</td>\n",
       "      <td>other</td>\n",
       "      <td>95674</td>\n",
       "      <td>clean</td>\n",
       "      <td>NaN</td>\n",
       "      <td>https://images.craigslist.org/01212_dsfYRNhxfd...</td>\n",
       "      <td>Car Starz Call Sales at 717-401-4221 2012 Hond...</td>\n",
       "      <td>pa</td>\n",
       "      <td>41.261540</td>\n",
       "      <td>-78.704520</td>\n",
       "      <td>2021-04-28T14:25:32-0400</td>\n",
       "      <td>low</td>\n",
       "      <td>2021-04-28 18:25:32+00:00</td>\n",
       "    </tr>\n",
       "  </tbody>\n",
       "</table>\n",
       "</div>"
      ],
      "text/plain": [
       "              id                                                url  \\\n",
       "111   7305109580  https://grandrapids.craigslist.org/ctd/d/comst...   \n",
       "112   7314951119  https://southjersey.craigslist.org/ctd/d/chest...   \n",
       "817   7308021604  https://southjersey.craigslist.org/ctd/d/maple...   \n",
       "931   7314781483  https://nh.craigslist.org/ctd/d/plaistow-2018-...   \n",
       "970   7315044723  https://poconos.craigslist.org/ctd/d/chesterfi...   \n",
       "1156  7311083008  https://greenville.craigslist.org/ctd/d/greenv...   \n",
       "1349  7303942891  https://wenatchee.craigslist.org/ctd/d/everett...   \n",
       "1715  7310344536  https://roanoke.craigslist.org/ctd/d/roanoke-2...   \n",
       "1914  7307857568  https://fortmyers.craigslist.org/lee/ctd/d/for...   \n",
       "2023  7314592581  https://pueblo.craigslist.org/ctd/d/pueblo-200...   \n",
       "2072  7307459834  https://tallahassee.craigslist.org/ctd/d/ocala...   \n",
       "2078  7314485544  https://stlouis.craigslist.org/ctd/d/saint-pet...   \n",
       "2129  7302733118  https://harrisburg.craigslist.org/ctd/d/brockp...   \n",
       "2627  7314386590  https://roanoke.craigslist.org/ctd/d/roanoke-2...   \n",
       "3192  7307686006  https://cincinnati.craigslist.org/ctd/d/newpor...   \n",
       "3551  7310989457  https://oklahomacity.craigslist.org/ctd/d/fort...   \n",
       "3814  7314143519  https://boise.craigslist.org/ctd/d/nampa-1971-...   \n",
       "3821  7314284239  https://gainesville.craigslist.org/ctd/d/kissi...   \n",
       "3938  7313340095  https://flint.craigslist.org/ctd/d/burton-2018...   \n",
       "4087  7309751102  https://providence.craigslist.org/ctd/d/hookse...   \n",
       "5081  7316685506  https://tampa.craigslist.org/hil/ctd/d/brandon...   \n",
       "5260  7307388962  https://medford.craigslist.org/ctd/d/medford-2...   \n",
       "5320  7315518091  https://inlandempire.craigslist.org/ctd/d/font...   \n",
       "5475  7303944212  https://yakima.craigslist.org/ctd/d/everett-20...   \n",
       "5491  7302829978  https://greenville.craigslist.org/ctd/d/greenv...   \n",
       "6172  7305971655  https://lancaster.craigslist.org/ctd/d/brockpo...   \n",
       "6682  7303882218  https://chico.craigslist.org/ctd/d/sacramento-...   \n",
       "6757  7308278778  https://lincoln.craigslist.org/ctd/d/fort-rile...   \n",
       "6817  7310860252  https://charlotte.craigslist.org/ctd/d/greensb...   \n",
       "6851  7312392950  https://stlouis.craigslist.org/ctd/d/saint-pet...   \n",
       "6922  7310766348  https://greensboro.craigslist.org/ctd/d/high-p...   \n",
       "6933  7311954478  https://slo.craigslist.org/ctd/d/templeton-201...   \n",
       "7018  7311616552  https://easttexas.craigslist.org/ctd/d/richard...   \n",
       "7196  7307751569  https://ocala.craigslist.org/ctd/d/kissimmee-2...   \n",
       "7751  7311607084  https://southjersey.craigslist.org/ctd/d/maple...   \n",
       "8019  7303721685  https://poconos.craigslist.org/ctd/d/chesterfi...   \n",
       "8293  7315344895  https://slo.craigslist.org/ctd/d/templeton-201...   \n",
       "8722  7316880026  https://houston.craigslist.org/ctd/d/houston-2...   \n",
       "9040  7316768908  https://portland.craigslist.org/clc/ctd/d/glad...   \n",
       "9345  7312061144  https://fortmyers.craigslist.org/lee/ctd/d/for...   \n",
       "9583  7304393640  https://anchorage.craigslist.org/ctd/d/anchora...   \n",
       "9725  7312289741  https://maine.craigslist.org/ctd/d/methuen-201...   \n",
       "9805  7313949726  https://harrisburg.craigslist.org/ctd/d/brockp...   \n",
       "\n",
       "                     region                           region_url  price  year  \\\n",
       "111            grand rapids   https://grandrapids.craigslist.org  12750  2013   \n",
       "112            south jersey   https://southjersey.craigslist.org  18199  2012   \n",
       "817            south jersey   https://southjersey.craigslist.org  11999  2015   \n",
       "931           new hampshire            https://nh.craigslist.org  64990  2018   \n",
       "970                 poconos       https://poconos.craigslist.org  22699  2014   \n",
       "1156   greenville / upstate    https://greenville.craigslist.org   9998  2013   \n",
       "1349              wenatchee     https://wenatchee.craigslist.org   4995  2005   \n",
       "1715                roanoke       https://roanoke.craigslist.org   3995  2007   \n",
       "1914  ft myers / SW florida     https://fortmyers.craigslist.org  17000  2012   \n",
       "2023                 pueblo        https://pueblo.craigslist.org   8494  2004   \n",
       "2072            tallahassee   https://tallahassee.craigslist.org  22900  2013   \n",
       "2078           st louis, MO       https://stlouis.craigslist.org  15891  2019   \n",
       "2129             harrisburg    https://harrisburg.craigslist.org  14700  2016   \n",
       "2627                roanoke       https://roanoke.craigslist.org   7995  2013   \n",
       "3192             cincinnati    https://cincinnati.craigslist.org   7995  2012   \n",
       "3551          oklahoma city  https://oklahomacity.craigslist.org  10495  2016   \n",
       "3814                  boise         https://boise.craigslist.org  10395  1971   \n",
       "3821            gainesville   https://gainesville.craigslist.org  12600  2012   \n",
       "3938                  flint         https://flint.craigslist.org   8999  2018   \n",
       "4087           rhode island    https://providence.craigslist.org  29888  2015   \n",
       "5081         tampa bay area         https://tampa.craigslist.org  16991  2016   \n",
       "5260        medford-ashland       https://medford.craigslist.org  14984  2010   \n",
       "5320          inland empire  https://inlandempire.craigslist.org  20775  2012   \n",
       "5475                 yakima        https://yakima.craigslist.org   7995  2013   \n",
       "5491   greenville / upstate    https://greenville.craigslist.org  12988  2016   \n",
       "6172              lancaster     https://lancaster.craigslist.org   7600  2012   \n",
       "6682                  chico         https://chico.craigslist.org  27995  2018   \n",
       "6757                lincoln       https://lincoln.craigslist.org  17495  2013   \n",
       "6817              charlotte     https://charlotte.craigslist.org   6998  2008   \n",
       "6851           st louis, MO       https://stlouis.craigslist.org  24995  2015   \n",
       "6922             greensboro    https://greensboro.craigslist.org   3999  2001   \n",
       "6933        san luis obispo           https://slo.craigslist.org  28991  2018   \n",
       "7018        tyler / east TX     https://easttexas.craigslist.org  21999  2015   \n",
       "7196                  ocala         https://ocala.craigslist.org  18500  2020   \n",
       "7751           south jersey   https://southjersey.craigslist.org  27499  2019   \n",
       "8019                poconos       https://poconos.craigslist.org   9499  2012   \n",
       "8293        san luis obispo           https://slo.craigslist.org  16491  2012   \n",
       "8722                houston       https://houston.craigslist.org   9491  2012   \n",
       "9040               portland      https://portland.craigslist.org  25881  2020   \n",
       "9345  ft myers / SW florida     https://fortmyers.craigslist.org  13000  2017   \n",
       "9583     anchorage / mat-su     https://anchorage.craigslist.org  15995  2010   \n",
       "9725                  maine         https://maine.craigslist.org  19995  2017   \n",
       "9805             harrisburg    https://harrisburg.craigslist.org   8900  2012   \n",
       "\n",
       "         manufacturer                         model      fuel  odometer  \\\n",
       "111             lexus                            es       gas    109382   \n",
       "112              jeep                      wrangler     other    130174   \n",
       "817             honda                         civic       gas     79797   \n",
       "931               ram                          3500     other      8853   \n",
       "970              jeep                      wrangler       gas    110493   \n",
       "1156       volkswagen                         jetta    diesel     96115   \n",
       "1349            honda                         pilot       gas    261591   \n",
       "1715             ford                       mustang       gas    159342   \n",
       "1914             jeep                grand cherokee       gas    116079   \n",
       "2023             ford                        ranger       gas    156969   \n",
       "2072             ford                         f-450     other    225804   \n",
       "2078           nissan                        sentra       gas     90811   \n",
       "2129             ford                        fusion     other     95674   \n",
       "2627           nissan                        altima       gas     87004   \n",
       "3192        chevrolet                          volt    hybrid     72205   \n",
       "3551           subaru                       outback       gas    205315   \n",
       "3814            other  American LaFrance Fire Truck     other     78974   \n",
       "3821            lexus                            is       gas    119123   \n",
       "3938           nissan                        sentra       gas    100502   \n",
       "4087             jeep                      wrangler       gas     79873   \n",
       "5081             ford                       mustang       gas     81028   \n",
       "5260             ford                    expedition     other    128975   \n",
       "5320              gmc                         yukon       gas    104908   \n",
       "5475            dodge                 grand caravan       gas    144401   \n",
       "5491             jeep                       compass       gas    129674   \n",
       "6172             jeep                       patriot     other     95674   \n",
       "6682             ford                         f-150       gas     72005   \n",
       "6757             jeep                grand cherokee       gas    119275   \n",
       "6817            honda                     civic cpe     other     95674   \n",
       "6851             ford                      explorer       gas    101241   \n",
       "6922            honda                         civic     other     95674   \n",
       "6933        chevrolet                       express       gas     40238   \n",
       "7018            lexus                            is       gas     66295   \n",
       "7196          hyundai                       elantra       gas      5115   \n",
       "7751            lexus                            ux       gas     16576   \n",
       "8019             mini           cooper s countryman       gas    116854   \n",
       "8293             ford                         f-150       gas    119689   \n",
       "8722             ford                       mustang       gas     97947   \n",
       "9040           nissan                          leaf  electric       608   \n",
       "9345             jeep                       patriot       gas     37398   \n",
       "9583             ford                         e-350       gas    130626   \n",
       "9725  harley-davidson     davidson flhx / street gl       gas      8719   \n",
       "9805            honda                        accord     other     95674   \n",
       "\n",
       "     title_status transmission  \\\n",
       "111         clean          NaN   \n",
       "112         clean          NaN   \n",
       "817         clean          NaN   \n",
       "931         clean          NaN   \n",
       "970         clean          NaN   \n",
       "1156        clean          NaN   \n",
       "1349        clean          NaN   \n",
       "1715        clean          NaN   \n",
       "1914        clean          NaN   \n",
       "2023        clean          NaN   \n",
       "2072        clean          NaN   \n",
       "2078        clean          NaN   \n",
       "2129        clean          NaN   \n",
       "2627        clean          NaN   \n",
       "3192        clean          NaN   \n",
       "3551        clean          NaN   \n",
       "3814        clean          NaN   \n",
       "3821        clean          NaN   \n",
       "3938        clean          NaN   \n",
       "4087        clean          NaN   \n",
       "5081        clean          NaN   \n",
       "5260        clean          NaN   \n",
       "5320        clean          NaN   \n",
       "5475        clean          NaN   \n",
       "5491        clean          NaN   \n",
       "6172        clean          NaN   \n",
       "6682        clean          NaN   \n",
       "6757        clean          NaN   \n",
       "6817        clean          NaN   \n",
       "6851        clean          NaN   \n",
       "6922        clean          NaN   \n",
       "6933        clean          NaN   \n",
       "7018        clean          NaN   \n",
       "7196        clean          NaN   \n",
       "7751        clean          NaN   \n",
       "8019        clean          NaN   \n",
       "8293        clean          NaN   \n",
       "8722        clean          NaN   \n",
       "9040        clean          NaN   \n",
       "9345        clean          NaN   \n",
       "9583        clean          NaN   \n",
       "9725        clean          NaN   \n",
       "9805        clean          NaN   \n",
       "\n",
       "                                              image_url  \\\n",
       "111   https://images.craigslist.org/00n0n_kACT1l7OCN...   \n",
       "112   https://images.craigslist.org/00I0I_gRmuXmqil1...   \n",
       "817   https://images.craigslist.org/00b0b_aCqgRZ7sAx...   \n",
       "931   https://images.craigslist.org/00000_iHpXs2BVmN...   \n",
       "970   https://images.craigslist.org/00M0M_aFDXWIfug9...   \n",
       "1156  https://images.craigslist.org/00F0F_9oq0KNmZIM...   \n",
       "1349  https://images.craigslist.org/00S0S_aASnH27HDH...   \n",
       "1715  https://images.craigslist.org/00J0J_6BuTyEWqNQ...   \n",
       "1914  https://images.craigslist.org/00000_gqxck1dkEu...   \n",
       "2023  https://images.craigslist.org/01212_6ixSUy4WCq...   \n",
       "2072  https://images.craigslist.org/00Y0Y_73hcVVn32A...   \n",
       "2078  https://images.craigslist.org/00T0T_2tloqlG3YB...   \n",
       "2129  https://images.craigslist.org/00O0O_fkFRDDi4yq...   \n",
       "2627  https://images.craigslist.org/00E0E_T1UmvdZBIq...   \n",
       "3192  https://images.craigslist.org/00Y0Y_l66xSh7dIq...   \n",
       "3551  https://images.craigslist.org/00909_iyoxNVG6Hv...   \n",
       "3814  https://images.craigslist.org/00909_aLVPntLOWj...   \n",
       "3821  https://images.craigslist.org/00a0a_iLNqrX7M6C...   \n",
       "3938  https://images.craigslist.org/01313_1Otgvohan8...   \n",
       "4087  https://images.craigslist.org/00r0r_3nZoSFWLjf...   \n",
       "5081  https://images.craigslist.org/00q0q_ff4BI4TwI4...   \n",
       "5260  https://images.craigslist.org/00B0B_aSYu1CvWOQ...   \n",
       "5320  https://images.craigslist.org/00y0y_jYD9hosoC3...   \n",
       "5475  https://images.craigslist.org/00e0e_gr1IsBb5XA...   \n",
       "5491  https://images.craigslist.org/00d0d_lHeM5HIRyZ...   \n",
       "6172  https://images.craigslist.org/00909_hw8K8SHtsk...   \n",
       "6682  https://images.craigslist.org/00Z0Z_eRA2RnvAhM...   \n",
       "6757  https://images.craigslist.org/00z0z_hH9cJEl2uw...   \n",
       "6817  https://images.craigslist.org/00l0l_3evmKC5YBJ...   \n",
       "6851  https://images.craigslist.org/00B0B_e2X7o0yUFs...   \n",
       "6922  https://images.craigslist.org/01212_hrL1gYZLbs...   \n",
       "6933  https://images.craigslist.org/01414_jnE9CxLsEn...   \n",
       "7018  https://images.craigslist.org/00e0e_gpfrBxDNfL...   \n",
       "7196  https://images.craigslist.org/00J0J_65hDZvLxFX...   \n",
       "7751  https://images.craigslist.org/00R0R_hrj0btTe5R...   \n",
       "8019  https://images.craigslist.org/01111_bOO9FFof1L...   \n",
       "8293  https://images.craigslist.org/00I0I_hgsnr1wm1f...   \n",
       "8722  https://images.craigslist.org/00j0j_3FFSCVEb7v...   \n",
       "9040  https://images.craigslist.org/00o0o_gX4sj0dIcC...   \n",
       "9345  https://images.craigslist.org/00m0m_1awSQ4PROX...   \n",
       "9583  https://images.craigslist.org/00r0r_BeaE9Zxl4P...   \n",
       "9725  https://images.craigslist.org/00808_6vpXSxNnic...   \n",
       "9805  https://images.craigslist.org/01212_dsfYRNhxfd...   \n",
       "\n",
       "                                            description state        lat  \\\n",
       "111   2013 Lexus ES 350 4dr Sdn     Offered by: Auto...    mi  43.059210   \n",
       "112   2012 Jeep Wrangler Unlimited Sport 4WD     Off...    nj  40.135190   \n",
       "817   2015 Honda Civic EX     Offered by: VIP Auto O...    nj  39.938023   \n",
       "931   2018 RAM Ram Chassis 3500 Short Wheelbase (Dua...    nh  42.834977   \n",
       "970   2014 Jeep Wrangler Unlimited Sport 4WD     Off...    pa  40.135190   \n",
       "1156  2013 VOLKSWAGEN JETTA TDI Highline     Offered...    sc  34.832550   \n",
       "1349  2005 Honda Pilot EX     Offered by: Corn Motor...    wa  47.912956   \n",
       "1715  2007 Ford Mustang V6 Deluxe Coupe     Offered ...    va  37.335355   \n",
       "1914  2012 Jeep Grand Cherokee Limited     Offered b...    fl  26.498960   \n",
       "2023  2004 Ford Ranger     Offered by: Discount Moto...    co  38.298339   \n",
       "2072  2013 Ford F-450 Super Duty 4X2 4dr SuperCab 16...    fl  29.230860   \n",
       "2078  2019 Nissan Sentra SV     Offered by: Auto Pla...    il  38.802269   \n",
       "2129  Car Starz Call Sales at 717-401-4221 2016 Ford...    pa  41.261540   \n",
       "2627  2013 Nissan Altima 2.5 SL     Offered by: Blue...    va  37.335355   \n",
       "3192  2012 Chevrolet Chevy Volt Premium     Offered ...    oh  39.002570   \n",
       "3551  Se Habla Español! This GORGEOUS Subaru Outback...    ok  39.029900   \n",
       "3814  1971 American LaFrance Fire Truck   - $10,395....    id  43.593700   \n",
       "3821  2012 Lexus IS 250 RWD     Offered by: WE ARE O...    fl  28.329026   \n",
       "3938  2018 NISSAN SENTRA SV     Offered by: Tom's Di...    mi  43.004529   \n",
       "4087  2015 Jeep Wrangler Rubicon 4WD     Offered by:...    ri  43.066264   \n",
       "5081  2016 Ford Mustang EcoBoost     Offered by: Bra...    fl  27.946392   \n",
       "5260  2010 Ford Expedition Eddie Bauer Sport Utility...    or  42.329925   \n",
       "5320  2012 GMC Yukon SLT     Offered by: R & B AUTOS...    ca  34.107223   \n",
       "5475  2013 Dodge Grand Caravan SE     Offered by: Co...    wa  47.912956   \n",
       "5491  2016 JEEP COMPASS 4X4 LATITUDE     Offered by:...    sc  34.801450   \n",
       "6172  Car Starz Call Sales at 717-401-4221 2012 Jeep...    pa  41.261540   \n",
       "6682  2018 Ford F-150 F150 F 150 XL 2WD SuperCrew 5....    ca  38.611927   \n",
       "6757  Se Habla Español! This GORGEOUS Jeep Grand Che...    ne  39.029900   \n",
       "6817  2008 Honda Civic Cpe 2dr Auto EX-L  Oak Ridge ...    nc  36.129540   \n",
       "6851  2015 Ford Explorer Sport     Offered by: Auto ...    il  38.802269   \n",
       "6922  Vann York Bargain Cars Call Sales at336-628-88...    nc  35.942696   \n",
       "6933  2018 Chevrolet Chevy Express 2500 Work Van    ...    ca  35.581556   \n",
       "7018  2015 Lexus IS 250 ASE30L/GSE31L/GSE36L/GSE37L ...    tx  32.944193   \n",
       "7196  2020 Hyundai Elantra Limited     Offered by: W...    fl  28.329026   \n",
       "7751  2019 Lexus UX 200 Base     Offered by: VIP Aut...    nj  39.938023   \n",
       "8019  2012 Mini Countryman S ALL4     Offered by: Ca...    pa  40.135190   \n",
       "8293  2012 Ford F-150 F150 F 150     Offered by: Pas...    ca  35.581556   \n",
       "8722  2012 Ford Mustang V6 Coupe     Offered by: Hou...    tx  29.721560   \n",
       "9040  2020 Nissan Leaf SV     Offered by: Toyota of ...    or  45.381450   \n",
       "9345  2017 Jeep Patriot Sport SE     Offered by: EVE...    fl  26.498960   \n",
       "9583  2010 Ford E-Series Wagon E 350 SD 3dr Extended...    ak  61.161670   \n",
       "9725  2017 Harley-Davidson FLHX SCREAMING EAGLE STAG...    me  42.756205   \n",
       "9805  Car Starz Call Sales at 717-401-4221 2012 Hond...    pa  41.261540   \n",
       "\n",
       "            long              posting_date price_category  \\\n",
       "111   -85.688970  2021-04-11T09:41:58-0400         medium   \n",
       "112   -74.703570  2021-04-30T14:58:56-0400         medium   \n",
       "817   -74.971461  2021-04-16T19:46:55-0400         medium   \n",
       "931   -71.107791  2021-04-30T10:15:30-0400           high   \n",
       "970   -74.703570  2021-04-30T17:46:04-0400           high   \n",
       "1156  -82.368350  2021-04-22T17:55:57-0400         medium   \n",
       "1349 -122.235725  2021-04-08T16:52:48-0700            low   \n",
       "1715  -79.859385  2021-04-21T11:30:46-0400            low   \n",
       "1914  -81.819380  2021-04-16T14:46:41-0400         medium   \n",
       "2023 -104.616024  2021-04-29T17:30:13-0600            low   \n",
       "2072  -82.149150  2021-04-15T18:47:10-0400           high   \n",
       "2078  -90.673649  2021-04-29T14:55:20-0500         medium   \n",
       "2129  -78.704520  2021-04-06T14:39:29-0400         medium   \n",
       "2627  -79.859385  2021-04-29T13:05:26-0400            low   \n",
       "3192  -84.423424  2021-04-16T10:31:31-0400            low   \n",
       "3551  -96.839600  2021-04-22T14:06:51-0500         medium   \n",
       "3814 -116.536000  2021-04-28T19:02:38-0600         medium   \n",
       "3821  -81.404237  2021-04-29T10:05:17-0400         medium   \n",
       "3938  -83.635055  2021-04-27T11:36:15-0400            low   \n",
       "4087  -71.447000  2021-04-20T09:32:59-0400           high   \n",
       "5081  -82.342089  2021-05-04T10:01:03-0400         medium   \n",
       "5260 -122.875811  2021-04-15T13:28:27-0700         medium   \n",
       "5320 -117.455322  2021-05-01T14:30:28-0700         medium   \n",
       "5475 -122.235725  2021-04-08T16:56:02-0700            low   \n",
       "5491  -82.426210  2021-04-06T17:21:49-0400         medium   \n",
       "6172  -78.704520  2021-04-12T21:08:22-0400            low   \n",
       "6682 -121.423118  2021-04-08T14:42:05-0700           high   \n",
       "6757  -96.839600  2021-04-17T11:07:19-0500         medium   \n",
       "6817  -79.957520  2021-04-22T11:41:26-0400            low   \n",
       "6851  -90.673649  2021-04-25T12:13:13-0500           high   \n",
       "6922  -80.034679  2021-04-22T08:29:39-0400            low   \n",
       "6933 -120.698513  2021-04-24T10:40:55-0700           high   \n",
       "7018  -96.741595  2021-04-23T17:27:59-0500         medium   \n",
       "7196  -81.404237  2021-04-16T12:11:35-0400         medium   \n",
       "7751  -74.971461  2021-04-23T18:08:04-0400           high   \n",
       "8019  -74.703570  2021-04-08T13:11:31-0400            low   \n",
       "8293 -120.698513  2021-05-01T09:25:34-0700         medium   \n",
       "8722  -95.524841  2021-05-04T14:14:45-0500            low   \n",
       "9040 -122.606475  2021-05-04T09:21:15-0700           high   \n",
       "9345  -81.819380  2021-04-24T16:37:38-0400         medium   \n",
       "9583 -149.863120  2021-04-09T13:27:13-0800         medium   \n",
       "9725  -71.210258  2021-04-25T09:42:51-0400         medium   \n",
       "9805  -78.704520  2021-04-28T14:25:32-0400            low   \n",
       "\n",
       "                           date  \n",
       "111   2021-04-11 13:41:58+00:00  \n",
       "112   2021-04-30 18:58:56+00:00  \n",
       "817   2021-04-16 23:46:55+00:00  \n",
       "931   2021-04-30 14:15:30+00:00  \n",
       "970   2021-04-30 21:46:04+00:00  \n",
       "1156  2021-04-22 21:55:57+00:00  \n",
       "1349  2021-04-08 23:52:48+00:00  \n",
       "1715  2021-04-21 15:30:46+00:00  \n",
       "1914  2021-04-16 18:46:41+00:00  \n",
       "2023  2021-04-29 23:30:13+00:00  \n",
       "2072  2021-04-15 22:47:10+00:00  \n",
       "2078  2021-04-29 19:55:20+00:00  \n",
       "2129  2021-04-06 18:39:29+00:00  \n",
       "2627  2021-04-29 17:05:26+00:00  \n",
       "3192  2021-04-16 14:31:31+00:00  \n",
       "3551  2021-04-22 19:06:51+00:00  \n",
       "3814  2021-04-29 01:02:38+00:00  \n",
       "3821  2021-04-29 14:05:17+00:00  \n",
       "3938  2021-04-27 15:36:15+00:00  \n",
       "4087  2021-04-20 13:32:59+00:00  \n",
       "5081  2021-05-04 14:01:03+00:00  \n",
       "5260  2021-04-15 20:28:27+00:00  \n",
       "5320  2021-05-01 21:30:28+00:00  \n",
       "5475  2021-04-08 23:56:02+00:00  \n",
       "5491  2021-04-06 21:21:49+00:00  \n",
       "6172  2021-04-13 01:08:22+00:00  \n",
       "6682  2021-04-08 21:42:05+00:00  \n",
       "6757  2021-04-17 16:07:19+00:00  \n",
       "6817  2021-04-22 15:41:26+00:00  \n",
       "6851  2021-04-25 17:13:13+00:00  \n",
       "6922  2021-04-22 12:29:39+00:00  \n",
       "6933  2021-04-24 17:40:55+00:00  \n",
       "7018  2021-04-23 22:27:59+00:00  \n",
       "7196  2021-04-16 16:11:35+00:00  \n",
       "7751  2021-04-23 22:08:04+00:00  \n",
       "8019  2021-04-08 17:11:31+00:00  \n",
       "8293  2021-05-01 16:25:34+00:00  \n",
       "8722  2021-05-04 19:14:45+00:00  \n",
       "9040  2021-05-04 16:21:15+00:00  \n",
       "9345  2021-04-24 20:37:38+00:00  \n",
       "9583  2021-04-09 21:27:13+00:00  \n",
       "9725  2021-04-25 13:42:51+00:00  \n",
       "9805  2021-04-28 18:25:32+00:00  "
      ]
     },
     "execution_count": 36,
     "metadata": {},
     "output_type": "execute_result"
    }
   ],
   "source": [
    "df[df.transmission.isna()]"
   ]
  },
  {
   "cell_type": "code",
   "execution_count": 37,
   "metadata": {},
   "outputs": [
    {
     "data": {
      "text/plain": [
       "0           other\n",
       "1       automatic\n",
       "2           other\n",
       "3       automatic\n",
       "4       automatic\n",
       "          ...    \n",
       "9995    automatic\n",
       "9996        other\n",
       "9997    automatic\n",
       "9998    automatic\n",
       "9999        other\n",
       "Name: transmission, Length: 9964, dtype: object"
      ]
     },
     "execution_count": 37,
     "metadata": {},
     "output_type": "execute_result"
    }
   ],
   "source": [
    "df.transmission = df.transmission.fillna('other')\n",
    "df.transmission"
   ]
  },
  {
   "cell_type": "code",
   "execution_count": 38,
   "metadata": {},
   "outputs": [
    {
     "name": "stdout",
     "output_type": "stream",
     "text": [
      "Количество пропущенных значений в transmission: 0\n"
     ]
    }
   ],
   "source": [
    "print('Количество пропущенных значений в transmission:', df.transmission.isna().sum())"
   ]
  },
  {
   "cell_type": "code",
   "execution_count": 39,
   "metadata": {},
   "outputs": [
    {
     "data": {
      "text/plain": [
       "count          9964\n",
       "unique            3\n",
       "top       automatic\n",
       "freq           7667\n",
       "Name: transmission, dtype: object"
      ]
     },
     "execution_count": 39,
     "metadata": {},
     "output_type": "execute_result"
    }
   ],
   "source": [
    "df.transmission.describe()"
   ]
  },
  {
   "cell_type": "markdown",
   "metadata": {
    "jp-MarkdownHeadingCollapsed": true,
    "tags": []
   },
   "source": [
    "##### Lat vs Long"
   ]
  },
  {
   "cell_type": "code",
   "execution_count": 40,
   "metadata": {},
   "outputs": [
    {
     "data": {
      "text/plain": [
       "NaN          96\n",
       "43.182400    88\n",
       "33.779214    79\n",
       "40.468785    73\n",
       "33.786500    54\n",
       "             ..\n",
       "32.764500     1\n",
       "33.394300     1\n",
       "41.315400     1\n",
       "40.698200     1\n",
       "42.123900     1\n",
       "Name: lat, Length: 5042, dtype: int64"
      ]
     },
     "execution_count": 40,
     "metadata": {},
     "output_type": "execute_result"
    }
   ],
   "source": [
    "df.lat.value_counts(dropna = False)"
   ]
  },
  {
   "cell_type": "code",
   "execution_count": 41,
   "metadata": {},
   "outputs": [
    {
     "data": {
      "text/plain": [
       " NaN           96\n",
       "-84.112200     88\n",
       "-84.411811     79\n",
       "-74.281707     73\n",
       "-84.445400     54\n",
       "               ..\n",
       "-118.194959     1\n",
       "-93.286303      1\n",
       "-73.098000      1\n",
       "-73.732600      1\n",
       "-79.189500      1\n",
       "Name: long, Length: 5075, dtype: int64"
      ]
     },
     "execution_count": 41,
     "metadata": {},
     "output_type": "execute_result"
    }
   ],
   "source": [
    "df.long.value_counts(dropna = False)"
   ]
  },
  {
   "cell_type": "code",
   "execution_count": 42,
   "metadata": {},
   "outputs": [
    {
     "data": {
      "text/html": [
       "<div>\n",
       "<style scoped>\n",
       "    .dataframe tbody tr th:only-of-type {\n",
       "        vertical-align: middle;\n",
       "    }\n",
       "\n",
       "    .dataframe tbody tr th {\n",
       "        vertical-align: top;\n",
       "    }\n",
       "\n",
       "    .dataframe thead th {\n",
       "        text-align: right;\n",
       "    }\n",
       "</style>\n",
       "<table border=\"1\" class=\"dataframe\">\n",
       "  <thead>\n",
       "    <tr style=\"text-align: right;\">\n",
       "      <th></th>\n",
       "      <th>id</th>\n",
       "      <th>url</th>\n",
       "      <th>region</th>\n",
       "      <th>region_url</th>\n",
       "      <th>price</th>\n",
       "      <th>year</th>\n",
       "      <th>manufacturer</th>\n",
       "      <th>model</th>\n",
       "      <th>fuel</th>\n",
       "      <th>odometer</th>\n",
       "      <th>title_status</th>\n",
       "      <th>transmission</th>\n",
       "      <th>image_url</th>\n",
       "      <th>description</th>\n",
       "      <th>state</th>\n",
       "      <th>lat</th>\n",
       "      <th>long</th>\n",
       "      <th>posting_date</th>\n",
       "      <th>price_category</th>\n",
       "      <th>date</th>\n",
       "    </tr>\n",
       "  </thead>\n",
       "  <tbody>\n",
       "    <tr>\n",
       "      <th>118</th>\n",
       "      <td>7312692841</td>\n",
       "      <td>https://tricities.craigslist.org/ctd/d/bmw-ser...</td>\n",
       "      <td>tri-cities</td>\n",
       "      <td>https://tricities.craigslist.org</td>\n",
       "      <td>17998</td>\n",
       "      <td>2012</td>\n",
       "      <td>bmw</td>\n",
       "      <td>5 series</td>\n",
       "      <td>gas</td>\n",
       "      <td>62665</td>\n",
       "      <td>clean</td>\n",
       "      <td>automatic</td>\n",
       "      <td>https://images.craigslist.org/00909_57Xyuj8AJH...</td>\n",
       "      <td>2012 BMW 5 Series 535i M Sport Heat &amp; Cool Sea...</td>\n",
       "      <td>tn</td>\n",
       "      <td>NaN</td>\n",
       "      <td>NaN</td>\n",
       "      <td>2021-04-26T04:28:35-0400</td>\n",
       "      <td>medium</td>\n",
       "      <td>2021-04-26 08:28:35+00:00</td>\n",
       "    </tr>\n",
       "    <tr>\n",
       "      <th>126</th>\n",
       "      <td>7315526339</td>\n",
       "      <td>https://newjersey.craigslist.org/ctd/d/look-wh...</td>\n",
       "      <td>north jersey</td>\n",
       "      <td>https://newjersey.craigslist.org</td>\n",
       "      <td>22995</td>\n",
       "      <td>2014</td>\n",
       "      <td>bmw</td>\n",
       "      <td>7 series</td>\n",
       "      <td>gas</td>\n",
       "      <td>81085</td>\n",
       "      <td>clean</td>\n",
       "      <td>automatic</td>\n",
       "      <td>https://images.craigslist.org/00k0k_38TNTakyUf...</td>\n",
       "      <td>2014 BMW 7 Series 4dr Sdn 750Li xDrive AWD Aut...</td>\n",
       "      <td>nj</td>\n",
       "      <td>NaN</td>\n",
       "      <td>NaN</td>\n",
       "      <td>2021-05-01T17:49:09-0400</td>\n",
       "      <td>high</td>\n",
       "      <td>2021-05-01 21:49:09+00:00</td>\n",
       "    </tr>\n",
       "    <tr>\n",
       "      <th>502</th>\n",
       "      <td>7308641593</td>\n",
       "      <td>https://winstonsalem.craigslist.org/ctd/d/ford...</td>\n",
       "      <td>winston-salem</td>\n",
       "      <td>https://winstonsalem.craigslist.org</td>\n",
       "      <td>20998</td>\n",
       "      <td>2016</td>\n",
       "      <td>ford</td>\n",
       "      <td>transit cargo</td>\n",
       "      <td>gas</td>\n",
       "      <td>123825</td>\n",
       "      <td>clean</td>\n",
       "      <td>automatic</td>\n",
       "      <td>https://images.craigslist.org/00101_gwJT4WBNRo...</td>\n",
       "      <td>2016 Ford Transit Cargo Vans Work Van High Roo...</td>\n",
       "      <td>nc</td>\n",
       "      <td>NaN</td>\n",
       "      <td>NaN</td>\n",
       "      <td>2021-04-18T04:43:46-0400</td>\n",
       "      <td>medium</td>\n",
       "      <td>2021-04-18 08:43:46+00:00</td>\n",
       "    </tr>\n",
       "    <tr>\n",
       "      <th>567</th>\n",
       "      <td>7309282242</td>\n",
       "      <td>https://onslow.craigslist.org/ctd/d/mercedes-b...</td>\n",
       "      <td>jacksonville</td>\n",
       "      <td>https://onslow.craigslist.org</td>\n",
       "      <td>10810</td>\n",
       "      <td>2014</td>\n",
       "      <td>mercedes-benz</td>\n",
       "      <td>c-class</td>\n",
       "      <td>gas</td>\n",
       "      <td>124476</td>\n",
       "      <td>clean</td>\n",
       "      <td>automatic</td>\n",
       "      <td>https://images.craigslist.org/01414_6jNHxQwrKx...</td>\n",
       "      <td>2014 Mercedes Benz C Class C 250 Sport Coupe C...</td>\n",
       "      <td>nc</td>\n",
       "      <td>NaN</td>\n",
       "      <td>NaN</td>\n",
       "      <td>2021-04-19T12:06:28-0400</td>\n",
       "      <td>medium</td>\n",
       "      <td>2021-04-19 16:06:28+00:00</td>\n",
       "    </tr>\n",
       "    <tr>\n",
       "      <th>692</th>\n",
       "      <td>7314847134</td>\n",
       "      <td>https://atlanta.craigslist.org/atl/ctd/d/2008-...</td>\n",
       "      <td>atlanta</td>\n",
       "      <td>https://atlanta.craigslist.org</td>\n",
       "      <td>17900</td>\n",
       "      <td>2008</td>\n",
       "      <td>toyota</td>\n",
       "      <td>tundra</td>\n",
       "      <td>gas</td>\n",
       "      <td>96000</td>\n",
       "      <td>clean</td>\n",
       "      <td>automatic</td>\n",
       "      <td>https://images.craigslist.org/01313_6u7l4KgvV4...</td>\n",
       "      <td>Description:              2008 Toyota Tundra 5...</td>\n",
       "      <td>ga</td>\n",
       "      <td>NaN</td>\n",
       "      <td>NaN</td>\n",
       "      <td>2021-04-30T12:09:49-0400</td>\n",
       "      <td>medium</td>\n",
       "      <td>2021-04-30 16:09:49+00:00</td>\n",
       "    </tr>\n",
       "    <tr>\n",
       "      <th>...</th>\n",
       "      <td>...</td>\n",
       "      <td>...</td>\n",
       "      <td>...</td>\n",
       "      <td>...</td>\n",
       "      <td>...</td>\n",
       "      <td>...</td>\n",
       "      <td>...</td>\n",
       "      <td>...</td>\n",
       "      <td>...</td>\n",
       "      <td>...</td>\n",
       "      <td>...</td>\n",
       "      <td>...</td>\n",
       "      <td>...</td>\n",
       "      <td>...</td>\n",
       "      <td>...</td>\n",
       "      <td>...</td>\n",
       "      <td>...</td>\n",
       "      <td>...</td>\n",
       "      <td>...</td>\n",
       "      <td>...</td>\n",
       "    </tr>\n",
       "    <tr>\n",
       "      <th>9154</th>\n",
       "      <td>7312710592</td>\n",
       "      <td>https://athensga.craigslist.org/ctd/d/bmw-x5-a...</td>\n",
       "      <td>athens</td>\n",
       "      <td>https://athensga.craigslist.org</td>\n",
       "      <td>14975</td>\n",
       "      <td>2013</td>\n",
       "      <td>bmw</td>\n",
       "      <td>x5</td>\n",
       "      <td>gas</td>\n",
       "      <td>97195</td>\n",
       "      <td>clean</td>\n",
       "      <td>automatic</td>\n",
       "      <td>https://images.craigslist.org/00i0i_kU6D0X9br2...</td>\n",
       "      <td>2013 BMW X5 xDrive35i Sport Activity Navigatio...</td>\n",
       "      <td>ga</td>\n",
       "      <td>NaN</td>\n",
       "      <td>NaN</td>\n",
       "      <td>2021-04-26T07:31:40-0400</td>\n",
       "      <td>medium</td>\n",
       "      <td>2021-04-26 11:31:40+00:00</td>\n",
       "    </tr>\n",
       "    <tr>\n",
       "      <th>9408</th>\n",
       "      <td>7311736404</td>\n",
       "      <td>https://raleigh.craigslist.org/ctd/d/lexus-nx-...</td>\n",
       "      <td>raleigh / durham / CH</td>\n",
       "      <td>https://raleigh.craigslist.org</td>\n",
       "      <td>28998</td>\n",
       "      <td>2018</td>\n",
       "      <td>lexus</td>\n",
       "      <td>nx 300</td>\n",
       "      <td>gas</td>\n",
       "      <td>19863</td>\n",
       "      <td>clean</td>\n",
       "      <td>automatic</td>\n",
       "      <td>https://images.craigslist.org/00Q0Q_j7S3aRy6Sw...</td>\n",
       "      <td>2018 Lexus NX 300 Navigation Sunroof Bluetooth...</td>\n",
       "      <td>nc</td>\n",
       "      <td>NaN</td>\n",
       "      <td>NaN</td>\n",
       "      <td>2021-04-24T00:54:33-0400</td>\n",
       "      <td>high</td>\n",
       "      <td>2021-04-24 04:54:33+00:00</td>\n",
       "    </tr>\n",
       "    <tr>\n",
       "      <th>9650</th>\n",
       "      <td>7315596665</td>\n",
       "      <td>https://newjersey.craigslist.org/ctd/d/wow-201...</td>\n",
       "      <td>north jersey</td>\n",
       "      <td>https://newjersey.craigslist.org</td>\n",
       "      <td>16495</td>\n",
       "      <td>2013</td>\n",
       "      <td>jeep</td>\n",
       "      <td>grand cherokee</td>\n",
       "      <td>other</td>\n",
       "      <td>90878</td>\n",
       "      <td>clean</td>\n",
       "      <td>automatic</td>\n",
       "      <td>https://images.craigslist.org/00v0v_awwo3NjD7Q...</td>\n",
       "      <td>2013 Jeep Grand Cherokee 4WD 4dr Laredo Automa...</td>\n",
       "      <td>nj</td>\n",
       "      <td>NaN</td>\n",
       "      <td>NaN</td>\n",
       "      <td>2021-05-01T20:53:57-0400</td>\n",
       "      <td>medium</td>\n",
       "      <td>2021-05-02 00:53:57+00:00</td>\n",
       "    </tr>\n",
       "    <tr>\n",
       "      <th>9668</th>\n",
       "      <td>7308677951</td>\n",
       "      <td>https://myrtlebeach.craigslist.org/ctd/d/ford-...</td>\n",
       "      <td>myrtle beach</td>\n",
       "      <td>https://myrtlebeach.craigslist.org</td>\n",
       "      <td>33647</td>\n",
       "      <td>2015</td>\n",
       "      <td>ford</td>\n",
       "      <td>f-250 super duty</td>\n",
       "      <td>diesel</td>\n",
       "      <td>153524</td>\n",
       "      <td>clean</td>\n",
       "      <td>automatic</td>\n",
       "      <td>https://images.craigslist.org/00f0f_1c0aGXmmCL...</td>\n",
       "      <td>2015 Ford F250 4x4 Truck Diesel Pickup Trucks ...</td>\n",
       "      <td>sc</td>\n",
       "      <td>NaN</td>\n",
       "      <td>NaN</td>\n",
       "      <td>2021-04-18T08:43:25-0400</td>\n",
       "      <td>high</td>\n",
       "      <td>2021-04-18 12:43:25+00:00</td>\n",
       "    </tr>\n",
       "    <tr>\n",
       "      <th>9915</th>\n",
       "      <td>7312622931</td>\n",
       "      <td>https://cincinnati.craigslist.org/cto/d/2005-d...</td>\n",
       "      <td>cincinnati</td>\n",
       "      <td>https://cincinnati.craigslist.org</td>\n",
       "      <td>7999</td>\n",
       "      <td>2005</td>\n",
       "      <td>ford</td>\n",
       "      <td>excursion 2005</td>\n",
       "      <td>diesel</td>\n",
       "      <td>210000</td>\n",
       "      <td>clean</td>\n",
       "      <td>automatic</td>\n",
       "      <td>https://images.craigslist.org/00E0E_i9lrp2qCVK...</td>\n",
       "      <td>Largest sport utility vehicle ever made in the...</td>\n",
       "      <td>oh</td>\n",
       "      <td>NaN</td>\n",
       "      <td>NaN</td>\n",
       "      <td>2021-04-25T21:12:31-0400</td>\n",
       "      <td>low</td>\n",
       "      <td>2021-04-26 01:12:31+00:00</td>\n",
       "    </tr>\n",
       "  </tbody>\n",
       "</table>\n",
       "<p>96 rows × 20 columns</p>\n",
       "</div>"
      ],
      "text/plain": [
       "              id                                                url  \\\n",
       "118   7312692841  https://tricities.craigslist.org/ctd/d/bmw-ser...   \n",
       "126   7315526339  https://newjersey.craigslist.org/ctd/d/look-wh...   \n",
       "502   7308641593  https://winstonsalem.craigslist.org/ctd/d/ford...   \n",
       "567   7309282242  https://onslow.craigslist.org/ctd/d/mercedes-b...   \n",
       "692   7314847134  https://atlanta.craigslist.org/atl/ctd/d/2008-...   \n",
       "...          ...                                                ...   \n",
       "9154  7312710592  https://athensga.craigslist.org/ctd/d/bmw-x5-a...   \n",
       "9408  7311736404  https://raleigh.craigslist.org/ctd/d/lexus-nx-...   \n",
       "9650  7315596665  https://newjersey.craigslist.org/ctd/d/wow-201...   \n",
       "9668  7308677951  https://myrtlebeach.craigslist.org/ctd/d/ford-...   \n",
       "9915  7312622931  https://cincinnati.craigslist.org/cto/d/2005-d...   \n",
       "\n",
       "                     region                           region_url  price  year  \\\n",
       "118              tri-cities     https://tricities.craigslist.org  17998  2012   \n",
       "126            north jersey     https://newjersey.craigslist.org  22995  2014   \n",
       "502           winston-salem  https://winstonsalem.craigslist.org  20998  2016   \n",
       "567            jacksonville        https://onslow.craigslist.org  10810  2014   \n",
       "692                 atlanta       https://atlanta.craigslist.org  17900  2008   \n",
       "...                     ...                                  ...    ...   ...   \n",
       "9154                 athens      https://athensga.craigslist.org  14975  2013   \n",
       "9408  raleigh / durham / CH       https://raleigh.craigslist.org  28998  2018   \n",
       "9650           north jersey     https://newjersey.craigslist.org  16495  2013   \n",
       "9668           myrtle beach   https://myrtlebeach.craigslist.org  33647  2015   \n",
       "9915             cincinnati    https://cincinnati.craigslist.org   7999  2005   \n",
       "\n",
       "       manufacturer             model    fuel  odometer title_status  \\\n",
       "118             bmw          5 series     gas     62665        clean   \n",
       "126             bmw          7 series     gas     81085        clean   \n",
       "502            ford     transit cargo     gas    123825        clean   \n",
       "567   mercedes-benz           c-class     gas    124476        clean   \n",
       "692          toyota            tundra     gas     96000        clean   \n",
       "...             ...               ...     ...       ...          ...   \n",
       "9154            bmw                x5     gas     97195        clean   \n",
       "9408          lexus            nx 300     gas     19863        clean   \n",
       "9650           jeep    grand cherokee   other     90878        clean   \n",
       "9668           ford  f-250 super duty  diesel    153524        clean   \n",
       "9915           ford    excursion 2005  diesel    210000        clean   \n",
       "\n",
       "     transmission                                          image_url  \\\n",
       "118     automatic  https://images.craigslist.org/00909_57Xyuj8AJH...   \n",
       "126     automatic  https://images.craigslist.org/00k0k_38TNTakyUf...   \n",
       "502     automatic  https://images.craigslist.org/00101_gwJT4WBNRo...   \n",
       "567     automatic  https://images.craigslist.org/01414_6jNHxQwrKx...   \n",
       "692     automatic  https://images.craigslist.org/01313_6u7l4KgvV4...   \n",
       "...           ...                                                ...   \n",
       "9154    automatic  https://images.craigslist.org/00i0i_kU6D0X9br2...   \n",
       "9408    automatic  https://images.craigslist.org/00Q0Q_j7S3aRy6Sw...   \n",
       "9650    automatic  https://images.craigslist.org/00v0v_awwo3NjD7Q...   \n",
       "9668    automatic  https://images.craigslist.org/00f0f_1c0aGXmmCL...   \n",
       "9915    automatic  https://images.craigslist.org/00E0E_i9lrp2qCVK...   \n",
       "\n",
       "                                            description state  lat  long  \\\n",
       "118   2012 BMW 5 Series 535i M Sport Heat & Cool Sea...    tn  NaN   NaN   \n",
       "126   2014 BMW 7 Series 4dr Sdn 750Li xDrive AWD Aut...    nj  NaN   NaN   \n",
       "502   2016 Ford Transit Cargo Vans Work Van High Roo...    nc  NaN   NaN   \n",
       "567   2014 Mercedes Benz C Class C 250 Sport Coupe C...    nc  NaN   NaN   \n",
       "692   Description:              2008 Toyota Tundra 5...    ga  NaN   NaN   \n",
       "...                                                 ...   ...  ...   ...   \n",
       "9154  2013 BMW X5 xDrive35i Sport Activity Navigatio...    ga  NaN   NaN   \n",
       "9408  2018 Lexus NX 300 Navigation Sunroof Bluetooth...    nc  NaN   NaN   \n",
       "9650  2013 Jeep Grand Cherokee 4WD 4dr Laredo Automa...    nj  NaN   NaN   \n",
       "9668  2015 Ford F250 4x4 Truck Diesel Pickup Trucks ...    sc  NaN   NaN   \n",
       "9915  Largest sport utility vehicle ever made in the...    oh  NaN   NaN   \n",
       "\n",
       "                  posting_date price_category                       date  \n",
       "118   2021-04-26T04:28:35-0400         medium  2021-04-26 08:28:35+00:00  \n",
       "126   2021-05-01T17:49:09-0400           high  2021-05-01 21:49:09+00:00  \n",
       "502   2021-04-18T04:43:46-0400         medium  2021-04-18 08:43:46+00:00  \n",
       "567   2021-04-19T12:06:28-0400         medium  2021-04-19 16:06:28+00:00  \n",
       "692   2021-04-30T12:09:49-0400         medium  2021-04-30 16:09:49+00:00  \n",
       "...                        ...            ...                        ...  \n",
       "9154  2021-04-26T07:31:40-0400         medium  2021-04-26 11:31:40+00:00  \n",
       "9408  2021-04-24T00:54:33-0400           high  2021-04-24 04:54:33+00:00  \n",
       "9650  2021-05-01T20:53:57-0400         medium  2021-05-02 00:53:57+00:00  \n",
       "9668  2021-04-18T08:43:25-0400           high  2021-04-18 12:43:25+00:00  \n",
       "9915  2021-04-25T21:12:31-0400            low  2021-04-26 01:12:31+00:00  \n",
       "\n",
       "[96 rows x 20 columns]"
      ]
     },
     "execution_count": 42,
     "metadata": {},
     "output_type": "execute_result"
    }
   ],
   "source": [
    "df[df.lat.isna()]"
   ]
  },
  {
   "cell_type": "code",
   "execution_count": 43,
   "metadata": {},
   "outputs": [
    {
     "data": {
      "text/plain": [
       "96"
      ]
     },
     "execution_count": 43,
     "metadata": {},
     "output_type": "execute_result"
    }
   ],
   "source": [
    "(df.lat.isna() | df.long.isna()).sum()"
   ]
  },
  {
   "cell_type": "code",
   "execution_count": 44,
   "metadata": {},
   "outputs": [],
   "source": [
    "df = df[df.lat.notna()]"
   ]
  },
  {
   "cell_type": "code",
   "execution_count": 45,
   "metadata": {},
   "outputs": [
    {
     "name": "stdout",
     "output_type": "stream",
     "text": [
      "Количество пропущенных значений в lat и long: 0\n"
     ]
    }
   ],
   "source": [
    "print('Количество пропущенных значений в lat и long:', df.long.isna().sum())"
   ]
  },
  {
   "cell_type": "code",
   "execution_count": 46,
   "metadata": {},
   "outputs": [
    {
     "name": "stdout",
     "output_type": "stream",
     "text": [
      "Размер выборки: 9868, 20\n"
     ]
    }
   ],
   "source": [
    "print('Размер выборки: {}, {}'.format(df.shape[0], df.shape[1]))"
   ]
  },
  {
   "cell_type": "code",
   "execution_count": 47,
   "metadata": {},
   "outputs": [
    {
     "name": "stdout",
     "output_type": "stream",
     "text": [
      "Процент пропущенных значений:\n"
     ]
    },
    {
     "data": {
      "text/plain": [
       "id                0.0\n",
       "url               0.0\n",
       "price_category    0.0\n",
       "posting_date      0.0\n",
       "long              0.0\n",
       "lat               0.0\n",
       "state             0.0\n",
       "description       0.0\n",
       "image_url         0.0\n",
       "transmission      0.0\n",
       "title_status      0.0\n",
       "odometer          0.0\n",
       "fuel              0.0\n",
       "model             0.0\n",
       "manufacturer      0.0\n",
       "year              0.0\n",
       "price             0.0\n",
       "region_url        0.0\n",
       "region            0.0\n",
       "date              0.0\n",
       "dtype: float64"
      ]
     },
     "execution_count": 47,
     "metadata": {},
     "output_type": "execute_result"
    }
   ],
   "source": [
    "missing_values = ((df.isna().sum()/len(df)) * 100).sort_values(ascending=False)\n",
    "print('Процент пропущенных значений:')\n",
    "missing_values"
   ]
  },
  {
   "cell_type": "code",
   "execution_count": 48,
   "metadata": {},
   "outputs": [],
   "source": [
    "df.to_csv('data/df_oot1.csv', index = False)"
   ]
  },
  {
   "cell_type": "markdown",
   "metadata": {
    "jp-MarkdownHeadingCollapsed": true,
    "tags": []
   },
   "source": [
    "### Data Visualization"
   ]
  },
  {
   "cell_type": "code",
   "execution_count": 2,
   "metadata": {},
   "outputs": [
    {
     "data": {
      "text/plain": [
       "(9868, 20)"
      ]
     },
     "execution_count": 2,
     "metadata": {},
     "output_type": "execute_result"
    }
   ],
   "source": [
    "df_out1 = pd.read_csv('data/df_oot1.csv')\n",
    "df_out1.shape"
   ]
  },
  {
   "cell_type": "code",
   "execution_count": 3,
   "metadata": {},
   "outputs": [
    {
     "data": {
      "text/html": [
       "<div>\n",
       "<style scoped>\n",
       "    .dataframe tbody tr th:only-of-type {\n",
       "        vertical-align: middle;\n",
       "    }\n",
       "\n",
       "    .dataframe tbody tr th {\n",
       "        vertical-align: top;\n",
       "    }\n",
       "\n",
       "    .dataframe thead th {\n",
       "        text-align: right;\n",
       "    }\n",
       "</style>\n",
       "<table border=\"1\" class=\"dataframe\">\n",
       "  <thead>\n",
       "    <tr style=\"text-align: right;\">\n",
       "      <th></th>\n",
       "      <th>id</th>\n",
       "      <th>url</th>\n",
       "      <th>region</th>\n",
       "      <th>region_url</th>\n",
       "      <th>price</th>\n",
       "      <th>year</th>\n",
       "      <th>manufacturer</th>\n",
       "      <th>model</th>\n",
       "      <th>fuel</th>\n",
       "      <th>odometer</th>\n",
       "      <th>title_status</th>\n",
       "      <th>transmission</th>\n",
       "      <th>image_url</th>\n",
       "      <th>description</th>\n",
       "      <th>state</th>\n",
       "      <th>lat</th>\n",
       "      <th>long</th>\n",
       "      <th>posting_date</th>\n",
       "      <th>price_category</th>\n",
       "      <th>date</th>\n",
       "    </tr>\n",
       "  </thead>\n",
       "  <tbody>\n",
       "    <tr>\n",
       "      <th>0</th>\n",
       "      <td>7308295377</td>\n",
       "      <td>https://chattanooga.craigslist.org/ctd/d/chatt...</td>\n",
       "      <td>chattanooga</td>\n",
       "      <td>https://chattanooga.craigslist.org</td>\n",
       "      <td>54990</td>\n",
       "      <td>2020</td>\n",
       "      <td>ram</td>\n",
       "      <td>2500 crew cab big horn</td>\n",
       "      <td>diesel</td>\n",
       "      <td>27442</td>\n",
       "      <td>clean</td>\n",
       "      <td>other</td>\n",
       "      <td>https://images.craigslist.org/00N0N_1xMPvfxRAI...</td>\n",
       "      <td>Carvana is the safer way to buy a car During t...</td>\n",
       "      <td>tn</td>\n",
       "      <td>35.060000</td>\n",
       "      <td>-85.250000</td>\n",
       "      <td>2021-04-17T12:30:50-0400</td>\n",
       "      <td>high</td>\n",
       "      <td>2021-04-17 16:30:50+00:00</td>\n",
       "    </tr>\n",
       "    <tr>\n",
       "      <th>1</th>\n",
       "      <td>7316380095</td>\n",
       "      <td>https://newjersey.craigslist.org/ctd/d/carlsta...</td>\n",
       "      <td>north jersey</td>\n",
       "      <td>https://newjersey.craigslist.org</td>\n",
       "      <td>16942</td>\n",
       "      <td>2016</td>\n",
       "      <td>ford</td>\n",
       "      <td>explorer 4wd 4dr xlt</td>\n",
       "      <td>other</td>\n",
       "      <td>60023</td>\n",
       "      <td>clean</td>\n",
       "      <td>automatic</td>\n",
       "      <td>https://images.craigslist.org/00x0x_26jl9F0cnL...</td>\n",
       "      <td>***Call Us for more information at: 201-635-14...</td>\n",
       "      <td>nj</td>\n",
       "      <td>40.821805</td>\n",
       "      <td>-74.061962</td>\n",
       "      <td>2021-05-03T15:40:21-0400</td>\n",
       "      <td>medium</td>\n",
       "      <td>2021-05-03 19:40:21+00:00</td>\n",
       "    </tr>\n",
       "    <tr>\n",
       "      <th>2</th>\n",
       "      <td>7313733749</td>\n",
       "      <td>https://reno.craigslist.org/ctd/d/atlanta-2017...</td>\n",
       "      <td>reno / tahoe</td>\n",
       "      <td>https://reno.craigslist.org</td>\n",
       "      <td>35590</td>\n",
       "      <td>2017</td>\n",
       "      <td>volkswagen</td>\n",
       "      <td>golf r hatchback</td>\n",
       "      <td>gas</td>\n",
       "      <td>14048</td>\n",
       "      <td>clean</td>\n",
       "      <td>other</td>\n",
       "      <td>https://images.craigslist.org/00y0y_eeZjWeiSfb...</td>\n",
       "      <td>Carvana is the safer way to buy a car During t...</td>\n",
       "      <td>ca</td>\n",
       "      <td>33.779214</td>\n",
       "      <td>-84.411811</td>\n",
       "      <td>2021-04-28T03:52:20-0700</td>\n",
       "      <td>high</td>\n",
       "      <td>2021-04-28 10:52:20+00:00</td>\n",
       "    </tr>\n",
       "    <tr>\n",
       "      <th>3</th>\n",
       "      <td>7308210929</td>\n",
       "      <td>https://fayetteville.craigslist.org/ctd/d/rale...</td>\n",
       "      <td>fayetteville</td>\n",
       "      <td>https://fayetteville.craigslist.org</td>\n",
       "      <td>14500</td>\n",
       "      <td>2013</td>\n",
       "      <td>toyota</td>\n",
       "      <td>rav4</td>\n",
       "      <td>gas</td>\n",
       "      <td>117291</td>\n",
       "      <td>clean</td>\n",
       "      <td>automatic</td>\n",
       "      <td>https://images.craigslist.org/00606_iGe5iXidib...</td>\n",
       "      <td>2013 Toyota RAV4 XLE 4dr SUV     Offered by: R...</td>\n",
       "      <td>nc</td>\n",
       "      <td>35.715954</td>\n",
       "      <td>-78.655304</td>\n",
       "      <td>2021-04-17T10:08:57-0400</td>\n",
       "      <td>medium</td>\n",
       "      <td>2021-04-17 14:08:57+00:00</td>\n",
       "    </tr>\n",
       "    <tr>\n",
       "      <th>4</th>\n",
       "      <td>7316474668</td>\n",
       "      <td>https://newyork.craigslist.org/lgi/cto/d/baldw...</td>\n",
       "      <td>new york city</td>\n",
       "      <td>https://newyork.craigslist.org</td>\n",
       "      <td>21800</td>\n",
       "      <td>2021</td>\n",
       "      <td>nissan</td>\n",
       "      <td>altima</td>\n",
       "      <td>gas</td>\n",
       "      <td>8000</td>\n",
       "      <td>clean</td>\n",
       "      <td>automatic</td>\n",
       "      <td>https://images.craigslist.org/00V0V_3pSOiPZ3Sd...</td>\n",
       "      <td>2021 Nissan Altima Sv with Only 8 K Miles Titl...</td>\n",
       "      <td>ny</td>\n",
       "      <td>40.654800</td>\n",
       "      <td>-73.609700</td>\n",
       "      <td>2021-05-03T18:32:06-0400</td>\n",
       "      <td>medium</td>\n",
       "      <td>2021-05-03 22:32:06+00:00</td>\n",
       "    </tr>\n",
       "  </tbody>\n",
       "</table>\n",
       "</div>"
      ],
      "text/plain": [
       "           id                                                url  \\\n",
       "0  7308295377  https://chattanooga.craigslist.org/ctd/d/chatt...   \n",
       "1  7316380095  https://newjersey.craigslist.org/ctd/d/carlsta...   \n",
       "2  7313733749  https://reno.craigslist.org/ctd/d/atlanta-2017...   \n",
       "3  7308210929  https://fayetteville.craigslist.org/ctd/d/rale...   \n",
       "4  7316474668  https://newyork.craigslist.org/lgi/cto/d/baldw...   \n",
       "\n",
       "          region                           region_url  price  year  \\\n",
       "0    chattanooga   https://chattanooga.craigslist.org  54990  2020   \n",
       "1   north jersey     https://newjersey.craigslist.org  16942  2016   \n",
       "2   reno / tahoe          https://reno.craigslist.org  35590  2017   \n",
       "3   fayetteville  https://fayetteville.craigslist.org  14500  2013   \n",
       "4  new york city       https://newyork.craigslist.org  21800  2021   \n",
       "\n",
       "  manufacturer                   model    fuel  odometer title_status  \\\n",
       "0          ram  2500 crew cab big horn  diesel     27442        clean   \n",
       "1         ford    explorer 4wd 4dr xlt   other     60023        clean   \n",
       "2   volkswagen        golf r hatchback     gas     14048        clean   \n",
       "3       toyota                    rav4     gas    117291        clean   \n",
       "4       nissan                  altima     gas      8000        clean   \n",
       "\n",
       "  transmission                                          image_url  \\\n",
       "0        other  https://images.craigslist.org/00N0N_1xMPvfxRAI...   \n",
       "1    automatic  https://images.craigslist.org/00x0x_26jl9F0cnL...   \n",
       "2        other  https://images.craigslist.org/00y0y_eeZjWeiSfb...   \n",
       "3    automatic  https://images.craigslist.org/00606_iGe5iXidib...   \n",
       "4    automatic  https://images.craigslist.org/00V0V_3pSOiPZ3Sd...   \n",
       "\n",
       "                                         description state        lat  \\\n",
       "0  Carvana is the safer way to buy a car During t...    tn  35.060000   \n",
       "1  ***Call Us for more information at: 201-635-14...    nj  40.821805   \n",
       "2  Carvana is the safer way to buy a car During t...    ca  33.779214   \n",
       "3  2013 Toyota RAV4 XLE 4dr SUV     Offered by: R...    nc  35.715954   \n",
       "4  2021 Nissan Altima Sv with Only 8 K Miles Titl...    ny  40.654800   \n",
       "\n",
       "        long              posting_date price_category  \\\n",
       "0 -85.250000  2021-04-17T12:30:50-0400           high   \n",
       "1 -74.061962  2021-05-03T15:40:21-0400         medium   \n",
       "2 -84.411811  2021-04-28T03:52:20-0700           high   \n",
       "3 -78.655304  2021-04-17T10:08:57-0400         medium   \n",
       "4 -73.609700  2021-05-03T18:32:06-0400         medium   \n",
       "\n",
       "                        date  \n",
       "0  2021-04-17 16:30:50+00:00  \n",
       "1  2021-05-03 19:40:21+00:00  \n",
       "2  2021-04-28 10:52:20+00:00  \n",
       "3  2021-04-17 14:08:57+00:00  \n",
       "4  2021-05-03 22:32:06+00:00  "
      ]
     },
     "execution_count": 3,
     "metadata": {},
     "output_type": "execute_result"
    }
   ],
   "source": [
    "df_v = df_out1.copy()\n",
    "df_v.head()"
   ]
  },
  {
   "cell_type": "markdown",
   "metadata": {
    "jp-MarkdownHeadingCollapsed": true,
    "tags": []
   },
   "source": [
    "#### Anomaly detection"
   ]
  },
  {
   "cell_type": "markdown",
   "metadata": {
    "jp-MarkdownHeadingCollapsed": true,
    "tags": []
   },
   "source": [
    "##### Odometer"
   ]
  },
  {
   "cell_type": "code",
   "execution_count": 4,
   "metadata": {},
   "outputs": [
    {
     "data": {
      "text/plain": [
       "count      9868.000000\n",
       "mean      93647.193048\n",
       "std       63260.139717\n",
       "min           0.000000\n",
       "25%       39252.500000\n",
       "50%       89116.000000\n",
       "75%      137198.250000\n",
       "max      283466.000000\n",
       "Name: odometer, dtype: float64"
      ]
     },
     "execution_count": 4,
     "metadata": {},
     "output_type": "execute_result"
    }
   ],
   "source": [
    "df_v.odometer.describe()"
   ]
  },
  {
   "cell_type": "code",
   "execution_count": 5,
   "metadata": {},
   "outputs": [
    {
     "data": {
      "image/png": "[encoded data removed]",
      "text/plain": [
       "<Figure size 576x360 with 1 Axes>"
      ]
     },
     "metadata": {
      "needs_background": "light"
     },
     "output_type": "display_data"
    }
   ],
   "source": [
    "plt.figure(figsize=(8,5))\n",
    "plt.hist(df_v.odometer, bins=15, color='green')\n",
    "plt.xlabel('Количество пройденных миль')\n",
    "plt.ylabel('Частота')\n",
    "plt.title('Распределение количества пройденных миль');"
   ]
  },
  {
   "cell_type": "markdown",
   "metadata": {},
   "source": [
    "Аномалии не выявлены"
   ]
  },
  {
   "cell_type": "markdown",
   "metadata": {
    "jp-MarkdownHeadingCollapsed": true,
    "tags": []
   },
   "source": [
    "##### Price"
   ]
  },
  {
   "cell_type": "code",
   "execution_count": 6,
   "metadata": {},
   "outputs": [
    {
     "data": {
      "text/plain": [
       "count        9868.000\n",
       "mean        20602.005\n",
       "std        125437.186\n",
       "min           500.000\n",
       "25%          7800.000\n",
       "50%         15590.000\n",
       "75%         27990.000\n",
       "max      12345678.000\n",
       "Name: price, dtype: object"
      ]
     },
     "execution_count": 6,
     "metadata": {},
     "output_type": "execute_result"
    }
   ],
   "source": [
    "df_v.price.describe().apply(lambda x: f'{x:0.3f}')"
   ]
  },
  {
   "cell_type": "code",
   "execution_count": 7,
   "metadata": {},
   "outputs": [
    {
     "data": {
      "image/png": "[encoded data removed]",
      "text/plain": [
       "<Figure size 360x1080 with 1 Axes>"
      ]
     },
     "metadata": {
      "needs_background": "light"
     },
     "output_type": "display_data"
    }
   ],
   "source": [
    "fig, ax = plt.subplots(figsize = (5, 15))\n",
    "ax.boxplot(df_v.price)\n",
    "ax.set_ylabel('Стоимость автомобиля')\n",
    "ax.set_title('\"Ящик с усами\" для стоимости автобомиля')\n",
    "ax.yaxis.set_major_formatter(FormatStrFormatter('%.0f'));"
   ]
  },
  {
   "cell_type": "markdown",
   "metadata": {},
   "source": [
    "В результате построения boxplot ('Ящик с усами') выявлены аномальные значения в стоимости автомобилей. С помощью интерквартильного размаха были выведены границы нормальных значений по стоимости автомобилей, а затем удалены выбросы."
   ]
  },
  {
   "cell_type": "code",
   "execution_count": 8,
   "metadata": {},
   "outputs": [
    {
     "data": {
      "text/plain": [
       "(-22485.0, 58275.0)"
      ]
     },
     "execution_count": 8,
     "metadata": {},
     "output_type": "execute_result"
    }
   ],
   "source": [
    "def calculate_price(data):\n",
    "    q25 = data.quantile(0.25)\n",
    "    q75 = data.quantile(0.75)\n",
    "    iqr = q75 - q25\n",
    "    boundaries = (q25 - 1.5 * iqr, q75 + 1.5 * iqr)\n",
    "    return boundaries\n",
    "\n",
    "boundaries = calculate_price(df_v.price)\n",
    "boundaries"
   ]
  },
  {
   "cell_type": "code",
   "execution_count": 9,
   "metadata": {},
   "outputs": [
    {
     "data": {
      "text/plain": [
       "(207, 20)"
      ]
     },
     "execution_count": 9,
     "metadata": {},
     "output_type": "execute_result"
    }
   ],
   "source": [
    "is_outlier = (df_v.price < boundaries[0]) | (df_v.price > boundaries[1])\n",
    "df_sorted = df_v[is_outlier].sort_values(by='price')\n",
    "df_sorted.shape"
   ]
  },
  {
   "cell_type": "code",
   "execution_count": 10,
   "metadata": {},
   "outputs": [
    {
     "data": {
      "text/plain": [
       "count     9661.000\n",
       "mean     18038.316\n",
       "std      12525.953\n",
       "min        500.000\n",
       "25%       7500.000\n",
       "50%      15000.000\n",
       "75%      26994.000\n",
       "max      57999.000\n",
       "Name: price, dtype: object"
      ]
     },
     "execution_count": 10,
     "metadata": {},
     "output_type": "execute_result"
    }
   ],
   "source": [
    "df_v = df_v.loc[df_v['price'] < df_sorted.price.min()]\n",
    "df_v.price.describe().apply(lambda x: f\"{x:0.3f}\")"
   ]
  },
  {
   "cell_type": "code",
   "execution_count": 11,
   "metadata": {},
   "outputs": [
    {
     "data": {
      "image/png": "[encoded data removed]",
      "text/plain": [
       "<Figure size 576x360 with 1 Axes>"
      ]
     },
     "metadata": {
      "needs_background": "light"
     },
     "output_type": "display_data"
    }
   ],
   "source": [
    "plt.figure(figsize = (8, 5))\n",
    "plt.hist(df_v.price, bins = 20, color = 'indigo')\n",
    "plt.xlabel('Стоимость автомобиля')\n",
    "plt.ylabel('Частота')\n",
    "plt.title('Гистограмма распределения стоимости автомобиля');"
   ]
  },
  {
   "cell_type": "markdown",
   "metadata": {
    "jp-MarkdownHeadingCollapsed": true,
    "tags": []
   },
   "source": [
    "##### Year"
   ]
  },
  {
   "cell_type": "markdown",
   "metadata": {},
   "source": [
    "После изучения статистик по году производства авто, был построен boxplot и рассчитаны нормальные границы для года производства. "
   ]
  },
  {
   "cell_type": "code",
   "execution_count": 59,
   "metadata": {},
   "outputs": [
    {
     "data": {
      "text/plain": [
       "count    9661.000000\n",
       "mean     2010.815754\n",
       "std         9.661979\n",
       "min      1915.000000\n",
       "25%      2008.000000\n",
       "50%      2013.000000\n",
       "75%      2017.000000\n",
       "max      2022.000000\n",
       "Name: year, dtype: float64"
      ]
     },
     "execution_count": 59,
     "metadata": {},
     "output_type": "execute_result"
    }
   ],
   "source": [
    "df_v.year.describe()"
   ]
  },
  {
   "cell_type": "code",
   "execution_count": 60,
   "metadata": {},
   "outputs": [
    {
     "data": {
      "text/plain": [
       "(1994.5, 2030.5)"
      ]
     },
     "execution_count": 60,
     "metadata": {},
     "output_type": "execute_result"
    }
   ],
   "source": [
    "boundaries = calculate_price(df_v.year)\n",
    "boundaries"
   ]
  },
  {
   "cell_type": "code",
   "execution_count": 61,
   "metadata": {},
   "outputs": [
    {
     "data": {
      "image/png": "[encoded data removed]",
      "text/plain": [
       "<Figure size 360x1080 with 1 Axes>"
      ]
     },
     "metadata": {
      "needs_background": "light"
     },
     "output_type": "display_data"
    }
   ],
   "source": [
    "fig, ax = plt.subplots(figsize = (5, 15))\n",
    "ax.boxplot(df_v.year)\n",
    "ax.set_ylabel('Год выпуска')\n",
    "ax.set_title('\"Ящик с усами\" для года выпуска автобомиля')\n",
    "ax.yaxis.set_major_formatter(FormatStrFormatter('%.0f'));"
   ]
  },
  {
   "cell_type": "code",
   "execution_count": 62,
   "metadata": {},
   "outputs": [
    {
     "data": {
      "text/plain": [
       "0       False\n",
       "1       False\n",
       "2       False\n",
       "3       False\n",
       "4       False\n",
       "        ...  \n",
       "9863    False\n",
       "9864    False\n",
       "9865    False\n",
       "9866    False\n",
       "9867    False\n",
       "Name: year, Length: 9661, dtype: bool"
      ]
     },
     "execution_count": 62,
     "metadata": {},
     "output_type": "execute_result"
    }
   ],
   "source": [
    "is_outlier = (df_v.year < boundaries[0]) | (df_v.year > boundaries[1])\n",
    "is_outlier"
   ]
  },
  {
   "cell_type": "code",
   "execution_count": 63,
   "metadata": {},
   "outputs": [
    {
     "data": {
      "text/plain": [
       "0.03995445606044923"
      ]
     },
     "execution_count": 63,
     "metadata": {},
     "output_type": "execute_result"
    }
   ],
   "source": [
    "is_outlier.sum() /len(df_v.year)"
   ]
  },
  {
   "cell_type": "code",
   "execution_count": 64,
   "metadata": {},
   "outputs": [
    {
     "data": {
      "text/plain": [
       "low       181\n",
       "medium    135\n",
       "high       70\n",
       "Name: price_category, dtype: int64"
      ]
     },
     "execution_count": 64,
     "metadata": {},
     "output_type": "execute_result"
    }
   ],
   "source": [
    "df_v[is_outlier].price_category.value_counts()"
   ]
  },
  {
   "cell_type": "code",
   "execution_count": 65,
   "metadata": {},
   "outputs": [],
   "source": [
    "df_v.loc[is_outlier, \"year\"] = int(boundaries[0])"
   ]
  },
  {
   "cell_type": "code",
   "execution_count": 66,
   "metadata": {},
   "outputs": [
    {
     "data": {
      "text/plain": [
       "count    9661.000000\n",
       "mean     2011.557189\n",
       "std         6.508170\n",
       "min      1994.000000\n",
       "25%      2008.000000\n",
       "50%      2013.000000\n",
       "75%      2017.000000\n",
       "max      2022.000000\n",
       "Name: year, dtype: float64"
      ]
     },
     "execution_count": 66,
     "metadata": {},
     "output_type": "execute_result"
    }
   ],
   "source": [
    "df_v.year.describe()"
   ]
  },
  {
   "cell_type": "code",
   "execution_count": 67,
   "metadata": {},
   "outputs": [
    {
     "data": {
      "image/png": "[encoded data removed]",
      "text/plain": [
       "<Figure size 360x1080 with 1 Axes>"
      ]
     },
     "metadata": {
      "needs_background": "light"
     },
     "output_type": "display_data"
    }
   ],
   "source": [
    "fig, ax = plt.subplots(figsize = (5, 15))\n",
    "ax.boxplot(df_v.year)\n",
    "ax.set_ylabel('Год выпуска')\n",
    "ax.set_title('\"Ящик с усами\" для года выпуска автобомиля')\n",
    "ax.yaxis.set_major_formatter(FormatStrFormatter('%.0f'));"
   ]
  },
  {
   "cell_type": "markdown",
   "metadata": {},
   "source": [
    "Поскольку все аномальные значения находятся в зоне ниже минимальных, то обработке подверглись лишь они, а имеено, были заменены на минималные значения года выпуска по интерквартильному размаху. "
   ]
  },
  {
   "cell_type": "code",
   "execution_count": 68,
   "metadata": {},
   "outputs": [],
   "source": [
    "df_v.to_csv('data/df_out2.csv', index = False)"
   ]
  },
  {
   "cell_type": "markdown",
   "metadata": {
    "jp-MarkdownHeadingCollapsed": true,
    "tags": []
   },
   "source": [
    "#### Exploring data dependencies"
   ]
  },
  {
   "cell_type": "code",
   "execution_count": 69,
   "metadata": {},
   "outputs": [
    {
     "data": {
      "text/plain": [
       "(9661, 20)"
      ]
     },
     "execution_count": 69,
     "metadata": {},
     "output_type": "execute_result"
    }
   ],
   "source": [
    "df_out2 = pd.read_csv('data/df_out2.csv')\n",
    "df_out2.shape"
   ]
  },
  {
   "cell_type": "code",
   "execution_count": 70,
   "metadata": {},
   "outputs": [
    {
     "data": {
      "text/html": [
       "<div>\n",
       "<style scoped>\n",
       "    .dataframe tbody tr th:only-of-type {\n",
       "        vertical-align: middle;\n",
       "    }\n",
       "\n",
       "    .dataframe tbody tr th {\n",
       "        vertical-align: top;\n",
       "    }\n",
       "\n",
       "    .dataframe thead th {\n",
       "        text-align: right;\n",
       "    }\n",
       "</style>\n",
       "<table border=\"1\" class=\"dataframe\">\n",
       "  <thead>\n",
       "    <tr style=\"text-align: right;\">\n",
       "      <th></th>\n",
       "      <th>id</th>\n",
       "      <th>url</th>\n",
       "      <th>region</th>\n",
       "      <th>region_url</th>\n",
       "      <th>price</th>\n",
       "      <th>year</th>\n",
       "      <th>manufacturer</th>\n",
       "      <th>model</th>\n",
       "      <th>fuel</th>\n",
       "      <th>odometer</th>\n",
       "      <th>title_status</th>\n",
       "      <th>transmission</th>\n",
       "      <th>image_url</th>\n",
       "      <th>description</th>\n",
       "      <th>state</th>\n",
       "      <th>lat</th>\n",
       "      <th>long</th>\n",
       "      <th>posting_date</th>\n",
       "      <th>price_category</th>\n",
       "      <th>date</th>\n",
       "    </tr>\n",
       "  </thead>\n",
       "  <tbody>\n",
       "    <tr>\n",
       "      <th>0</th>\n",
       "      <td>7308295377</td>\n",
       "      <td>https://chattanooga.craigslist.org/ctd/d/chatt...</td>\n",
       "      <td>chattanooga</td>\n",
       "      <td>https://chattanooga.craigslist.org</td>\n",
       "      <td>54990</td>\n",
       "      <td>2020</td>\n",
       "      <td>ram</td>\n",
       "      <td>2500 crew cab big horn</td>\n",
       "      <td>diesel</td>\n",
       "      <td>27442</td>\n",
       "      <td>clean</td>\n",
       "      <td>other</td>\n",
       "      <td>https://images.craigslist.org/00N0N_1xMPvfxRAI...</td>\n",
       "      <td>Carvana is the safer way to buy a car During t...</td>\n",
       "      <td>tn</td>\n",
       "      <td>35.060000</td>\n",
       "      <td>-85.250000</td>\n",
       "      <td>2021-04-17T12:30:50-0400</td>\n",
       "      <td>high</td>\n",
       "      <td>2021-04-17 16:30:50+00:00</td>\n",
       "    </tr>\n",
       "    <tr>\n",
       "      <th>1</th>\n",
       "      <td>7316380095</td>\n",
       "      <td>https://newjersey.craigslist.org/ctd/d/carlsta...</td>\n",
       "      <td>north jersey</td>\n",
       "      <td>https://newjersey.craigslist.org</td>\n",
       "      <td>16942</td>\n",
       "      <td>2016</td>\n",
       "      <td>ford</td>\n",
       "      <td>explorer 4wd 4dr xlt</td>\n",
       "      <td>other</td>\n",
       "      <td>60023</td>\n",
       "      <td>clean</td>\n",
       "      <td>automatic</td>\n",
       "      <td>https://images.craigslist.org/00x0x_26jl9F0cnL...</td>\n",
       "      <td>***Call Us for more information at: 201-635-14...</td>\n",
       "      <td>nj</td>\n",
       "      <td>40.821805</td>\n",
       "      <td>-74.061962</td>\n",
       "      <td>2021-05-03T15:40:21-0400</td>\n",
       "      <td>medium</td>\n",
       "      <td>2021-05-03 19:40:21+00:00</td>\n",
       "    </tr>\n",
       "    <tr>\n",
       "      <th>2</th>\n",
       "      <td>7313733749</td>\n",
       "      <td>https://reno.craigslist.org/ctd/d/atlanta-2017...</td>\n",
       "      <td>reno / tahoe</td>\n",
       "      <td>https://reno.craigslist.org</td>\n",
       "      <td>35590</td>\n",
       "      <td>2017</td>\n",
       "      <td>volkswagen</td>\n",
       "      <td>golf r hatchback</td>\n",
       "      <td>gas</td>\n",
       "      <td>14048</td>\n",
       "      <td>clean</td>\n",
       "      <td>other</td>\n",
       "      <td>https://images.craigslist.org/00y0y_eeZjWeiSfb...</td>\n",
       "      <td>Carvana is the safer way to buy a car During t...</td>\n",
       "      <td>ca</td>\n",
       "      <td>33.779214</td>\n",
       "      <td>-84.411811</td>\n",
       "      <td>2021-04-28T03:52:20-0700</td>\n",
       "      <td>high</td>\n",
       "      <td>2021-04-28 10:52:20+00:00</td>\n",
       "    </tr>\n",
       "    <tr>\n",
       "      <th>3</th>\n",
       "      <td>7308210929</td>\n",
       "      <td>https://fayetteville.craigslist.org/ctd/d/rale...</td>\n",
       "      <td>fayetteville</td>\n",
       "      <td>https://fayetteville.craigslist.org</td>\n",
       "      <td>14500</td>\n",
       "      <td>2013</td>\n",
       "      <td>toyota</td>\n",
       "      <td>rav4</td>\n",
       "      <td>gas</td>\n",
       "      <td>117291</td>\n",
       "      <td>clean</td>\n",
       "      <td>automatic</td>\n",
       "      <td>https://images.craigslist.org/00606_iGe5iXidib...</td>\n",
       "      <td>2013 Toyota RAV4 XLE 4dr SUV     Offered by: R...</td>\n",
       "      <td>nc</td>\n",
       "      <td>35.715954</td>\n",
       "      <td>-78.655304</td>\n",
       "      <td>2021-04-17T10:08:57-0400</td>\n",
       "      <td>medium</td>\n",
       "      <td>2021-04-17 14:08:57+00:00</td>\n",
       "    </tr>\n",
       "    <tr>\n",
       "      <th>4</th>\n",
       "      <td>7316474668</td>\n",
       "      <td>https://newyork.craigslist.org/lgi/cto/d/baldw...</td>\n",
       "      <td>new york city</td>\n",
       "      <td>https://newyork.craigslist.org</td>\n",
       "      <td>21800</td>\n",
       "      <td>2021</td>\n",
       "      <td>nissan</td>\n",
       "      <td>altima</td>\n",
       "      <td>gas</td>\n",
       "      <td>8000</td>\n",
       "      <td>clean</td>\n",
       "      <td>automatic</td>\n",
       "      <td>https://images.craigslist.org/00V0V_3pSOiPZ3Sd...</td>\n",
       "      <td>2021 Nissan Altima Sv with Only 8 K Miles Titl...</td>\n",
       "      <td>ny</td>\n",
       "      <td>40.654800</td>\n",
       "      <td>-73.609700</td>\n",
       "      <td>2021-05-03T18:32:06-0400</td>\n",
       "      <td>medium</td>\n",
       "      <td>2021-05-03 22:32:06+00:00</td>\n",
       "    </tr>\n",
       "  </tbody>\n",
       "</table>\n",
       "</div>"
      ],
      "text/plain": [
       "           id                                                url  \\\n",
       "0  7308295377  https://chattanooga.craigslist.org/ctd/d/chatt...   \n",
       "1  7316380095  https://newjersey.craigslist.org/ctd/d/carlsta...   \n",
       "2  7313733749  https://reno.craigslist.org/ctd/d/atlanta-2017...   \n",
       "3  7308210929  https://fayetteville.craigslist.org/ctd/d/rale...   \n",
       "4  7316474668  https://newyork.craigslist.org/lgi/cto/d/baldw...   \n",
       "\n",
       "          region                           region_url  price  year  \\\n",
       "0    chattanooga   https://chattanooga.craigslist.org  54990  2020   \n",
       "1   north jersey     https://newjersey.craigslist.org  16942  2016   \n",
       "2   reno / tahoe          https://reno.craigslist.org  35590  2017   \n",
       "3   fayetteville  https://fayetteville.craigslist.org  14500  2013   \n",
       "4  new york city       https://newyork.craigslist.org  21800  2021   \n",
       "\n",
       "  manufacturer                   model    fuel  odometer title_status  \\\n",
       "0          ram  2500 crew cab big horn  diesel     27442        clean   \n",
       "1         ford    explorer 4wd 4dr xlt   other     60023        clean   \n",
       "2   volkswagen        golf r hatchback     gas     14048        clean   \n",
       "3       toyota                    rav4     gas    117291        clean   \n",
       "4       nissan                  altima     gas      8000        clean   \n",
       "\n",
       "  transmission                                          image_url  \\\n",
       "0        other  https://images.craigslist.org/00N0N_1xMPvfxRAI...   \n",
       "1    automatic  https://images.craigslist.org/00x0x_26jl9F0cnL...   \n",
       "2        other  https://images.craigslist.org/00y0y_eeZjWeiSfb...   \n",
       "3    automatic  https://images.craigslist.org/00606_iGe5iXidib...   \n",
       "4    automatic  https://images.craigslist.org/00V0V_3pSOiPZ3Sd...   \n",
       "\n",
       "                                         description state        lat  \\\n",
       "0  Carvana is the safer way to buy a car During t...    tn  35.060000   \n",
       "1  ***Call Us for more information at: 201-635-14...    nj  40.821805   \n",
       "2  Carvana is the safer way to buy a car During t...    ca  33.779214   \n",
       "3  2013 Toyota RAV4 XLE 4dr SUV     Offered by: R...    nc  35.715954   \n",
       "4  2021 Nissan Altima Sv with Only 8 K Miles Titl...    ny  40.654800   \n",
       "\n",
       "        long              posting_date price_category  \\\n",
       "0 -85.250000  2021-04-17T12:30:50-0400           high   \n",
       "1 -74.061962  2021-05-03T15:40:21-0400         medium   \n",
       "2 -84.411811  2021-04-28T03:52:20-0700           high   \n",
       "3 -78.655304  2021-04-17T10:08:57-0400         medium   \n",
       "4 -73.609700  2021-05-03T18:32:06-0400         medium   \n",
       "\n",
       "                        date  \n",
       "0  2021-04-17 16:30:50+00:00  \n",
       "1  2021-05-03 19:40:21+00:00  \n",
       "2  2021-04-28 10:52:20+00:00  \n",
       "3  2021-04-17 14:08:57+00:00  \n",
       "4  2021-05-03 22:32:06+00:00  "
      ]
     },
     "execution_count": 70,
     "metadata": {},
     "output_type": "execute_result"
    }
   ],
   "source": [
    "df_d = df_out2.copy()\n",
    "df_d.head()"
   ]
  },
  {
   "cell_type": "markdown",
   "metadata": {
    "jp-MarkdownHeadingCollapsed": true,
    "tags": []
   },
   "source": [
    "##### Distribution of long and lat"
   ]
  },
  {
   "cell_type": "code",
   "execution_count": 71,
   "metadata": {},
   "outputs": [
    {
     "data": {
      "image/png": "[encoded data removed]",
      "text/plain": [
       "<Figure size 432x288 with 1 Axes>"
      ]
     },
     "metadata": {
      "needs_background": "light"
     },
     "output_type": "display_data"
    }
   ],
   "source": [
    "plt.figure()\n",
    "plt.hist(df_d.lat, bins=100, color='deepskyblue')\n",
    "plt.xlabel('Широта')\n",
    "plt.ylabel('Частота')\n",
    "plt.title('Распределение широты');"
   ]
  },
  {
   "cell_type": "code",
   "execution_count": 72,
   "metadata": {},
   "outputs": [
    {
     "data": {
      "image/png": "[encoded data removed]",
      "text/plain": [
       "<Figure size 432x288 with 1 Axes>"
      ]
     },
     "metadata": {
      "needs_background": "light"
     },
     "output_type": "display_data"
    }
   ],
   "source": [
    "plt.figure()\n",
    "plt.hist(df_d.long, bins=100, color='coral')\n",
    "plt.xlabel('Долгота')\n",
    "plt.ylabel('Частота')\n",
    "plt.title('Распределение долготы');"
   ]
  },
  {
   "cell_type": "markdown",
   "metadata": {
    "jp-MarkdownHeadingCollapsed": true,
    "tags": []
   },
   "source": [
    "##### Depending price from year"
   ]
  },
  {
   "cell_type": "code",
   "execution_count": 73,
   "metadata": {},
   "outputs": [
    {
     "data": {
      "text/html": [
       "<div>\n",
       "<style scoped>\n",
       "    .dataframe tbody tr th:only-of-type {\n",
       "        vertical-align: middle;\n",
       "    }\n",
       "\n",
       "    .dataframe tbody tr th {\n",
       "        vertical-align: top;\n",
       "    }\n",
       "\n",
       "    .dataframe thead th {\n",
       "        text-align: right;\n",
       "    }\n",
       "</style>\n",
       "<table border=\"1\" class=\"dataframe\">\n",
       "  <thead>\n",
       "    <tr style=\"text-align: right;\">\n",
       "      <th></th>\n",
       "      <th>year</th>\n",
       "      <th>mean_price</th>\n",
       "    </tr>\n",
       "  </thead>\n",
       "  <tbody>\n",
       "    <tr>\n",
       "      <th>0</th>\n",
       "      <td>1994</td>\n",
       "      <td>13528.049223</td>\n",
       "    </tr>\n",
       "    <tr>\n",
       "      <th>1</th>\n",
       "      <td>1995</td>\n",
       "      <td>9610.060606</td>\n",
       "    </tr>\n",
       "    <tr>\n",
       "      <th>2</th>\n",
       "      <td>1996</td>\n",
       "      <td>9362.960000</td>\n",
       "    </tr>\n",
       "    <tr>\n",
       "      <th>3</th>\n",
       "      <td>1997</td>\n",
       "      <td>6441.250000</td>\n",
       "    </tr>\n",
       "    <tr>\n",
       "      <th>4</th>\n",
       "      <td>1998</td>\n",
       "      <td>6528.672727</td>\n",
       "    </tr>\n",
       "    <tr>\n",
       "      <th>5</th>\n",
       "      <td>1999</td>\n",
       "      <td>7446.641975</td>\n",
       "    </tr>\n",
       "    <tr>\n",
       "      <th>6</th>\n",
       "      <td>2000</td>\n",
       "      <td>7614.410256</td>\n",
       "    </tr>\n",
       "    <tr>\n",
       "      <th>7</th>\n",
       "      <td>2001</td>\n",
       "      <td>7852.090164</td>\n",
       "    </tr>\n",
       "    <tr>\n",
       "      <th>8</th>\n",
       "      <td>2002</td>\n",
       "      <td>7173.798658</td>\n",
       "    </tr>\n",
       "    <tr>\n",
       "      <th>9</th>\n",
       "      <td>2003</td>\n",
       "      <td>7767.962162</td>\n",
       "    </tr>\n",
       "    <tr>\n",
       "      <th>10</th>\n",
       "      <td>2004</td>\n",
       "      <td>7684.105769</td>\n",
       "    </tr>\n",
       "    <tr>\n",
       "      <th>11</th>\n",
       "      <td>2005</td>\n",
       "      <td>8019.770428</td>\n",
       "    </tr>\n",
       "    <tr>\n",
       "      <th>12</th>\n",
       "      <td>2006</td>\n",
       "      <td>8733.512195</td>\n",
       "    </tr>\n",
       "    <tr>\n",
       "      <th>13</th>\n",
       "      <td>2007</td>\n",
       "      <td>8578.738462</td>\n",
       "    </tr>\n",
       "    <tr>\n",
       "      <th>14</th>\n",
       "      <td>2008</td>\n",
       "      <td>9508.803063</td>\n",
       "    </tr>\n",
       "    <tr>\n",
       "      <th>15</th>\n",
       "      <td>2009</td>\n",
       "      <td>9703.035336</td>\n",
       "    </tr>\n",
       "    <tr>\n",
       "      <th>16</th>\n",
       "      <td>2010</td>\n",
       "      <td>11251.862857</td>\n",
       "    </tr>\n",
       "    <tr>\n",
       "      <th>17</th>\n",
       "      <td>2011</td>\n",
       "      <td>13014.494670</td>\n",
       "    </tr>\n",
       "    <tr>\n",
       "      <th>18</th>\n",
       "      <td>2012</td>\n",
       "      <td>14906.807432</td>\n",
       "    </tr>\n",
       "    <tr>\n",
       "      <th>19</th>\n",
       "      <td>2013</td>\n",
       "      <td>16138.114370</td>\n",
       "    </tr>\n",
       "    <tr>\n",
       "      <th>20</th>\n",
       "      <td>2014</td>\n",
       "      <td>18984.084375</td>\n",
       "    </tr>\n",
       "    <tr>\n",
       "      <th>21</th>\n",
       "      <td>2015</td>\n",
       "      <td>22383.042618</td>\n",
       "    </tr>\n",
       "    <tr>\n",
       "      <th>22</th>\n",
       "      <td>2016</td>\n",
       "      <td>23163.207521</td>\n",
       "    </tr>\n",
       "    <tr>\n",
       "      <th>23</th>\n",
       "      <td>2017</td>\n",
       "      <td>26328.875959</td>\n",
       "    </tr>\n",
       "    <tr>\n",
       "      <th>24</th>\n",
       "      <td>2018</td>\n",
       "      <td>28406.824289</td>\n",
       "    </tr>\n",
       "    <tr>\n",
       "      <th>25</th>\n",
       "      <td>2019</td>\n",
       "      <td>31434.111111</td>\n",
       "    </tr>\n",
       "    <tr>\n",
       "      <th>26</th>\n",
       "      <td>2020</td>\n",
       "      <td>33791.940104</td>\n",
       "    </tr>\n",
       "    <tr>\n",
       "      <th>27</th>\n",
       "      <td>2021</td>\n",
       "      <td>23868.250000</td>\n",
       "    </tr>\n",
       "    <tr>\n",
       "      <th>28</th>\n",
       "      <td>2022</td>\n",
       "      <td>15249.000000</td>\n",
       "    </tr>\n",
       "  </tbody>\n",
       "</table>\n",
       "</div>"
      ],
      "text/plain": [
       "    year    mean_price\n",
       "0   1994  13528.049223\n",
       "1   1995   9610.060606\n",
       "2   1996   9362.960000\n",
       "3   1997   6441.250000\n",
       "4   1998   6528.672727\n",
       "5   1999   7446.641975\n",
       "6   2000   7614.410256\n",
       "7   2001   7852.090164\n",
       "8   2002   7173.798658\n",
       "9   2003   7767.962162\n",
       "10  2004   7684.105769\n",
       "11  2005   8019.770428\n",
       "12  2006   8733.512195\n",
       "13  2007   8578.738462\n",
       "14  2008   9508.803063\n",
       "15  2009   9703.035336\n",
       "16  2010  11251.862857\n",
       "17  2011  13014.494670\n",
       "18  2012  14906.807432\n",
       "19  2013  16138.114370\n",
       "20  2014  18984.084375\n",
       "21  2015  22383.042618\n",
       "22  2016  23163.207521\n",
       "23  2017  26328.875959\n",
       "24  2018  28406.824289\n",
       "25  2019  31434.111111\n",
       "26  2020  33791.940104\n",
       "27  2021  23868.250000\n",
       "28  2022  15249.000000"
      ]
     },
     "execution_count": 73,
     "metadata": {},
     "output_type": "execute_result"
    }
   ],
   "source": [
    "df_year_price = df_d.groupby('year', as_index = False)[['price']].mean()\n",
    "df_year_price = df_year_price.rename(columns = {'price':'mean_price'})\n",
    "df_year_price"
   ]
  },
  {
   "cell_type": "code",
   "execution_count": 74,
   "metadata": {},
   "outputs": [
    {
     "data": {
      "image/png": "[encoded data removed]",
      "text/plain": [
       "<Figure size 432x288 with 1 Axes>"
      ]
     },
     "metadata": {
      "needs_background": "light"
     },
     "output_type": "display_data"
    }
   ],
   "source": [
    "plt.figure()\n",
    "plt.scatter(df_year_price['mean_price'], df_year_price['year'])\n",
    "plt.title('Зависимость стоимости от года выпуска автомобиля')\n",
    "plt.xlabel('Пробег')\n",
    "plt.ylabel('Год выпуска')\n",
    "plt.show()"
   ]
  },
  {
   "cell_type": "code",
   "execution_count": 75,
   "metadata": {},
   "outputs": [
    {
     "data": {
      "text/html": [
       "<div>\n",
       "<style scoped>\n",
       "    .dataframe tbody tr th:only-of-type {\n",
       "        vertical-align: middle;\n",
       "    }\n",
       "\n",
       "    .dataframe tbody tr th {\n",
       "        vertical-align: top;\n",
       "    }\n",
       "\n",
       "    .dataframe thead th {\n",
       "        text-align: right;\n",
       "    }\n",
       "</style>\n",
       "<table border=\"1\" class=\"dataframe\">\n",
       "  <thead>\n",
       "    <tr style=\"text-align: right;\">\n",
       "      <th></th>\n",
       "      <th>count_avto</th>\n",
       "    </tr>\n",
       "    <tr>\n",
       "      <th>year</th>\n",
       "      <th></th>\n",
       "    </tr>\n",
       "  </thead>\n",
       "  <tbody>\n",
       "    <tr>\n",
       "      <th>1994</th>\n",
       "      <td>386</td>\n",
       "    </tr>\n",
       "    <tr>\n",
       "      <th>1995</th>\n",
       "      <td>33</td>\n",
       "    </tr>\n",
       "    <tr>\n",
       "      <th>1996</th>\n",
       "      <td>25</td>\n",
       "    </tr>\n",
       "    <tr>\n",
       "      <th>1997</th>\n",
       "      <td>44</td>\n",
       "    </tr>\n",
       "    <tr>\n",
       "      <th>1998</th>\n",
       "      <td>55</td>\n",
       "    </tr>\n",
       "    <tr>\n",
       "      <th>1999</th>\n",
       "      <td>81</td>\n",
       "    </tr>\n",
       "    <tr>\n",
       "      <th>2000</th>\n",
       "      <td>78</td>\n",
       "    </tr>\n",
       "    <tr>\n",
       "      <th>2001</th>\n",
       "      <td>122</td>\n",
       "    </tr>\n",
       "    <tr>\n",
       "      <th>2002</th>\n",
       "      <td>149</td>\n",
       "    </tr>\n",
       "    <tr>\n",
       "      <th>2003</th>\n",
       "      <td>185</td>\n",
       "    </tr>\n",
       "    <tr>\n",
       "      <th>2004</th>\n",
       "      <td>208</td>\n",
       "    </tr>\n",
       "    <tr>\n",
       "      <th>2005</th>\n",
       "      <td>257</td>\n",
       "    </tr>\n",
       "    <tr>\n",
       "      <th>2006</th>\n",
       "      <td>287</td>\n",
       "    </tr>\n",
       "    <tr>\n",
       "      <th>2007</th>\n",
       "      <td>390</td>\n",
       "    </tr>\n",
       "    <tr>\n",
       "      <th>2008</th>\n",
       "      <td>457</td>\n",
       "    </tr>\n",
       "    <tr>\n",
       "      <th>2009</th>\n",
       "      <td>283</td>\n",
       "    </tr>\n",
       "    <tr>\n",
       "      <th>2010</th>\n",
       "      <td>350</td>\n",
       "    </tr>\n",
       "    <tr>\n",
       "      <th>2011</th>\n",
       "      <td>469</td>\n",
       "    </tr>\n",
       "    <tr>\n",
       "      <th>2012</th>\n",
       "      <td>592</td>\n",
       "    </tr>\n",
       "    <tr>\n",
       "      <th>2013</th>\n",
       "      <td>682</td>\n",
       "    </tr>\n",
       "    <tr>\n",
       "      <th>2014</th>\n",
       "      <td>640</td>\n",
       "    </tr>\n",
       "    <tr>\n",
       "      <th>2015</th>\n",
       "      <td>657</td>\n",
       "    </tr>\n",
       "    <tr>\n",
       "      <th>2016</th>\n",
       "      <td>718</td>\n",
       "    </tr>\n",
       "    <tr>\n",
       "      <th>2017</th>\n",
       "      <td>782</td>\n",
       "    </tr>\n",
       "    <tr>\n",
       "      <th>2018</th>\n",
       "      <td>774</td>\n",
       "    </tr>\n",
       "    <tr>\n",
       "      <th>2019</th>\n",
       "      <td>531</td>\n",
       "    </tr>\n",
       "    <tr>\n",
       "      <th>2020</th>\n",
       "      <td>384</td>\n",
       "    </tr>\n",
       "    <tr>\n",
       "      <th>2021</th>\n",
       "      <td>40</td>\n",
       "    </tr>\n",
       "    <tr>\n",
       "      <th>2022</th>\n",
       "      <td>2</td>\n",
       "    </tr>\n",
       "  </tbody>\n",
       "</table>\n",
       "</div>"
      ],
      "text/plain": [
       "      count_avto\n",
       "year            \n",
       "1994         386\n",
       "1995          33\n",
       "1996          25\n",
       "1997          44\n",
       "1998          55\n",
       "1999          81\n",
       "2000          78\n",
       "2001         122\n",
       "2002         149\n",
       "2003         185\n",
       "2004         208\n",
       "2005         257\n",
       "2006         287\n",
       "2007         390\n",
       "2008         457\n",
       "2009         283\n",
       "2010         350\n",
       "2011         469\n",
       "2012         592\n",
       "2013         682\n",
       "2014         640\n",
       "2015         657\n",
       "2016         718\n",
       "2017         782\n",
       "2018         774\n",
       "2019         531\n",
       "2020         384\n",
       "2021          40\n",
       "2022           2"
      ]
     },
     "execution_count": 75,
     "metadata": {},
     "output_type": "execute_result"
    }
   ],
   "source": [
    "stats = df_d.groupby(['year']).agg({'id':'count'})\n",
    "stats = stats.rename(columns = {'id':'count_avto'})\n",
    "stats"
   ]
  },
  {
   "cell_type": "code",
   "execution_count": 76,
   "metadata": {},
   "outputs": [
    {
     "data": {
      "text/plain": [
       "(9619, 20)"
      ]
     },
     "execution_count": 76,
     "metadata": {},
     "output_type": "execute_result"
    }
   ],
   "source": [
    "df_filtr = df_d.loc[df_d['year'] < 2021] \n",
    "df_filtr.shape"
   ]
  },
  {
   "cell_type": "code",
   "execution_count": 77,
   "metadata": {},
   "outputs": [
    {
     "data": {
      "text/html": [
       "<div>\n",
       "<style scoped>\n",
       "    .dataframe tbody tr th:only-of-type {\n",
       "        vertical-align: middle;\n",
       "    }\n",
       "\n",
       "    .dataframe tbody tr th {\n",
       "        vertical-align: top;\n",
       "    }\n",
       "\n",
       "    .dataframe thead th {\n",
       "        text-align: right;\n",
       "    }\n",
       "</style>\n",
       "<table border=\"1\" class=\"dataframe\">\n",
       "  <thead>\n",
       "    <tr style=\"text-align: right;\">\n",
       "      <th></th>\n",
       "      <th>year</th>\n",
       "      <th>mean_price</th>\n",
       "    </tr>\n",
       "  </thead>\n",
       "  <tbody>\n",
       "    <tr>\n",
       "      <th>0</th>\n",
       "      <td>1994</td>\n",
       "      <td>13528.049223</td>\n",
       "    </tr>\n",
       "    <tr>\n",
       "      <th>1</th>\n",
       "      <td>1995</td>\n",
       "      <td>9610.060606</td>\n",
       "    </tr>\n",
       "    <tr>\n",
       "      <th>2</th>\n",
       "      <td>1996</td>\n",
       "      <td>9362.960000</td>\n",
       "    </tr>\n",
       "    <tr>\n",
       "      <th>3</th>\n",
       "      <td>1997</td>\n",
       "      <td>6441.250000</td>\n",
       "    </tr>\n",
       "    <tr>\n",
       "      <th>4</th>\n",
       "      <td>1998</td>\n",
       "      <td>6528.672727</td>\n",
       "    </tr>\n",
       "    <tr>\n",
       "      <th>5</th>\n",
       "      <td>1999</td>\n",
       "      <td>7446.641975</td>\n",
       "    </tr>\n",
       "    <tr>\n",
       "      <th>6</th>\n",
       "      <td>2000</td>\n",
       "      <td>7614.410256</td>\n",
       "    </tr>\n",
       "    <tr>\n",
       "      <th>7</th>\n",
       "      <td>2001</td>\n",
       "      <td>7852.090164</td>\n",
       "    </tr>\n",
       "    <tr>\n",
       "      <th>8</th>\n",
       "      <td>2002</td>\n",
       "      <td>7173.798658</td>\n",
       "    </tr>\n",
       "    <tr>\n",
       "      <th>9</th>\n",
       "      <td>2003</td>\n",
       "      <td>7767.962162</td>\n",
       "    </tr>\n",
       "    <tr>\n",
       "      <th>10</th>\n",
       "      <td>2004</td>\n",
       "      <td>7684.105769</td>\n",
       "    </tr>\n",
       "    <tr>\n",
       "      <th>11</th>\n",
       "      <td>2005</td>\n",
       "      <td>8019.770428</td>\n",
       "    </tr>\n",
       "    <tr>\n",
       "      <th>12</th>\n",
       "      <td>2006</td>\n",
       "      <td>8733.512195</td>\n",
       "    </tr>\n",
       "    <tr>\n",
       "      <th>13</th>\n",
       "      <td>2007</td>\n",
       "      <td>8578.738462</td>\n",
       "    </tr>\n",
       "    <tr>\n",
       "      <th>14</th>\n",
       "      <td>2008</td>\n",
       "      <td>9508.803063</td>\n",
       "    </tr>\n",
       "    <tr>\n",
       "      <th>15</th>\n",
       "      <td>2009</td>\n",
       "      <td>9703.035336</td>\n",
       "    </tr>\n",
       "    <tr>\n",
       "      <th>16</th>\n",
       "      <td>2010</td>\n",
       "      <td>11251.862857</td>\n",
       "    </tr>\n",
       "    <tr>\n",
       "      <th>17</th>\n",
       "      <td>2011</td>\n",
       "      <td>13014.494670</td>\n",
       "    </tr>\n",
       "    <tr>\n",
       "      <th>18</th>\n",
       "      <td>2012</td>\n",
       "      <td>14906.807432</td>\n",
       "    </tr>\n",
       "    <tr>\n",
       "      <th>19</th>\n",
       "      <td>2013</td>\n",
       "      <td>16138.114370</td>\n",
       "    </tr>\n",
       "    <tr>\n",
       "      <th>20</th>\n",
       "      <td>2014</td>\n",
       "      <td>18984.084375</td>\n",
       "    </tr>\n",
       "    <tr>\n",
       "      <th>21</th>\n",
       "      <td>2015</td>\n",
       "      <td>22383.042618</td>\n",
       "    </tr>\n",
       "    <tr>\n",
       "      <th>22</th>\n",
       "      <td>2016</td>\n",
       "      <td>23163.207521</td>\n",
       "    </tr>\n",
       "    <tr>\n",
       "      <th>23</th>\n",
       "      <td>2017</td>\n",
       "      <td>26328.875959</td>\n",
       "    </tr>\n",
       "    <tr>\n",
       "      <th>24</th>\n",
       "      <td>2018</td>\n",
       "      <td>28406.824289</td>\n",
       "    </tr>\n",
       "    <tr>\n",
       "      <th>25</th>\n",
       "      <td>2019</td>\n",
       "      <td>31434.111111</td>\n",
       "    </tr>\n",
       "    <tr>\n",
       "      <th>26</th>\n",
       "      <td>2020</td>\n",
       "      <td>33791.940104</td>\n",
       "    </tr>\n",
       "  </tbody>\n",
       "</table>\n",
       "</div>"
      ],
      "text/plain": [
       "    year    mean_price\n",
       "0   1994  13528.049223\n",
       "1   1995   9610.060606\n",
       "2   1996   9362.960000\n",
       "3   1997   6441.250000\n",
       "4   1998   6528.672727\n",
       "5   1999   7446.641975\n",
       "6   2000   7614.410256\n",
       "7   2001   7852.090164\n",
       "8   2002   7173.798658\n",
       "9   2003   7767.962162\n",
       "10  2004   7684.105769\n",
       "11  2005   8019.770428\n",
       "12  2006   8733.512195\n",
       "13  2007   8578.738462\n",
       "14  2008   9508.803063\n",
       "15  2009   9703.035336\n",
       "16  2010  11251.862857\n",
       "17  2011  13014.494670\n",
       "18  2012  14906.807432\n",
       "19  2013  16138.114370\n",
       "20  2014  18984.084375\n",
       "21  2015  22383.042618\n",
       "22  2016  23163.207521\n",
       "23  2017  26328.875959\n",
       "24  2018  28406.824289\n",
       "25  2019  31434.111111\n",
       "26  2020  33791.940104"
      ]
     },
     "execution_count": 77,
     "metadata": {},
     "output_type": "execute_result"
    }
   ],
   "source": [
    "df_year_price_f = df_filtr.groupby('year', as_index = False)[['price']].mean()\n",
    "df_year_price_f = df_year_price_f.rename(columns = {'price':'mean_price'})\n",
    "df_year_price_f"
   ]
  },
  {
   "cell_type": "code",
   "execution_count": 78,
   "metadata": {},
   "outputs": [
    {
     "data": {
      "image/png": "[encoded data removed]",
      "text/plain": [
       "<Figure size 432x288 with 1 Axes>"
      ]
     },
     "metadata": {
      "needs_background": "light"
     },
     "output_type": "display_data"
    }
   ],
   "source": [
    "plt.figure()\n",
    "plt.plot(df_year_price_f['mean_price'], df_year_price_f['year'], color = 'blue', marker = 'D', markerfacecolor = 'orange')\n",
    "plt.xlabel('Средняя стоимость')\n",
    "plt.ylabel('Год выпуска')\n",
    "plt.title('Зависимость стоимости от года выпуска автомобиля')\n",
    "plt.show()"
   ]
  },
  {
   "cell_type": "code",
   "execution_count": 79,
   "metadata": {},
   "outputs": [
    {
     "name": "stdout",
     "output_type": "stream",
     "text": [
      "Коэффициент корреляции Пирсона для стоимости автомобиля и года его производства: 0.8237461165731319\n",
      "Что соответствует очень высокой положительной связи.\n"
     ]
    }
   ],
   "source": [
    "print('Коэффициент корреляции Пирсона для стоимости автомобиля и года его производства:', df_year_price_f['year'].corr(df_year_price_f['mean_price']))\n",
    "print('Что соответствует очень высокой положительной связи.')"
   ]
  },
  {
   "cell_type": "code",
   "execution_count": 80,
   "metadata": {},
   "outputs": [
    {
     "data": {
      "image/png": "[encoded data removed]",
      "text/plain": [
       "<Figure size 576x360 with 1 Axes>"
      ]
     },
     "metadata": {
      "needs_background": "light"
     },
     "output_type": "display_data"
    }
   ],
   "source": [
    "plt.figure(figsize = (8, 5))\n",
    "plt.hist(df_d.price, bins = 20, color = 'indigo')\n",
    "plt.xlabel('Стоимость автомобиля')\n",
    "plt.ylabel('Частота')\n",
    "plt.title('Гистограмма распределения стоимости автомобиля');"
   ]
  },
  {
   "cell_type": "markdown",
   "metadata": {
    "jp-MarkdownHeadingCollapsed": true,
    "tags": []
   },
   "source": [
    "##### Price category research"
   ]
  },
  {
   "cell_type": "code",
   "execution_count": 81,
   "metadata": {},
   "outputs": [
    {
     "data": {
      "image/png": "[encoded data removed]",
      "text/plain": [
       "<Figure size 864x576 with 1 Axes>"
      ]
     },
     "metadata": {
      "needs_background": "light"
     },
     "output_type": "display_data"
    }
   ],
   "source": [
    "colors = {'low':'green', 'medium':'orange', 'high':'red'}\n",
    "fig, ax = plt.subplots(figsize = (12, 8))\n",
    "for price_category in colors:\n",
    "    color = colors[price_category]\n",
    "    data = df_d[df_d['price_category'] == price_category]\n",
    "    ax.hist(data['price'], color = color, alpha = 0.7)\n",
    "\n",
    "plt.xlabel('Стоимость автомобиля')\n",
    "plt.ylabel('Количество')\n",
    "plt.title('График зависимости ценовой категории автомобиля от стоимости')\n",
    "plt.legend(colors, title = 'Ценовая категория');"
   ]
  },
  {
   "cell_type": "code",
   "execution_count": 82,
   "metadata": {},
   "outputs": [
    {
     "data": {
      "image/png": "[encoded data removed]",
      "text/plain": [
       "<Figure size 864x576 with 1 Axes>"
      ]
     },
     "metadata": {
      "needs_background": "light"
     },
     "output_type": "display_data"
    }
   ],
   "source": [
    "colors = {'low': 'green', 'medium': 'orange', 'high': 'red'}\n",
    "\n",
    "fig, ax = plt.subplots(figsize=(12, 8))\n",
    "for price_category in colors:\n",
    "    color = colors[price_category]\n",
    "    data = df_d[df_d['price_category'] == price_category]\n",
    "\n",
    "    ax.scatter(data['price'], data['year'], c=color, label=price_category)\n",
    "\n",
    "ax.legend(loc = 'lower right', title = 'Ценовая категория')\n",
    "\n",
    "plt.xlabel('Стоимость')\n",
    "plt.ylabel('Год выпуска')\n",
    "plt.title('Зависимость стоимости от года выпуска автомобиля')\n",
    "\n",
    "plt.show()"
   ]
  },
  {
   "cell_type": "code",
   "execution_count": 83,
   "metadata": {},
   "outputs": [
    {
     "data": {
      "image/png": "[encoded data removed]",
      "text/plain": [
       "<Figure size 864x576 with 1 Axes>"
      ]
     },
     "metadata": {
      "needs_background": "light"
     },
     "output_type": "display_data"
    }
   ],
   "source": [
    "colors = {'low': 'green', 'medium': 'orange', 'high': 'red'}\n",
    "\n",
    "fig, ax = plt.subplots(figsize=(12, 8))\n",
    "for price_category in colors:\n",
    "    color = colors[price_category]\n",
    "    data = df_d[df_d['price_category'] == price_category]\n",
    "\n",
    "    ax.hist(data['odometer'], bins=20, color=color, alpha=0.6)\n",
    "    \n",
    "plt.ylabel('Количество')\n",
    "plt.xlabel('Пробег автомобиля')\n",
    "plt.title('Количество пройденных миль в зависимости от ценовой категории автомобиля')\n",
    "plt.legend(colors, title=\"Ценовая категория\");"
   ]
  },
  {
   "cell_type": "code",
   "execution_count": 84,
   "metadata": {},
   "outputs": [
    {
     "data": {
      "image/png": "[encoded data removed]",
      "text/plain": [
       "<Figure size 864x576 with 1 Axes>"
      ]
     },
     "metadata": {
      "needs_background": "light"
     },
     "output_type": "display_data"
    }
   ],
   "source": [
    "colors = {'low': 'green', 'medium': 'orange', 'high': 'red'}\n",
    "\n",
    "fig, ax = plt.subplots(figsize=(12, 8))\n",
    "for price_category in colors:\n",
    "    color = colors[price_category]\n",
    "    data = df_d[df_d['price_category'] == price_category]\n",
    "\n",
    "    ax.scatter(data['odometer'], data['year'], c=color, label=price_category)\n",
    "\n",
    "ax.legend(loc='upper right', title=\"Ценовая категория\")\n",
    "plt.title(\"Зависимость пробега от года выпуска автомобиля\")\n",
    "plt.xlabel('Пробег')\n",
    "plt.ylabel('Год выпуска')\n",
    "plt.show()"
   ]
  },
  {
   "cell_type": "markdown",
   "metadata": {
    "jp-MarkdownHeadingCollapsed": true,
    "tags": []
   },
   "source": [
    "## FEATURE ENGINEERING"
   ]
  },
  {
   "cell_type": "code",
   "execution_count": 129,
   "metadata": {},
   "outputs": [
    {
     "data": {
      "text/html": [
       "<div>\n",
       "<style scoped>\n",
       "    .dataframe tbody tr th:only-of-type {\n",
       "        vertical-align: middle;\n",
       "    }\n",
       "\n",
       "    .dataframe tbody tr th {\n",
       "        vertical-align: top;\n",
       "    }\n",
       "\n",
       "    .dataframe thead th {\n",
       "        text-align: right;\n",
       "    }\n",
       "</style>\n",
       "<table border=\"1\" class=\"dataframe\">\n",
       "  <thead>\n",
       "    <tr style=\"text-align: right;\">\n",
       "      <th></th>\n",
       "      <th>id</th>\n",
       "      <th>url</th>\n",
       "      <th>region</th>\n",
       "      <th>region_url</th>\n",
       "      <th>price</th>\n",
       "      <th>year</th>\n",
       "      <th>manufacturer</th>\n",
       "      <th>model</th>\n",
       "      <th>fuel</th>\n",
       "      <th>odometer</th>\n",
       "      <th>title_status</th>\n",
       "      <th>transmission</th>\n",
       "      <th>image_url</th>\n",
       "      <th>description</th>\n",
       "      <th>state</th>\n",
       "      <th>lat</th>\n",
       "      <th>long</th>\n",
       "      <th>posting_date</th>\n",
       "      <th>price_category</th>\n",
       "      <th>date</th>\n",
       "    </tr>\n",
       "  </thead>\n",
       "  <tbody>\n",
       "    <tr>\n",
       "      <th>0</th>\n",
       "      <td>7308295377</td>\n",
       "      <td>https://chattanooga.craigslist.org/ctd/d/chatt...</td>\n",
       "      <td>chattanooga</td>\n",
       "      <td>https://chattanooga.craigslist.org</td>\n",
       "      <td>54990</td>\n",
       "      <td>2020</td>\n",
       "      <td>ram</td>\n",
       "      <td>2500 crew cab big horn</td>\n",
       "      <td>diesel</td>\n",
       "      <td>27442</td>\n",
       "      <td>clean</td>\n",
       "      <td>other</td>\n",
       "      <td>https://images.craigslist.org/00N0N_1xMPvfxRAI...</td>\n",
       "      <td>Carvana is the safer way to buy a car During t...</td>\n",
       "      <td>tn</td>\n",
       "      <td>35.060000</td>\n",
       "      <td>-85.250000</td>\n",
       "      <td>2021-04-17T12:30:50-0400</td>\n",
       "      <td>high</td>\n",
       "      <td>2021-04-17 16:30:50+00:00</td>\n",
       "    </tr>\n",
       "    <tr>\n",
       "      <th>1</th>\n",
       "      <td>7316380095</td>\n",
       "      <td>https://newjersey.craigslist.org/ctd/d/carlsta...</td>\n",
       "      <td>north jersey</td>\n",
       "      <td>https://newjersey.craigslist.org</td>\n",
       "      <td>16942</td>\n",
       "      <td>2016</td>\n",
       "      <td>ford</td>\n",
       "      <td>explorer 4wd 4dr xlt</td>\n",
       "      <td>other</td>\n",
       "      <td>60023</td>\n",
       "      <td>clean</td>\n",
       "      <td>automatic</td>\n",
       "      <td>https://images.craigslist.org/00x0x_26jl9F0cnL...</td>\n",
       "      <td>***Call Us for more information at: 201-635-14...</td>\n",
       "      <td>nj</td>\n",
       "      <td>40.821805</td>\n",
       "      <td>-74.061962</td>\n",
       "      <td>2021-05-03T15:40:21-0400</td>\n",
       "      <td>medium</td>\n",
       "      <td>2021-05-03 19:40:21+00:00</td>\n",
       "    </tr>\n",
       "    <tr>\n",
       "      <th>2</th>\n",
       "      <td>7313733749</td>\n",
       "      <td>https://reno.craigslist.org/ctd/d/atlanta-2017...</td>\n",
       "      <td>reno / tahoe</td>\n",
       "      <td>https://reno.craigslist.org</td>\n",
       "      <td>35590</td>\n",
       "      <td>2017</td>\n",
       "      <td>volkswagen</td>\n",
       "      <td>golf r hatchback</td>\n",
       "      <td>gas</td>\n",
       "      <td>14048</td>\n",
       "      <td>clean</td>\n",
       "      <td>other</td>\n",
       "      <td>https://images.craigslist.org/00y0y_eeZjWeiSfb...</td>\n",
       "      <td>Carvana is the safer way to buy a car During t...</td>\n",
       "      <td>ca</td>\n",
       "      <td>33.779214</td>\n",
       "      <td>-84.411811</td>\n",
       "      <td>2021-04-28T03:52:20-0700</td>\n",
       "      <td>high</td>\n",
       "      <td>2021-04-28 10:52:20+00:00</td>\n",
       "    </tr>\n",
       "    <tr>\n",
       "      <th>3</th>\n",
       "      <td>7308210929</td>\n",
       "      <td>https://fayetteville.craigslist.org/ctd/d/rale...</td>\n",
       "      <td>fayetteville</td>\n",
       "      <td>https://fayetteville.craigslist.org</td>\n",
       "      <td>14500</td>\n",
       "      <td>2013</td>\n",
       "      <td>toyota</td>\n",
       "      <td>rav4</td>\n",
       "      <td>gas</td>\n",
       "      <td>117291</td>\n",
       "      <td>clean</td>\n",
       "      <td>automatic</td>\n",
       "      <td>https://images.craigslist.org/00606_iGe5iXidib...</td>\n",
       "      <td>2013 Toyota RAV4 XLE 4dr SUV     Offered by: R...</td>\n",
       "      <td>nc</td>\n",
       "      <td>35.715954</td>\n",
       "      <td>-78.655304</td>\n",
       "      <td>2021-04-17T10:08:57-0400</td>\n",
       "      <td>medium</td>\n",
       "      <td>2021-04-17 14:08:57+00:00</td>\n",
       "    </tr>\n",
       "    <tr>\n",
       "      <th>4</th>\n",
       "      <td>7316474668</td>\n",
       "      <td>https://newyork.craigslist.org/lgi/cto/d/baldw...</td>\n",
       "      <td>new york city</td>\n",
       "      <td>https://newyork.craigslist.org</td>\n",
       "      <td>21800</td>\n",
       "      <td>2021</td>\n",
       "      <td>nissan</td>\n",
       "      <td>altima</td>\n",
       "      <td>gas</td>\n",
       "      <td>8000</td>\n",
       "      <td>clean</td>\n",
       "      <td>automatic</td>\n",
       "      <td>https://images.craigslist.org/00V0V_3pSOiPZ3Sd...</td>\n",
       "      <td>2021 Nissan Altima Sv with Only 8 K Miles Titl...</td>\n",
       "      <td>ny</td>\n",
       "      <td>40.654800</td>\n",
       "      <td>-73.609700</td>\n",
       "      <td>2021-05-03T18:32:06-0400</td>\n",
       "      <td>medium</td>\n",
       "      <td>2021-05-03 22:32:06+00:00</td>\n",
       "    </tr>\n",
       "  </tbody>\n",
       "</table>\n",
       "</div>"
      ],
      "text/plain": [
       "           id                                                url  \\\n",
       "0  7308295377  https://chattanooga.craigslist.org/ctd/d/chatt...   \n",
       "1  7316380095  https://newjersey.craigslist.org/ctd/d/carlsta...   \n",
       "2  7313733749  https://reno.craigslist.org/ctd/d/atlanta-2017...   \n",
       "3  7308210929  https://fayetteville.craigslist.org/ctd/d/rale...   \n",
       "4  7316474668  https://newyork.craigslist.org/lgi/cto/d/baldw...   \n",
       "\n",
       "          region                           region_url  price  year  \\\n",
       "0    chattanooga   https://chattanooga.craigslist.org  54990  2020   \n",
       "1   north jersey     https://newjersey.craigslist.org  16942  2016   \n",
       "2   reno / tahoe          https://reno.craigslist.org  35590  2017   \n",
       "3   fayetteville  https://fayetteville.craigslist.org  14500  2013   \n",
       "4  new york city       https://newyork.craigslist.org  21800  2021   \n",
       "\n",
       "  manufacturer                   model    fuel  odometer title_status  \\\n",
       "0          ram  2500 crew cab big horn  diesel     27442        clean   \n",
       "1         ford    explorer 4wd 4dr xlt   other     60023        clean   \n",
       "2   volkswagen        golf r hatchback     gas     14048        clean   \n",
       "3       toyota                    rav4     gas    117291        clean   \n",
       "4       nissan                  altima     gas      8000        clean   \n",
       "\n",
       "  transmission                                          image_url  \\\n",
       "0        other  https://images.craigslist.org/00N0N_1xMPvfxRAI...   \n",
       "1    automatic  https://images.craigslist.org/00x0x_26jl9F0cnL...   \n",
       "2        other  https://images.craigslist.org/00y0y_eeZjWeiSfb...   \n",
       "3    automatic  https://images.craigslist.org/00606_iGe5iXidib...   \n",
       "4    automatic  https://images.craigslist.org/00V0V_3pSOiPZ3Sd...   \n",
       "\n",
       "                                         description state        lat  \\\n",
       "0  Carvana is the safer way to buy a car During t...    tn  35.060000   \n",
       "1  ***Call Us for more information at: 201-635-14...    nj  40.821805   \n",
       "2  Carvana is the safer way to buy a car During t...    ca  33.779214   \n",
       "3  2013 Toyota RAV4 XLE 4dr SUV     Offered by: R...    nc  35.715954   \n",
       "4  2021 Nissan Altima Sv with Only 8 K Miles Titl...    ny  40.654800   \n",
       "\n",
       "        long              posting_date price_category  \\\n",
       "0 -85.250000  2021-04-17T12:30:50-0400           high   \n",
       "1 -74.061962  2021-05-03T15:40:21-0400         medium   \n",
       "2 -84.411811  2021-04-28T03:52:20-0700           high   \n",
       "3 -78.655304  2021-04-17T10:08:57-0400         medium   \n",
       "4 -73.609700  2021-05-03T18:32:06-0400         medium   \n",
       "\n",
       "                        date  \n",
       "0  2021-04-17 16:30:50+00:00  \n",
       "1  2021-05-03 19:40:21+00:00  \n",
       "2  2021-04-28 10:52:20+00:00  \n",
       "3  2021-04-17 14:08:57+00:00  \n",
       "4  2021-05-03 22:32:06+00:00  "
      ]
     },
     "execution_count": 129,
     "metadata": {},
     "output_type": "execute_result"
    }
   ],
   "source": [
    "df_f = pd.read_csv('data/df_out2.csv')\n",
    "df_f.head()"
   ]
  },
  {
   "cell_type": "markdown",
   "metadata": {
    "jp-MarkdownHeadingCollapsed": true,
    "tags": []
   },
   "source": [
    "### Сreation new features"
   ]
  },
  {
   "cell_type": "markdown",
   "metadata": {
    "jp-MarkdownHeadingCollapsed": true,
    "tags": []
   },
   "source": [
    "#### From model"
   ]
  },
  {
   "cell_type": "code",
   "execution_count": 130,
   "metadata": {},
   "outputs": [
    {
     "data": {
      "text/plain": [
       "array(['2500 crew cab big horn', 'explorer 4wd 4dr xlt',\n",
       "       'golf r hatchback', ..., 'gs350', '1988 Nisan',\n",
       "       'a3 2.0t premium plus pzev'], dtype=object)"
      ]
     },
     "execution_count": 130,
     "metadata": {},
     "output_type": "execute_result"
    }
   ],
   "source": [
    "df_f['model'].unique()"
   ]
  },
  {
   "cell_type": "code",
   "execution_count": 131,
   "metadata": {},
   "outputs": [
    {
     "data": {
      "text/plain": [
       "3358"
      ]
     },
     "execution_count": 131,
     "metadata": {},
     "output_type": "execute_result"
    }
   ],
   "source": [
    "df_f['model'].nunique()"
   ]
  },
  {
   "cell_type": "code",
   "execution_count": 132,
   "metadata": {},
   "outputs": [
    {
     "data": {
      "text/plain": [
       "array(['2500', 'explorer', 'golf', 'rav4', 'altima', '1', 'fusion',\n",
       "       'accord', 'charger', 'galant', '500', 'town', 'e-series', 'g.',\n",
       "       'silverado', 'mustang', 'maxima', 'civic', 'vue', 'tahoe', 'f-350',\n",
       "       'f150', 'clubman', 'xts', '3500', 'rogue', 'compass', 'camry',\n",
       "       'renegade', 'forte5', 'f-150', 'wrangler', 'mazda3', '535i',\n",
       "       'park', 'focus', 'gx', 'titan', 'corolla', 'colorado', 'tiguan',\n",
       "       'impreza', 'jetta', 'super', 'q5', 'es', 'lx450', 'pilot',\n",
       "       'diahatsu', 'other', 'sequoia', '1500', 'tucson', 'sierra',\n",
       "       'grand', 'nautilus', 'elantra', 'x1', 'camaro', 'benz', 'tacoma',\n",
       "       'tsx', 'sebring', 'yukon', 'cooper', 'enclave', 'x4', 'sequioa',\n",
       "       'xc90', 'is300', 'f350', 'romeo', 'ranger', 'spark', '7',\n",
       "       'express', 'q7', 'tribute', 'xv', 'impala', 'c300', 'frontier',\n",
       "       'fit', 'cc', 'transit', 'outback', 'passat', '350z', 'optima',\n",
       "       'c10', 'expedition', 'pathfinder', 'challenger', '200', 'taurus',\n",
       "       'evoque', 'x3', 'arcadia', 'cr-v', 'xt6', 'sante', 'versa', 'e150',\n",
       "       'equinox', 'sonata', 'soul', 'regal', 'scion', 'lucerne', 'f250',\n",
       "       'odyssey', 's60', 'cruze', 'mkx', 'sienna', '914', '300c',\n",
       "       'crosstrek', 'voltswagon', 'a6', '550i', 'sport', 'mazda6',\n",
       "       'sorento', 'malibu', 'thomas', 'c-class', 'patriot', 'fj',\n",
       "       'trailblazer', 'c-max', '370z', 'mx-5', 'sl-class', 'e250',\n",
       "       'f-250', 'cc4500', '328i', 'm', 'nx', 'escape', 'emergency',\n",
       "       'corvette', 'liberty', 'vibe', 'edge', 'model', 'chysler', 's5',\n",
       "       'legacy', 'v6', 'dts', 'navigator', 'crv', 'rdx', 'avalanche',\n",
       "       's10', 'genesis', 'suzuki', 'neon', 'cougar', 'stinger', 'boxster',\n",
       "       'suburban', 'forte', 'verano', 'prius', 'ridgeline', 'promaster',\n",
       "       '5', 'special', 'xt4', 'wrx', 'mkz', 'cts-v', 'traverse',\n",
       "       'journey', 'caprice', 'rx', 'avenger', '2002', 'limousine',\n",
       "       'eurovan', 'srx', 'caravan', 'c70', 'cherokee', 'rivera', 'tl',\n",
       "       '3.2', 'sentra', 'g37', 'k10', 'mdx', 'rx8', 'cayenne', 'x5', '3',\n",
       "       'tundra', 'highlander', 'santa', 'yaris', 'econoline', 'qx50',\n",
       "       'aura', 'outlander', 'dakota', 'isuzu', 'discovery', 'eos',\n",
       "       'pickup', 'gti', 'cadenza', 'a5', 'chevey', '6', 'qx60', 'flex',\n",
       "       'mariner', 'durango', 'macan', 'cx-9', 'armada', 'lacrosse', 'hot',\n",
       "       'champion', 'a4', 'f450', 'gt-r', 'cvr', 'land', 'envision', 'g6',\n",
       "       '750xi', 'solara', 'f700', 'eqinox', 'g4500', 'continental',\n",
       "       'cx-5', 'eclipse', 'hino', 'envoy', '2021', 'e-class', 'mazda2',\n",
       "       'q60', 'venza', 'trax', 'ss', 'f550', 'f-pace', 'terrain', 'quest',\n",
       "       'dump', 'fiesta', 'ats', 'rx7', '2018', 'e350', 'hyndai', 'avalon',\n",
       "       'brz', '1954', 'accent', 'acadia', '4runner', 'all', 'xt5', 'a3',\n",
       "       'v60', '4500', '500l', 'bronco', 'plymouth', 'maserati', 'tlx',\n",
       "       'sts', '300zx', '86', '300', '4', 'cj5', 'eldorado', 'cj8',\n",
       "       'hummer', 'hhr', 'g', 'panamera', 'lx', 'city', 'commander', 'e46',\n",
       "       'mercedes-amg', 'ram1500', 'sable', 'sonoma', 'certified',\n",
       "       'sedona', 'deville', 'sonic', 'five', 'dart', '1999', 'seirra',\n",
       "       'cobalt', 'e-250', 'm3', 'thunderbird', 'hardtop', 'c', 'blue',\n",
       "       'veloster', 'm-class', 'e-pace', 'qx80', 'encore', 'cts', 'truck',\n",
       "       's90', 'f-250sd', '240', 'nv200', 'pt', 'forester', 'cemetery',\n",
       "       'windstar', 'miata', 's320', 'ford*', 'bel', 'rainier', 'i-miev',\n",
       "       'hse', 's-10', 'escalade', 'ion', 'deluxe', 'international', 'ls',\n",
       "       'aveo', '535xi', 'murano', 'pick', 'rl', 'gto', 'nv2500',\n",
       "       'clk-class', 'ct5', '3-series', 'b2200', '3i', 'xe', 'caliber',\n",
       "       '323i', 'rsx', '545i', 'pacifica', 'jeepster', 'svx', 'captiva',\n",
       "       'f', 's8', 'sprinter', 'xterra', 'f650', 'lifted', 'lotus', 'ic',\n",
       "       's7', 'sea', 'atlas', 'srx~awesome', 'c-7500', 'lesabre',\n",
       "       'quattro', 'kicks', 'juke', 'savana', 's2000', 'beetle',\n",
       "       'gladiator', 'ilx', 'willys', 'new', 'g35x', 'q70', '1978', 'c-hr',\n",
       "       'srx4', 'mpv', 'flexible', 'bonanza', 'gle', 'c8500', 'cx9', 'is',\n",
       "       'utility', 'freestyle', '300-series', 'magnum', 'blazer', '325i',\n",
       "       'g37s', '280zx', 'q50', 'excursion', 'mountaineer', '2007',\n",
       "       'janesville', 'gls', 'xk8', 'f-450', 'sportage', 'xj',\n",
       "       'ford/ranger', 'freightliner', 'uplander', '5500', 'passport',\n",
       "       'vandura', 'isizu', 'metris', 'forde350', 'cavalier', 'nv',\n",
       "       'coupe', 'mkc', 'b2300', 'pontaic', 'v90', 'gmc/chev', 'jouney',\n",
       "       'i3', 'countryman', 'glk-class', 'saab', 'x6', 'g35', 'rio',\n",
       "       'fiero', 'fuso', 'f-550', 'grumman', 'cx-7', 'fleetwood', 'a7',\n",
       "       'comanche', '2', 'xx', 'mirage', 'r32', 'ml350', 'canyon',\n",
       "       'pierce', 'rebel', 'lr2', 's500', '350', 'roadster', 'aspen',\n",
       "       'nv2500hd', 'tudor', 'bus', 'gehl', 'leaf', 'ml', 'gx470', 'ioniq',\n",
       "       '750i', 'mazda5', 'programs', 'a3,', '2500hd', '2009', 'qx70',\n",
       "       'triumph', '440xi', 'x-3', '330xi', 'milan', 'crew', 'q3',\n",
       "       'davidson', 'sedan', 'acuarea', 'frtlner', 'cabrio', 'astra',\n",
       "       'mercuty', 'f-450sd', 'jayco', '944', '325ci', 'nitro', 'element',\n",
       "       '540i', 's-class', 'chevorlet', 'studebaker', 'colbalt', 'stratus',\n",
       "       'jauguar', 's', '328ci', 'mark', 'gs', 'arteon', 'baja', 's4',\n",
       "       'xf', 'xc40', 'wolf', 'glc', 'asc', 'cl-class', 'cabellero',\n",
       "       'matrix', 'sl55', 'sterling', '124', 'echo', 'range', 'jx35',\n",
       "       'buy', 'm35', 'glc-class', 'tribeca', 'vtx1300c', 'xc60', 'is250',\n",
       "       'deisel', '328', 'azera', 'insight', 'm35s', 'chevelle',\n",
       "       '4-runner', '3500hd', 'century', '911', 'glk350', 'cc300', 'z',\n",
       "       's70', 'ecosport', 'g8', 'es300', 'hiace', 'niro', 'jimmy',\n",
       "       'panel', 'qx56', 'g30', 'minin', 'isf', 'volt', 'i30', 'slc',\n",
       "       'ct6', 'defender', '525i', 'soul+', 'sc300', 'e-golf', '3100',\n",
       "       'cts4', '528i', 'mazda6i', 'e-150', 'sky', 'nascar', 'sorrento',\n",
       "       'sierra1500', '430i', 'gl450', 'mitusbishi', 'xj8', 'tt', 'e-350',\n",
       "       'c4500', 'supra', 'e', 'x-type', 'gl-class', 'nx300', 'e450',\n",
       "       'putback', 'riviera', 'venture', 'step-van', 'rat', 'gt', 's40',\n",
       "       '530i', 'cj2a', 'mallinia', 'american', 'touareg', 'spectra',\n",
       "       'oldsmobile', 's3', 'classuc', 'sle', 'slk', 'maximum', '1972',\n",
       "       'belair', 'rouge', '5500hd', '318i', 's430', 'astro', 'f100', 's6',\n",
       "       'phaeton', '320i', 'classic', 'trans', '530', 'tracker', 'am',\n",
       "       'ascent', 'crown', 'veracruz', 'lancer', 'ct4', 'van', '5th',\n",
       "       'gx460', 'gla-class', 'firebird', 'frrv', 'mercades', 'tercel',\n",
       "       '2008', '210', 'rx350', 'fx35', 'allroad', 'g37x', 'cube', 'rondo',\n",
       "       'gla', 'gmt-400', 'k900', 'gulf', 'b-series', 'paceman', '928',\n",
       "       '650i', 'capri', '328xi', 'conquest', 'fj40', '1968', 'gs430',\n",
       "       'escort', 'cla', 'escape-se,', 'z4', 'marineer,premier', 'xc',\n",
       "       'crosstour', 'routan', 'i35', '2000', 'oddyssey', 'monte',\n",
       "       'blackwood', 'freestar', 'f750', 'hr-v', 't-350', 'gmc,',\n",
       "       'montero', 'landcruiser', 'legend', '750', 'c/k', '4x4', '325xi',\n",
       "       'cx-3', 'high', 'aviator', 'denali', 'qx', 'seville', 'w350',\n",
       "       'zx2', 'amc', 'sl2', 'acura*', 'e-450', 'newport', 'falcon', 'f50',\n",
       "       'comet', 'rabbit', 'c30', 'corsair', '335xi', 'reatta', 'avanger',\n",
       "       'kodiak', 'clarity', 'starcraft', 'caravan/grand', 'prizm', 'cmax',\n",
       "       'v50', 'z3', 'crz', 'f-type', 'convertible', 'solstice', 'velar',\n",
       "       'g5', '2016', 'c5500', 'f-350sd', 'cascada', 'rav', 'roadmaster',\n",
       "       '645ci', 'mg', 'cx7', 'c250', 'ml500', 'lightning', '335i', 'k5',\n",
       "       'rx-8', 'shelby', 'ramcharger', 'lemans', 'mgb', 'nv1500', 'ct',\n",
       "       'sc', '380sl', 'k20', 'f1', '3-window', 'k30', 'mks', 't', 'bolt',\n",
       "       'zephyr', 'country', '1928', 'f-100', 't-bucket', 'srx-v6',\n",
       "       '163869', 'autobiography', '500c', '-benz', 'rc', 'camary',\n",
       "       'peterbilt', 'el', 'elcamino', '2012', 'a-class', 'smart', 'glk',\n",
       "       'eagle', 'rx400h', 'xc70', '2017', 'slk-class', 'replica',\n",
       "       'clk350', 'es330', 'ux', 'e320', '528xi', 'concorde', '650xi',\n",
       "       'd7fh173552', '500x', 'suv', 'md-x', 'clk', 'hobda', 'rs', 'gmx',\n",
       "       'fleetmaster', 'b-class', 'ssr', 'rx300', 'mv-1', 'protege',\n",
       "       'fx45', 'gr', 'duramax', 'gle-class', 'thing', 'vnl', 'click',\n",
       "       'vanagon', '135i', 'f600', 'thrift', 'tc5500', 'bug', 'gcm',\n",
       "       'cayman', '328d', 'cj-5', 'lr3', 's/w', 'es350', 'f-750', 'tarsus',\n",
       "       'allante', '1966', '198.5', 'm5', 'c-10', 'kaiser', '325is',\n",
       "       'jm1bk32f871604924', 'a8', 'endeavor', 'buicks', 'merdeces',\n",
       "       'crossfire', 'dodge1500', 'dealer*', '330i', 'b2600i', 'voyager',\n",
       "       'gl', 'c60', 'mighty', 'l300', 'telluride', 'camero', '640',\n",
       "       'r-class', 'grandville', 'sl550', 'cla-class', 'mr2', 'foxbody',\n",
       "       'cls-class', '435i', 'fe', 'villager', 'd50', 'caddilac', 'f-650',\n",
       "       'rx330', 'prelude', 'c280', 'bentley', 'tractor', '50', 'fords',\n",
       "       'c6500', 'cls550', 'sc2', '1994', '5-series', 'diesel', 'ghia',\n",
       "       '300s', 'skylark', 'chryler', 'hardbody', 'school', 'easy', 'lr4',\n",
       "       'g-class', 'rlx', 'by', 'g20', 'sl500', 'f450sd', 'xj-series',\n",
       "       '1960s', 'hearse', '1988', 'cj7', 'mkt', '1951', 'ltd', '2006',\n",
       "       'slt', 'aztek', 'x2', 'optimia', 'e500', 'outlook', 'cargo',\n",
       "       '1977', 'torrent', 'ram2500', 'sl', '2015', '128i', 'long', 'nova',\n",
       "       'bonneville', 'gmce', '428', 'l', 'rendezvous', 'durangon',\n",
       "       'gs350'], dtype=object)"
      ]
     },
     "execution_count": 132,
     "metadata": {},
     "output_type": "execute_result"
    }
   ],
   "source": [
    "df_f['short_model'] = df_f['model'].apply(lambda x: x.lower().split(' ')[0])\n",
    "df_f['short_model'].unique()"
   ]
  },
  {
   "cell_type": "code",
   "execution_count": 133,
   "metadata": {},
   "outputs": [
    {
     "data": {
      "text/plain": [
       "912"
      ]
     },
     "execution_count": 133,
     "metadata": {},
     "output_type": "execute_result"
    }
   ],
   "source": [
    "df_f['short_model'].nunique()"
   ]
  },
  {
   "cell_type": "markdown",
   "metadata": {
    "jp-MarkdownHeadingCollapsed": true,
    "tags": []
   },
   "source": [
    "#### Car age category"
   ]
  },
  {
   "cell_type": "code",
   "execution_count": 134,
   "metadata": {},
   "outputs": [
    {
     "data": {
      "text/plain": [
       "0           new\n",
       "1           new\n",
       "2           new\n",
       "3       average\n",
       "4           new\n",
       "         ...   \n",
       "9656        old\n",
       "9657    average\n",
       "9658    average\n",
       "9659        new\n",
       "9660        new\n",
       "Name: age_category, Length: 9661, dtype: object"
      ]
     },
     "execution_count": 134,
     "metadata": {},
     "output_type": "execute_result"
    }
   ],
   "source": [
    "df_f['age_category'] =  df_f.apply(lambda x: \"new\" if x.year > 2013 else (\"old\" if x.year < 2006 else \"average\"), axis=1)\n",
    "df_f['age_category']"
   ]
  },
  {
   "cell_type": "code",
   "execution_count": 135,
   "metadata": {},
   "outputs": [
    {
     "data": {
      "text/html": [
       "<div>\n",
       "<style scoped>\n",
       "    .dataframe tbody tr th:only-of-type {\n",
       "        vertical-align: middle;\n",
       "    }\n",
       "\n",
       "    .dataframe tbody tr th {\n",
       "        vertical-align: top;\n",
       "    }\n",
       "\n",
       "    .dataframe thead th {\n",
       "        text-align: right;\n",
       "    }\n",
       "</style>\n",
       "<table border=\"1\" class=\"dataframe\">\n",
       "  <thead>\n",
       "    <tr style=\"text-align: right;\">\n",
       "      <th></th>\n",
       "      <th>year</th>\n",
       "      <th>age_category</th>\n",
       "    </tr>\n",
       "  </thead>\n",
       "  <tbody>\n",
       "    <tr>\n",
       "      <th>0</th>\n",
       "      <td>2020</td>\n",
       "      <td>new</td>\n",
       "    </tr>\n",
       "    <tr>\n",
       "      <th>1</th>\n",
       "      <td>2016</td>\n",
       "      <td>new</td>\n",
       "    </tr>\n",
       "    <tr>\n",
       "      <th>2</th>\n",
       "      <td>2017</td>\n",
       "      <td>new</td>\n",
       "    </tr>\n",
       "    <tr>\n",
       "      <th>3</th>\n",
       "      <td>2013</td>\n",
       "      <td>average</td>\n",
       "    </tr>\n",
       "    <tr>\n",
       "      <th>4</th>\n",
       "      <td>2021</td>\n",
       "      <td>new</td>\n",
       "    </tr>\n",
       "    <tr>\n",
       "      <th>...</th>\n",
       "      <td>...</td>\n",
       "      <td>...</td>\n",
       "    </tr>\n",
       "    <tr>\n",
       "      <th>9656</th>\n",
       "      <td>2002</td>\n",
       "      <td>old</td>\n",
       "    </tr>\n",
       "    <tr>\n",
       "      <th>9657</th>\n",
       "      <td>2008</td>\n",
       "      <td>average</td>\n",
       "    </tr>\n",
       "    <tr>\n",
       "      <th>9658</th>\n",
       "      <td>2011</td>\n",
       "      <td>average</td>\n",
       "    </tr>\n",
       "    <tr>\n",
       "      <th>9659</th>\n",
       "      <td>2015</td>\n",
       "      <td>new</td>\n",
       "    </tr>\n",
       "    <tr>\n",
       "      <th>9660</th>\n",
       "      <td>2017</td>\n",
       "      <td>new</td>\n",
       "    </tr>\n",
       "  </tbody>\n",
       "</table>\n",
       "<p>9661 rows × 2 columns</p>\n",
       "</div>"
      ],
      "text/plain": [
       "      year age_category\n",
       "0     2020          new\n",
       "1     2016          new\n",
       "2     2017          new\n",
       "3     2013      average\n",
       "4     2021          new\n",
       "...    ...          ...\n",
       "9656  2002          old\n",
       "9657  2008      average\n",
       "9658  2011      average\n",
       "9659  2015          new\n",
       "9660  2017          new\n",
       "\n",
       "[9661 rows x 2 columns]"
      ]
     },
     "execution_count": 135,
     "metadata": {},
     "output_type": "execute_result"
    }
   ],
   "source": [
    "df_f[['year', 'age_category']]"
   ]
  },
  {
   "cell_type": "markdown",
   "metadata": {
    "jp-MarkdownHeadingCollapsed": true,
    "tags": []
   },
   "source": [
    "#### Odometer/price"
   ]
  },
  {
   "cell_type": "code",
   "execution_count": 136,
   "metadata": {},
   "outputs": [
    {
     "data": {
      "text/plain": [
       "0        0.499036\n",
       "1        3.542852\n",
       "2        0.394718\n",
       "3        8.089034\n",
       "4        0.366972\n",
       "          ...    \n",
       "9656    33.370412\n",
       "9657     7.835323\n",
       "9658    16.696387\n",
       "9659     1.941787\n",
       "9660     1.122882\n",
       "Name: odometer/price, Length: 9661, dtype: float64"
      ]
     },
     "execution_count": 136,
     "metadata": {},
     "output_type": "execute_result"
    }
   ],
   "source": [
    "df_f['odometer/price'] = df_f.apply(lambda x: x.odometer / x.price, axis=1)\n",
    "df_f['odometer/price']"
   ]
  },
  {
   "cell_type": "markdown",
   "metadata": {
    "jp-MarkdownHeadingCollapsed": true,
    "tags": []
   },
   "source": [
    "#### Description_len"
   ]
  },
  {
   "cell_type": "code",
   "execution_count": 137,
   "metadata": {},
   "outputs": [
    {
     "data": {
      "text/plain": [
       "0       4482\n",
       "1        968\n",
       "2       4286\n",
       "3       3241\n",
       "4        538\n",
       "        ... \n",
       "9656    1710\n",
       "9657     948\n",
       "9658     909\n",
       "9659    3644\n",
       "9660    4483\n",
       "Name: desc_len, Length: 9661, dtype: int64"
      ]
     },
     "execution_count": 137,
     "metadata": {},
     "output_type": "execute_result"
    }
   ],
   "source": [
    "df_f['desc_len'] = df_f.apply(lambda x: len(x.description) , axis=1)\n",
    "df_f['desc_len']"
   ]
  },
  {
   "cell_type": "code",
   "execution_count": 138,
   "metadata": {},
   "outputs": [
    {
     "data": {
      "image/png": "[encoded data removed]",
      "text/plain": [
       "<Figure size 864x576 with 1 Axes>"
      ]
     },
     "metadata": {
      "needs_background": "light"
     },
     "output_type": "display_data"
    }
   ],
   "source": [
    "colors = {'medium': 'orange', 'high': 'red', 'low': 'green'}\n",
    "\n",
    "fig, ax = plt.subplots(figsize=(12, 8))\n",
    "for price_category in colors:\n",
    "    color = colors[price_category]\n",
    "    data = df_f[df_f['price_category'] == price_category]\n",
    "\n",
    "    ax.hist(data['desc_len'], color=color, alpha=0.6, bins=20)\n",
    "    \n",
    "plt.ylabel('Количество')\n",
    "plt.xlabel('Количество символов в описании автомобиля')\n",
    "plt.title('Количество символов в описании в зависимости от ценовой категории автомобиля')\n",
    "plt.legend(colors, title=\"Ценовая категория\");"
   ]
  },
  {
   "cell_type": "markdown",
   "metadata": {
    "jp-MarkdownHeadingCollapsed": true,
    "tags": []
   },
   "source": [
    "#### Model in description "
   ]
  },
  {
   "cell_type": "code",
   "execution_count": 139,
   "metadata": {},
   "outputs": [
    {
     "data": {
      "text/plain": [
       "0     8541\n",
       "1      792\n",
       "2      101\n",
       "3       50\n",
       "5       31\n",
       "4       23\n",
       "9       14\n",
       "8        9\n",
       "7        9\n",
       "6        9\n",
       "28       9\n",
       "16       8\n",
       "18       6\n",
       "15       5\n",
       "20       5\n",
       "14       5\n",
       "17       4\n",
       "25       3\n",
       "31       3\n",
       "23       3\n",
       "27       3\n",
       "11       3\n",
       "22       3\n",
       "13       3\n",
       "19       3\n",
       "29       2\n",
       "10       2\n",
       "35       2\n",
       "26       1\n",
       "63       1\n",
       "54       1\n",
       "36       1\n",
       "34       1\n",
       "49       1\n",
       "30       1\n",
       "56       1\n",
       "32       1\n",
       "12       1\n",
       "Name: model_in_desc, dtype: int64"
      ]
     },
     "execution_count": 139,
     "metadata": {},
     "output_type": "execute_result"
    }
   ],
   "source": [
    "df_f['model_in_desc'] = df_f.apply(lambda x: x.description.count(x.model) , axis=1)\n",
    "df_f['model_in_desc'].value_counts()"
   ]
  },
  {
   "cell_type": "markdown",
   "metadata": {
    "jp-MarkdownHeadingCollapsed": true,
    "tags": []
   },
   "source": [
    "#### Model len"
   ]
  },
  {
   "cell_type": "code",
   "execution_count": 140,
   "metadata": {},
   "outputs": [
    {
     "data": {
      "text/plain": [
       "0       22\n",
       "1       20\n",
       "2       16\n",
       "3        4\n",
       "4        6\n",
       "        ..\n",
       "9656     4\n",
       "9657     8\n",
       "9658    25\n",
       "9659     7\n",
       "9660    22\n",
       "Name: model_len, Length: 9661, dtype: int64"
      ]
     },
     "execution_count": 140,
     "metadata": {},
     "output_type": "execute_result"
    }
   ],
   "source": [
    "df_f['model_len'] = df_f.apply(lambda x: len(x.model) , axis=1)\n",
    "df_f['model_len']"
   ]
  },
  {
   "cell_type": "code",
   "execution_count": 141,
   "metadata": {},
   "outputs": [
    {
     "data": {
      "text/plain": [
       "6      1008\n",
       "5       902\n",
       "7       726\n",
       "8       682\n",
       "4       648\n",
       "       ... \n",
       "187       1\n",
       "168       1\n",
       "58        1\n",
       "76        1\n",
       "186       1\n",
       "Name: model_len, Length: 65, dtype: int64"
      ]
     },
     "execution_count": 141,
     "metadata": {},
     "output_type": "execute_result"
    }
   ],
   "source": [
    "df_f['model_len'].value_counts()"
   ]
  },
  {
   "cell_type": "markdown",
   "metadata": {
    "jp-MarkdownHeadingCollapsed": true,
    "tags": []
   },
   "source": [
    "#### Count of word"
   ]
  },
  {
   "cell_type": "code",
   "execution_count": 142,
   "metadata": {},
   "outputs": [
    {
     "data": {
      "text/plain": [
       "1     4299\n",
       "2     2203\n",
       "3     1363\n",
       "4     1186\n",
       "5      499\n",
       "6       68\n",
       "10       8\n",
       "8        7\n",
       "11       5\n",
       "9        5\n",
       "7        4\n",
       "13       3\n",
       "15       3\n",
       "27       1\n",
       "21       1\n",
       "14       1\n",
       "17       1\n",
       "24       1\n",
       "12       1\n",
       "29       1\n",
       "22       1\n",
       "Name: model_word_count, dtype: int64"
      ]
     },
     "execution_count": 142,
     "metadata": {},
     "output_type": "execute_result"
    }
   ],
   "source": [
    "df_f['model_word_count'] = df_f.apply(lambda x: len(x.model.split(' ')), axis=1)\n",
    "df_f['model_word_count'].value_counts()"
   ]
  },
  {
   "cell_type": "markdown",
   "metadata": {
    "jp-MarkdownHeadingCollapsed": true,
    "tags": []
   },
   "source": [
    "#### Date"
   ]
  },
  {
   "cell_type": "code",
   "execution_count": 143,
   "metadata": {},
   "outputs": [
    {
     "data": {
      "text/html": [
       "<div>\n",
       "<style scoped>\n",
       "    .dataframe tbody tr th:only-of-type {\n",
       "        vertical-align: middle;\n",
       "    }\n",
       "\n",
       "    .dataframe tbody tr th {\n",
       "        vertical-align: top;\n",
       "    }\n",
       "\n",
       "    .dataframe thead th {\n",
       "        text-align: right;\n",
       "    }\n",
       "</style>\n",
       "<table border=\"1\" class=\"dataframe\">\n",
       "  <thead>\n",
       "    <tr style=\"text-align: right;\">\n",
       "      <th></th>\n",
       "      <th>posting_date</th>\n",
       "      <th>date</th>\n",
       "    </tr>\n",
       "  </thead>\n",
       "  <tbody>\n",
       "    <tr>\n",
       "      <th>0</th>\n",
       "      <td>2021-04-17T12:30:50-0400</td>\n",
       "      <td>2021-04-17 16:30:50+00:00</td>\n",
       "    </tr>\n",
       "    <tr>\n",
       "      <th>1</th>\n",
       "      <td>2021-05-03T15:40:21-0400</td>\n",
       "      <td>2021-05-03 19:40:21+00:00</td>\n",
       "    </tr>\n",
       "    <tr>\n",
       "      <th>2</th>\n",
       "      <td>2021-04-28T03:52:20-0700</td>\n",
       "      <td>2021-04-28 10:52:20+00:00</td>\n",
       "    </tr>\n",
       "    <tr>\n",
       "      <th>3</th>\n",
       "      <td>2021-04-17T10:08:57-0400</td>\n",
       "      <td>2021-04-17 14:08:57+00:00</td>\n",
       "    </tr>\n",
       "    <tr>\n",
       "      <th>4</th>\n",
       "      <td>2021-05-03T18:32:06-0400</td>\n",
       "      <td>2021-05-03 22:32:06+00:00</td>\n",
       "    </tr>\n",
       "    <tr>\n",
       "      <th>...</th>\n",
       "      <td>...</td>\n",
       "      <td>...</td>\n",
       "    </tr>\n",
       "    <tr>\n",
       "      <th>9656</th>\n",
       "      <td>2021-04-10T16:33:57-0400</td>\n",
       "      <td>2021-04-10 20:33:57+00:00</td>\n",
       "    </tr>\n",
       "    <tr>\n",
       "      <th>9657</th>\n",
       "      <td>2021-05-03T09:36:30-0400</td>\n",
       "      <td>2021-05-03 13:36:30+00:00</td>\n",
       "    </tr>\n",
       "    <tr>\n",
       "      <th>9658</th>\n",
       "      <td>2021-04-22T12:14:01-0700</td>\n",
       "      <td>2021-04-22 19:14:01+00:00</td>\n",
       "    </tr>\n",
       "    <tr>\n",
       "      <th>9659</th>\n",
       "      <td>2021-04-14T09:14:42-0500</td>\n",
       "      <td>2021-04-14 14:14:42+00:00</td>\n",
       "    </tr>\n",
       "    <tr>\n",
       "      <th>9660</th>\n",
       "      <td>2021-04-24T13:50:49-0400</td>\n",
       "      <td>2021-04-24 17:50:49+00:00</td>\n",
       "    </tr>\n",
       "  </tbody>\n",
       "</table>\n",
       "<p>9661 rows × 2 columns</p>\n",
       "</div>"
      ],
      "text/plain": [
       "                  posting_date                       date\n",
       "0     2021-04-17T12:30:50-0400  2021-04-17 16:30:50+00:00\n",
       "1     2021-05-03T15:40:21-0400  2021-05-03 19:40:21+00:00\n",
       "2     2021-04-28T03:52:20-0700  2021-04-28 10:52:20+00:00\n",
       "3     2021-04-17T10:08:57-0400  2021-04-17 14:08:57+00:00\n",
       "4     2021-05-03T18:32:06-0400  2021-05-03 22:32:06+00:00\n",
       "...                        ...                        ...\n",
       "9656  2021-04-10T16:33:57-0400  2021-04-10 20:33:57+00:00\n",
       "9657  2021-05-03T09:36:30-0400  2021-05-03 13:36:30+00:00\n",
       "9658  2021-04-22T12:14:01-0700  2021-04-22 19:14:01+00:00\n",
       "9659  2021-04-14T09:14:42-0500  2021-04-14 14:14:42+00:00\n",
       "9660  2021-04-24T13:50:49-0400  2021-04-24 17:50:49+00:00\n",
       "\n",
       "[9661 rows x 2 columns]"
      ]
     },
     "execution_count": 143,
     "metadata": {},
     "output_type": "execute_result"
    }
   ],
   "source": [
    "df_f[['posting_date','date']]"
   ]
  },
  {
   "cell_type": "code",
   "execution_count": 144,
   "metadata": {},
   "outputs": [
    {
     "data": {
      "text/plain": [
       "0       2021-04-17 16:30:50+00:00\n",
       "1       2021-05-03 19:40:21+00:00\n",
       "2       2021-04-28 10:52:20+00:00\n",
       "3       2021-04-17 14:08:57+00:00\n",
       "4       2021-05-03 22:32:06+00:00\n",
       "                  ...            \n",
       "9656    2021-04-10 20:33:57+00:00\n",
       "9657    2021-05-03 13:36:30+00:00\n",
       "9658    2021-04-22 19:14:01+00:00\n",
       "9659    2021-04-14 14:14:42+00:00\n",
       "9660    2021-04-24 17:50:49+00:00\n",
       "Name: date, Length: 9661, dtype: object"
      ]
     },
     "execution_count": 144,
     "metadata": {},
     "output_type": "execute_result"
    }
   ],
   "source": [
    "df_f.date"
   ]
  },
  {
   "cell_type": "code",
   "execution_count": 145,
   "metadata": {},
   "outputs": [
    {
     "data": {
      "text/plain": [
       "0      2021-04-17 16:30:50+00:00\n",
       "1      2021-05-03 19:40:21+00:00\n",
       "2      2021-04-28 10:52:20+00:00\n",
       "3      2021-04-17 14:08:57+00:00\n",
       "4      2021-05-03 22:32:06+00:00\n",
       "                  ...           \n",
       "9656   2021-04-10 20:33:57+00:00\n",
       "9657   2021-05-03 13:36:30+00:00\n",
       "9658   2021-04-22 19:14:01+00:00\n",
       "9659   2021-04-14 14:14:42+00:00\n",
       "9660   2021-04-24 17:50:49+00:00\n",
       "Name: date, Length: 9661, dtype: datetime64[ns, UTC]"
      ]
     },
     "execution_count": 145,
     "metadata": {},
     "output_type": "execute_result"
    }
   ],
   "source": [
    "df_f['date'] = pd.to_datetime(df_f.date, utc=True)\n",
    "df_f.date"
   ]
  },
  {
   "cell_type": "code",
   "execution_count": 146,
   "metadata": {},
   "outputs": [
    {
     "data": {
      "text/plain": [
       "0       4\n",
       "1       5\n",
       "2       4\n",
       "3       4\n",
       "4       5\n",
       "       ..\n",
       "9656    4\n",
       "9657    5\n",
       "9658    4\n",
       "9659    4\n",
       "9660    4\n",
       "Name: month, Length: 9661, dtype: int64"
      ]
     },
     "execution_count": 146,
     "metadata": {},
     "output_type": "execute_result"
    }
   ],
   "source": [
    "df_f['month'] = df_f['date'].dt.month \n",
    "df_f['month']"
   ]
  },
  {
   "cell_type": "code",
   "execution_count": 147,
   "metadata": {},
   "outputs": [
    {
     "data": {
      "text/plain": [
       "0       5\n",
       "1       0\n",
       "2       2\n",
       "3       5\n",
       "4       0\n",
       "       ..\n",
       "9656    5\n",
       "9657    0\n",
       "9658    3\n",
       "9659    2\n",
       "9660    5\n",
       "Name: dayofweek, Length: 9661, dtype: int64"
      ]
     },
     "execution_count": 147,
     "metadata": {},
     "output_type": "execute_result"
    }
   ],
   "source": [
    "df_f['dayofweek'] = df_f.date.dt.dayofweek\n",
    "df_f['dayofweek']"
   ]
  },
  {
   "cell_type": "code",
   "execution_count": 148,
   "metadata": {},
   "outputs": [
    {
     "data": {
      "text/plain": [
       "0       2021\n",
       "1       2021\n",
       "2       2021\n",
       "3       2021\n",
       "4       2021\n",
       "        ... \n",
       "9656    2021\n",
       "9657    2021\n",
       "9658    2021\n",
       "9659    2021\n",
       "9660    2021\n",
       "Name: post_year, Length: 9661, dtype: int64"
      ]
     },
     "execution_count": 148,
     "metadata": {},
     "output_type": "execute_result"
    }
   ],
   "source": [
    "df_f['post_year'] = df_f['date'].dt.year\n",
    "df_f['post_year']"
   ]
  },
  {
   "cell_type": "code",
   "execution_count": 149,
   "metadata": {},
   "outputs": [
    {
     "data": {
      "text/plain": [
       "0        1\n",
       "1        5\n",
       "2        4\n",
       "3        8\n",
       "4        0\n",
       "        ..\n",
       "9656    19\n",
       "9657    13\n",
       "9658    10\n",
       "9659     6\n",
       "9660     4\n",
       "Name: diff_years, Length: 9661, dtype: int64"
      ]
     },
     "execution_count": 149,
     "metadata": {},
     "output_type": "execute_result"
    }
   ],
   "source": [
    "df_f['diff_years'] = df_f.apply(lambda x: x.post_year - x.year, axis = 1)\n",
    "df_f['diff_years']"
   ]
  },
  {
   "cell_type": "markdown",
   "metadata": {
    "jp-MarkdownHeadingCollapsed": true,
    "tags": []
   },
   "source": [
    "### Transformation of categorical variables"
   ]
  },
  {
   "cell_type": "code",
   "execution_count": 150,
   "metadata": {},
   "outputs": [],
   "source": [
    "df1 = df_f[['short_model', 'transmission', 'region', 'manufacturer', 'state', 'title_status', 'age_category', 'fuel']]"
   ]
  },
  {
   "cell_type": "code",
   "execution_count": 151,
   "metadata": {},
   "outputs": [
    {
     "name": "stdout",
     "output_type": "stream",
     "text": [
      "count          9661\n",
      "unique          912\n",
      "top       silverado\n",
      "freq            393\n",
      "Name: short_model, dtype: object\n",
      "\n",
      "---------------------------------\n",
      "\n",
      "count          9661\n",
      "unique            3\n",
      "top       automatic\n",
      "freq           7400\n",
      "Name: transmission, dtype: object\n",
      "\n",
      "---------------------------------\n",
      "\n",
      "count                9661\n",
      "unique                393\n",
      "top       kansas city, MO\n",
      "freq                   86\n",
      "Name: region, dtype: object\n",
      "\n",
      "---------------------------------\n",
      "\n",
      "count     9661\n",
      "unique      40\n",
      "top       ford\n",
      "freq      1564\n",
      "Name: manufacturer, dtype: object\n",
      "\n",
      "---------------------------------\n",
      "\n",
      "count     9661\n",
      "unique      51\n",
      "top         ca\n",
      "freq      1079\n",
      "Name: state, dtype: object\n",
      "\n",
      "---------------------------------\n",
      "\n",
      "count      9661\n",
      "unique        6\n",
      "top       clean\n",
      "freq       9355\n",
      "Name: title_status, dtype: object\n",
      "\n",
      "---------------------------------\n",
      "\n",
      "count     9661\n",
      "unique       3\n",
      "top        new\n",
      "freq      4528\n",
      "Name: age_category, dtype: object\n",
      "\n",
      "---------------------------------\n",
      "\n",
      "count     9661\n",
      "unique       5\n",
      "top        gas\n",
      "freq      8215\n",
      "Name: fuel, dtype: object\n",
      "\n",
      "---------------------------------\n",
      "\n"
     ]
    }
   ],
   "source": [
    "for column in df1.columns:\n",
    "\n",
    "    print(df1[column].describe())\n",
    "    print()\n",
    "    print('---------------------------------')\n",
    "    print()"
   ]
  },
  {
   "cell_type": "code",
   "execution_count": 152,
   "metadata": {},
   "outputs": [
    {
     "data": {
      "text/html": [
       "<div>\n",
       "<style scoped>\n",
       "    .dataframe tbody tr th:only-of-type {\n",
       "        vertical-align: middle;\n",
       "    }\n",
       "\n",
       "    .dataframe tbody tr th {\n",
       "        vertical-align: top;\n",
       "    }\n",
       "\n",
       "    .dataframe thead th {\n",
       "        text-align: right;\n",
       "    }\n",
       "</style>\n",
       "<table border=\"1\" class=\"dataframe\">\n",
       "  <thead>\n",
       "    <tr style=\"text-align: right;\">\n",
       "      <th></th>\n",
       "      <th>short_model</th>\n",
       "      <th>transmission</th>\n",
       "      <th>region</th>\n",
       "      <th>manufacturer</th>\n",
       "      <th>state</th>\n",
       "      <th>title_status</th>\n",
       "      <th>age_category</th>\n",
       "      <th>fuel</th>\n",
       "    </tr>\n",
       "  </thead>\n",
       "  <tbody>\n",
       "    <tr>\n",
       "      <th>0</th>\n",
       "      <td>2500</td>\n",
       "      <td>other</td>\n",
       "      <td>chattanooga</td>\n",
       "      <td>ram</td>\n",
       "      <td>tn</td>\n",
       "      <td>clean</td>\n",
       "      <td>new</td>\n",
       "      <td>diesel</td>\n",
       "    </tr>\n",
       "    <tr>\n",
       "      <th>1</th>\n",
       "      <td>explorer</td>\n",
       "      <td>automatic</td>\n",
       "      <td>north jersey</td>\n",
       "      <td>ford</td>\n",
       "      <td>nj</td>\n",
       "      <td>clean</td>\n",
       "      <td>new</td>\n",
       "      <td>other</td>\n",
       "    </tr>\n",
       "    <tr>\n",
       "      <th>2</th>\n",
       "      <td>golf</td>\n",
       "      <td>other</td>\n",
       "      <td>reno / tahoe</td>\n",
       "      <td>volkswagen</td>\n",
       "      <td>ca</td>\n",
       "      <td>clean</td>\n",
       "      <td>new</td>\n",
       "      <td>gas</td>\n",
       "    </tr>\n",
       "    <tr>\n",
       "      <th>3</th>\n",
       "      <td>rav4</td>\n",
       "      <td>automatic</td>\n",
       "      <td>fayetteville</td>\n",
       "      <td>toyota</td>\n",
       "      <td>nc</td>\n",
       "      <td>clean</td>\n",
       "      <td>average</td>\n",
       "      <td>gas</td>\n",
       "    </tr>\n",
       "    <tr>\n",
       "      <th>4</th>\n",
       "      <td>altima</td>\n",
       "      <td>automatic</td>\n",
       "      <td>new york city</td>\n",
       "      <td>nissan</td>\n",
       "      <td>ny</td>\n",
       "      <td>clean</td>\n",
       "      <td>new</td>\n",
       "      <td>gas</td>\n",
       "    </tr>\n",
       "  </tbody>\n",
       "</table>\n",
       "</div>"
      ],
      "text/plain": [
       "  short_model transmission         region manufacturer state title_status  \\\n",
       "0        2500        other    chattanooga          ram    tn        clean   \n",
       "1    explorer    automatic   north jersey         ford    nj        clean   \n",
       "2        golf        other   reno / tahoe   volkswagen    ca        clean   \n",
       "3        rav4    automatic   fayetteville       toyota    nc        clean   \n",
       "4      altima    automatic  new york city       nissan    ny        clean   \n",
       "\n",
       "  age_category    fuel  \n",
       "0          new  diesel  \n",
       "1          new   other  \n",
       "2          new     gas  \n",
       "3      average     gas  \n",
       "4          new     gas  "
      ]
     },
     "execution_count": 152,
     "metadata": {},
     "output_type": "execute_result"
    }
   ],
   "source": [
    "data = df1\n",
    "data.head()"
   ]
  },
  {
   "cell_type": "code",
   "execution_count": 153,
   "metadata": {},
   "outputs": [
    {
     "data": {
      "text/plain": [
       "OneHotEncoder(sparse=False)"
      ]
     },
     "execution_count": 153,
     "metadata": {},
     "output_type": "execute_result"
    }
   ],
   "source": [
    "ohe = OneHotEncoder(sparse = False)\n",
    "ohe"
   ]
  },
  {
   "cell_type": "code",
   "execution_count": 154,
   "metadata": {},
   "outputs": [
    {
     "data": {
      "text/plain": [
       "OneHotEncoder(sparse=False)"
      ]
     },
     "execution_count": 154,
     "metadata": {},
     "output_type": "execute_result"
    }
   ],
   "source": [
    "ohe.fit(data)"
   ]
  },
  {
   "cell_type": "code",
   "execution_count": 155,
   "metadata": {},
   "outputs": [
    {
     "data": {
      "text/plain": [
       "array([[0., 0., 0., ..., 0., 0., 0.],\n",
       "       [0., 0., 0., ..., 0., 0., 1.],\n",
       "       [0., 0., 0., ..., 1., 0., 0.],\n",
       "       ...,\n",
       "       [0., 0., 0., ..., 1., 0., 0.],\n",
       "       [0., 0., 0., ..., 0., 1., 0.],\n",
       "       [0., 0., 0., ..., 1., 0., 0.]])"
      ]
     },
     "execution_count": 155,
     "metadata": {},
     "output_type": "execute_result"
    }
   ],
   "source": [
    "ohe_categ = ohe.transform(data)\n",
    "ohe_categ"
   ]
  },
  {
   "cell_type": "code",
   "execution_count": 156,
   "metadata": {},
   "outputs": [
    {
     "data": {
      "text/plain": [
       "(9661, 1413)"
      ]
     },
     "execution_count": 156,
     "metadata": {},
     "output_type": "execute_result"
    }
   ],
   "source": [
    "ohe_categ.shape"
   ]
  },
  {
   "cell_type": "code",
   "execution_count": 157,
   "metadata": {},
   "outputs": [
    {
     "data": {
      "text/plain": [
       "array(['short_model_-benz', 'short_model_1', 'short_model_124', ...,\n",
       "       'fuel_gas', 'fuel_hybrid', 'fuel_other'], dtype=object)"
      ]
     },
     "execution_count": 157,
     "metadata": {},
     "output_type": "execute_result"
    }
   ],
   "source": [
    "ohe.get_feature_names_out()"
   ]
  },
  {
   "cell_type": "code",
   "execution_count": 159,
   "metadata": {},
   "outputs": [
    {
     "data": {
      "text/html": [
       "<div>\n",
       "<style scoped>\n",
       "    .dataframe tbody tr th:only-of-type {\n",
       "        vertical-align: middle;\n",
       "    }\n",
       "\n",
       "    .dataframe tbody tr th {\n",
       "        vertical-align: top;\n",
       "    }\n",
       "\n",
       "    .dataframe thead th {\n",
       "        text-align: right;\n",
       "    }\n",
       "</style>\n",
       "<table border=\"1\" class=\"dataframe\">\n",
       "  <thead>\n",
       "    <tr style=\"text-align: right;\">\n",
       "      <th></th>\n",
       "      <th>id</th>\n",
       "      <th>url</th>\n",
       "      <th>region</th>\n",
       "      <th>region_url</th>\n",
       "      <th>price</th>\n",
       "      <th>year</th>\n",
       "      <th>manufacturer</th>\n",
       "      <th>model</th>\n",
       "      <th>fuel</th>\n",
       "      <th>odometer</th>\n",
       "      <th>...</th>\n",
       "      <th>title_status_rebuilt</th>\n",
       "      <th>title_status_salvage</th>\n",
       "      <th>age_category_average</th>\n",
       "      <th>age_category_new</th>\n",
       "      <th>age_category_old</th>\n",
       "      <th>fuel_diesel</th>\n",
       "      <th>fuel_electric</th>\n",
       "      <th>fuel_gas</th>\n",
       "      <th>fuel_hybrid</th>\n",
       "      <th>fuel_other</th>\n",
       "    </tr>\n",
       "  </thead>\n",
       "  <tbody>\n",
       "    <tr>\n",
       "      <th>0</th>\n",
       "      <td>7308295377</td>\n",
       "      <td>https://chattanooga.craigslist.org/ctd/d/chatt...</td>\n",
       "      <td>chattanooga</td>\n",
       "      <td>https://chattanooga.craigslist.org</td>\n",
       "      <td>54990</td>\n",
       "      <td>2020</td>\n",
       "      <td>ram</td>\n",
       "      <td>2500 crew cab big horn</td>\n",
       "      <td>diesel</td>\n",
       "      <td>27442</td>\n",
       "      <td>...</td>\n",
       "      <td>0.0</td>\n",
       "      <td>0.0</td>\n",
       "      <td>0.0</td>\n",
       "      <td>1.0</td>\n",
       "      <td>0.0</td>\n",
       "      <td>1.0</td>\n",
       "      <td>0.0</td>\n",
       "      <td>0.0</td>\n",
       "      <td>0.0</td>\n",
       "      <td>0.0</td>\n",
       "    </tr>\n",
       "    <tr>\n",
       "      <th>1</th>\n",
       "      <td>7316380095</td>\n",
       "      <td>https://newjersey.craigslist.org/ctd/d/carlsta...</td>\n",
       "      <td>north jersey</td>\n",
       "      <td>https://newjersey.craigslist.org</td>\n",
       "      <td>16942</td>\n",
       "      <td>2016</td>\n",
       "      <td>ford</td>\n",
       "      <td>explorer 4wd 4dr xlt</td>\n",
       "      <td>other</td>\n",
       "      <td>60023</td>\n",
       "      <td>...</td>\n",
       "      <td>0.0</td>\n",
       "      <td>0.0</td>\n",
       "      <td>0.0</td>\n",
       "      <td>1.0</td>\n",
       "      <td>0.0</td>\n",
       "      <td>0.0</td>\n",
       "      <td>0.0</td>\n",
       "      <td>0.0</td>\n",
       "      <td>0.0</td>\n",
       "      <td>1.0</td>\n",
       "    </tr>\n",
       "    <tr>\n",
       "      <th>2</th>\n",
       "      <td>7313733749</td>\n",
       "      <td>https://reno.craigslist.org/ctd/d/atlanta-2017...</td>\n",
       "      <td>reno / tahoe</td>\n",
       "      <td>https://reno.craigslist.org</td>\n",
       "      <td>35590</td>\n",
       "      <td>2017</td>\n",
       "      <td>volkswagen</td>\n",
       "      <td>golf r hatchback</td>\n",
       "      <td>gas</td>\n",
       "      <td>14048</td>\n",
       "      <td>...</td>\n",
       "      <td>0.0</td>\n",
       "      <td>0.0</td>\n",
       "      <td>0.0</td>\n",
       "      <td>1.0</td>\n",
       "      <td>0.0</td>\n",
       "      <td>0.0</td>\n",
       "      <td>0.0</td>\n",
       "      <td>1.0</td>\n",
       "      <td>0.0</td>\n",
       "      <td>0.0</td>\n",
       "    </tr>\n",
       "    <tr>\n",
       "      <th>3</th>\n",
       "      <td>7308210929</td>\n",
       "      <td>https://fayetteville.craigslist.org/ctd/d/rale...</td>\n",
       "      <td>fayetteville</td>\n",
       "      <td>https://fayetteville.craigslist.org</td>\n",
       "      <td>14500</td>\n",
       "      <td>2013</td>\n",
       "      <td>toyota</td>\n",
       "      <td>rav4</td>\n",
       "      <td>gas</td>\n",
       "      <td>117291</td>\n",
       "      <td>...</td>\n",
       "      <td>0.0</td>\n",
       "      <td>0.0</td>\n",
       "      <td>1.0</td>\n",
       "      <td>0.0</td>\n",
       "      <td>0.0</td>\n",
       "      <td>0.0</td>\n",
       "      <td>0.0</td>\n",
       "      <td>1.0</td>\n",
       "      <td>0.0</td>\n",
       "      <td>0.0</td>\n",
       "    </tr>\n",
       "    <tr>\n",
       "      <th>4</th>\n",
       "      <td>7316474668</td>\n",
       "      <td>https://newyork.craigslist.org/lgi/cto/d/baldw...</td>\n",
       "      <td>new york city</td>\n",
       "      <td>https://newyork.craigslist.org</td>\n",
       "      <td>21800</td>\n",
       "      <td>2021</td>\n",
       "      <td>nissan</td>\n",
       "      <td>altima</td>\n",
       "      <td>gas</td>\n",
       "      <td>8000</td>\n",
       "      <td>...</td>\n",
       "      <td>0.0</td>\n",
       "      <td>0.0</td>\n",
       "      <td>0.0</td>\n",
       "      <td>1.0</td>\n",
       "      <td>0.0</td>\n",
       "      <td>0.0</td>\n",
       "      <td>0.0</td>\n",
       "      <td>1.0</td>\n",
       "      <td>0.0</td>\n",
       "      <td>0.0</td>\n",
       "    </tr>\n",
       "  </tbody>\n",
       "</table>\n",
       "<p>5 rows × 1444 columns</p>\n",
       "</div>"
      ],
      "text/plain": [
       "           id                                                url  \\\n",
       "0  7308295377  https://chattanooga.craigslist.org/ctd/d/chatt...   \n",
       "1  7316380095  https://newjersey.craigslist.org/ctd/d/carlsta...   \n",
       "2  7313733749  https://reno.craigslist.org/ctd/d/atlanta-2017...   \n",
       "3  7308210929  https://fayetteville.craigslist.org/ctd/d/rale...   \n",
       "4  7316474668  https://newyork.craigslist.org/lgi/cto/d/baldw...   \n",
       "\n",
       "          region                           region_url  price  year  \\\n",
       "0    chattanooga   https://chattanooga.craigslist.org  54990  2020   \n",
       "1   north jersey     https://newjersey.craigslist.org  16942  2016   \n",
       "2   reno / tahoe          https://reno.craigslist.org  35590  2017   \n",
       "3   fayetteville  https://fayetteville.craigslist.org  14500  2013   \n",
       "4  new york city       https://newyork.craigslist.org  21800  2021   \n",
       "\n",
       "  manufacturer                   model    fuel  odometer  ...  \\\n",
       "0          ram  2500 crew cab big horn  diesel     27442  ...   \n",
       "1         ford    explorer 4wd 4dr xlt   other     60023  ...   \n",
       "2   volkswagen        golf r hatchback     gas     14048  ...   \n",
       "3       toyota                    rav4     gas    117291  ...   \n",
       "4       nissan                  altima     gas      8000  ...   \n",
       "\n",
       "  title_status_rebuilt title_status_salvage age_category_average  \\\n",
       "0                  0.0                  0.0                  0.0   \n",
       "1                  0.0                  0.0                  0.0   \n",
       "2                  0.0                  0.0                  0.0   \n",
       "3                  0.0                  0.0                  1.0   \n",
       "4                  0.0                  0.0                  0.0   \n",
       "\n",
       "  age_category_new age_category_old  fuel_diesel  fuel_electric fuel_gas  \\\n",
       "0              1.0              0.0          1.0            0.0      0.0   \n",
       "1              1.0              0.0          0.0            0.0      0.0   \n",
       "2              1.0              0.0          0.0            0.0      1.0   \n",
       "3              0.0              0.0          0.0            0.0      1.0   \n",
       "4              1.0              0.0          0.0            0.0      1.0   \n",
       "\n",
       "  fuel_hybrid fuel_other  \n",
       "0         0.0        0.0  \n",
       "1         0.0        1.0  \n",
       "2         0.0        0.0  \n",
       "3         0.0        0.0  \n",
       "4         0.0        0.0  \n",
       "\n",
       "[5 rows x 1444 columns]"
      ]
     },
     "execution_count": 159,
     "metadata": {},
     "output_type": "execute_result"
    }
   ],
   "source": [
    "df_f[ohe.get_feature_names_out()] = ohe_categ\n",
    "df_f.head()"
   ]
  },
  {
   "cell_type": "markdown",
   "metadata": {
    "jp-MarkdownHeadingCollapsed": true,
    "tags": []
   },
   "source": [
    "### Data standardization"
   ]
  },
  {
   "cell_type": "code",
   "execution_count": 160,
   "metadata": {},
   "outputs": [
    {
     "data": {
      "text/html": [
       "<div>\n",
       "<style scoped>\n",
       "    .dataframe tbody tr th:only-of-type {\n",
       "        vertical-align: middle;\n",
       "    }\n",
       "\n",
       "    .dataframe tbody tr th {\n",
       "        vertical-align: top;\n",
       "    }\n",
       "\n",
       "    .dataframe thead th {\n",
       "        text-align: right;\n",
       "    }\n",
       "</style>\n",
       "<table border=\"1\" class=\"dataframe\">\n",
       "  <thead>\n",
       "    <tr style=\"text-align: right;\">\n",
       "      <th></th>\n",
       "      <th>lat</th>\n",
       "      <th>long</th>\n",
       "      <th>year</th>\n",
       "      <th>odometer</th>\n",
       "      <th>odometer/price</th>\n",
       "      <th>desc_len</th>\n",
       "      <th>model_in_desc</th>\n",
       "      <th>model_len</th>\n",
       "      <th>model_word_count</th>\n",
       "      <th>month</th>\n",
       "      <th>dayofweek</th>\n",
       "      <th>diff_years</th>\n",
       "    </tr>\n",
       "  </thead>\n",
       "  <tbody>\n",
       "    <tr>\n",
       "      <th>0</th>\n",
       "      <td>35.060000</td>\n",
       "      <td>-85.250000</td>\n",
       "      <td>2020</td>\n",
       "      <td>27442</td>\n",
       "      <td>0.499036</td>\n",
       "      <td>4482</td>\n",
       "      <td>0</td>\n",
       "      <td>22</td>\n",
       "      <td>5</td>\n",
       "      <td>4</td>\n",
       "      <td>5</td>\n",
       "      <td>1</td>\n",
       "    </tr>\n",
       "    <tr>\n",
       "      <th>1</th>\n",
       "      <td>40.821805</td>\n",
       "      <td>-74.061962</td>\n",
       "      <td>2016</td>\n",
       "      <td>60023</td>\n",
       "      <td>3.542852</td>\n",
       "      <td>968</td>\n",
       "      <td>0</td>\n",
       "      <td>20</td>\n",
       "      <td>4</td>\n",
       "      <td>5</td>\n",
       "      <td>0</td>\n",
       "      <td>5</td>\n",
       "    </tr>\n",
       "    <tr>\n",
       "      <th>2</th>\n",
       "      <td>33.779214</td>\n",
       "      <td>-84.411811</td>\n",
       "      <td>2017</td>\n",
       "      <td>14048</td>\n",
       "      <td>0.394718</td>\n",
       "      <td>4286</td>\n",
       "      <td>0</td>\n",
       "      <td>16</td>\n",
       "      <td>3</td>\n",
       "      <td>4</td>\n",
       "      <td>2</td>\n",
       "      <td>4</td>\n",
       "    </tr>\n",
       "    <tr>\n",
       "      <th>3</th>\n",
       "      <td>35.715954</td>\n",
       "      <td>-78.655304</td>\n",
       "      <td>2013</td>\n",
       "      <td>117291</td>\n",
       "      <td>8.089034</td>\n",
       "      <td>3241</td>\n",
       "      <td>0</td>\n",
       "      <td>4</td>\n",
       "      <td>1</td>\n",
       "      <td>4</td>\n",
       "      <td>5</td>\n",
       "      <td>8</td>\n",
       "    </tr>\n",
       "    <tr>\n",
       "      <th>4</th>\n",
       "      <td>40.654800</td>\n",
       "      <td>-73.609700</td>\n",
       "      <td>2021</td>\n",
       "      <td>8000</td>\n",
       "      <td>0.366972</td>\n",
       "      <td>538</td>\n",
       "      <td>0</td>\n",
       "      <td>6</td>\n",
       "      <td>1</td>\n",
       "      <td>5</td>\n",
       "      <td>0</td>\n",
       "      <td>0</td>\n",
       "    </tr>\n",
       "  </tbody>\n",
       "</table>\n",
       "</div>"
      ],
      "text/plain": [
       "         lat       long  year  odometer  odometer/price  desc_len  \\\n",
       "0  35.060000 -85.250000  2020     27442        0.499036      4482   \n",
       "1  40.821805 -74.061962  2016     60023        3.542852       968   \n",
       "2  33.779214 -84.411811  2017     14048        0.394718      4286   \n",
       "3  35.715954 -78.655304  2013    117291        8.089034      3241   \n",
       "4  40.654800 -73.609700  2021      8000        0.366972       538   \n",
       "\n",
       "   model_in_desc  model_len  model_word_count  month  dayofweek  diff_years  \n",
       "0              0         22                 5      4          5           1  \n",
       "1              0         20                 4      5          0           5  \n",
       "2              0         16                 3      4          2           4  \n",
       "3              0          4                 1      4          5           8  \n",
       "4              0          6                 1      5          0           0  "
      ]
     },
     "execution_count": 160,
     "metadata": {},
     "output_type": "execute_result"
    }
   ],
   "source": [
    "df2 = df_f[['lat', 'long', 'year', 'odometer', 'odometer/price', 'desc_len', 'model_in_desc', 'model_len', 'model_word_count', \n",
    "            'month', 'dayofweek', 'diff_years']]\n",
    "data = df2\n",
    "data.head()"
   ]
  },
  {
   "cell_type": "code",
   "execution_count": 161,
   "metadata": {},
   "outputs": [
    {
     "data": {
      "text/plain": [
       "StandardScaler()"
      ]
     },
     "execution_count": 161,
     "metadata": {},
     "output_type": "execute_result"
    }
   ],
   "source": [
    "std_scaler = StandardScaler()\n",
    "std_scaler"
   ]
  },
  {
   "cell_type": "code",
   "execution_count": 162,
   "metadata": {},
   "outputs": [
    {
     "data": {
      "text/plain": [
       "StandardScaler()"
      ]
     },
     "execution_count": 162,
     "metadata": {},
     "output_type": "execute_result"
    }
   ],
   "source": [
    "std_scaler.fit(data)"
   ]
  },
  {
   "cell_type": "code",
   "execution_count": 163,
   "metadata": {},
   "outputs": [
    {
     "data": {
      "text/plain": [
       "array([[-0.61847986,  0.48571905,  1.2973306 , ..., -0.61559799,\n",
       "         1.12079287, -1.2973306 ],\n",
       "       [ 0.38814468,  1.11182909,  0.68268671, ...,  1.62443674,\n",
       "        -1.37528365, -0.68268671],\n",
       "       [-0.84224145,  0.53262616,  0.83634768, ..., -0.61559799,\n",
       "        -0.37685304, -0.83634768],\n",
       "       ...,\n",
       "       [ 1.10515797, -1.62589835, -0.08561816, ..., -0.61559799,\n",
       "         0.12236226,  0.08561816],\n",
       "       [ 0.77385356,  0.25359821,  0.52902573, ..., -0.61559799,\n",
       "        -0.37685304, -0.52902573],\n",
       "       [-0.33720247,  0.98658299,  0.83634768, ..., -0.61559799,\n",
       "         1.12079287, -0.83634768]])"
      ]
     },
     "execution_count": 163,
     "metadata": {},
     "output_type": "execute_result"
    }
   ],
   "source": [
    "std_scaler = std_scaler.transform(data)\n",
    "std_scaler"
   ]
  },
  {
   "cell_type": "code",
   "execution_count": 164,
   "metadata": {},
   "outputs": [],
   "source": [
    "data_list = ['lat', 'long', 'year', 'odometer', 'odometer/price', 'desc_len', 'model_in_desc', 'model_len', 'model_word_count', \n",
    "            'month', 'dayofweek', 'diff_years']\n",
    "new_data = [name + '_std' for name in data_list]  "
   ]
  },
  {
   "cell_type": "code",
   "execution_count": 165,
   "metadata": {},
   "outputs": [
    {
     "data": {
      "text/html": [
       "<div>\n",
       "<style scoped>\n",
       "    .dataframe tbody tr th:only-of-type {\n",
       "        vertical-align: middle;\n",
       "    }\n",
       "\n",
       "    .dataframe tbody tr th {\n",
       "        vertical-align: top;\n",
       "    }\n",
       "\n",
       "    .dataframe thead th {\n",
       "        text-align: right;\n",
       "    }\n",
       "</style>\n",
       "<table border=\"1\" class=\"dataframe\">\n",
       "  <thead>\n",
       "    <tr style=\"text-align: right;\">\n",
       "      <th></th>\n",
       "      <th>id</th>\n",
       "      <th>url</th>\n",
       "      <th>region</th>\n",
       "      <th>region_url</th>\n",
       "      <th>price</th>\n",
       "      <th>year</th>\n",
       "      <th>manufacturer</th>\n",
       "      <th>model</th>\n",
       "      <th>fuel</th>\n",
       "      <th>odometer</th>\n",
       "      <th>...</th>\n",
       "      <th>year_std</th>\n",
       "      <th>odometer_std</th>\n",
       "      <th>odometer/price_std</th>\n",
       "      <th>desc_len_std</th>\n",
       "      <th>model_in_desc_std</th>\n",
       "      <th>model_len_std</th>\n",
       "      <th>model_word_count_std</th>\n",
       "      <th>month_std</th>\n",
       "      <th>dayofweek_std</th>\n",
       "      <th>diff_years_std</th>\n",
       "    </tr>\n",
       "  </thead>\n",
       "  <tbody>\n",
       "    <tr>\n",
       "      <th>0</th>\n",
       "      <td>7308295377</td>\n",
       "      <td>https://chattanooga.craigslist.org/ctd/d/chatt...</td>\n",
       "      <td>chattanooga</td>\n",
       "      <td>https://chattanooga.craigslist.org</td>\n",
       "      <td>54990</td>\n",
       "      <td>2020</td>\n",
       "      <td>ram</td>\n",
       "      <td>2500 crew cab big horn</td>\n",
       "      <td>diesel</td>\n",
       "      <td>27442</td>\n",
       "      <td>...</td>\n",
       "      <td>1.297331</td>\n",
       "      <td>-1.071088</td>\n",
       "      <td>-0.508921</td>\n",
       "      <td>0.626992</td>\n",
       "      <td>-0.155649</td>\n",
       "      <td>1.164216</td>\n",
       "      <td>1.912839</td>\n",
       "      <td>-0.615598</td>\n",
       "      <td>1.120793</td>\n",
       "      <td>-1.297331</td>\n",
       "    </tr>\n",
       "    <tr>\n",
       "      <th>1</th>\n",
       "      <td>7316380095</td>\n",
       "      <td>https://newjersey.craigslist.org/ctd/d/carlsta...</td>\n",
       "      <td>north jersey</td>\n",
       "      <td>https://newjersey.craigslist.org</td>\n",
       "      <td>16942</td>\n",
       "      <td>2016</td>\n",
       "      <td>ford</td>\n",
       "      <td>explorer 4wd 4dr xlt</td>\n",
       "      <td>other</td>\n",
       "      <td>60023</td>\n",
       "      <td>...</td>\n",
       "      <td>0.682687</td>\n",
       "      <td>-0.553341</td>\n",
       "      <td>-0.401239</td>\n",
       "      <td>-0.646618</td>\n",
       "      <td>-0.155649</td>\n",
       "      <td>0.932991</td>\n",
       "      <td>1.237156</td>\n",
       "      <td>1.624437</td>\n",
       "      <td>-1.375284</td>\n",
       "      <td>-0.682687</td>\n",
       "    </tr>\n",
       "    <tr>\n",
       "      <th>2</th>\n",
       "      <td>7313733749</td>\n",
       "      <td>https://reno.craigslist.org/ctd/d/atlanta-2017...</td>\n",
       "      <td>reno / tahoe</td>\n",
       "      <td>https://reno.craigslist.org</td>\n",
       "      <td>35590</td>\n",
       "      <td>2017</td>\n",
       "      <td>volkswagen</td>\n",
       "      <td>golf r hatchback</td>\n",
       "      <td>gas</td>\n",
       "      <td>14048</td>\n",
       "      <td>...</td>\n",
       "      <td>0.836348</td>\n",
       "      <td>-1.283933</td>\n",
       "      <td>-0.512612</td>\n",
       "      <td>0.555954</td>\n",
       "      <td>-0.155649</td>\n",
       "      <td>0.470540</td>\n",
       "      <td>0.561473</td>\n",
       "      <td>-0.615598</td>\n",
       "      <td>-0.376853</td>\n",
       "      <td>-0.836348</td>\n",
       "    </tr>\n",
       "    <tr>\n",
       "      <th>3</th>\n",
       "      <td>7308210929</td>\n",
       "      <td>https://fayetteville.craigslist.org/ctd/d/rale...</td>\n",
       "      <td>fayetteville</td>\n",
       "      <td>https://fayetteville.craigslist.org</td>\n",
       "      <td>14500</td>\n",
       "      <td>2013</td>\n",
       "      <td>toyota</td>\n",
       "      <td>rav4</td>\n",
       "      <td>gas</td>\n",
       "      <td>117291</td>\n",
       "      <td>...</td>\n",
       "      <td>0.221704</td>\n",
       "      <td>0.356708</td>\n",
       "      <td>-0.240408</td>\n",
       "      <td>0.177205</td>\n",
       "      <td>-0.155649</td>\n",
       "      <td>-0.916812</td>\n",
       "      <td>-0.789894</td>\n",
       "      <td>-0.615598</td>\n",
       "      <td>1.120793</td>\n",
       "      <td>-0.221704</td>\n",
       "    </tr>\n",
       "    <tr>\n",
       "      <th>4</th>\n",
       "      <td>7316474668</td>\n",
       "      <td>https://newyork.craigslist.org/lgi/cto/d/baldw...</td>\n",
       "      <td>new york city</td>\n",
       "      <td>https://newyork.craigslist.org</td>\n",
       "      <td>21800</td>\n",
       "      <td>2021</td>\n",
       "      <td>nissan</td>\n",
       "      <td>altima</td>\n",
       "      <td>gas</td>\n",
       "      <td>8000</td>\n",
       "      <td>...</td>\n",
       "      <td>1.450992</td>\n",
       "      <td>-1.380043</td>\n",
       "      <td>-0.513593</td>\n",
       "      <td>-0.802467</td>\n",
       "      <td>-0.155649</td>\n",
       "      <td>-0.685586</td>\n",
       "      <td>-0.789894</td>\n",
       "      <td>1.624437</td>\n",
       "      <td>-1.375284</td>\n",
       "      <td>-1.450992</td>\n",
       "    </tr>\n",
       "  </tbody>\n",
       "</table>\n",
       "<p>5 rows × 1456 columns</p>\n",
       "</div>"
      ],
      "text/plain": [
       "           id                                                url  \\\n",
       "0  7308295377  https://chattanooga.craigslist.org/ctd/d/chatt...   \n",
       "1  7316380095  https://newjersey.craigslist.org/ctd/d/carlsta...   \n",
       "2  7313733749  https://reno.craigslist.org/ctd/d/atlanta-2017...   \n",
       "3  7308210929  https://fayetteville.craigslist.org/ctd/d/rale...   \n",
       "4  7316474668  https://newyork.craigslist.org/lgi/cto/d/baldw...   \n",
       "\n",
       "          region                           region_url  price  year  \\\n",
       "0    chattanooga   https://chattanooga.craigslist.org  54990  2020   \n",
       "1   north jersey     https://newjersey.craigslist.org  16942  2016   \n",
       "2   reno / tahoe          https://reno.craigslist.org  35590  2017   \n",
       "3   fayetteville  https://fayetteville.craigslist.org  14500  2013   \n",
       "4  new york city       https://newyork.craigslist.org  21800  2021   \n",
       "\n",
       "  manufacturer                   model    fuel  odometer  ...  year_std  \\\n",
       "0          ram  2500 crew cab big horn  diesel     27442  ...  1.297331   \n",
       "1         ford    explorer 4wd 4dr xlt   other     60023  ...  0.682687   \n",
       "2   volkswagen        golf r hatchback     gas     14048  ...  0.836348   \n",
       "3       toyota                    rav4     gas    117291  ...  0.221704   \n",
       "4       nissan                  altima     gas      8000  ...  1.450992   \n",
       "\n",
       "  odometer_std odometer/price_std desc_len_std model_in_desc_std  \\\n",
       "0    -1.071088          -0.508921     0.626992         -0.155649   \n",
       "1    -0.553341          -0.401239    -0.646618         -0.155649   \n",
       "2    -1.283933          -0.512612     0.555954         -0.155649   \n",
       "3     0.356708          -0.240408     0.177205         -0.155649   \n",
       "4    -1.380043          -0.513593    -0.802467         -0.155649   \n",
       "\n",
       "   model_len_std  model_word_count_std month_std dayofweek_std diff_years_std  \n",
       "0       1.164216              1.912839 -0.615598      1.120793      -1.297331  \n",
       "1       0.932991              1.237156  1.624437     -1.375284      -0.682687  \n",
       "2       0.470540              0.561473 -0.615598     -0.376853      -0.836348  \n",
       "3      -0.916812             -0.789894 -0.615598      1.120793      -0.221704  \n",
       "4      -0.685586             -0.789894  1.624437     -1.375284      -1.450992  \n",
       "\n",
       "[5 rows x 1456 columns]"
      ]
     },
     "execution_count": 165,
     "metadata": {},
     "output_type": "execute_result"
    }
   ],
   "source": [
    "df_f[new_data] = std_scaler\n",
    "df_f.head()"
   ]
  },
  {
   "cell_type": "markdown",
   "metadata": {},
   "source": [
    "Из финального датафрейма удаляются исходные (непреобразованные колонки)"
   ]
  },
  {
   "cell_type": "code",
   "execution_count": 167,
   "metadata": {},
   "outputs": [],
   "source": [
    "df_prepared = df_f.copy()\n",
    "columns_for_drop = ['year', 'url', 'region', 'region_url', 'manufacturer',\n",
    "                    'model', 'fuel', 'odometer', 'title_status', 'transmission',\n",
    "                    'image_url', 'description', 'state', 'lat', 'long', 'posting_date',\n",
    "                    'odometer/price','desc_len', 'model_in_desc', 'age_category', \n",
    "                    'model_len', 'model_word_count', 'short_model', 'date', \n",
    "                    'month', 'dayofweek', 'diff_years']"
   ]
  },
  {
   "cell_type": "code",
   "execution_count": 168,
   "metadata": {},
   "outputs": [],
   "source": [
    "df_prepared = df_prepared.drop(columns=columns_for_drop)"
   ]
  },
  {
   "cell_type": "code",
   "execution_count": 169,
   "metadata": {},
   "outputs": [
    {
     "data": {
      "text/html": [
       "<div>\n",
       "<style scoped>\n",
       "    .dataframe tbody tr th:only-of-type {\n",
       "        vertical-align: middle;\n",
       "    }\n",
       "\n",
       "    .dataframe tbody tr th {\n",
       "        vertical-align: top;\n",
       "    }\n",
       "\n",
       "    .dataframe thead th {\n",
       "        text-align: right;\n",
       "    }\n",
       "</style>\n",
       "<table border=\"1\" class=\"dataframe\">\n",
       "  <thead>\n",
       "    <tr style=\"text-align: right;\">\n",
       "      <th></th>\n",
       "      <th>id</th>\n",
       "      <th>price</th>\n",
       "      <th>price_category</th>\n",
       "      <th>post_year</th>\n",
       "      <th>short_model_-benz</th>\n",
       "      <th>short_model_1</th>\n",
       "      <th>short_model_124</th>\n",
       "      <th>short_model_128i</th>\n",
       "      <th>short_model_135i</th>\n",
       "      <th>short_model_1500</th>\n",
       "      <th>...</th>\n",
       "      <th>year_std</th>\n",
       "      <th>odometer_std</th>\n",
       "      <th>odometer/price_std</th>\n",
       "      <th>desc_len_std</th>\n",
       "      <th>model_in_desc_std</th>\n",
       "      <th>model_len_std</th>\n",
       "      <th>model_word_count_std</th>\n",
       "      <th>month_std</th>\n",
       "      <th>dayofweek_std</th>\n",
       "      <th>diff_years_std</th>\n",
       "    </tr>\n",
       "  </thead>\n",
       "  <tbody>\n",
       "    <tr>\n",
       "      <th>0</th>\n",
       "      <td>7308295377</td>\n",
       "      <td>54990</td>\n",
       "      <td>high</td>\n",
       "      <td>2021</td>\n",
       "      <td>0.0</td>\n",
       "      <td>0.0</td>\n",
       "      <td>0.0</td>\n",
       "      <td>0.0</td>\n",
       "      <td>0.0</td>\n",
       "      <td>0.0</td>\n",
       "      <td>...</td>\n",
       "      <td>1.297331</td>\n",
       "      <td>-1.071088</td>\n",
       "      <td>-0.508921</td>\n",
       "      <td>0.626992</td>\n",
       "      <td>-0.155649</td>\n",
       "      <td>1.164216</td>\n",
       "      <td>1.912839</td>\n",
       "      <td>-0.615598</td>\n",
       "      <td>1.120793</td>\n",
       "      <td>-1.297331</td>\n",
       "    </tr>\n",
       "    <tr>\n",
       "      <th>1</th>\n",
       "      <td>7316380095</td>\n",
       "      <td>16942</td>\n",
       "      <td>medium</td>\n",
       "      <td>2021</td>\n",
       "      <td>0.0</td>\n",
       "      <td>0.0</td>\n",
       "      <td>0.0</td>\n",
       "      <td>0.0</td>\n",
       "      <td>0.0</td>\n",
       "      <td>0.0</td>\n",
       "      <td>...</td>\n",
       "      <td>0.682687</td>\n",
       "      <td>-0.553341</td>\n",
       "      <td>-0.401239</td>\n",
       "      <td>-0.646618</td>\n",
       "      <td>-0.155649</td>\n",
       "      <td>0.932991</td>\n",
       "      <td>1.237156</td>\n",
       "      <td>1.624437</td>\n",
       "      <td>-1.375284</td>\n",
       "      <td>-0.682687</td>\n",
       "    </tr>\n",
       "    <tr>\n",
       "      <th>2</th>\n",
       "      <td>7313733749</td>\n",
       "      <td>35590</td>\n",
       "      <td>high</td>\n",
       "      <td>2021</td>\n",
       "      <td>0.0</td>\n",
       "      <td>0.0</td>\n",
       "      <td>0.0</td>\n",
       "      <td>0.0</td>\n",
       "      <td>0.0</td>\n",
       "      <td>0.0</td>\n",
       "      <td>...</td>\n",
       "      <td>0.836348</td>\n",
       "      <td>-1.283933</td>\n",
       "      <td>-0.512612</td>\n",
       "      <td>0.555954</td>\n",
       "      <td>-0.155649</td>\n",
       "      <td>0.470540</td>\n",
       "      <td>0.561473</td>\n",
       "      <td>-0.615598</td>\n",
       "      <td>-0.376853</td>\n",
       "      <td>-0.836348</td>\n",
       "    </tr>\n",
       "    <tr>\n",
       "      <th>3</th>\n",
       "      <td>7308210929</td>\n",
       "      <td>14500</td>\n",
       "      <td>medium</td>\n",
       "      <td>2021</td>\n",
       "      <td>0.0</td>\n",
       "      <td>0.0</td>\n",
       "      <td>0.0</td>\n",
       "      <td>0.0</td>\n",
       "      <td>0.0</td>\n",
       "      <td>0.0</td>\n",
       "      <td>...</td>\n",
       "      <td>0.221704</td>\n",
       "      <td>0.356708</td>\n",
       "      <td>-0.240408</td>\n",
       "      <td>0.177205</td>\n",
       "      <td>-0.155649</td>\n",
       "      <td>-0.916812</td>\n",
       "      <td>-0.789894</td>\n",
       "      <td>-0.615598</td>\n",
       "      <td>1.120793</td>\n",
       "      <td>-0.221704</td>\n",
       "    </tr>\n",
       "    <tr>\n",
       "      <th>4</th>\n",
       "      <td>7316474668</td>\n",
       "      <td>21800</td>\n",
       "      <td>medium</td>\n",
       "      <td>2021</td>\n",
       "      <td>0.0</td>\n",
       "      <td>0.0</td>\n",
       "      <td>0.0</td>\n",
       "      <td>0.0</td>\n",
       "      <td>0.0</td>\n",
       "      <td>0.0</td>\n",
       "      <td>...</td>\n",
       "      <td>1.450992</td>\n",
       "      <td>-1.380043</td>\n",
       "      <td>-0.513593</td>\n",
       "      <td>-0.802467</td>\n",
       "      <td>-0.155649</td>\n",
       "      <td>-0.685586</td>\n",
       "      <td>-0.789894</td>\n",
       "      <td>1.624437</td>\n",
       "      <td>-1.375284</td>\n",
       "      <td>-1.450992</td>\n",
       "    </tr>\n",
       "    <tr>\n",
       "      <th>...</th>\n",
       "      <td>...</td>\n",
       "      <td>...</td>\n",
       "      <td>...</td>\n",
       "      <td>...</td>\n",
       "      <td>...</td>\n",
       "      <td>...</td>\n",
       "      <td>...</td>\n",
       "      <td>...</td>\n",
       "      <td>...</td>\n",
       "      <td>...</td>\n",
       "      <td>...</td>\n",
       "      <td>...</td>\n",
       "      <td>...</td>\n",
       "      <td>...</td>\n",
       "      <td>...</td>\n",
       "      <td>...</td>\n",
       "      <td>...</td>\n",
       "      <td>...</td>\n",
       "      <td>...</td>\n",
       "      <td>...</td>\n",
       "      <td>...</td>\n",
       "    </tr>\n",
       "    <tr>\n",
       "      <th>9656</th>\n",
       "      <td>7304876387</td>\n",
       "      <td>4495</td>\n",
       "      <td>low</td>\n",
       "      <td>2021</td>\n",
       "      <td>0.0</td>\n",
       "      <td>0.0</td>\n",
       "      <td>0.0</td>\n",
       "      <td>0.0</td>\n",
       "      <td>0.0</td>\n",
       "      <td>0.0</td>\n",
       "      <td>...</td>\n",
       "      <td>-1.468567</td>\n",
       "      <td>0.876489</td>\n",
       "      <td>0.653979</td>\n",
       "      <td>-0.377688</td>\n",
       "      <td>-0.155649</td>\n",
       "      <td>-0.916812</td>\n",
       "      <td>-0.789894</td>\n",
       "      <td>-0.615598</td>\n",
       "      <td>1.120793</td>\n",
       "      <td>1.468567</td>\n",
       "    </tr>\n",
       "    <tr>\n",
       "      <th>9657</th>\n",
       "      <td>7316152972</td>\n",
       "      <td>14495</td>\n",
       "      <td>medium</td>\n",
       "      <td>2021</td>\n",
       "      <td>0.0</td>\n",
       "      <td>0.0</td>\n",
       "      <td>0.0</td>\n",
       "      <td>0.0</td>\n",
       "      <td>0.0</td>\n",
       "      <td>0.0</td>\n",
       "      <td>...</td>\n",
       "      <td>-0.546601</td>\n",
       "      <td>0.297625</td>\n",
       "      <td>-0.249383</td>\n",
       "      <td>-0.653867</td>\n",
       "      <td>-0.155649</td>\n",
       "      <td>-0.454361</td>\n",
       "      <td>-0.789894</td>\n",
       "      <td>1.624437</td>\n",
       "      <td>-1.375284</td>\n",
       "      <td>0.546601</td>\n",
       "    </tr>\n",
       "    <tr>\n",
       "      <th>9658</th>\n",
       "      <td>7310993818</td>\n",
       "      <td>8995</td>\n",
       "      <td>low</td>\n",
       "      <td>2021</td>\n",
       "      <td>0.0</td>\n",
       "      <td>0.0</td>\n",
       "      <td>0.0</td>\n",
       "      <td>0.0</td>\n",
       "      <td>0.0</td>\n",
       "      <td>0.0</td>\n",
       "      <td>...</td>\n",
       "      <td>-0.085618</td>\n",
       "      <td>0.879413</td>\n",
       "      <td>0.064097</td>\n",
       "      <td>-0.668002</td>\n",
       "      <td>-0.155649</td>\n",
       "      <td>1.511054</td>\n",
       "      <td>1.912839</td>\n",
       "      <td>-0.615598</td>\n",
       "      <td>0.122362</td>\n",
       "      <td>0.085618</td>\n",
       "    </tr>\n",
       "    <tr>\n",
       "      <th>9659</th>\n",
       "      <td>7306637427</td>\n",
       "      <td>31900</td>\n",
       "      <td>high</td>\n",
       "      <td>2021</td>\n",
       "      <td>0.0</td>\n",
       "      <td>0.0</td>\n",
       "      <td>0.0</td>\n",
       "      <td>0.0</td>\n",
       "      <td>0.0</td>\n",
       "      <td>0.0</td>\n",
       "      <td>...</td>\n",
       "      <td>0.529026</td>\n",
       "      <td>-0.522831</td>\n",
       "      <td>-0.457880</td>\n",
       "      <td>0.323268</td>\n",
       "      <td>-0.155649</td>\n",
       "      <td>-0.569974</td>\n",
       "      <td>-0.789894</td>\n",
       "      <td>-0.615598</td>\n",
       "      <td>-0.376853</td>\n",
       "      <td>-0.529026</td>\n",
       "    </tr>\n",
       "    <tr>\n",
       "      <th>9660</th>\n",
       "      <td>7311960763</td>\n",
       "      <td>31990</td>\n",
       "      <td>high</td>\n",
       "      <td>2021</td>\n",
       "      <td>0.0</td>\n",
       "      <td>0.0</td>\n",
       "      <td>0.0</td>\n",
       "      <td>0.0</td>\n",
       "      <td>0.0</td>\n",
       "      <td>1.0</td>\n",
       "      <td>...</td>\n",
       "      <td>0.836348</td>\n",
       "      <td>-0.936348</td>\n",
       "      <td>-0.486851</td>\n",
       "      <td>0.627354</td>\n",
       "      <td>-0.155649</td>\n",
       "      <td>1.164216</td>\n",
       "      <td>1.912839</td>\n",
       "      <td>-0.615598</td>\n",
       "      <td>1.120793</td>\n",
       "      <td>-0.836348</td>\n",
       "    </tr>\n",
       "  </tbody>\n",
       "</table>\n",
       "<p>9661 rows × 1429 columns</p>\n",
       "</div>"
      ],
      "text/plain": [
       "              id  price price_category  post_year  short_model_-benz  \\\n",
       "0     7308295377  54990           high       2021                0.0   \n",
       "1     7316380095  16942         medium       2021                0.0   \n",
       "2     7313733749  35590           high       2021                0.0   \n",
       "3     7308210929  14500         medium       2021                0.0   \n",
       "4     7316474668  21800         medium       2021                0.0   \n",
       "...          ...    ...            ...        ...                ...   \n",
       "9656  7304876387   4495            low       2021                0.0   \n",
       "9657  7316152972  14495         medium       2021                0.0   \n",
       "9658  7310993818   8995            low       2021                0.0   \n",
       "9659  7306637427  31900           high       2021                0.0   \n",
       "9660  7311960763  31990           high       2021                0.0   \n",
       "\n",
       "      short_model_1  short_model_124  short_model_128i  short_model_135i  \\\n",
       "0               0.0              0.0               0.0               0.0   \n",
       "1               0.0              0.0               0.0               0.0   \n",
       "2               0.0              0.0               0.0               0.0   \n",
       "3               0.0              0.0               0.0               0.0   \n",
       "4               0.0              0.0               0.0               0.0   \n",
       "...             ...              ...               ...               ...   \n",
       "9656            0.0              0.0               0.0               0.0   \n",
       "9657            0.0              0.0               0.0               0.0   \n",
       "9658            0.0              0.0               0.0               0.0   \n",
       "9659            0.0              0.0               0.0               0.0   \n",
       "9660            0.0              0.0               0.0               0.0   \n",
       "\n",
       "      short_model_1500  ...  year_std  odometer_std  odometer/price_std  \\\n",
       "0                  0.0  ...  1.297331     -1.071088           -0.508921   \n",
       "1                  0.0  ...  0.682687     -0.553341           -0.401239   \n",
       "2                  0.0  ...  0.836348     -1.283933           -0.512612   \n",
       "3                  0.0  ...  0.221704      0.356708           -0.240408   \n",
       "4                  0.0  ...  1.450992     -1.380043           -0.513593   \n",
       "...                ...  ...       ...           ...                 ...   \n",
       "9656               0.0  ... -1.468567      0.876489            0.653979   \n",
       "9657               0.0  ... -0.546601      0.297625           -0.249383   \n",
       "9658               0.0  ... -0.085618      0.879413            0.064097   \n",
       "9659               0.0  ...  0.529026     -0.522831           -0.457880   \n",
       "9660               1.0  ...  0.836348     -0.936348           -0.486851   \n",
       "\n",
       "      desc_len_std  model_in_desc_std  model_len_std  model_word_count_std  \\\n",
       "0         0.626992          -0.155649       1.164216              1.912839   \n",
       "1        -0.646618          -0.155649       0.932991              1.237156   \n",
       "2         0.555954          -0.155649       0.470540              0.561473   \n",
       "3         0.177205          -0.155649      -0.916812             -0.789894   \n",
       "4        -0.802467          -0.155649      -0.685586             -0.789894   \n",
       "...            ...                ...            ...                   ...   \n",
       "9656     -0.377688          -0.155649      -0.916812             -0.789894   \n",
       "9657     -0.653867          -0.155649      -0.454361             -0.789894   \n",
       "9658     -0.668002          -0.155649       1.511054              1.912839   \n",
       "9659      0.323268          -0.155649      -0.569974             -0.789894   \n",
       "9660      0.627354          -0.155649       1.164216              1.912839   \n",
       "\n",
       "      month_std  dayofweek_std  diff_years_std  \n",
       "0     -0.615598       1.120793       -1.297331  \n",
       "1      1.624437      -1.375284       -0.682687  \n",
       "2     -0.615598      -0.376853       -0.836348  \n",
       "3     -0.615598       1.120793       -0.221704  \n",
       "4      1.624437      -1.375284       -1.450992  \n",
       "...         ...            ...             ...  \n",
       "9656  -0.615598       1.120793        1.468567  \n",
       "9657   1.624437      -1.375284        0.546601  \n",
       "9658  -0.615598       0.122362        0.085618  \n",
       "9659  -0.615598      -0.376853       -0.529026  \n",
       "9660  -0.615598       1.120793       -0.836348  \n",
       "\n",
       "[9661 rows x 1429 columns]"
      ]
     },
     "execution_count": 169,
     "metadata": {},
     "output_type": "execute_result"
    }
   ],
   "source": [
    "df_prepared"
   ]
  },
  {
   "cell_type": "code",
   "execution_count": 170,
   "metadata": {},
   "outputs": [],
   "source": [
    "df_prepared.to_csv('data/vehicles_dataset_prepared_s.csv', index=False)"
   ]
  },
  {
   "cell_type": "markdown",
   "metadata": {},
   "source": [
    "Подготовленные данные сохранены в финальный датафрейм, который и будет испоьзоваться для дальнейшей работы. "
   ]
  },
  {
   "cell_type": "markdown",
   "metadata": {
    "jp-MarkdownHeadingCollapsed": true,
    "tags": []
   },
   "source": [
    "## MODELLING"
   ]
  },
  {
   "cell_type": "code",
   "execution_count": 13,
   "metadata": {},
   "outputs": [
    {
     "data": {
      "text/html": [
       "<div>\n",
       "<style scoped>\n",
       "    .dataframe tbody tr th:only-of-type {\n",
       "        vertical-align: middle;\n",
       "    }\n",
       "\n",
       "    .dataframe tbody tr th {\n",
       "        vertical-align: top;\n",
       "    }\n",
       "\n",
       "    .dataframe thead th {\n",
       "        text-align: right;\n",
       "    }\n",
       "</style>\n",
       "<table border=\"1\" class=\"dataframe\">\n",
       "  <thead>\n",
       "    <tr style=\"text-align: right;\">\n",
       "      <th></th>\n",
       "      <th>id</th>\n",
       "      <th>price</th>\n",
       "      <th>price_category</th>\n",
       "      <th>post_year</th>\n",
       "      <th>short_model_-benz</th>\n",
       "      <th>short_model_1</th>\n",
       "      <th>short_model_124</th>\n",
       "      <th>short_model_128i</th>\n",
       "      <th>short_model_135i</th>\n",
       "      <th>short_model_1500</th>\n",
       "      <th>...</th>\n",
       "      <th>year_std</th>\n",
       "      <th>odometer_std</th>\n",
       "      <th>odometer/price_std</th>\n",
       "      <th>desc_len_std</th>\n",
       "      <th>model_in_desc_std</th>\n",
       "      <th>model_len_std</th>\n",
       "      <th>model_word_count_std</th>\n",
       "      <th>month_std</th>\n",
       "      <th>dayofweek_std</th>\n",
       "      <th>diff_years_std</th>\n",
       "    </tr>\n",
       "  </thead>\n",
       "  <tbody>\n",
       "    <tr>\n",
       "      <th>0</th>\n",
       "      <td>7308295377</td>\n",
       "      <td>54990</td>\n",
       "      <td>high</td>\n",
       "      <td>2021</td>\n",
       "      <td>0.0</td>\n",
       "      <td>0.0</td>\n",
       "      <td>0.0</td>\n",
       "      <td>0.0</td>\n",
       "      <td>0.0</td>\n",
       "      <td>0.0</td>\n",
       "      <td>...</td>\n",
       "      <td>1.297331</td>\n",
       "      <td>-1.071088</td>\n",
       "      <td>-0.508921</td>\n",
       "      <td>0.626992</td>\n",
       "      <td>-0.155649</td>\n",
       "      <td>1.164216</td>\n",
       "      <td>1.912839</td>\n",
       "      <td>-0.615598</td>\n",
       "      <td>1.120793</td>\n",
       "      <td>-1.297331</td>\n",
       "    </tr>\n",
       "    <tr>\n",
       "      <th>1</th>\n",
       "      <td>7316380095</td>\n",
       "      <td>16942</td>\n",
       "      <td>medium</td>\n",
       "      <td>2021</td>\n",
       "      <td>0.0</td>\n",
       "      <td>0.0</td>\n",
       "      <td>0.0</td>\n",
       "      <td>0.0</td>\n",
       "      <td>0.0</td>\n",
       "      <td>0.0</td>\n",
       "      <td>...</td>\n",
       "      <td>0.682687</td>\n",
       "      <td>-0.553341</td>\n",
       "      <td>-0.401239</td>\n",
       "      <td>-0.646618</td>\n",
       "      <td>-0.155649</td>\n",
       "      <td>0.932991</td>\n",
       "      <td>1.237156</td>\n",
       "      <td>1.624437</td>\n",
       "      <td>-1.375284</td>\n",
       "      <td>-0.682687</td>\n",
       "    </tr>\n",
       "    <tr>\n",
       "      <th>2</th>\n",
       "      <td>7313733749</td>\n",
       "      <td>35590</td>\n",
       "      <td>high</td>\n",
       "      <td>2021</td>\n",
       "      <td>0.0</td>\n",
       "      <td>0.0</td>\n",
       "      <td>0.0</td>\n",
       "      <td>0.0</td>\n",
       "      <td>0.0</td>\n",
       "      <td>0.0</td>\n",
       "      <td>...</td>\n",
       "      <td>0.836348</td>\n",
       "      <td>-1.283933</td>\n",
       "      <td>-0.512612</td>\n",
       "      <td>0.555954</td>\n",
       "      <td>-0.155649</td>\n",
       "      <td>0.470540</td>\n",
       "      <td>0.561473</td>\n",
       "      <td>-0.615598</td>\n",
       "      <td>-0.376853</td>\n",
       "      <td>-0.836348</td>\n",
       "    </tr>\n",
       "    <tr>\n",
       "      <th>3</th>\n",
       "      <td>7308210929</td>\n",
       "      <td>14500</td>\n",
       "      <td>medium</td>\n",
       "      <td>2021</td>\n",
       "      <td>0.0</td>\n",
       "      <td>0.0</td>\n",
       "      <td>0.0</td>\n",
       "      <td>0.0</td>\n",
       "      <td>0.0</td>\n",
       "      <td>0.0</td>\n",
       "      <td>...</td>\n",
       "      <td>0.221704</td>\n",
       "      <td>0.356708</td>\n",
       "      <td>-0.240408</td>\n",
       "      <td>0.177205</td>\n",
       "      <td>-0.155649</td>\n",
       "      <td>-0.916812</td>\n",
       "      <td>-0.789894</td>\n",
       "      <td>-0.615598</td>\n",
       "      <td>1.120793</td>\n",
       "      <td>-0.221704</td>\n",
       "    </tr>\n",
       "    <tr>\n",
       "      <th>4</th>\n",
       "      <td>7316474668</td>\n",
       "      <td>21800</td>\n",
       "      <td>medium</td>\n",
       "      <td>2021</td>\n",
       "      <td>0.0</td>\n",
       "      <td>0.0</td>\n",
       "      <td>0.0</td>\n",
       "      <td>0.0</td>\n",
       "      <td>0.0</td>\n",
       "      <td>0.0</td>\n",
       "      <td>...</td>\n",
       "      <td>1.450992</td>\n",
       "      <td>-1.380043</td>\n",
       "      <td>-0.513593</td>\n",
       "      <td>-0.802467</td>\n",
       "      <td>-0.155649</td>\n",
       "      <td>-0.685586</td>\n",
       "      <td>-0.789894</td>\n",
       "      <td>1.624437</td>\n",
       "      <td>-1.375284</td>\n",
       "      <td>-1.450992</td>\n",
       "    </tr>\n",
       "    <tr>\n",
       "      <th>...</th>\n",
       "      <td>...</td>\n",
       "      <td>...</td>\n",
       "      <td>...</td>\n",
       "      <td>...</td>\n",
       "      <td>...</td>\n",
       "      <td>...</td>\n",
       "      <td>...</td>\n",
       "      <td>...</td>\n",
       "      <td>...</td>\n",
       "      <td>...</td>\n",
       "      <td>...</td>\n",
       "      <td>...</td>\n",
       "      <td>...</td>\n",
       "      <td>...</td>\n",
       "      <td>...</td>\n",
       "      <td>...</td>\n",
       "      <td>...</td>\n",
       "      <td>...</td>\n",
       "      <td>...</td>\n",
       "      <td>...</td>\n",
       "      <td>...</td>\n",
       "    </tr>\n",
       "    <tr>\n",
       "      <th>9656</th>\n",
       "      <td>7304876387</td>\n",
       "      <td>4495</td>\n",
       "      <td>low</td>\n",
       "      <td>2021</td>\n",
       "      <td>0.0</td>\n",
       "      <td>0.0</td>\n",
       "      <td>0.0</td>\n",
       "      <td>0.0</td>\n",
       "      <td>0.0</td>\n",
       "      <td>0.0</td>\n",
       "      <td>...</td>\n",
       "      <td>-1.468567</td>\n",
       "      <td>0.876489</td>\n",
       "      <td>0.653979</td>\n",
       "      <td>-0.377688</td>\n",
       "      <td>-0.155649</td>\n",
       "      <td>-0.916812</td>\n",
       "      <td>-0.789894</td>\n",
       "      <td>-0.615598</td>\n",
       "      <td>1.120793</td>\n",
       "      <td>1.468567</td>\n",
       "    </tr>\n",
       "    <tr>\n",
       "      <th>9657</th>\n",
       "      <td>7316152972</td>\n",
       "      <td>14495</td>\n",
       "      <td>medium</td>\n",
       "      <td>2021</td>\n",
       "      <td>0.0</td>\n",
       "      <td>0.0</td>\n",
       "      <td>0.0</td>\n",
       "      <td>0.0</td>\n",
       "      <td>0.0</td>\n",
       "      <td>0.0</td>\n",
       "      <td>...</td>\n",
       "      <td>-0.546601</td>\n",
       "      <td>0.297625</td>\n",
       "      <td>-0.249383</td>\n",
       "      <td>-0.653867</td>\n",
       "      <td>-0.155649</td>\n",
       "      <td>-0.454361</td>\n",
       "      <td>-0.789894</td>\n",
       "      <td>1.624437</td>\n",
       "      <td>-1.375284</td>\n",
       "      <td>0.546601</td>\n",
       "    </tr>\n",
       "    <tr>\n",
       "      <th>9658</th>\n",
       "      <td>7310993818</td>\n",
       "      <td>8995</td>\n",
       "      <td>low</td>\n",
       "      <td>2021</td>\n",
       "      <td>0.0</td>\n",
       "      <td>0.0</td>\n",
       "      <td>0.0</td>\n",
       "      <td>0.0</td>\n",
       "      <td>0.0</td>\n",
       "      <td>0.0</td>\n",
       "      <td>...</td>\n",
       "      <td>-0.085618</td>\n",
       "      <td>0.879413</td>\n",
       "      <td>0.064097</td>\n",
       "      <td>-0.668002</td>\n",
       "      <td>-0.155649</td>\n",
       "      <td>1.511054</td>\n",
       "      <td>1.912839</td>\n",
       "      <td>-0.615598</td>\n",
       "      <td>0.122362</td>\n",
       "      <td>0.085618</td>\n",
       "    </tr>\n",
       "    <tr>\n",
       "      <th>9659</th>\n",
       "      <td>7306637427</td>\n",
       "      <td>31900</td>\n",
       "      <td>high</td>\n",
       "      <td>2021</td>\n",
       "      <td>0.0</td>\n",
       "      <td>0.0</td>\n",
       "      <td>0.0</td>\n",
       "      <td>0.0</td>\n",
       "      <td>0.0</td>\n",
       "      <td>0.0</td>\n",
       "      <td>...</td>\n",
       "      <td>0.529026</td>\n",
       "      <td>-0.522831</td>\n",
       "      <td>-0.457880</td>\n",
       "      <td>0.323268</td>\n",
       "      <td>-0.155649</td>\n",
       "      <td>-0.569974</td>\n",
       "      <td>-0.789894</td>\n",
       "      <td>-0.615598</td>\n",
       "      <td>-0.376853</td>\n",
       "      <td>-0.529026</td>\n",
       "    </tr>\n",
       "    <tr>\n",
       "      <th>9660</th>\n",
       "      <td>7311960763</td>\n",
       "      <td>31990</td>\n",
       "      <td>high</td>\n",
       "      <td>2021</td>\n",
       "      <td>0.0</td>\n",
       "      <td>0.0</td>\n",
       "      <td>0.0</td>\n",
       "      <td>0.0</td>\n",
       "      <td>0.0</td>\n",
       "      <td>1.0</td>\n",
       "      <td>...</td>\n",
       "      <td>0.836348</td>\n",
       "      <td>-0.936348</td>\n",
       "      <td>-0.486851</td>\n",
       "      <td>0.627354</td>\n",
       "      <td>-0.155649</td>\n",
       "      <td>1.164216</td>\n",
       "      <td>1.912839</td>\n",
       "      <td>-0.615598</td>\n",
       "      <td>1.120793</td>\n",
       "      <td>-0.836348</td>\n",
       "    </tr>\n",
       "  </tbody>\n",
       "</table>\n",
       "<p>9661 rows × 1429 columns</p>\n",
       "</div>"
      ],
      "text/plain": [
       "              id  price price_category  post_year  short_model_-benz  \\\n",
       "0     7308295377  54990           high       2021                0.0   \n",
       "1     7316380095  16942         medium       2021                0.0   \n",
       "2     7313733749  35590           high       2021                0.0   \n",
       "3     7308210929  14500         medium       2021                0.0   \n",
       "4     7316474668  21800         medium       2021                0.0   \n",
       "...          ...    ...            ...        ...                ...   \n",
       "9656  7304876387   4495            low       2021                0.0   \n",
       "9657  7316152972  14495         medium       2021                0.0   \n",
       "9658  7310993818   8995            low       2021                0.0   \n",
       "9659  7306637427  31900           high       2021                0.0   \n",
       "9660  7311960763  31990           high       2021                0.0   \n",
       "\n",
       "      short_model_1  short_model_124  short_model_128i  short_model_135i  \\\n",
       "0               0.0              0.0               0.0               0.0   \n",
       "1               0.0              0.0               0.0               0.0   \n",
       "2               0.0              0.0               0.0               0.0   \n",
       "3               0.0              0.0               0.0               0.0   \n",
       "4               0.0              0.0               0.0               0.0   \n",
       "...             ...              ...               ...               ...   \n",
       "9656            0.0              0.0               0.0               0.0   \n",
       "9657            0.0              0.0               0.0               0.0   \n",
       "9658            0.0              0.0               0.0               0.0   \n",
       "9659            0.0              0.0               0.0               0.0   \n",
       "9660            0.0              0.0               0.0               0.0   \n",
       "\n",
       "      short_model_1500  ...  year_std  odometer_std  odometer/price_std  \\\n",
       "0                  0.0  ...  1.297331     -1.071088           -0.508921   \n",
       "1                  0.0  ...  0.682687     -0.553341           -0.401239   \n",
       "2                  0.0  ...  0.836348     -1.283933           -0.512612   \n",
       "3                  0.0  ...  0.221704      0.356708           -0.240408   \n",
       "4                  0.0  ...  1.450992     -1.380043           -0.513593   \n",
       "...                ...  ...       ...           ...                 ...   \n",
       "9656               0.0  ... -1.468567      0.876489            0.653979   \n",
       "9657               0.0  ... -0.546601      0.297625           -0.249383   \n",
       "9658               0.0  ... -0.085618      0.879413            0.064097   \n",
       "9659               0.0  ...  0.529026     -0.522831           -0.457880   \n",
       "9660               1.0  ...  0.836348     -0.936348           -0.486851   \n",
       "\n",
       "      desc_len_std  model_in_desc_std  model_len_std  model_word_count_std  \\\n",
       "0         0.626992          -0.155649       1.164216              1.912839   \n",
       "1        -0.646618          -0.155649       0.932991              1.237156   \n",
       "2         0.555954          -0.155649       0.470540              0.561473   \n",
       "3         0.177205          -0.155649      -0.916812             -0.789894   \n",
       "4        -0.802467          -0.155649      -0.685586             -0.789894   \n",
       "...            ...                ...            ...                   ...   \n",
       "9656     -0.377688          -0.155649      -0.916812             -0.789894   \n",
       "9657     -0.653867          -0.155649      -0.454361             -0.789894   \n",
       "9658     -0.668002          -0.155649       1.511054              1.912839   \n",
       "9659      0.323268          -0.155649      -0.569974             -0.789894   \n",
       "9660      0.627354          -0.155649       1.164216              1.912839   \n",
       "\n",
       "      month_std  dayofweek_std  diff_years_std  \n",
       "0     -0.615598       1.120793       -1.297331  \n",
       "1      1.624437      -1.375284       -0.682687  \n",
       "2     -0.615598      -0.376853       -0.836348  \n",
       "3     -0.615598       1.120793       -0.221704  \n",
       "4      1.624437      -1.375284       -1.450992  \n",
       "...         ...            ...             ...  \n",
       "9656  -0.615598       1.120793        1.468567  \n",
       "9657   1.624437      -1.375284        0.546601  \n",
       "9658  -0.615598       0.122362        0.085618  \n",
       "9659  -0.615598      -0.376853       -0.529026  \n",
       "9660  -0.615598       1.120793       -0.836348  \n",
       "\n",
       "[9661 rows x 1429 columns]"
      ]
     },
     "execution_count": 13,
     "metadata": {},
     "output_type": "execute_result"
    }
   ],
   "source": [
    "df_ = pd.read_csv('data/vehicles_dataset_prepared_s.csv')\n",
    "df_"
   ]
  },
  {
   "cell_type": "code",
   "execution_count": 14,
   "metadata": {},
   "outputs": [
    {
     "data": {
      "text/plain": [
       "(9661, 1429)"
      ]
     },
     "execution_count": 14,
     "metadata": {},
     "output_type": "execute_result"
    }
   ],
   "source": [
    "df_prepared = df_.copy()\n",
    "df_prepared.shape"
   ]
  },
  {
   "cell_type": "code",
   "execution_count": 15,
   "metadata": {},
   "outputs": [],
   "source": [
    "df_prepared = df_prepared.drop(['price', 'odometer/price_std'], axis=1)\n",
    "\n",
    "x1 = df_prepared.drop(['price_category'], axis=1)\n",
    "y1 = df_prepared['price_category']"
   ]
  },
  {
   "cell_type": "code",
   "execution_count": 16,
   "metadata": {},
   "outputs": [],
   "source": [
    "x_train, x_test, y_train, y_test = train_test_split(x1, y1, test_size=0.3, random_state=42)"
   ]
  },
  {
   "cell_type": "markdown",
   "metadata": {
    "jp-MarkdownHeadingCollapsed": true,
    "tags": []
   },
   "source": [
    "### Random Forest"
   ]
  },
  {
   "cell_type": "code",
   "execution_count": 18,
   "metadata": {},
   "outputs": [
    {
     "data": {
      "text/plain": [
       "RandomForestClassifier(random_state=50)"
      ]
     },
     "execution_count": 18,
     "metadata": {},
     "output_type": "execute_result"
    }
   ],
   "source": [
    "rf_clf = RandomForestClassifier(random_state = 50)\n",
    "rf_clf.fit(x_train, y_train)"
   ]
  },
  {
   "cell_type": "code",
   "execution_count": 19,
   "metadata": {},
   "outputs": [
    {
     "name": "stdout",
     "output_type": "stream",
     "text": [
      "Точность на тренировочной выборке: 1.0\n",
      "Точность на тестовой выборке: 0.7606071058985857\n",
      "Матрица ошибок: \n",
      " [[809  31 153]\n",
      " [ 14 783 109]\n",
      " [146 241 613]]\n"
     ]
    }
   ],
   "source": [
    "predicted_train_rf = rf_clf.predict(x_train)\n",
    "predicted_test_rf = rf_clf.predict(x_test)\n",
    "\n",
    "print(f'Точность на тренировочной выборке: {accuracy_score(y_train, predicted_train_rf)}')\n",
    "print(f'Точность на тестовой выборке: {accuracy_score(y_test, predicted_test_rf)}')\n",
    "\n",
    "print(f'Матрица ошибок: \\n {confusion_matrix(y_test, predicted_test_rf)}')"
   ]
  },
  {
   "cell_type": "code",
   "execution_count": 20,
   "metadata": {},
   "outputs": [
    {
     "data": {
      "text/plain": [
       "array([0.03241443, 0.        , 0.        , ..., 0.00628852, 0.01978701,\n",
       "       0.07668103])"
      ]
     },
     "execution_count": 20,
     "metadata": {},
     "output_type": "execute_result"
    }
   ],
   "source": [
    "rf_clf.feature_importances_"
   ]
  },
  {
   "cell_type": "code",
   "execution_count": 21,
   "metadata": {},
   "outputs": [
    {
     "data": {
      "text/plain": [
       "RandomForestClassifier(bootstrap=False, n_estimators=500, random_state=42)"
      ]
     },
     "execution_count": 21,
     "metadata": {},
     "output_type": "execute_result"
    }
   ],
   "source": [
    "rf_clf_tun = RandomForestClassifier(random_state = 42, n_estimators = 500, bootstrap = False)\n",
    "rf_clf_tun.fit(x_train, y_train)"
   ]
  },
  {
   "cell_type": "code",
   "execution_count": 22,
   "metadata": {},
   "outputs": [
    {
     "name": "stdout",
     "output_type": "stream",
     "text": [
      "Точность на тренировочной выборке: 1.0\n",
      "Точность на тестовой выборке: 0.7685408761641945\n",
      "Матрица ошибок: \n",
      " [[810  25 158]\n",
      " [ 15 775 116]\n",
      " [132 225 643]]\n"
     ]
    }
   ],
   "source": [
    "predicted_train_tun = rf_clf_tun.predict(x_train)\n",
    "predicted_test_tun = rf_clf_tun.predict(x_test)\n",
    "\n",
    "print(f'Точность на тренировочной выборке: {accuracy_score(y_train, predicted_train_tun)}')\n",
    "print(f'Точность на тестовой выборке: {accuracy_score(y_test, predicted_test_tun)}')\n",
    "\n",
    "print(f'Матрица ошибок: \\n {confusion_matrix(y_test, predicted_test_tun)}')"
   ]
  },
  {
   "cell_type": "code",
   "execution_count": 23,
   "metadata": {},
   "outputs": [
    {
     "data": {
      "text/plain": [
       "array([0.76345358, 0.75753992, 0.7739645 , 0.75798817])"
      ]
     },
     "execution_count": 23,
     "metadata": {},
     "output_type": "execute_result"
    }
   ],
   "source": [
    "cross_val_score(rf_clf_tun, x_train, y_train, cv=4)"
   ]
  },
  {
   "cell_type": "code",
   "execution_count": 24,
   "metadata": {},
   "outputs": [
    {
     "data": {
      "text/plain": [
       "(0.7632365394238205, 0.006616893377890089)"
      ]
     },
     "execution_count": 24,
     "metadata": {},
     "output_type": "execute_result"
    }
   ],
   "source": [
    "val_score_rf = cross_val_score(rf_clf_tun, x_train, y_train, cv=4)\n",
    "val_score_rf.mean(), val_score_rf.std()"
   ]
  },
  {
   "cell_type": "markdown",
   "metadata": {
    "jp-MarkdownHeadingCollapsed": true,
    "tags": []
   },
   "source": [
    "### Logistic Regression"
   ]
  },
  {
   "cell_type": "code",
   "execution_count": 15,
   "metadata": {},
   "outputs": [
    {
     "data": {
      "text/plain": [
       "((6762, 1425), (2899, 1425))"
      ]
     },
     "execution_count": 15,
     "metadata": {},
     "output_type": "execute_result"
    }
   ],
   "source": [
    "df_prepared_2 = df_.copy()\n",
    "df_prepared_2 = df_prepared_2.drop(['odometer/price_std', 'price', 'id'], axis = 1)\n",
    "x = df_prepared_2.drop(['price_category'], axis=1)\n",
    "y = df_prepared_2.price_category\n",
    "\n",
    "x_train, x_test, y_train, y_test = train_test_split(x, y, test_size=0.3, random_state=42)\n",
    "x_train.shape, x_test.shape"
   ]
  },
  {
   "cell_type": "code",
   "execution_count": 16,
   "metadata": {},
   "outputs": [
    {
     "name": "stderr",
     "output_type": "stream",
     "text": [
      "C:\\Users\\ssvet1\\anaconda3\\lib\\site-packages\\sklearn\\linear_model\\_logistic.py:814: ConvergenceWarning: lbfgs failed to converge (status=1):\n",
      "STOP: TOTAL NO. of ITERATIONS REACHED LIMIT.\n",
      "\n",
      "Increase the number of iterations (max_iter) or scale the data as shown in:\n",
      "    https://scikit-learn.org/stable/modules/preprocessing.html\n",
      "Please also refer to the documentation for alternative solver options:\n",
      "    https://scikit-learn.org/stable/modules/linear_model.html#logistic-regression\n",
      "  n_iter_i = _check_optimize_result(\n"
     ]
    },
    {
     "data": {
      "text/plain": [
       "LogisticRegression()"
      ]
     },
     "execution_count": 16,
     "metadata": {},
     "output_type": "execute_result"
    }
   ],
   "source": [
    "logreg = LogisticRegression()\n",
    "logreg.fit(x_train, y_train)"
   ]
  },
  {
   "cell_type": "code",
   "execution_count": 17,
   "metadata": {},
   "outputs": [
    {
     "name": "stdout",
     "output_type": "stream",
     "text": [
      "Точность на тренировочной выборке: 0.6706595681750961\n",
      "Матрица ошибок на тренировочной выборке: \n",
      " [[1692  124  413]\n",
      " [  86 1907  312]\n",
      " [ 533  759  936]]\n",
      "Точность на тестовой выборке: 0.6505691617799241\n",
      "Матрица ошибок на тестовой выборке: \n",
      " [[739  56 198]\n",
      " [ 30 743 133]\n",
      " [248 348 404]]\n"
     ]
    }
   ],
   "source": [
    "pred_train = logreg.predict(x_train)\n",
    "print('Точность на тренировочной выборке:', accuracy_score(y_train, pred_train))\n",
    "print(f'Матрица ошибок на тренировочной выборке: \\n {confusion_matrix(y_train, pred_train)}')\n",
    "\n",
    "logreg_pred = logreg.predict(x_test)\n",
    "print('Точность на тестовой выборке:', accuracy_score(y_test, logreg_pred))\n",
    "print(f'Матрица ошибок на тестовой выборке: \\n {confusion_matrix(y_test, logreg_pred)}')"
   ]
  },
  {
   "cell_type": "code",
   "execution_count": 18,
   "metadata": {},
   "outputs": [
    {
     "name": "stderr",
     "output_type": "stream",
     "text": [
      "C:\\Users\\ssvet1\\anaconda3\\lib\\site-packages\\sklearn\\linear_model\\_logistic.py:814: ConvergenceWarning: lbfgs failed to converge (status=1):\n",
      "STOP: TOTAL NO. of ITERATIONS REACHED LIMIT.\n",
      "\n",
      "Increase the number of iterations (max_iter) or scale the data as shown in:\n",
      "    https://scikit-learn.org/stable/modules/preprocessing.html\n",
      "Please also refer to the documentation for alternative solver options:\n",
      "    https://scikit-learn.org/stable/modules/linear_model.html#logistic-regression\n",
      "  n_iter_i = _check_optimize_result(\n"
     ]
    },
    {
     "data": {
      "text/plain": [
       "LogisticRegression(C=40, max_iter=200, random_state=50)"
      ]
     },
     "execution_count": 18,
     "metadata": {},
     "output_type": "execute_result"
    }
   ],
   "source": [
    "logreg_tun = LogisticRegression(C=40, max_iter=200, random_state=50)\n",
    "logreg_tun.fit(x_train, y_train)"
   ]
  },
  {
   "cell_type": "code",
   "execution_count": 19,
   "metadata": {},
   "outputs": [
    {
     "name": "stdout",
     "output_type": "stream",
     "text": [
      "Точность на тренировочной выборке: 0.6907719609582964\n",
      "Матрица ошибок на тренировочной выборке: \n",
      " [[1748  118  363]\n",
      " [ 102 1932  271]\n",
      " [ 502  735  991]]\n",
      "Точность на тестовой выборке: 0.6547085201793722\n",
      "Матрица ошибок на тестовой выборке: \n",
      " [[745  48 200]\n",
      " [ 32 744 130]\n",
      " [240 351 409]]\n"
     ]
    }
   ],
   "source": [
    "pred_train_t = logreg_tun.predict(x_train)\n",
    "print('Точность на тренировочной выборке:', accuracy_score(y_train, pred_train_t))\n",
    "print(f'Матрица ошибок на тренировочной выборке: \\n {confusion_matrix(y_train, pred_train_t)}')\n",
    "\n",
    "logreg_pred_t = logreg_tun.predict(x_test)\n",
    "print('Точность на тестовой выборке:', accuracy_score(y_test, logreg_pred_t))\n",
    "print(f'Матрица ошибок на тестовой выборке: \\n {confusion_matrix(y_test, logreg_pred_t)}')"
   ]
  },
  {
   "cell_type": "code",
   "execution_count": 20,
   "metadata": {},
   "outputs": [
    {
     "name": "stderr",
     "output_type": "stream",
     "text": [
      "C:\\Users\\ssvet1\\anaconda3\\lib\\site-packages\\sklearn\\linear_model\\_logistic.py:814: ConvergenceWarning: lbfgs failed to converge (status=1):\n",
      "STOP: TOTAL NO. of ITERATIONS REACHED LIMIT.\n",
      "\n",
      "Increase the number of iterations (max_iter) or scale the data as shown in:\n",
      "    https://scikit-learn.org/stable/modules/preprocessing.html\n",
      "Please also refer to the documentation for alternative solver options:\n",
      "    https://scikit-learn.org/stable/modules/linear_model.html#logistic-regression\n",
      "  n_iter_i = _check_optimize_result(\n",
      "C:\\Users\\ssvet1\\anaconda3\\lib\\site-packages\\sklearn\\linear_model\\_logistic.py:814: ConvergenceWarning: lbfgs failed to converge (status=1):\n",
      "STOP: TOTAL NO. of ITERATIONS REACHED LIMIT.\n",
      "\n",
      "Increase the number of iterations (max_iter) or scale the data as shown in:\n",
      "    https://scikit-learn.org/stable/modules/preprocessing.html\n",
      "Please also refer to the documentation for alternative solver options:\n",
      "    https://scikit-learn.org/stable/modules/linear_model.html#logistic-regression\n",
      "  n_iter_i = _check_optimize_result(\n",
      "C:\\Users\\ssvet1\\anaconda3\\lib\\site-packages\\sklearn\\linear_model\\_logistic.py:814: ConvergenceWarning: lbfgs failed to converge (status=1):\n",
      "STOP: TOTAL NO. of ITERATIONS REACHED LIMIT.\n",
      "\n",
      "Increase the number of iterations (max_iter) or scale the data as shown in:\n",
      "    https://scikit-learn.org/stable/modules/preprocessing.html\n",
      "Please also refer to the documentation for alternative solver options:\n",
      "    https://scikit-learn.org/stable/modules/linear_model.html#logistic-regression\n",
      "  n_iter_i = _check_optimize_result(\n"
     ]
    },
    {
     "name": "stdout",
     "output_type": "stream",
     "text": [
      "[0.69012419 0.6741573  0.67633136 0.66923077]\n"
     ]
    },
    {
     "name": "stderr",
     "output_type": "stream",
     "text": [
      "C:\\Users\\ssvet1\\anaconda3\\lib\\site-packages\\sklearn\\linear_model\\_logistic.py:814: ConvergenceWarning: lbfgs failed to converge (status=1):\n",
      "STOP: TOTAL NO. of ITERATIONS REACHED LIMIT.\n",
      "\n",
      "Increase the number of iterations (max_iter) or scale the data as shown in:\n",
      "    https://scikit-learn.org/stable/modules/preprocessing.html\n",
      "Please also refer to the documentation for alternative solver options:\n",
      "    https://scikit-learn.org/stable/modules/linear_model.html#logistic-regression\n",
      "  n_iter_i = _check_optimize_result(\n"
     ]
    },
    {
     "data": {
      "text/plain": [
       "(0.6774609051049937, 0.007750540239786721)"
      ]
     },
     "execution_count": 20,
     "metadata": {},
     "output_type": "execute_result"
    }
   ],
   "source": [
    "val_score_lr = cross_val_score(logreg_tun, x_train, y_train, cv=4)\n",
    "print(val_score_lr)\n",
    "val_score_lr.mean(), val_score_lr.std()"
   ]
  },
  {
   "cell_type": "markdown",
   "metadata": {
    "jp-MarkdownHeadingCollapsed": true,
    "tags": []
   },
   "source": [
    "### MLP"
   ]
  },
  {
   "cell_type": "code",
   "execution_count": 21,
   "metadata": {},
   "outputs": [
    {
     "data": {
      "text/plain": [
       "MLPClassifier(hidden_layer_sizes=(250, 40, 20), max_iter=500, random_state=42)"
      ]
     },
     "execution_count": 21,
     "metadata": {},
     "output_type": "execute_result"
    }
   ],
   "source": [
    "mlp =  MLPClassifier(random_state=42, max_iter=500, hidden_layer_sizes=(250,40,20))\n",
    "mlp.fit(x_train, y_train)"
   ]
  },
  {
   "cell_type": "code",
   "execution_count": 22,
   "metadata": {},
   "outputs": [
    {
     "name": "stdout",
     "output_type": "stream",
     "text": [
      "Точность на тренировочной выборке: 0.8231292517006803\n",
      "Матрица ошибок на тренировочной выборке: \n",
      " [[1977   76  176]\n",
      " [  40 2209   56]\n",
      " [ 173  675 1380]]\n",
      "Точность на тестовой выборке: 0.7312866505691618\n",
      "Матрица ошибок на тестовой выборке: \n",
      " [[813  37 143]\n",
      " [ 23 833  50]\n",
      " [113 413 474]]\n"
     ]
    }
   ],
   "source": [
    "pred_mlp_train = mlp.predict(x_train)\n",
    "print('Точность на тренировочной выборке:', accuracy_score(y_train, pred_mlp_train))\n",
    "print(f'Матрица ошибок на тренировочной выборке: \\n {confusion_matrix(y_train, pred_mlp_train)}')\n",
    "\n",
    "pred_mlp_test = mlp.predict(x_test)\n",
    "print('Точность на тестовой выборке:', accuracy_score(y_test, pred_mlp_test))\n",
    "print(f'Матрица ошибок на тестовой выборке: \\n {confusion_matrix(y_test, pred_mlp_test)}')"
   ]
  },
  {
   "cell_type": "code",
   "execution_count": 23,
   "metadata": {},
   "outputs": [
    {
     "name": "stdout",
     "output_type": "stream",
     "text": [
      "[0.74985216 0.70313424 0.63431953 0.70236686]\n"
     ]
    },
    {
     "data": {
      "text/plain": [
       "(0.6974181972783164, 0.0411944321866997)"
      ]
     },
     "execution_count": 23,
     "metadata": {},
     "output_type": "execute_result"
    }
   ],
   "source": [
    "val_score_mlp = cross_val_score(mlp, x_train, y_train, cv=4)\n",
    "print(val_score_mlp)\n",
    "val_score_mlp.mean(), val_score_mlp.std()"
   ]
  },
  {
   "cell_type": "markdown",
   "metadata": {
    "jp-MarkdownHeadingCollapsed": true,
    "tags": []
   },
   "source": [
    "## RESULTS"
   ]
  },
  {
   "cell_type": "markdown",
   "metadata": {},
   "source": [
    "В ходе исследований были построены модели случайного леса (Random Forest), логистической регрессии (Logistic Regression) и многослойного персептрона (MLP).  Проведенные исследования показывают, что стандартное отклонение во всех моделях не большое, но наилучшим образом себя проявила модель случайного леса. \n",
    "В модели логистической регрессии точность на тестовой выборке всего лишь 65%, а в MLP метрики качества не стабильны от итерации к итерации кросс-валидации. Модель склонна к переобучению, что видно по качеству метрики на третьем фолде.\n",
    "Модель слечайного леса хорошо обучилась на тренировочной выборке, хотя на тесте качество просело более чем на 0,2. У модели есть склонность к переобучению, но она сохраняет предиктивную способность."
   ]
  },
  {
   "cell_type": "markdown",
   "metadata": {},
   "source": [
    "Т.о., модель случайного леса - финальный артефакт результата моделирования. \n",
    "\n",
    "Далее следует результат обучения модели на всём датасете."
   ]
  },
  {
   "cell_type": "code",
   "execution_count": 25,
   "metadata": {},
   "outputs": [
    {
     "data": {
      "text/plain": [
       "RandomForestClassifier(bootstrap=False, n_estimators=500, random_state=42)"
      ]
     },
     "execution_count": 25,
     "metadata": {},
     "output_type": "execute_result"
    }
   ],
   "source": [
    "rf_clf_tun.fit(x1, y1)"
   ]
  },
  {
   "cell_type": "code",
   "execution_count": 27,
   "metadata": {},
   "outputs": [],
   "source": [
    "filename = 'model.pickle'\n",
    "\n",
    "with open(filename, 'wb') as file:\n",
    "    pickle.dump(rf_clf_tun, file)"
   ]
  },
  {
   "cell_type": "markdown",
   "metadata": {},
   "source": [
    "Обеченная модель была сериализована"
   ]
  },
  {
   "cell_type": "code",
   "execution_count": 28,
   "metadata": {},
   "outputs": [],
   "source": [
    "with open(filename, 'rb') as file:\n",
    "    model_from_pickle = pickle.load(file)"
   ]
  },
  {
   "cell_type": "code",
   "execution_count": 29,
   "metadata": {},
   "outputs": [
    {
     "data": {
      "text/plain": [
       "RandomForestClassifier(bootstrap=False, n_estimators=500, random_state=42)"
      ]
     },
     "execution_count": 29,
     "metadata": {},
     "output_type": "execute_result"
    }
   ],
   "source": [
    "model_from_pickle"
   ]
  },
  {
   "cell_type": "code",
   "execution_count": null,
   "metadata": {},
   "outputs": [],
   "source": []
  }
 ],
 "metadata": {
  "colab": {
   "collapsed_sections": [
    "oTIytkb-P_fc",
    "aXJiblYGPnl7"
   ],
   "name": "Практическая работа.ipynb",
   "provenance": []
  },
  "kernelspec": {
   "display_name": "Python 3 (ipykernel)",
   "language": "python",
   "name": "python3"
  },
  "language_info": {
   "codemirror_mode": {
    "name": "ipython",
    "version": 3
   },
   "file_extension": ".py",
   "mimetype": "text/x-python",
   "name": "python",
   "nbconvert_exporter": "python",
   "pygments_lexer": "ipython3",
   "version": "3.9.12"
  }
 },
 "nbformat": 4,
 "nbformat_minor": 4
}

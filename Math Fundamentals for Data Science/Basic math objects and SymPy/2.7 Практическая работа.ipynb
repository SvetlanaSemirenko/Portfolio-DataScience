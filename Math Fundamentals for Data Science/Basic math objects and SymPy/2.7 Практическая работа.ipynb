{
 "cells": [
  {
   "cell_type": "code",
   "execution_count": 2,
   "id": "2ae58124",
   "metadata": {},
   "outputs": [],
   "source": [
    "from sympy import *"
   ]
  },
  {
   "cell_type": "code",
   "execution_count": 3,
   "id": "5e74ca0c",
   "metadata": {},
   "outputs": [],
   "source": [
    "init_printing(use_unicode=False, wrap_line=False, no_global=True)"
   ]
  },
  {
   "cell_type": "markdown",
   "id": "11ee94d9",
   "metadata": {},
   "source": [
    "### Задание 1. Средний уровень"
   ]
  },
  {
   "cell_type": "markdown",
   "id": "c4da8c94",
   "metadata": {},
   "source": [
    "Задача 1. Найдите значение выражения: \n",
    "![](pics/1.png)"
   ]
  },
  {
   "cell_type": "code",
   "execution_count": 4,
   "id": "058598b0",
   "metadata": {},
   "outputs": [
    {
     "data": {
      "image/png": "[encoded data removed]",
      "text/latex": [
       "$\\displaystyle \\frac{\\left(\\sqrt{7} + \\sqrt{13}\\right)^{2}}{\\sqrt{91} + 10}$"
      ],
      "text/plain": [
       "                2\n",
       "/  ___     ____\\ \n",
       "\\\\/ 7  + \\/ 13 / \n",
       "-----------------\n",
       "     ____        \n",
       "   \\/ 91  + 10   "
      ]
     },
     "execution_count": 4,
     "metadata": {},
     "output_type": "execute_result"
    }
   ],
   "source": [
    "expr1 = (sqrt(13) + sqrt(7))**2 / (10 + sqrt(91))\n",
    "expr1"
   ]
  },
  {
   "cell_type": "code",
   "execution_count": 5,
   "id": "acf3b725",
   "metadata": {},
   "outputs": [
    {
     "data": {
      "image/png": "[encoded data removed]",
      "text/latex": [
       "$\\displaystyle 2$"
      ],
      "text/plain": [
       "2"
      ]
     },
     "execution_count": 5,
     "metadata": {},
     "output_type": "execute_result"
    }
   ],
   "source": [
    "simplify(expr1)"
   ]
  },
  {
   "cell_type": "markdown",
   "id": "dea7c40c",
   "metadata": {},
   "source": [
    "Задача 2. Найдите значение выражения, если lgb = 5:  \n",
    "\n",
    "![](pics/2.png)"
   ]
  },
  {
   "cell_type": "code",
   "execution_count": 6,
   "id": "a1c914ac",
   "metadata": {},
   "outputs": [
    {
     "data": {
      "image/png": "[encoded data removed]",
      "text/latex": [
       "$\\displaystyle 100000$"
      ],
      "text/plain": [
       "100000"
      ]
     },
     "execution_count": 6,
     "metadata": {},
     "output_type": "execute_result"
    }
   ],
   "source": [
    "b = Symbol('b')\n",
    "expr2 = log(10/b**3, 10)\n",
    "x = solve(Eq(log(b, 10),5))[0]\n",
    "x"
   ]
  },
  {
   "cell_type": "code",
   "execution_count": 7,
   "id": "628ee6c0",
   "metadata": {},
   "outputs": [
    {
     "data": {
      "image/png": "[encoded data removed]",
      "text/latex": [
       "$\\displaystyle -14$"
      ],
      "text/plain": [
       "-14"
      ]
     },
     "execution_count": 7,
     "metadata": {},
     "output_type": "execute_result"
    }
   ],
   "source": [
    "simplify(expr2.subs(b, x))"
   ]
  },
  {
   "cell_type": "markdown",
   "id": "4966944a",
   "metadata": {},
   "source": [
    "Задача 3. Упростите выражение:\n",
    "    \n",
    "![](pics/3.png)    "
   ]
  },
  {
   "cell_type": "code",
   "execution_count": 8,
   "id": "dff99f2f",
   "metadata": {},
   "outputs": [
    {
     "data": {
      "image/png": "[encoded data removed]",
      "text/latex": [
       "$\\displaystyle 6 a^{3.0}$"
      ],
      "text/plain": [
       "   3.0\n",
       "6*a   "
      ]
     },
     "execution_count": 8,
     "metadata": {},
     "output_type": "execute_result"
    }
   ],
   "source": [
    "a = Symbol('a')\n",
    "expr3 = 2 * a * a ** (4/3) * 3 * a ** (2/3)\n",
    "expr3"
   ]
  },
  {
   "cell_type": "markdown",
   "id": "b69b9d72",
   "metadata": {},
   "source": [
    "Задача 4. Реализуйте функцию на языке Python, принимающую на вход n и возвращающую значение следующей суммы:\n",
    "![](pics/4.png)"
   ]
  },
  {
   "cell_type": "code",
   "execution_count": 9,
   "id": "c103edff",
   "metadata": {},
   "outputs": [],
   "source": [
    "def summa(n):\n",
    "    summa = 0\n",
    "    for i in range(1, n + 1):\n",
    "        summa += ln(i)\n",
    "    return summa"
   ]
  },
  {
   "cell_type": "code",
   "execution_count": 10,
   "id": "ce43c593",
   "metadata": {},
   "outputs": [
    {
     "data": {
      "image/png": "[encoded data removed]",
      "text/latex": [
       "$\\displaystyle \\log{\\left(2 \\right)} + \\log{\\left(3 \\right)} + \\log{\\left(4 \\right)} + \\log{\\left(5 \\right)} + \\log{\\left(6 \\right)} + \\log{\\left(7 \\right)}$"
      ],
      "text/plain": [
       "log(2) + log(3) + log(4) + log(5) + log(6) + log(7)"
      ]
     },
     "execution_count": 10,
     "metadata": {},
     "output_type": "execute_result"
    }
   ],
   "source": [
    "summa(7)"
   ]
  },
  {
   "cell_type": "markdown",
   "id": "bd733b73",
   "metadata": {},
   "source": [
    "Задача 5.  Реализуйте функцию на языке Python, принимающую на вход n и возвращающую значение следующего выражения:\n",
    "![](pics/5.png)"
   ]
  },
  {
   "cell_type": "code",
   "execution_count": 11,
   "id": "be780d28",
   "metadata": {},
   "outputs": [],
   "source": [
    "def mult(n):\n",
    "    mult = 1\n",
    "    for i in range(1, n+1):\n",
    "        mult *= i\n",
    "    return ln(mult)"
   ]
  },
  {
   "cell_type": "code",
   "execution_count": 12,
   "id": "b15a1469",
   "metadata": {},
   "outputs": [
    {
     "data": {
      "image/png": "[encoded data removed]",
      "text/latex": [
       "$\\displaystyle \\log{\\left(5040 \\right)}$"
      ],
      "text/plain": [
       "log(5040)"
      ]
     },
     "execution_count": 12,
     "metadata": {},
     "output_type": "execute_result"
    }
   ],
   "source": [
    "mult(7)"
   ]
  },
  {
   "cell_type": "markdown",
   "id": "c372440d",
   "metadata": {},
   "source": [
    "Задача 6. Проверьте, что функции из заданий 4 и 5 эквивалентны. Объясните в комментарии к коду, почему это так."
   ]
  },
  {
   "cell_type": "markdown",
   "id": "02383bd3",
   "metadata": {},
   "source": [
    "Поскольку у логарифмов ln(2) + ln(3) одинаковое основание, то, сходя из свойств логарифмов, можно перемножить числа в скобках. Ответы из задач 4 и 5 совпадают:)"
   ]
  },
  {
   "cell_type": "code",
   "execution_count": 13,
   "id": "b8ae28a3",
   "metadata": {},
   "outputs": [
    {
     "data": {
      "image/png": "[encoded data removed]",
      "text/latex": [
       "$\\displaystyle \\log{\\left(6 \\right)}$"
      ],
      "text/plain": [
       "log(6)"
      ]
     },
     "execution_count": 13,
     "metadata": {},
     "output_type": "execute_result"
    }
   ],
   "source": [
    "expr4 = simplify(summa(3))\n",
    "expr4"
   ]
  },
  {
   "cell_type": "code",
   "execution_count": 14,
   "id": "184cca5a",
   "metadata": {},
   "outputs": [
    {
     "data": {
      "image/png": "[encoded data removed]",
      "text/latex": [
       "$\\displaystyle \\log{\\left(6 \\right)}$"
      ],
      "text/plain": [
       "log(6)"
      ]
     },
     "execution_count": 14,
     "metadata": {},
     "output_type": "execute_result"
    }
   ],
   "source": [
    "mult(3)"
   ]
  },
  {
   "cell_type": "markdown",
   "id": "0c36470d",
   "metadata": {},
   "source": [
    "### Задание 2. Сложный уровень"
   ]
  },
  {
   "cell_type": "markdown",
   "id": "a3f85aa4",
   "metadata": {},
   "source": [
    "Задача 1. Найдите значение выражения: \n",
    "    \n",
    "![](pics/7.png)"
   ]
  },
  {
   "cell_type": "code",
   "execution_count": 15,
   "id": "cc411504",
   "metadata": {},
   "outputs": [
    {
     "data": {
      "image/png": "[encoded data removed]",
      "text/latex": [
       "$\\displaystyle 4$"
      ],
      "text/plain": [
       "4"
      ]
     },
     "execution_count": 15,
     "metadata": {},
     "output_type": "execute_result"
    }
   ],
   "source": [
    "expr7 = (15 * (a ** (1/28)) ** (1/5) - 7 * (a ** (1/20)) ** (1/7)) / (2 * (a ** (1/4)) ** (1/35))\n",
    "expr7"
   ]
  },
  {
   "cell_type": "markdown",
   "id": "22134083",
   "metadata": {},
   "source": [
    "Задача 2. Найдите:  \n",
    "\n",
    "![](pics/8.png)"
   ]
  },
  {
   "cell_type": "code",
   "execution_count": 23,
   "id": "99513e98",
   "metadata": {},
   "outputs": [
    {
     "data": {
      "image/png": "[encoded data removed]",
      "text/latex": [
       "$\\displaystyle x$"
      ],
      "text/plain": [
       "x"
      ]
     },
     "execution_count": 23,
     "metadata": {},
     "output_type": "execute_result"
    }
   ],
   "source": [
    "x = Symbol('x')\n",
    "x"
   ]
  },
  {
   "cell_type": "code",
   "execution_count": 27,
   "id": "c58880f4",
   "metadata": {},
   "outputs": [],
   "source": [
    "num = (4*(2-x)-(2-x)*(2-x))**(1/3) \n",
    "denom = (4*(2+x)-(2+x)*(2+x))**(1/3)"
   ]
  },
  {
   "cell_type": "code",
   "execution_count": 28,
   "id": "a6d1091f",
   "metadata": {},
   "outputs": [
    {
     "data": {
      "image/png": "[encoded data removed]",
      "text/latex": [
       "$\\displaystyle \\frac{\\left(- 4 x - \\left(2 - x\\right)^{2} + 8\\right)^{0.333333333333333}}{\\left(4 x - \\left(x + 2\\right)^{2} + 8\\right)^{0.333333333333333}}$"
      ],
      "text/plain": [
       "                     0.333333333333333                     -0.333333333333333\n",
       "/              2    \\                  /             2    \\                  \n",
       "\\-4*x - (2 - x)  + 8/                 *\\4*x - (x + 2)  + 8/                  "
      ]
     },
     "execution_count": 28,
     "metadata": {},
     "output_type": "execute_result"
    }
   ],
   "source": [
    "expr8 = num / denom\n",
    "expr8"
   ]
  },
  {
   "cell_type": "code",
   "execution_count": 29,
   "id": "ab6f23e8",
   "metadata": {},
   "outputs": [
    {
     "data": {
      "image/png": "[encoded data removed]",
      "text/latex": [
       "$\\displaystyle 1$"
      ],
      "text/plain": [
       "1"
      ]
     },
     "execution_count": 29,
     "metadata": {},
     "output_type": "execute_result"
    }
   ],
   "source": [
    "simplify(expr8)"
   ]
  },
  {
   "cell_type": "markdown",
   "id": "7776eb7e",
   "metadata": {},
   "source": [
    "Задача 3. Найдите значение выражения: \n",
    "![](pics/9.png)"
   ]
  },
  {
   "cell_type": "code",
   "execution_count": 34,
   "id": "e12d6b11",
   "metadata": {},
   "outputs": [
    {
     "data": {
      "image/png": "[encoded data removed]",
      "text/latex": [
       "$\\displaystyle 5$"
      ],
      "text/plain": [
       "5"
      ]
     },
     "execution_count": 34,
     "metadata": {},
     "output_type": "execute_result"
    }
   ],
   "source": [
    "x = Symbol('x')\n",
    "expr9 = ((2 * x ** 3) ** 4 - (x ** 2) ** 6) / (3 * x ** 12)       \n",
    "expr9"
   ]
  },
  {
   "cell_type": "markdown",
   "id": "6dd9124c",
   "metadata": {},
   "source": [
    "Задача 4. Найдите значение выражения при b=2:\n",
    "![](pics/10.png)"
   ]
  },
  {
   "cell_type": "code",
   "execution_count": 36,
   "id": "1408b0a2",
   "metadata": {},
   "outputs": [
    {
     "data": {
      "image/png": "[encoded data removed]",
      "text/latex": [
       "$\\displaystyle - \\frac{4}{b^{3}}$"
      ],
      "text/plain": [
       "-4 \n",
       "---\n",
       "  3\n",
       " b "
      ]
     },
     "execution_count": 36,
     "metadata": {},
     "output_type": "execute_result"
    }
   ],
   "source": [
    "a,b = symbols(\"a,b\")\n",
    "expr10 = (11 * a ** 6 * b ** 3 - (3 * a **2 * b) ** 3) / (4 * a ** 6 * b ** 6)\n",
    "expr10"
   ]
  },
  {
   "cell_type": "code",
   "execution_count": 37,
   "id": "3d6e65bc",
   "metadata": {},
   "outputs": [
    {
     "data": {
      "image/png": "[encoded data removed]",
      "text/latex": [
       "$\\displaystyle - \\frac{1}{2}$"
      ],
      "text/plain": [
       "-1/2"
      ]
     },
     "execution_count": 37,
     "metadata": {},
     "output_type": "execute_result"
    }
   ],
   "source": [
    "simplify(expr10.subs(b, 2))"
   ]
  },
  {
   "cell_type": "code",
   "execution_count": null,
   "id": "c2c86d08",
   "metadata": {},
   "outputs": [],
   "source": []
  }
 ],
 "metadata": {
  "kernelspec": {
   "display_name": "Python 3 (ipykernel)",
   "language": "python",
   "name": "python3"
  },
  "language_info": {
   "codemirror_mode": {
    "name": "ipython",
    "version": 3
   },
   "file_extension": ".py",
   "mimetype": "text/x-python",
   "name": "python",
   "nbconvert_exporter": "python",
   "pygments_lexer": "ipython3",
   "version": "3.9.12"
  }
 },
 "nbformat": 4,
 "nbformat_minor": 5
}

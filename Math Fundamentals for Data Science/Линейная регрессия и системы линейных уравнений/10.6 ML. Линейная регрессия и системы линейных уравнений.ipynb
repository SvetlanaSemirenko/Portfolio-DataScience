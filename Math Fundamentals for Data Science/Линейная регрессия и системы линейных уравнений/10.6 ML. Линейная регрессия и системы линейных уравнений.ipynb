{
 "cells": [
  {
   "cell_type": "code",
   "execution_count": 1,
   "id": "2df24bbd",
   "metadata": {},
   "outputs": [],
   "source": [
    "from sympy import *\n",
    "import numpy as np"
   ]
  },
  {
   "cell_type": "markdown",
   "id": "b5aff758",
   "metadata": {},
   "source": [
    "## 1 Решите СЛАУ с помощью SymPy "
   ]
  },
  {
   "cell_type": "markdown",
   "id": "55e39160",
   "metadata": {},
   "source": [
    "### 1.1"
   ]
  },
  {
   "cell_type": "code",
   "execution_count": 2,
   "id": "98cb8a2e",
   "metadata": {},
   "outputs": [],
   "source": [
    "x, y = symbols('x, y')"
   ]
  },
  {
   "cell_type": "code",
   "execution_count": 3,
   "id": "e495ae8e",
   "metadata": {},
   "outputs": [
    {
     "data": {
      "text/latex": [
       "$\\displaystyle \\left[\\begin{matrix}-1 & 7 & -34\\\\8 & 8 & -48\\end{matrix}\\right]$"
      ],
      "text/plain": [
       "Matrix([\n",
       "[-1, 7, -34],\n",
       "[ 8, 8, -48]])"
      ]
     },
     "execution_count": 3,
     "metadata": {},
     "output_type": "execute_result"
    }
   ],
   "source": [
    "A_aug = Matrix([[-1, 7, -34], [8, 8, -48]])\n",
    "A_aug"
   ]
  },
  {
   "cell_type": "code",
   "execution_count": 4,
   "id": "71bbc937",
   "metadata": {},
   "outputs": [
    {
     "data": {
      "text/latex": [
       "$\\displaystyle \\left\\{\\left( -1, \\  -5\\right)\\right\\}$"
      ],
      "text/plain": [
       "{(-1, -5)}"
      ]
     },
     "execution_count": 4,
     "metadata": {},
     "output_type": "execute_result"
    }
   ],
   "source": [
    "linsolve(A_aug, [x, y])"
   ]
  },
  {
   "cell_type": "markdown",
   "id": "80119954",
   "metadata": {},
   "source": [
    "### 1.2"
   ]
  },
  {
   "cell_type": "code",
   "execution_count": 5,
   "id": "db702213",
   "metadata": {},
   "outputs": [
    {
     "data": {
      "text/latex": [
       "$\\displaystyle \\left[\\begin{matrix}4 & -7 & -4\\\\3 & -4 & -3\\end{matrix}\\right]$"
      ],
      "text/plain": [
       "Matrix([\n",
       "[4, -7, -4],\n",
       "[3, -4, -3]])"
      ]
     },
     "execution_count": 5,
     "metadata": {},
     "output_type": "execute_result"
    }
   ],
   "source": [
    "A_aug = Matrix([[4, -7, -4], [3, -4, -3]])\n",
    "A_aug"
   ]
  },
  {
   "cell_type": "code",
   "execution_count": 6,
   "id": "0cb8c161",
   "metadata": {},
   "outputs": [
    {
     "data": {
      "text/latex": [
       "$\\displaystyle \\left\\{\\left( -1, \\  0\\right)\\right\\}$"
      ],
      "text/plain": [
       "{(-1, 0)}"
      ]
     },
     "execution_count": 6,
     "metadata": {},
     "output_type": "execute_result"
    }
   ],
   "source": [
    "linsolve(A_aug, [x, y])"
   ]
  },
  {
   "cell_type": "markdown",
   "id": "64520bc4",
   "metadata": {},
   "source": [
    "### 1.3"
   ]
  },
  {
   "cell_type": "code",
   "execution_count": 7,
   "id": "ba42691b",
   "metadata": {},
   "outputs": [],
   "source": [
    "a, b = symbols('a,b')"
   ]
  },
  {
   "cell_type": "code",
   "execution_count": 8,
   "id": "046532f2",
   "metadata": {},
   "outputs": [
    {
     "data": {
      "text/latex": [
       "$\\displaystyle \\left[\\begin{matrix}8 & -4 & 64\\\\-3 & 3 & -21\\end{matrix}\\right]$"
      ],
      "text/plain": [
       "Matrix([\n",
       "[ 8, -4,  64],\n",
       "[-3,  3, -21]])"
      ]
     },
     "execution_count": 8,
     "metadata": {},
     "output_type": "execute_result"
    }
   ],
   "source": [
    "X_aug = Matrix([[8, -4, 64], [-3, 3, -21]])\n",
    "X_aug"
   ]
  },
  {
   "cell_type": "code",
   "execution_count": 9,
   "id": "50758918",
   "metadata": {},
   "outputs": [
    {
     "data": {
      "text/latex": [
       "$\\displaystyle \\left\\{\\left( 9, \\  2\\right)\\right\\}$"
      ],
      "text/plain": [
       "{(9, 2)}"
      ]
     },
     "execution_count": 9,
     "metadata": {},
     "output_type": "execute_result"
    }
   ],
   "source": [
    "linsolve(X_aug, [a, b])"
   ]
  },
  {
   "cell_type": "markdown",
   "id": "e1c0c10c",
   "metadata": {},
   "source": [
    "### 1.4"
   ]
  },
  {
   "cell_type": "code",
   "execution_count": 10,
   "id": "1126e6d3",
   "metadata": {},
   "outputs": [],
   "source": [
    "x1, x2, x3 = symbols('x1, x2, x3')"
   ]
  },
  {
   "cell_type": "code",
   "execution_count": 11,
   "id": "c65605fb",
   "metadata": {},
   "outputs": [
    {
     "data": {
      "text/latex": [
       "$\\displaystyle \\left[\\begin{matrix}5 & 7 & -5 & -47\\\\0 & -2 & 2 & 10\\\\-4 & -8 & -7 & 63\\end{matrix}\\right]$"
      ],
      "text/plain": [
       "Matrix([\n",
       "[ 5,  7, -5, -47],\n",
       "[ 0, -2,  2,  10],\n",
       "[-4, -8, -7,  63]])"
      ]
     },
     "execution_count": 11,
     "metadata": {},
     "output_type": "execute_result"
    }
   ],
   "source": [
    "X_aug = Matrix([[5, 7, -5, -47], [0, -2, 2, 10], [-4, -8, -7, 63]])\n",
    "X_aug"
   ]
  },
  {
   "cell_type": "code",
   "execution_count": 12,
   "id": "6975e899",
   "metadata": {},
   "outputs": [
    {
     "data": {
      "text/latex": [
       "$\\displaystyle \\left\\{\\left( -2, \\  -6, \\  -1\\right)\\right\\}$"
      ],
      "text/plain": [
       "{(-2, -6, -1)}"
      ]
     },
     "execution_count": 12,
     "metadata": {},
     "output_type": "execute_result"
    }
   ],
   "source": [
    "linsolve(X_aug, [x1, x2, x3])"
   ]
  },
  {
   "cell_type": "markdown",
   "id": "a8390f84",
   "metadata": {},
   "source": [
    "## 2. Умножьте матрицу на вектор и проверьте себя с помощью SymPy и задания 1."
   ]
  },
  {
   "cell_type": "markdown",
   "id": "40ec60f6",
   "metadata": {},
   "source": [
    "### 2.1"
   ]
  },
  {
   "cell_type": "code",
   "execution_count": 13,
   "id": "c2fc6d47",
   "metadata": {},
   "outputs": [
    {
     "data": {
      "text/latex": [
       "$\\displaystyle \\left[\\begin{matrix}-1 & 7\\\\8 & 8\\end{matrix}\\right]$"
      ],
      "text/plain": [
       "Matrix([\n",
       "[-1, 7],\n",
       "[ 8, 8]])"
      ]
     },
     "execution_count": 13,
     "metadata": {},
     "output_type": "execute_result"
    }
   ],
   "source": [
    "X = Matrix([[-1, 7], [8, 8]])\n",
    "X"
   ]
  },
  {
   "cell_type": "code",
   "execution_count": 14,
   "id": "6632d671",
   "metadata": {},
   "outputs": [
    {
     "data": {
      "text/latex": [
       "$\\displaystyle \\left[\\begin{matrix}-1\\\\-5\\end{matrix}\\right]$"
      ],
      "text/plain": [
       "Matrix([\n",
       "[-1],\n",
       "[-5]])"
      ]
     },
     "execution_count": 14,
     "metadata": {},
     "output_type": "execute_result"
    }
   ],
   "source": [
    "Y = Matrix([-1, -5])\n",
    "Y          "
   ]
  },
  {
   "cell_type": "code",
   "execution_count": 15,
   "id": "85edb3f6",
   "metadata": {},
   "outputs": [
    {
     "data": {
      "text/latex": [
       "$\\displaystyle \\left[\\begin{matrix}-34\\\\-48\\end{matrix}\\right]$"
      ],
      "text/plain": [
       "Matrix([\n",
       "[-34],\n",
       "[-48]])"
      ]
     },
     "execution_count": 15,
     "metadata": {},
     "output_type": "execute_result"
    }
   ],
   "source": [
    "X*Y"
   ]
  },
  {
   "cell_type": "markdown",
   "id": "259a66b6",
   "metadata": {},
   "source": [
    "### 2.2"
   ]
  },
  {
   "cell_type": "code",
   "execution_count": 16,
   "id": "d83a8b6b",
   "metadata": {},
   "outputs": [
    {
     "data": {
      "text/latex": [
       "$\\displaystyle \\left[\\begin{matrix}-4\\\\-3\\end{matrix}\\right]$"
      ],
      "text/plain": [
       "Matrix([\n",
       "[-4],\n",
       "[-3]])"
      ]
     },
     "execution_count": 16,
     "metadata": {},
     "output_type": "execute_result"
    }
   ],
   "source": [
    "X = Matrix([[4, -7], [3, -4]])\n",
    "Y = Matrix([-1, 0])\n",
    "X * Y"
   ]
  },
  {
   "cell_type": "markdown",
   "id": "400f94d4",
   "metadata": {},
   "source": [
    "### 2.3"
   ]
  },
  {
   "cell_type": "code",
   "execution_count": 17,
   "id": "c2d6d38a",
   "metadata": {},
   "outputs": [
    {
     "data": {
      "text/latex": [
       "$\\displaystyle \\left[\\begin{matrix}64\\\\-21\\end{matrix}\\right]$"
      ],
      "text/plain": [
       "Matrix([\n",
       "[ 64],\n",
       "[-21]])"
      ]
     },
     "execution_count": 17,
     "metadata": {},
     "output_type": "execute_result"
    }
   ],
   "source": [
    "A = Matrix([[8, -4], [-3, 3]])\n",
    "B = Matrix([9, 2])\n",
    "A * B"
   ]
  },
  {
   "cell_type": "markdown",
   "id": "044fb576",
   "metadata": {},
   "source": [
    "### 2.4"
   ]
  },
  {
   "cell_type": "code",
   "execution_count": 18,
   "id": "35f26576",
   "metadata": {},
   "outputs": [
    {
     "data": {
      "text/latex": [
       "$\\displaystyle \\left[\\begin{matrix}-47\\\\10\\\\63\\end{matrix}\\right]$"
      ],
      "text/plain": [
       "Matrix([\n",
       "[-47],\n",
       "[ 10],\n",
       "[ 63]])"
      ]
     },
     "execution_count": 18,
     "metadata": {},
     "output_type": "execute_result"
    }
   ],
   "source": [
    "X = Matrix([[5, 7, -5], [0, -2, 2], [-4, -8, -7]])\n",
    "Y = Matrix([-2, -6, -1])\n",
    "X * Y"
   ]
  },
  {
   "cell_type": "markdown",
   "id": "8a651daa",
   "metadata": {},
   "source": [
    "## 3. Решите переопределённую СЛАУ. Достигните значения MSE < 55"
   ]
  },
  {
   "cell_type": "code",
   "execution_count": 19,
   "id": "5c6cc656",
   "metadata": {},
   "outputs": [],
   "source": [
    "x, y, z = symbols('x, y, z')"
   ]
  },
  {
   "cell_type": "code",
   "execution_count": 22,
   "id": "42409114",
   "metadata": {},
   "outputs": [
    {
     "data": {
      "text/latex": [
       "$\\displaystyle 0.166666666666667 \\left(- 2 y + 2 z - 10\\right)^{2} + 0.166666666666667 \\left(- 4 x - 8 y - 7 z - 63\\right)^{2} + 0.166666666666667 \\left(x + y + 2 z + 1\\right)^{2} + 0.166666666666667 \\left(2 x - y + 2 z + 4\\right)^{2} + 0.166666666666667 \\left(4 x + y + 4 z + 2\\right)^{2} + 0.166666666666667 \\left(5 x + 7 y - 5 z + 47\\right)^{2}$"
      ],
      "text/plain": [
       "0.166666666666667*(-2*y + 2*z - 10)**2 + 0.166666666666667*(-4*x - 8*y - 7*z - 63)**2 + 0.166666666666667*(x + y + 2*z + 1)**2 + 0.166666666666667*(2*x - y + 2*z + 4)**2 + 0.166666666666667*(4*x + y + 4*z + 2)**2 + 0.166666666666667*(5*x + 7*y - 5*z + 47)**2"
      ]
     },
     "execution_count": 22,
     "metadata": {},
     "output_type": "execute_result"
    }
   ],
   "source": [
    "MSE = 1/6 * ((5 * x + 7 * y - 5 * z + 47)**2 + \\\n",
    "             (0 * x - 2 * y + 2 * z - 10)**2 + \\\n",
    "             (-4 * x - 8 * y - 7 * z -63)**2 + \\\n",
    "             (1 * x + 1 * y + 2 * z + 1) **2 + \\\n",
    "             (2 * x - 1 * y + 2 * z + 4) **2 + \\\n",
    "             (4 * x + 1 * y + 4 * z + 2) **2) \n",
    "MSE"
   ]
  },
  {
   "cell_type": "code",
   "execution_count": 23,
   "id": "ae6e61ce",
   "metadata": {},
   "outputs": [],
   "source": [
    "def grad_d(MSE):\n",
    "    MSEx = diff(MSE, x)\n",
    "    MSEy = diff(MSE, y)\n",
    "    MSEz = diff(MSE, z)\n",
    "    s = MSE.subs({x: 0, y: 0, z: 0})\n",
    "    \n",
    "    step = 0.01\n",
    "    point = np.array([0, 0, 0])\n",
    "    counter = 0\n",
    "    while s > 55:\n",
    "        \n",
    "        grad = np.array([MSEx.subs({x: point[0], y: point[1], z: point[2]}), \n",
    "                        MSEy.subs({x: point[0], y: point[1], z: point[2]}),\n",
    "                        MSEz.subs({x: point[0], y: point[1], z: point[2]})])\n",
    "    \n",
    "    \n",
    "        next_point = point - step * grad\n",
    "        point = next_point\n",
    "    \n",
    "        s = MSE.subs({x: next_point[0], y: next_point[1], z: point[2]})\n",
    "    \n",
    "        print(next_point[0], next_point[1], next_point[2], s)\n",
    "        counter += 1\n",
    "        \n",
    "    print(f'количество спусков: {counter}, MSE: {MSE.subs({x: point[0], y: point[1], z: point[2]})}') "
   ]
  },
  {
   "cell_type": "code",
   "execution_count": 24,
   "id": "fa2b0569",
   "metadata": {},
   "outputs": [
    {
     "name": "stdout",
     "output_type": "stream",
     "text": [
      "-1.68000000000000 -2.84000000000000 -0.680000000000000 247.497333333333\n",
      "-2.29346666666667 -4.10440000000000 -0.790000000000000 104.486005072593\n",
      "-2.47595688888889 -4.71219777777778 -0.722969777777778 73.7744351503798\n",
      "-2.48449883555556 -5.03898750814815 -0.620976468148148 64.1857120851198\n",
      "-2.42352395196049 -5.24020775715556 -0.530073773777778 59.5591801838142\n",
      "-2.33577437740421 -5.38153056800477 -0.461073818362404 56.5686545495930\n",
      "-2.23893438867603 -5.49162915212318 -0.412953715575168 54.3188045027199\n",
      "количество спусков: 7, MSE: 54.3188045027199\n"
     ]
    }
   ],
   "source": [
    "grad_d(MSE)"
   ]
  },
  {
   "cell_type": "code",
   "execution_count": null,
   "id": "2cd809a4",
   "metadata": {},
   "outputs": [],
   "source": []
  }
 ],
 "metadata": {
  "kernelspec": {
   "display_name": "Python 3 (ipykernel)",
   "language": "python",
   "name": "python3"
  },
  "language_info": {
   "codemirror_mode": {
    "name": "ipython",
    "version": 3
   },
   "file_extension": ".py",
   "mimetype": "text/x-python",
   "name": "python",
   "nbconvert_exporter": "python",
   "pygments_lexer": "ipython3",
   "version": "3.9.12"
  }
 },
 "nbformat": 4,
 "nbformat_minor": 5
}

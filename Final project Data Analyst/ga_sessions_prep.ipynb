{
 "cells": [
  {
   "cell_type": "markdown",
   "id": "99e77fd5",
   "metadata": {},
   "source": [
    "## GA SESSIONS"
   ]
  },
  {
   "cell_type": "markdown",
   "id": "bc285e23",
   "metadata": {},
   "source": [
    "Данные ***ga_sessions*** содержат информацию о посещении потенциальными клиентами сайта «СберАвтоподписка». А именно: дату, время, колличество посещений, канал и тип привлечения, устройство, используемое для входа, браузер, локацию. Эти данные позволят нарисовать портрет посетителя."
   ]
  },
  {
   "cell_type": "markdown",
   "id": "83337bb7",
   "metadata": {},
   "source": [
    "#### Реклама в социальных сетях — все визиты с \n",
    "ga_sessions.utm_source in\n",
    "('QxAxdyPLuQMEcrdZWdWb', 'MvfHsxITijuriZxsqZqt', 'ISrKoXQCxqqYvAZICvjs',\n",
    "'IZEXUFLARCUMynmHNBGo', 'PlbkrSYoHuZBWfYjYnfw',\n",
    "'gVRrcxiDQubJiljoTbGm').\n"
   ]
  },
  {
   "cell_type": "markdown",
   "id": "c418f36f",
   "metadata": {},
   "source": [
    "# 0. Импорт необходимых библиотек"
   ]
  },
  {
   "cell_type": "code",
   "execution_count": 11,
   "id": "8fc73c4e",
   "metadata": {},
   "outputs": [],
   "source": [
    "import pandas as pd\n",
    "import numpy as np\n",
    "import matplotlib.pyplot as plt\n",
    "import matplotlib.ticker as ticker\n",
    "import seaborn as sns\n",
    "import warnings\n",
    "warnings.filterwarnings('ignore')\n",
    "\n",
    "from matplotlib.ticker import FormatStrFormatter\n",
    "from scipy import stats"
   ]
  },
  {
   "cell_type": "markdown",
   "id": "9c56f02b",
   "metadata": {},
   "source": [
    "# 1. Загрузка исходного файла ga_sessions"
   ]
  },
  {
   "cell_type": "markdown",
   "id": "59a1e104",
   "metadata": {},
   "source": [
    "**Описание атрибутов:**\n",
    "\n",
    "*Одна строка = один визит на сайт.*\n",
    "- session_id — ID визита;\n",
    "- client_id — ID посетителя;\n",
    "- visit_date — дата визита;\n",
    "- visit_time — время визита;\n",
    "- visit_number — порядковый номер визита клиента;\n",
    "- utm_source — канал привлечения;\n",
    "- utm_medium — тип привлечения;\n",
    "- utm_campaign — рекламная кампания;\n",
    "- utm_adconten;\n",
    "- utm_keyword — ключевое слово;\n",
    "- device_category — тип устройства;\n",
    "- device_os — ОС устройства;\n",
    "- device_brand — марка устройства;\n",
    "- device_model — модель устройства;\n",
    "- device_screen_resolution — разрешение экрана;\n",
    "- device_browser — браузер;\n",
    "- geo_country — страна;\n",
    "- geo_city — город."
   ]
  },
  {
   "cell_type": "code",
   "execution_count": 12,
   "id": "b93666d5",
   "metadata": {},
   "outputs": [
    {
     "data": {
      "text/html": [
       "<div>\n",
       "<style scoped>\n",
       "    .dataframe tbody tr th:only-of-type {\n",
       "        vertical-align: middle;\n",
       "    }\n",
       "\n",
       "    .dataframe tbody tr th {\n",
       "        vertical-align: top;\n",
       "    }\n",
       "\n",
       "    .dataframe thead th {\n",
       "        text-align: right;\n",
       "    }\n",
       "</style>\n",
       "<table border=\"1\" class=\"dataframe\">\n",
       "  <thead>\n",
       "    <tr style=\"text-align: right;\">\n",
       "      <th></th>\n",
       "      <th>session_id</th>\n",
       "      <th>client_id</th>\n",
       "      <th>visit_date</th>\n",
       "      <th>visit_time</th>\n",
       "      <th>visit_number</th>\n",
       "      <th>utm_source</th>\n",
       "      <th>utm_medium</th>\n",
       "      <th>utm_campaign</th>\n",
       "      <th>utm_adcontent</th>\n",
       "      <th>utm_keyword</th>\n",
       "      <th>device_category</th>\n",
       "      <th>device_os</th>\n",
       "      <th>device_brand</th>\n",
       "      <th>device_model</th>\n",
       "      <th>device_screen_resolution</th>\n",
       "      <th>device_browser</th>\n",
       "      <th>geo_country</th>\n",
       "      <th>geo_city</th>\n",
       "    </tr>\n",
       "  </thead>\n",
       "  <tbody>\n",
       "    <tr>\n",
       "      <th>0</th>\n",
       "      <td>9055434745589932991.1637753792.1637753792</td>\n",
       "      <td>2108382700.1637753791</td>\n",
       "      <td>2021-11-24</td>\n",
       "      <td>14:36:32</td>\n",
       "      <td>1</td>\n",
       "      <td>ZpYIoDJMcFzVoPFsHGJL</td>\n",
       "      <td>banner</td>\n",
       "      <td>LEoPHuyFvzoNfnzGgfcd</td>\n",
       "      <td>vCIpmpaGBnIQhyYNkXqp</td>\n",
       "      <td>puhZPIYqKXeFPaUviSjo</td>\n",
       "      <td>mobile</td>\n",
       "      <td>Android</td>\n",
       "      <td>Huawei</td>\n",
       "      <td>NaN</td>\n",
       "      <td>360x720</td>\n",
       "      <td>Chrome</td>\n",
       "      <td>Russia</td>\n",
       "      <td>Zlatoust</td>\n",
       "    </tr>\n",
       "    <tr>\n",
       "      <th>1</th>\n",
       "      <td>905544597018549464.1636867290.1636867290</td>\n",
       "      <td>210838531.1636867288</td>\n",
       "      <td>2021-11-14</td>\n",
       "      <td>08:21:30</td>\n",
       "      <td>1</td>\n",
       "      <td>MvfHsxITijuriZxsqZqt</td>\n",
       "      <td>cpm</td>\n",
       "      <td>FTjNLDyTrXaWYgZymFkV</td>\n",
       "      <td>xhoenQgDQsgfEPYNPwKO</td>\n",
       "      <td>IGUCNvHlhfHpROGclCit</td>\n",
       "      <td>mobile</td>\n",
       "      <td>Android</td>\n",
       "      <td>Samsung</td>\n",
       "      <td>NaN</td>\n",
       "      <td>385x854</td>\n",
       "      <td>Samsung Internet</td>\n",
       "      <td>Russia</td>\n",
       "      <td>Moscow</td>\n",
       "    </tr>\n",
       "    <tr>\n",
       "      <th>2</th>\n",
       "      <td>9055446045651783499.1640648526.1640648526</td>\n",
       "      <td>2108385331.1640648523</td>\n",
       "      <td>2021-12-28</td>\n",
       "      <td>02:42:06</td>\n",
       "      <td>1</td>\n",
       "      <td>ZpYIoDJMcFzVoPFsHGJL</td>\n",
       "      <td>banner</td>\n",
       "      <td>LEoPHuyFvzoNfnzGgfcd</td>\n",
       "      <td>vCIpmpaGBnIQhyYNkXqp</td>\n",
       "      <td>puhZPIYqKXeFPaUviSjo</td>\n",
       "      <td>mobile</td>\n",
       "      <td>Android</td>\n",
       "      <td>Huawei</td>\n",
       "      <td>NaN</td>\n",
       "      <td>360x720</td>\n",
       "      <td>Chrome</td>\n",
       "      <td>Russia</td>\n",
       "      <td>Krasnoyarsk</td>\n",
       "    </tr>\n",
       "    <tr>\n",
       "      <th>3</th>\n",
       "      <td>9055447046360770272.1622255328.1622255328</td>\n",
       "      <td>2108385564.1622255328</td>\n",
       "      <td>2021-05-29</td>\n",
       "      <td>05:00:00</td>\n",
       "      <td>1</td>\n",
       "      <td>kjsLglQLzykiRbcDiGcD</td>\n",
       "      <td>cpc</td>\n",
       "      <td>NaN</td>\n",
       "      <td>NOBKLgtuvqYWkXQHeYWM</td>\n",
       "      <td>NaN</td>\n",
       "      <td>mobile</td>\n",
       "      <td>NaN</td>\n",
       "      <td>Xiaomi</td>\n",
       "      <td>NaN</td>\n",
       "      <td>393x786</td>\n",
       "      <td>Chrome</td>\n",
       "      <td>Russia</td>\n",
       "      <td>Moscow</td>\n",
       "    </tr>\n",
       "    <tr>\n",
       "      <th>4</th>\n",
       "      <td>9055447046360770272.1622255345.1622255345</td>\n",
       "      <td>2108385564.1622255328</td>\n",
       "      <td>2021-05-29</td>\n",
       "      <td>05:00:00</td>\n",
       "      <td>2</td>\n",
       "      <td>kjsLglQLzykiRbcDiGcD</td>\n",
       "      <td>cpc</td>\n",
       "      <td>NaN</td>\n",
       "      <td>NaN</td>\n",
       "      <td>NaN</td>\n",
       "      <td>mobile</td>\n",
       "      <td>NaN</td>\n",
       "      <td>Xiaomi</td>\n",
       "      <td>NaN</td>\n",
       "      <td>393x786</td>\n",
       "      <td>Chrome</td>\n",
       "      <td>Russia</td>\n",
       "      <td>Moscow</td>\n",
       "    </tr>\n",
       "  </tbody>\n",
       "</table>\n",
       "</div>"
      ],
      "text/plain": [
       "                                  session_id              client_id  \\\n",
       "0  9055434745589932991.1637753792.1637753792  2108382700.1637753791   \n",
       "1   905544597018549464.1636867290.1636867290   210838531.1636867288   \n",
       "2  9055446045651783499.1640648526.1640648526  2108385331.1640648523   \n",
       "3  9055447046360770272.1622255328.1622255328  2108385564.1622255328   \n",
       "4  9055447046360770272.1622255345.1622255345  2108385564.1622255328   \n",
       "\n",
       "   visit_date visit_time  visit_number            utm_source utm_medium  \\\n",
       "0  2021-11-24   14:36:32             1  ZpYIoDJMcFzVoPFsHGJL     banner   \n",
       "1  2021-11-14   08:21:30             1  MvfHsxITijuriZxsqZqt        cpm   \n",
       "2  2021-12-28   02:42:06             1  ZpYIoDJMcFzVoPFsHGJL     banner   \n",
       "3  2021-05-29   05:00:00             1  kjsLglQLzykiRbcDiGcD        cpc   \n",
       "4  2021-05-29   05:00:00             2  kjsLglQLzykiRbcDiGcD        cpc   \n",
       "\n",
       "           utm_campaign         utm_adcontent           utm_keyword  \\\n",
       "0  LEoPHuyFvzoNfnzGgfcd  vCIpmpaGBnIQhyYNkXqp  puhZPIYqKXeFPaUviSjo   \n",
       "1  FTjNLDyTrXaWYgZymFkV  xhoenQgDQsgfEPYNPwKO  IGUCNvHlhfHpROGclCit   \n",
       "2  LEoPHuyFvzoNfnzGgfcd  vCIpmpaGBnIQhyYNkXqp  puhZPIYqKXeFPaUviSjo   \n",
       "3                   NaN  NOBKLgtuvqYWkXQHeYWM                   NaN   \n",
       "4                   NaN                   NaN                   NaN   \n",
       "\n",
       "  device_category device_os device_brand device_model  \\\n",
       "0          mobile   Android       Huawei          NaN   \n",
       "1          mobile   Android      Samsung          NaN   \n",
       "2          mobile   Android       Huawei          NaN   \n",
       "3          mobile       NaN       Xiaomi          NaN   \n",
       "4          mobile       NaN       Xiaomi          NaN   \n",
       "\n",
       "  device_screen_resolution    device_browser geo_country     geo_city  \n",
       "0                  360x720            Chrome      Russia     Zlatoust  \n",
       "1                  385x854  Samsung Internet      Russia       Moscow  \n",
       "2                  360x720            Chrome      Russia  Krasnoyarsk  \n",
       "3                  393x786            Chrome      Russia       Moscow  \n",
       "4                  393x786            Chrome      Russia       Moscow  "
      ]
     },
     "execution_count": 12,
     "metadata": {},
     "output_type": "execute_result"
    }
   ],
   "source": [
    "df_sessions = pd.read_csv('data/ga_sessions.csv', low_memory=False)\n",
    "df_sessions.head()"
   ]
  },
  {
   "cell_type": "markdown",
   "id": "5bb0bdba",
   "metadata": {},
   "source": [
    "# 2. Data preparation"
   ]
  },
  {
   "cell_type": "markdown",
   "id": "20aaa165",
   "metadata": {},
   "source": [
    "## 2.1 Data Cleaning"
   ]
  },
  {
   "cell_type": "markdown",
   "id": "c41a5928",
   "metadata": {},
   "source": [
    "##### Создание копии исходного файла"
   ]
  },
  {
   "cell_type": "code",
   "execution_count": 13,
   "id": "550ee93f",
   "metadata": {},
   "outputs": [
    {
     "name": "stdout",
     "output_type": "stream",
     "text": [
      "Размер выборки: 1860042, 18\n"
     ]
    },
    {
     "data": {
      "text/html": [
       "<div>\n",
       "<style scoped>\n",
       "    .dataframe tbody tr th:only-of-type {\n",
       "        vertical-align: middle;\n",
       "    }\n",
       "\n",
       "    .dataframe tbody tr th {\n",
       "        vertical-align: top;\n",
       "    }\n",
       "\n",
       "    .dataframe thead th {\n",
       "        text-align: right;\n",
       "    }\n",
       "</style>\n",
       "<table border=\"1\" class=\"dataframe\">\n",
       "  <thead>\n",
       "    <tr style=\"text-align: right;\">\n",
       "      <th></th>\n",
       "      <th>session_id</th>\n",
       "      <th>client_id</th>\n",
       "      <th>visit_date</th>\n",
       "      <th>visit_time</th>\n",
       "      <th>visit_number</th>\n",
       "      <th>utm_source</th>\n",
       "      <th>utm_medium</th>\n",
       "      <th>utm_campaign</th>\n",
       "      <th>utm_adcontent</th>\n",
       "      <th>utm_keyword</th>\n",
       "      <th>device_category</th>\n",
       "      <th>device_os</th>\n",
       "      <th>device_brand</th>\n",
       "      <th>device_model</th>\n",
       "      <th>device_screen_resolution</th>\n",
       "      <th>device_browser</th>\n",
       "      <th>geo_country</th>\n",
       "      <th>geo_city</th>\n",
       "    </tr>\n",
       "  </thead>\n",
       "  <tbody>\n",
       "    <tr>\n",
       "      <th>0</th>\n",
       "      <td>9055434745589932991.1637753792.1637753792</td>\n",
       "      <td>2108382700.1637753791</td>\n",
       "      <td>2021-11-24</td>\n",
       "      <td>14:36:32</td>\n",
       "      <td>1</td>\n",
       "      <td>ZpYIoDJMcFzVoPFsHGJL</td>\n",
       "      <td>banner</td>\n",
       "      <td>LEoPHuyFvzoNfnzGgfcd</td>\n",
       "      <td>vCIpmpaGBnIQhyYNkXqp</td>\n",
       "      <td>puhZPIYqKXeFPaUviSjo</td>\n",
       "      <td>mobile</td>\n",
       "      <td>Android</td>\n",
       "      <td>Huawei</td>\n",
       "      <td>NaN</td>\n",
       "      <td>360x720</td>\n",
       "      <td>Chrome</td>\n",
       "      <td>Russia</td>\n",
       "      <td>Zlatoust</td>\n",
       "    </tr>\n",
       "    <tr>\n",
       "      <th>1</th>\n",
       "      <td>905544597018549464.1636867290.1636867290</td>\n",
       "      <td>210838531.1636867288</td>\n",
       "      <td>2021-11-14</td>\n",
       "      <td>08:21:30</td>\n",
       "      <td>1</td>\n",
       "      <td>MvfHsxITijuriZxsqZqt</td>\n",
       "      <td>cpm</td>\n",
       "      <td>FTjNLDyTrXaWYgZymFkV</td>\n",
       "      <td>xhoenQgDQsgfEPYNPwKO</td>\n",
       "      <td>IGUCNvHlhfHpROGclCit</td>\n",
       "      <td>mobile</td>\n",
       "      <td>Android</td>\n",
       "      <td>Samsung</td>\n",
       "      <td>NaN</td>\n",
       "      <td>385x854</td>\n",
       "      <td>Samsung Internet</td>\n",
       "      <td>Russia</td>\n",
       "      <td>Moscow</td>\n",
       "    </tr>\n",
       "    <tr>\n",
       "      <th>2</th>\n",
       "      <td>9055446045651783499.1640648526.1640648526</td>\n",
       "      <td>2108385331.1640648523</td>\n",
       "      <td>2021-12-28</td>\n",
       "      <td>02:42:06</td>\n",
       "      <td>1</td>\n",
       "      <td>ZpYIoDJMcFzVoPFsHGJL</td>\n",
       "      <td>banner</td>\n",
       "      <td>LEoPHuyFvzoNfnzGgfcd</td>\n",
       "      <td>vCIpmpaGBnIQhyYNkXqp</td>\n",
       "      <td>puhZPIYqKXeFPaUviSjo</td>\n",
       "      <td>mobile</td>\n",
       "      <td>Android</td>\n",
       "      <td>Huawei</td>\n",
       "      <td>NaN</td>\n",
       "      <td>360x720</td>\n",
       "      <td>Chrome</td>\n",
       "      <td>Russia</td>\n",
       "      <td>Krasnoyarsk</td>\n",
       "    </tr>\n",
       "    <tr>\n",
       "      <th>3</th>\n",
       "      <td>9055447046360770272.1622255328.1622255328</td>\n",
       "      <td>2108385564.1622255328</td>\n",
       "      <td>2021-05-29</td>\n",
       "      <td>05:00:00</td>\n",
       "      <td>1</td>\n",
       "      <td>kjsLglQLzykiRbcDiGcD</td>\n",
       "      <td>cpc</td>\n",
       "      <td>NaN</td>\n",
       "      <td>NOBKLgtuvqYWkXQHeYWM</td>\n",
       "      <td>NaN</td>\n",
       "      <td>mobile</td>\n",
       "      <td>NaN</td>\n",
       "      <td>Xiaomi</td>\n",
       "      <td>NaN</td>\n",
       "      <td>393x786</td>\n",
       "      <td>Chrome</td>\n",
       "      <td>Russia</td>\n",
       "      <td>Moscow</td>\n",
       "    </tr>\n",
       "    <tr>\n",
       "      <th>4</th>\n",
       "      <td>9055447046360770272.1622255345.1622255345</td>\n",
       "      <td>2108385564.1622255328</td>\n",
       "      <td>2021-05-29</td>\n",
       "      <td>05:00:00</td>\n",
       "      <td>2</td>\n",
       "      <td>kjsLglQLzykiRbcDiGcD</td>\n",
       "      <td>cpc</td>\n",
       "      <td>NaN</td>\n",
       "      <td>NaN</td>\n",
       "      <td>NaN</td>\n",
       "      <td>mobile</td>\n",
       "      <td>NaN</td>\n",
       "      <td>Xiaomi</td>\n",
       "      <td>NaN</td>\n",
       "      <td>393x786</td>\n",
       "      <td>Chrome</td>\n",
       "      <td>Russia</td>\n",
       "      <td>Moscow</td>\n",
       "    </tr>\n",
       "  </tbody>\n",
       "</table>\n",
       "</div>"
      ],
      "text/plain": [
       "                                  session_id              client_id  \\\n",
       "0  9055434745589932991.1637753792.1637753792  2108382700.1637753791   \n",
       "1   905544597018549464.1636867290.1636867290   210838531.1636867288   \n",
       "2  9055446045651783499.1640648526.1640648526  2108385331.1640648523   \n",
       "3  9055447046360770272.1622255328.1622255328  2108385564.1622255328   \n",
       "4  9055447046360770272.1622255345.1622255345  2108385564.1622255328   \n",
       "\n",
       "   visit_date visit_time  visit_number            utm_source utm_medium  \\\n",
       "0  2021-11-24   14:36:32             1  ZpYIoDJMcFzVoPFsHGJL     banner   \n",
       "1  2021-11-14   08:21:30             1  MvfHsxITijuriZxsqZqt        cpm   \n",
       "2  2021-12-28   02:42:06             1  ZpYIoDJMcFzVoPFsHGJL     banner   \n",
       "3  2021-05-29   05:00:00             1  kjsLglQLzykiRbcDiGcD        cpc   \n",
       "4  2021-05-29   05:00:00             2  kjsLglQLzykiRbcDiGcD        cpc   \n",
       "\n",
       "           utm_campaign         utm_adcontent           utm_keyword  \\\n",
       "0  LEoPHuyFvzoNfnzGgfcd  vCIpmpaGBnIQhyYNkXqp  puhZPIYqKXeFPaUviSjo   \n",
       "1  FTjNLDyTrXaWYgZymFkV  xhoenQgDQsgfEPYNPwKO  IGUCNvHlhfHpROGclCit   \n",
       "2  LEoPHuyFvzoNfnzGgfcd  vCIpmpaGBnIQhyYNkXqp  puhZPIYqKXeFPaUviSjo   \n",
       "3                   NaN  NOBKLgtuvqYWkXQHeYWM                   NaN   \n",
       "4                   NaN                   NaN                   NaN   \n",
       "\n",
       "  device_category device_os device_brand device_model  \\\n",
       "0          mobile   Android       Huawei          NaN   \n",
       "1          mobile   Android      Samsung          NaN   \n",
       "2          mobile   Android       Huawei          NaN   \n",
       "3          mobile       NaN       Xiaomi          NaN   \n",
       "4          mobile       NaN       Xiaomi          NaN   \n",
       "\n",
       "  device_screen_resolution    device_browser geo_country     geo_city  \n",
       "0                  360x720            Chrome      Russia     Zlatoust  \n",
       "1                  385x854  Samsung Internet      Russia       Moscow  \n",
       "2                  360x720            Chrome      Russia  Krasnoyarsk  \n",
       "3                  393x786            Chrome      Russia       Moscow  \n",
       "4                  393x786            Chrome      Russia       Moscow  "
      ]
     },
     "execution_count": 13,
     "metadata": {},
     "output_type": "execute_result"
    }
   ],
   "source": [
    "df_s = df_sessions.copy()\n",
    "print(f'Размер выборки: {df_s.shape[0]}, {df_s.shape[1]}')\n",
    "df_s.head()"
   ]
  },
  {
   "cell_type": "markdown",
   "id": "d659d245",
   "metadata": {},
   "source": [
    "###### Проверка на наличие дубликатов"
   ]
  },
  {
   "cell_type": "code",
   "execution_count": 14,
   "id": "d94cf434",
   "metadata": {},
   "outputs": [
    {
     "name": "stdout",
     "output_type": "stream",
     "text": [
      "Количество дубликатов в ga_sessions: 0\n"
     ]
    }
   ],
   "source": [
    "print(f'Количество дубликатов в ga_sessions: {df_s.duplicated().sum()}')"
   ]
  },
  {
   "cell_type": "markdown",
   "id": "9159a82b",
   "metadata": {},
   "source": [
    "##### Информация по выборке"
   ]
  },
  {
   "cell_type": "code",
   "execution_count": 15,
   "id": "5f557ebb",
   "metadata": {},
   "outputs": [
    {
     "name": "stdout",
     "output_type": "stream",
     "text": [
      "Информация о выборке: \n",
      "\n",
      "<class 'pandas.core.frame.DataFrame'>\n",
      "RangeIndex: 1860042 entries, 0 to 1860041\n",
      "Data columns (total 18 columns):\n",
      " #   Column                    Dtype \n",
      "---  ------                    ----- \n",
      " 0   session_id                object\n",
      " 1   client_id                 object\n",
      " 2   visit_date                object\n",
      " 3   visit_time                object\n",
      " 4   visit_number              int64 \n",
      " 5   utm_source                object\n",
      " 6   utm_medium                object\n",
      " 7   utm_campaign              object\n",
      " 8   utm_adcontent             object\n",
      " 9   utm_keyword               object\n",
      " 10  device_category           object\n",
      " 11  device_os                 object\n",
      " 12  device_brand              object\n",
      " 13  device_model              object\n",
      " 14  device_screen_resolution  object\n",
      " 15  device_browser            object\n",
      " 16  geo_country               object\n",
      " 17  geo_city                  object\n",
      "dtypes: int64(1), object(17)\n",
      "memory usage: 255.4+ MB\n"
     ]
    }
   ],
   "source": [
    "print('Информация о выборке: \\n')\n",
    "df_s.info()"
   ]
  },
  {
   "cell_type": "markdown",
   "id": "c6b7377c",
   "metadata": {},
   "source": [
    "##### Проверка на наличие пропущенных значений"
   ]
  },
  {
   "cell_type": "code",
   "execution_count": 16,
   "id": "a71ea5b3",
   "metadata": {},
   "outputs": [
    {
     "name": "stdout",
     "output_type": "stream",
     "text": [
      "Процент пропущенных значений:\n"
     ]
    },
    {
     "data": {
      "text/plain": [
       "device_model                99.121633\n",
       "utm_keyword                 58.174009\n",
       "device_os                   57.533002\n",
       "device_brand                19.740307\n",
       "utm_adcontent               18.043410\n",
       "utm_campaign                11.806346\n",
       "utm_source                   0.005215\n",
       "geo_country                  0.000000\n",
       "device_browser               0.000000\n",
       "device_screen_resolution     0.000000\n",
       "session_id                   0.000000\n",
       "device_category              0.000000\n",
       "client_id                    0.000000\n",
       "utm_medium                   0.000000\n",
       "visit_number                 0.000000\n",
       "visit_time                   0.000000\n",
       "visit_date                   0.000000\n",
       "geo_city                     0.000000\n",
       "dtype: float64"
      ]
     },
     "execution_count": 16,
     "metadata": {},
     "output_type": "execute_result"
    }
   ],
   "source": [
    "missing_values = ((df_s.isna().sum()/len(df_s)) * 100).sort_values(ascending=False)\n",
    "print('Процент пропущенных значений:')\n",
    "missing_values"
   ]
  },
  {
   "cell_type": "markdown",
   "id": "dab1e40c",
   "metadata": {},
   "source": [
    "##### Преобразование колонок visit_date и visit_time в соответствующий формат дат"
   ]
  },
  {
   "cell_type": "code",
   "execution_count": 17,
   "id": "a1c26c15",
   "metadata": {},
   "outputs": [],
   "source": [
    "df_s['visit_date_time'] = pd.to_datetime(df_s['visit_date'] + ' ' + df_s['visit_time'])"
   ]
  },
  {
   "cell_type": "markdown",
   "id": "1b935f85",
   "metadata": {},
   "source": [
    "##### Сводная таблица ga_sessions"
   ]
  },
  {
   "cell_type": "code",
   "execution_count": 18,
   "id": "30216f30",
   "metadata": {},
   "outputs": [
    {
     "data": {
      "text/html": [
       "<div>\n",
       "<style scoped>\n",
       "    .dataframe tbody tr th:only-of-type {\n",
       "        vertical-align: middle;\n",
       "    }\n",
       "\n",
       "    .dataframe tbody tr th {\n",
       "        vertical-align: top;\n",
       "    }\n",
       "\n",
       "    .dataframe thead th {\n",
       "        text-align: right;\n",
       "    }\n",
       "</style>\n",
       "<table border=\"1\" class=\"dataframe\">\n",
       "  <thead>\n",
       "    <tr style=\"text-align: right;\">\n",
       "      <th></th>\n",
       "      <th>count</th>\n",
       "      <th>unique</th>\n",
       "      <th>freq</th>\n",
       "      <th>top</th>\n",
       "    </tr>\n",
       "  </thead>\n",
       "  <tbody>\n",
       "    <tr>\n",
       "      <th>session_id</th>\n",
       "      <td>1860042</td>\n",
       "      <td>1860042</td>\n",
       "      <td>1</td>\n",
       "      <td>9055434745589932991.1637753792.1637753792</td>\n",
       "    </tr>\n",
       "    <tr>\n",
       "      <th>client_id</th>\n",
       "      <td>1860042</td>\n",
       "      <td>1391719</td>\n",
       "      <td>462</td>\n",
       "      <td>1750498477.1629450062</td>\n",
       "    </tr>\n",
       "    <tr>\n",
       "      <th>visit_date</th>\n",
       "      <td>1860042</td>\n",
       "      <td>226</td>\n",
       "      <td>39453</td>\n",
       "      <td>2021-05-24</td>\n",
       "    </tr>\n",
       "    <tr>\n",
       "      <th>visit_time</th>\n",
       "      <td>1860042</td>\n",
       "      <td>85318</td>\n",
       "      <td>61067</td>\n",
       "      <td>12:00:00</td>\n",
       "    </tr>\n",
       "    <tr>\n",
       "      <th>visit_number</th>\n",
       "      <td>1860042.0</td>\n",
       "      <td>NaN</td>\n",
       "      <td>NaN</td>\n",
       "      <td>NaN</td>\n",
       "    </tr>\n",
       "    <tr>\n",
       "      <th>utm_source</th>\n",
       "      <td>1859945</td>\n",
       "      <td>293</td>\n",
       "      <td>578290</td>\n",
       "      <td>ZpYIoDJMcFzVoPFsHGJL</td>\n",
       "    </tr>\n",
       "    <tr>\n",
       "      <th>utm_medium</th>\n",
       "      <td>1860042</td>\n",
       "      <td>56</td>\n",
       "      <td>552272</td>\n",
       "      <td>banner</td>\n",
       "    </tr>\n",
       "    <tr>\n",
       "      <th>utm_campaign</th>\n",
       "      <td>1640439</td>\n",
       "      <td>412</td>\n",
       "      <td>463481</td>\n",
       "      <td>LTuZkdKfxRGVceoWkVyg</td>\n",
       "    </tr>\n",
       "    <tr>\n",
       "      <th>utm_adcontent</th>\n",
       "      <td>1524427</td>\n",
       "      <td>286</td>\n",
       "      <td>1006599</td>\n",
       "      <td>JNHcPlZPxEMWDnRiyoBf</td>\n",
       "    </tr>\n",
       "    <tr>\n",
       "      <th>utm_keyword</th>\n",
       "      <td>777981</td>\n",
       "      <td>1219</td>\n",
       "      <td>506819</td>\n",
       "      <td>puhZPIYqKXeFPaUviSjo</td>\n",
       "    </tr>\n",
       "    <tr>\n",
       "      <th>device_category</th>\n",
       "      <td>1860042</td>\n",
       "      <td>3</td>\n",
       "      <td>1474871</td>\n",
       "      <td>mobile</td>\n",
       "    </tr>\n",
       "    <tr>\n",
       "      <th>device_os</th>\n",
       "      <td>789904</td>\n",
       "      <td>13</td>\n",
       "      <td>464054</td>\n",
       "      <td>Android</td>\n",
       "    </tr>\n",
       "    <tr>\n",
       "      <th>device_brand</th>\n",
       "      <td>1492864</td>\n",
       "      <td>205</td>\n",
       "      <td>551088</td>\n",
       "      <td>Apple</td>\n",
       "    </tr>\n",
       "    <tr>\n",
       "      <th>device_model</th>\n",
       "      <td>16338</td>\n",
       "      <td>104</td>\n",
       "      <td>9778</td>\n",
       "      <td>AuMdmADEIoPXiWpTsBEj</td>\n",
       "    </tr>\n",
       "    <tr>\n",
       "      <th>device_screen_resolution</th>\n",
       "      <td>1860042</td>\n",
       "      <td>5039</td>\n",
       "      <td>169090</td>\n",
       "      <td>414x896</td>\n",
       "    </tr>\n",
       "    <tr>\n",
       "      <th>device_browser</th>\n",
       "      <td>1860042</td>\n",
       "      <td>57</td>\n",
       "      <td>1013436</td>\n",
       "      <td>Chrome</td>\n",
       "    </tr>\n",
       "    <tr>\n",
       "      <th>geo_country</th>\n",
       "      <td>1860042</td>\n",
       "      <td>166</td>\n",
       "      <td>1800565</td>\n",
       "      <td>Russia</td>\n",
       "    </tr>\n",
       "    <tr>\n",
       "      <th>geo_city</th>\n",
       "      <td>1860042</td>\n",
       "      <td>2548</td>\n",
       "      <td>805329</td>\n",
       "      <td>Moscow</td>\n",
       "    </tr>\n",
       "    <tr>\n",
       "      <th>visit_date_time</th>\n",
       "      <td>1860042</td>\n",
       "      <td>721817</td>\n",
       "      <td>4104</td>\n",
       "      <td>2021-06-28 22:00:00</td>\n",
       "    </tr>\n",
       "  </tbody>\n",
       "</table>\n",
       "</div>"
      ],
      "text/plain": [
       "                              count   unique     freq  \\\n",
       "session_id                  1860042  1860042        1   \n",
       "client_id                   1860042  1391719      462   \n",
       "visit_date                  1860042      226    39453   \n",
       "visit_time                  1860042    85318    61067   \n",
       "visit_number              1860042.0      NaN      NaN   \n",
       "utm_source                  1859945      293   578290   \n",
       "utm_medium                  1860042       56   552272   \n",
       "utm_campaign                1640439      412   463481   \n",
       "utm_adcontent               1524427      286  1006599   \n",
       "utm_keyword                  777981     1219   506819   \n",
       "device_category             1860042        3  1474871   \n",
       "device_os                    789904       13   464054   \n",
       "device_brand                1492864      205   551088   \n",
       "device_model                  16338      104     9778   \n",
       "device_screen_resolution    1860042     5039   169090   \n",
       "device_browser              1860042       57  1013436   \n",
       "geo_country                 1860042      166  1800565   \n",
       "geo_city                    1860042     2548   805329   \n",
       "visit_date_time             1860042   721817     4104   \n",
       "\n",
       "                                                                top  \n",
       "session_id                9055434745589932991.1637753792.1637753792  \n",
       "client_id                                     1750498477.1629450062  \n",
       "visit_date                                               2021-05-24  \n",
       "visit_time                                                 12:00:00  \n",
       "visit_number                                                    NaN  \n",
       "utm_source                                     ZpYIoDJMcFzVoPFsHGJL  \n",
       "utm_medium                                                   banner  \n",
       "utm_campaign                                   LTuZkdKfxRGVceoWkVyg  \n",
       "utm_adcontent                                  JNHcPlZPxEMWDnRiyoBf  \n",
       "utm_keyword                                    puhZPIYqKXeFPaUviSjo  \n",
       "device_category                                              mobile  \n",
       "device_os                                                   Android  \n",
       "device_brand                                                  Apple  \n",
       "device_model                                   AuMdmADEIoPXiWpTsBEj  \n",
       "device_screen_resolution                                    414x896  \n",
       "device_browser                                               Chrome  \n",
       "geo_country                                                  Russia  \n",
       "geo_city                                                     Moscow  \n",
       "visit_date_time                                 2021-06-28 22:00:00  "
      ]
     },
     "execution_count": 18,
     "metadata": {},
     "output_type": "execute_result"
    }
   ],
   "source": [
    "df_s.describe(include='all').loc[['count', 'unique', 'freq', 'top']].T"
   ]
  },
  {
   "cell_type": "markdown",
   "id": "f621fd9a",
   "metadata": {},
   "source": [
    "**Поверхностное изучение датасета показало:**\n",
    "1. Таблица состоит из **1860042** строк и **18** колонок. Дубликатов нет.\n",
    "2. Колонка **session_id** не содержит пропусков. Все значения колонки уникальны. Поле **session_id** является первичным ключом.\n",
    "3. Колонки **client_id** и **device_screen_resolution** содержат слишком много уникальных значений. Вероятно, они не будут использоваться в дальнейших исследованиях.\n",
    "4. Признаки **visit_date** и **visit_time** преобразованы в единый формат дат и будут удалены из окончательного датасета.\n",
    "4. Признаки **utm_source**, **utm_campaign**, **utm_adcontent**, **utm_keyword** и **device_model** зашифрованы.\n",
    "5. Основным каналом привлечения (**utm_source**) является **ZpYIoDJMcFzVoPFsHGJL**.\n",
    "6. Самый популярный тип привлечения - **banner**.\n",
    "7. Столбцы **device_category**, **device_os**, **device_brand** содержат несколько протеворечивые сведения, природу которых предстоит рассмотреть подробнее.\n",
    "8. Самый популярный браузер - **Chrome**.\n",
    "9. Страна и город, где чаще всего интересуются сервисом - Россия, Москва.\n",
    "\n",
    "***`Таким образом, предварительный портрет потенциального пользователя сервиса - это москвич, пользующийся iPhone. Однако, для дальнейшего анализа следует изучить каждый признак подробнее`***.\n"
   ]
  },
  {
   "cell_type": "markdown",
   "id": "68137aa1",
   "metadata": {},
   "source": [
    "### `visit_number - порядковый номер визита посетителя`  "
   ]
  },
  {
   "cell_type": "code",
   "execution_count": 19,
   "id": "84a31bdf",
   "metadata": {},
   "outputs": [
    {
     "data": {
      "text/plain": [
       "1      1376349\n",
       "2       235656\n",
       "3        81068\n",
       "4        41666\n",
       "5        24271\n",
       "        ...   \n",
       "419          1\n",
       "420          1\n",
       "421          1\n",
       "422          1\n",
       "564          1\n",
       "Name: visit_number, Length: 537, dtype: int64"
      ]
     },
     "execution_count": 19,
     "metadata": {},
     "output_type": "execute_result"
    }
   ],
   "source": [
    "df_s['visit_number'].value_counts()"
   ]
  },
  {
   "cell_type": "code",
   "execution_count": 20,
   "id": "af4a8d6c",
   "metadata": {},
   "outputs": [
    {
     "data": {
      "text/plain": [
       "count    1860042.00\n",
       "mean           2.71\n",
       "std           11.83\n",
       "min            1.00\n",
       "25%            1.00\n",
       "50%            1.00\n",
       "75%            2.00\n",
       "max          564.00\n",
       "Name: visit_number, dtype: object"
      ]
     },
     "execution_count": 20,
     "metadata": {},
     "output_type": "execute_result"
    }
   ],
   "source": [
    "df_s['visit_number'].describe().apply(lambda x: f'{x:0.2f}')"
   ]
  },
  {
   "cell_type": "code",
   "execution_count": 21,
   "id": "8bd093eb",
   "metadata": {},
   "outputs": [
    {
     "data": {
      "image/png": "[encoded data removed]",
      "text/plain": [
       "<Figure size 1296x360 with 1 Axes>"
      ]
     },
     "metadata": {
      "needs_background": "light"
     },
     "output_type": "display_data"
    }
   ],
   "source": [
    "plt.figure(figsize = (18, 5)) \n",
    "plt.title('Диаграмма размаха порядкового номера посетителя')\n",
    "plt.xlim(0, 15)\n",
    "my_color = ['mediumseagreen']\n",
    "sns.set_palette(my_color)\n",
    "sns.boxplot(data = df_s, x = 'visit_number');"
   ]
  },
  {
   "cell_type": "markdown",
   "id": "c3f1f8c7",
   "metadata": {},
   "source": [
    "Данные **visit_number** говорят о том, большинство посетителей зашли на сайт только однажды. Тем не менее, есть и такой, кто посетил его 564 раза. Возможно, дальнейшие исследования покажут, посетителей с каким количеством визитов на сайт оказалось больше всего среди пользвателей сервиса."
   ]
  },
  {
   "cell_type": "markdown",
   "id": "50679b2f",
   "metadata": {},
   "source": [
    "### `utm_source - канал привлечения `"
   ]
  },
  {
   "cell_type": "code",
   "execution_count": 22,
   "id": "e6109fe5",
   "metadata": {},
   "outputs": [
    {
     "data": {
      "text/plain": [
       "count                  1859945\n",
       "unique                     293\n",
       "top       ZpYIoDJMcFzVoPFsHGJL\n",
       "freq                    578290\n",
       "Name: utm_source, dtype: object"
      ]
     },
     "execution_count": 22,
     "metadata": {},
     "output_type": "execute_result"
    }
   ],
   "source": [
    "df_s.utm_source.describe()"
   ]
  },
  {
   "cell_type": "code",
   "execution_count": 23,
   "id": "c9148117",
   "metadata": {},
   "outputs": [
    {
     "name": "stdout",
     "output_type": "stream",
     "text": [
      "Количество пустых значений в `utm_source`: 97\n"
     ]
    }
   ],
   "source": [
    "missings_source = df_s['utm_source'].isna().sum()\n",
    "print(f'Количество пустых значений в `utm_source`: {missings_source}')"
   ]
  },
  {
   "cell_type": "code",
   "execution_count": 24,
   "id": "d67a1dad",
   "metadata": {},
   "outputs": [
    {
     "data": {
      "text/plain": [
       "ZpYIoDJMcFzVoPFsHGJL    578290\n",
       "fDLlAcSmythWSCVMvqvL    300575\n",
       "kjsLglQLzykiRbcDiGcD    266354\n",
       "MvfHsxITijuriZxsqZqt    186199\n",
       "BHcvLfOaCWvWTykYqHVe    116320\n",
       "                         ...  \n",
       "GYkgJdhSxirUFPHFiYSe         1\n",
       "WRHPhoRKhKxaenRCLBfo         1\n",
       "tjKUGseGMhkLEzdCqBRx         1\n",
       "wpmatvDuiMutnvmNVPJo         1\n",
       "BellrslNBZQZaIxVFGXJ         1\n",
       "Name: utm_source, Length: 294, dtype: int64"
      ]
     },
     "execution_count": 24,
     "metadata": {},
     "output_type": "execute_result"
    }
   ],
   "source": [
    "df_s.utm_source.value_counts(dropna=False)"
   ]
  },
  {
   "cell_type": "code",
   "execution_count": 25,
   "id": "4f793d03",
   "metadata": {},
   "outputs": [
    {
     "data": {
      "text/plain": [
       "utm_source\n",
       "ZpYIoDJMcFzVoPFsHGJL    31.090158\n",
       "fDLlAcSmythWSCVMvqvL    16.159581\n",
       "kjsLglQLzykiRbcDiGcD    14.319784\n",
       "MvfHsxITijuriZxsqZqt    10.010473\n",
       "BHcvLfOaCWvWTykYqHVe     6.253622\n",
       "bByPQxmDaMXgpHeypKSM     5.499177\n",
       "QxAxdyPLuQMEcrdZWdWb     2.764185\n",
       "aXQzDWsJuGXeBXexNHjc     1.674801\n",
       "jaSOmLICuBzCFqHfBdRg     1.572061\n",
       "RmEBuqrriAfAVsLQQmhk     1.508299\n",
       "dtype: float64"
      ]
     },
     "execution_count": 25,
     "metadata": {},
     "output_type": "execute_result"
    }
   ],
   "source": [
    "(df_s.groupby('utm_source').size() / len(df_s) * 100).sort_values(ascending=False).head(10)"
   ]
  },
  {
   "cell_type": "code",
   "execution_count": 26,
   "id": "0fec06ae",
   "metadata": {},
   "outputs": [],
   "source": [
    "utm_source_social = ['QxAxdyPLuQMEcrdZWdWb', 'MvfHsxITijuriZxsqZqt', 'ISrKoXQCxqqYvAZICvjs',\n",
    "                     'IZEXUFLARCUMynmHNBGo', 'PlbkrSYoHuZBWfYjYnfw', 'gVRrcxiDQubJiljoTbGm']\n",
    "\n",
    "df_s['utm_source_social'] = df_s.utm_source.apply(lambda x: 1 if x in utm_source_social else 0)"
   ]
  },
  {
   "cell_type": "code",
   "execution_count": 27,
   "id": "9971e48c",
   "metadata": {},
   "outputs": [
    {
     "data": {
      "text/plain": [
       "0    1585815\n",
       "1     274227\n",
       "Name: utm_source_social, dtype: int64"
      ]
     },
     "execution_count": 27,
     "metadata": {},
     "output_type": "execute_result"
    }
   ],
   "source": [
    "df_s.utm_source_social.value_counts(dropna=False)"
   ]
  },
  {
   "cell_type": "code",
   "execution_count": 28,
   "id": "2866ba4e",
   "metadata": {},
   "outputs": [
    {
     "data": {
      "image/png": "[encoded data removed]",
      "text/plain": [
       "<Figure size 720x432 with 1 Axes>"
      ]
     },
     "metadata": {
      "needs_background": "light"
     },
     "output_type": "display_data"
    }
   ],
   "source": [
    "fig, ax = plt.subplots(figsize=(10, 6))\n",
    "ax.bar(df_s['utm_source_social'].unique(), df_s['utm_source_social'].value_counts(), \n",
    "           width=0.5, color=['darkgrey', 'mediumseagreen'])\n",
    "ax.set_xlabel('Канал привлечения')\n",
    "ax.set_ylabel('Количество визитов')\n",
    "ax.set_title('Распределение значений utm_source')\n",
    "ax.tick_params(axis='both', labelsize=12)\n",
    "\n",
    "ax.xaxis.set_major_locator(ticker.MultipleLocator(1)) \n",
    "\n",
    "ax.yaxis.set_major_formatter(FormatStrFormatter('%.0f'));"
   ]
  },
  {
   "cell_type": "code",
   "execution_count": 29,
   "id": "8f3a69a9",
   "metadata": {},
   "outputs": [
    {
     "data": {
      "text/plain": [
       "utm_source_social\n",
       "0    85.256946\n",
       "1    14.743054\n",
       "dtype: float64"
      ]
     },
     "execution_count": 29,
     "metadata": {},
     "output_type": "execute_result"
    }
   ],
   "source": [
    "df_s.groupby('utm_source_social').size() / len(df_s) * 100"
   ]
  },
  {
   "cell_type": "markdown",
   "id": "d6adb15e",
   "metadata": {},
   "source": [
    "Признак **utm_source** содержит **97** пропусков. После объединения датасетов отавшиеся пропуски будут заменены на **other**.  \n",
    "\n",
    "Уникальных значений - **293**. При этом львиная доля (более **80%**) представлена  шестью каналами привлечения. Самым попоулярным ресурсом является **ZpYIoDJMcFzVoPFsHGJL**. На его долю приходится порядка **31%** или **578290** привлечений.\n",
    "\n",
    "\n",
    "Из социальных сетей прилекается только около **15%** трафика. "
   ]
  },
  {
   "cell_type": "markdown",
   "id": "c053966c",
   "metadata": {},
   "source": [
    "### `utm_medium - тип привлечения`"
   ]
  },
  {
   "cell_type": "code",
   "execution_count": 30,
   "id": "455581c8",
   "metadata": {},
   "outputs": [
    {
     "data": {
      "text/plain": [
       "count     1860042\n",
       "unique         56\n",
       "top        banner\n",
       "freq       552272\n",
       "Name: utm_medium, dtype: object"
      ]
     },
     "execution_count": 30,
     "metadata": {},
     "output_type": "execute_result"
    }
   ],
   "source": [
    "df_s.utm_medium.describe()"
   ]
  },
  {
   "cell_type": "code",
   "execution_count": 31,
   "id": "6ef8ab2e",
   "metadata": {},
   "outputs": [
    {
     "data": {
      "text/plain": [
       "banner             552272\n",
       "cpc                434794\n",
       "(none)             300575\n",
       "cpm                242083\n",
       "referral           152050\n",
       "organic             63034\n",
       "email               29240\n",
       "push                28035\n",
       "stories             10582\n",
       "cpv                  8022\n",
       "blogger_channel      8015\n",
       "smartbanner          6794\n",
       "blogger_stories      4312\n",
       "cpa                  4279\n",
       "tg                   4011\n",
       "app                  2836\n",
       "post                 2326\n",
       "smm                  1985\n",
       "outlook              1332\n",
       "clicks                934\n",
       "blogger_header        771\n",
       "(not set)             480\n",
       "info_text             343\n",
       "sms                   239\n",
       "landing               134\n",
       "Name: utm_medium, dtype: int64"
      ]
     },
     "execution_count": 31,
     "metadata": {},
     "output_type": "execute_result"
    }
   ],
   "source": [
    "df_s['utm_medium'].value_counts(dropna=False).head(25)"
   ]
  },
  {
   "cell_type": "code",
   "execution_count": 32,
   "id": "815c2038",
   "metadata": {},
   "outputs": [],
   "source": [
    "df_s['traffic_type'] = df_s.utm_medium.apply(lambda x:\n",
    "                                          'organic' if x in ['organic', 'referral', '(none)'] else 'paid')"
   ]
  },
  {
   "cell_type": "code",
   "execution_count": 33,
   "id": "e26270a0",
   "metadata": {},
   "outputs": [
    {
     "data": {
      "text/plain": [
       "paid       1344383\n",
       "organic     515659\n",
       "Name: traffic_type, dtype: int64"
      ]
     },
     "execution_count": 33,
     "metadata": {},
     "output_type": "execute_result"
    }
   ],
   "source": [
    "df_s.traffic_type.value_counts(dropna=False)"
   ]
  },
  {
   "cell_type": "code",
   "execution_count": 34,
   "id": "e5f43966",
   "metadata": {},
   "outputs": [
    {
     "data": {
      "image/png": "[encoded data removed]",
      "text/plain": [
       "<Figure size 720x576 with 1 Axes>"
      ]
     },
     "metadata": {
      "needs_background": "light"
     },
     "output_type": "display_data"
    }
   ],
   "source": [
    "fig, ax = plt.subplots(figsize=(10, 8))\n",
    "ax.bar(df_s['traffic_type'].unique(), df_s['traffic_type'].value_counts(), width=0.5, color=['darkgrey', 'mediumseagreen'])\n",
    "ax.set_xlabel('Тип привлечения')\n",
    "ax.set_ylabel('Частота')\n",
    "ax.set_title('Распределение значений utm_medium')\n",
    "ax.tick_params(axis='both', labelsize=12)\n",
    "\n",
    "ax.xaxis.set_major_locator(ticker.MultipleLocator(1)) \n",
    "\n",
    "ax.yaxis.set_major_formatter(FormatStrFormatter('%.0f'));"
   ]
  },
  {
   "cell_type": "code",
   "execution_count": 35,
   "id": "b3708523",
   "metadata": {},
   "outputs": [
    {
     "data": {
      "text/plain": [
       "traffic_type\n",
       "organic    27.722976\n",
       "paid       72.277024\n",
       "dtype: float64"
      ]
     },
     "execution_count": 35,
     "metadata": {},
     "output_type": "execute_result"
    }
   ],
   "source": [
    "df_s.groupby('traffic_type').size() / len(df_s) * 100"
   ]
  },
  {
   "cell_type": "markdown",
   "id": "37b4977e",
   "metadata": {},
   "source": [
    "Данные содержат **56** уникальных значений. \n",
    "\n",
    "Самые популярные типы трафика: **banner, cpc, (none), cpm, refferal, organic**.\n",
    "\n",
    "По условию задачи **organic, refferal и (none)** относятся к органическому трафику. \n",
    "\n",
    "Органический трафик составляет около 28%. "
   ]
  },
  {
   "cell_type": "markdown",
   "id": "79cdc861",
   "metadata": {},
   "source": [
    "### `utm_campaign - рекламная кампания`"
   ]
  },
  {
   "cell_type": "code",
   "execution_count": 36,
   "id": "594d3a79",
   "metadata": {},
   "outputs": [
    {
     "data": {
      "text/plain": [
       "count                  1640439\n",
       "unique                     412\n",
       "top       LTuZkdKfxRGVceoWkVyg\n",
       "freq                    463481\n",
       "Name: utm_campaign, dtype: object"
      ]
     },
     "execution_count": 36,
     "metadata": {},
     "output_type": "execute_result"
    }
   ],
   "source": [
    "df_s.utm_campaign.describe()"
   ]
  },
  {
   "cell_type": "code",
   "execution_count": 37,
   "id": "e29d5c1b",
   "metadata": {},
   "outputs": [
    {
     "name": "stdout",
     "output_type": "stream",
     "text": [
      "Количество незаполненных значений в utm_campaign: 219603 - 11.81%\n"
     ]
    }
   ],
   "source": [
    "missings_compaign = df_s['utm_campaign'].isna().sum()\n",
    "percent = missings_compaign / len(df_s) * 100\n",
    "print(f'Количество незаполненных значений в utm_campaign: {missings_compaign} - {percent:.2f}%')"
   ]
  },
  {
   "cell_type": "code",
   "execution_count": 38,
   "id": "3d9ed2d8",
   "metadata": {},
   "outputs": [
    {
     "data": {
      "text/plain": [
       "LTuZkdKfxRGVceoWkVyg    463481\n",
       "LEoPHuyFvzoNfnzGgfcd    324044\n",
       "FTjNLDyTrXaWYgZymFkV    247360\n",
       "NaN                     219603\n",
       "gecBYcKZCPMcVYdSSzKP    134042\n",
       "TmThBvoCcwkCZZUWACYq     26597\n",
       "XHNUiSKKGTEpSAlaVMFQ     24524\n",
       "okTXSMadDkjvntEHzIjp     24511\n",
       "SgIUDYUKnyWHVowUOqid     22841\n",
       "sbJRYgVfvcnqKJNDDYIr     20188\n",
       "Name: utm_campaign, dtype: int64"
      ]
     },
     "execution_count": 38,
     "metadata": {},
     "output_type": "execute_result"
    }
   ],
   "source": [
    "df_s['utm_campaign'].value_counts(dropna=False).head(10)"
   ]
  },
  {
   "cell_type": "markdown",
   "id": "42088c93",
   "metadata": {},
   "source": [
    "Данные о рекламных компаниях зашифрованы. Содержат **412** уникальных значений. Около **12%** значений пропущено."
   ]
  },
  {
   "cell_type": "markdown",
   "id": "22f7731f",
   "metadata": {},
   "source": [
    "### `utm_adcontent`"
   ]
  },
  {
   "cell_type": "code",
   "execution_count": 39,
   "id": "2d87d914",
   "metadata": {},
   "outputs": [
    {
     "data": {
      "text/plain": [
       "count                  1524427\n",
       "unique                     286\n",
       "top       JNHcPlZPxEMWDnRiyoBf\n",
       "freq                   1006599\n",
       "Name: utm_adcontent, dtype: object"
      ]
     },
     "execution_count": 39,
     "metadata": {},
     "output_type": "execute_result"
    }
   ],
   "source": [
    "df_s.utm_adcontent.describe()"
   ]
  },
  {
   "cell_type": "code",
   "execution_count": 40,
   "id": "a46ae96d",
   "metadata": {},
   "outputs": [
    {
     "name": "stdout",
     "output_type": "stream",
     "text": [
      "Количество незаполненных значений в utm_adcontent`: 335615 - 18.04%\n"
     ]
    }
   ],
   "source": [
    "missings_adcontent = df_s['utm_adcontent'].isna().sum()\n",
    "percent = missings_adcontent / len(df_s) * 100\n",
    "print(f'Количество незаполненных значений в utm_adcontent`: {missings_adcontent} - {percent:.2f}%')"
   ]
  },
  {
   "cell_type": "code",
   "execution_count": 41,
   "id": "1d9b57fc",
   "metadata": {},
   "outputs": [
    {
     "data": {
      "text/plain": [
       "JNHcPlZPxEMWDnRiyoBf    1006599\n",
       "NaN                      335615\n",
       "vCIpmpaGBnIQhyYNkXqp     181048\n",
       "xhoenQgDQsgfEPYNPwKO     113072\n",
       "PkybGvWbaqORmxjNunqZ      60316\n",
       "LLfCasrxQzJIyuldcuWy      24222\n",
       "TuyPWsGQruPMpKvRxeBF      18189\n",
       "UxrnyMlRBSOhOjytXnMG      13583\n",
       "dUuXlWzvmhDSyclWRhNP      10280\n",
       "yYdBRbPmBMUZHXwqGxNx       9700\n",
       "Name: utm_adcontent, dtype: int64"
      ]
     },
     "execution_count": 41,
     "metadata": {},
     "output_type": "execute_result"
    }
   ],
   "source": [
    "df_s['utm_adcontent'].value_counts(dropna=False).head(10)"
   ]
  },
  {
   "cell_type": "markdown",
   "id": "4ab6ad1b",
   "metadata": {},
   "source": [
    "В колонке **utm_adcontent** 286 уникальных значения, около 18% пропущено. Больше половины приходится на **JNHcPlZPxEMWDnRiyoBf**.\n",
    "\n",
    "Однако, поскольку значения зашифрованы и из названия не понятно, какую пользу можно извлечь из этой информации,  колонка **utm_adcontent**  в окончательном датасете участвовать не будет."
   ]
  },
  {
   "cell_type": "markdown",
   "id": "4641b8b7",
   "metadata": {},
   "source": [
    "### `utm_keyword - ключевое слово`"
   ]
  },
  {
   "cell_type": "code",
   "execution_count": 42,
   "id": "abadb27e",
   "metadata": {},
   "outputs": [
    {
     "data": {
      "text/plain": [
       "count                   777981\n",
       "unique                    1219\n",
       "top       puhZPIYqKXeFPaUviSjo\n",
       "freq                    506819\n",
       "Name: utm_keyword, dtype: object"
      ]
     },
     "execution_count": 42,
     "metadata": {},
     "output_type": "execute_result"
    }
   ],
   "source": [
    "df_s.utm_keyword.describe()"
   ]
  },
  {
   "cell_type": "code",
   "execution_count": 43,
   "id": "52595518",
   "metadata": {},
   "outputs": [
    {
     "name": "stdout",
     "output_type": "stream",
     "text": [
      "Количество незаполненных значений в utm_adcontent: 1082061 - 58.17%\n"
     ]
    }
   ],
   "source": [
    "missings_keyword = df_s['utm_keyword'].isna().sum()\n",
    "percent = missings_keyword / len(df_s) * 100\n",
    "print(f'Количество незаполненных значений в utm_adcontent: {missings_keyword} - {percent:.2f}%')"
   ]
  },
  {
   "cell_type": "code",
   "execution_count": 44,
   "id": "b7fc49c3",
   "metadata": {},
   "outputs": [
    {
     "data": {
      "text/plain": [
       "NaN                     1082061\n",
       "puhZPIYqKXeFPaUviSjo     506819\n",
       "aXQzDWsJuGXeBXexNHjc      24241\n",
       "pHqgLcdBQPSLcrTpLkdr      13767\n",
       "ITfrGJNwVsHBGJMAKoct      13353\n",
       "hAmNSZmQkKQKAjZEGlgb      11297\n",
       "UKNBOHebRIIsQRsjNKay      10946\n",
       "IGUCNvHlhfHpROGclCit       7568\n",
       "RkpOyeEPgcMBSDuHLQcj       6978\n",
       "JajANoFxoqXfKRNBUhzx       6758\n",
       "Name: utm_keyword, dtype: int64"
      ]
     },
     "execution_count": 44,
     "metadata": {},
     "output_type": "execute_result"
    }
   ],
   "source": [
    "df_s['utm_keyword'].value_counts(dropna=False).head(10)"
   ]
  },
  {
   "cell_type": "markdown",
   "id": "d763a105",
   "metadata": {},
   "source": [
    "Колонка **utm_keyword** зашифрована. Содержит 1219 уникальных значения, что довольно много и затрудняет использование данных в анализе. К тому же, пропущено более 58% . В списке наиболее часто встречающихся значений на втором месте, после **NaN**, находится **puhZPIYqKXeFPaUviSjo**.\n",
    "\n",
    "Учитывая всё вышесказанное, колонка **utm_keyword**  в окончательном датасете участвовать не будет."
   ]
  },
  {
   "cell_type": "markdown",
   "id": "41895460",
   "metadata": {},
   "source": [
    " ### `device_category — тип устройства` "
   ]
  },
  {
   "cell_type": "code",
   "execution_count": 45,
   "id": "25918b25",
   "metadata": {},
   "outputs": [
    {
     "data": {
      "text/plain": [
       "count     1860042\n",
       "unique          3\n",
       "top        mobile\n",
       "freq      1474871\n",
       "Name: device_category, dtype: object"
      ]
     },
     "execution_count": 45,
     "metadata": {},
     "output_type": "execute_result"
    }
   ],
   "source": [
    "df_s.device_category.describe()"
   ]
  },
  {
   "cell_type": "code",
   "execution_count": 46,
   "id": "3d966340",
   "metadata": {},
   "outputs": [
    {
     "data": {
      "text/html": [
       "<div>\n",
       "<style scoped>\n",
       "    .dataframe tbody tr th:only-of-type {\n",
       "        vertical-align: middle;\n",
       "    }\n",
       "\n",
       "    .dataframe tbody tr th {\n",
       "        vertical-align: top;\n",
       "    }\n",
       "\n",
       "    .dataframe thead th {\n",
       "        text-align: right;\n",
       "    }\n",
       "</style>\n",
       "<table border=\"1\" class=\"dataframe\">\n",
       "  <thead>\n",
       "    <tr style=\"text-align: right;\">\n",
       "      <th></th>\n",
       "      <th>device_category</th>\n",
       "      <th>count</th>\n",
       "    </tr>\n",
       "  </thead>\n",
       "  <tbody>\n",
       "    <tr>\n",
       "      <th>1</th>\n",
       "      <td>mobile</td>\n",
       "      <td>1474871</td>\n",
       "    </tr>\n",
       "    <tr>\n",
       "      <th>0</th>\n",
       "      <td>desktop</td>\n",
       "      <td>366863</td>\n",
       "    </tr>\n",
       "    <tr>\n",
       "      <th>2</th>\n",
       "      <td>tablet</td>\n",
       "      <td>18308</td>\n",
       "    </tr>\n",
       "  </tbody>\n",
       "</table>\n",
       "</div>"
      ],
      "text/plain": [
       "  device_category    count\n",
       "1          mobile  1474871\n",
       "0         desktop   366863\n",
       "2          tablet    18308"
      ]
     },
     "execution_count": 46,
     "metadata": {},
     "output_type": "execute_result"
    }
   ],
   "source": [
    "dev_cat = df_s.groupby(['device_category'], as_index=False)[['session_id']].count()\n",
    "dev_cat = dev_cat.rename(columns={'session_id': 'count'})\n",
    "dev_cat.sort_values(by='count', ascending=False)"
   ]
  },
  {
   "cell_type": "code",
   "execution_count": 47,
   "id": "a9d243c0",
   "metadata": {},
   "outputs": [
    {
     "data": {
      "image/png": "[encoded data removed]",
      "text/plain": [
       "<Figure size 1080x576 with 1 Axes>"
      ]
     },
     "metadata": {},
     "output_type": "display_data"
    }
   ],
   "source": [
    "explode = [0.02, 0.03, 0.03]\n",
    "colors = ['mediumseagreen', 'darkgrey', 'sandybrown']\n",
    "plt.figure(figsize=(15, 8))\n",
    "plt.pie(dev_cat['count'], \n",
    "        labels = dev_cat['device_category'],labeldistance=None, autopct = '%.2f%%', colors=colors, explode=explode)\n",
    "plt.title(\"Распределение типов устройств, использованных для входа на сайт\")\n",
    "plt.legend()\n",
    "plt.show();"
   ]
  },
  {
   "cell_type": "markdown",
   "id": "da92484d",
   "metadata": {},
   "source": [
    "Пропущенных значений в колонке **device_category** нет.  \n",
    "Уникальных значений всего **3**: планшенты, мобильные и десктопные устройства. \n",
    "Причём через **мобильное приложение** СберАвто поьзователи заходили на сайт почти в 4 раза чаще, чем через стационарные **комрьютеры и ноутбуки**. А вот с **планшетов** заходили лишь около 1% пользователей."
   ]
  },
  {
   "cell_type": "markdown",
   "id": "3b808502",
   "metadata": {},
   "source": [
    "###  `device_os — ОС устройства`"
   ]
  },
  {
   "cell_type": "code",
   "execution_count": 48,
   "id": "c7ddea02",
   "metadata": {},
   "outputs": [
    {
     "data": {
      "text/plain": [
       "count      789904\n",
       "unique         13\n",
       "top       Android\n",
       "freq       464054\n",
       "Name: device_os, dtype: object"
      ]
     },
     "execution_count": 48,
     "metadata": {},
     "output_type": "execute_result"
    }
   ],
   "source": [
    "df_s.device_os.describe()"
   ]
  },
  {
   "cell_type": "code",
   "execution_count": 49,
   "id": "24c2b466",
   "metadata": {},
   "outputs": [
    {
     "name": "stdout",
     "output_type": "stream",
     "text": [
      "Количество незаполненных значений в device_os: 1070138 - 57.53%\n"
     ]
    }
   ],
   "source": [
    "missings_os = df_s['device_os'].isna().sum()\n",
    "percent = missings_os / len(df_s) * 100\n",
    "print(f'Количество незаполненных значений в device_os: {missings_os} - {percent:.2f}%')"
   ]
  },
  {
   "cell_type": "code",
   "execution_count": 50,
   "id": "5a6caa82",
   "metadata": {},
   "outputs": [
    {
     "data": {
      "text/plain": [
       "NaN              1070138\n",
       "Android           464054\n",
       "iOS               207104\n",
       "Windows            88307\n",
       "Macintosh          24824\n",
       "Linux               5120\n",
       "(not set)            364\n",
       "Chrome OS             83\n",
       "BlackBerry            27\n",
       "Tizen                  7\n",
       "Samsung                4\n",
       "Windows Phone          4\n",
       "Firefox OS             3\n",
       "Nokia                  3\n",
       "Name: device_os, dtype: int64"
      ]
     },
     "execution_count": 50,
     "metadata": {},
     "output_type": "execute_result"
    }
   ],
   "source": [
    "df_s['device_os'].value_counts(dropna=False)"
   ]
  },
  {
   "cell_type": "markdown",
   "id": "e8c6ecf4",
   "metadata": {},
   "source": [
    "  К сожалению, данные содержат более **57%** пропусков. Что не позволит воспользоваться ими в дальнейшем. Имеющаяся же информация готорит о том, что основные **ОС - Android, iOS и Windows**. \n",
    "  В последующих исследованиях колонка **device_os** участвовать не будет."
   ]
  },
  {
   "cell_type": "markdown",
   "id": "55a61410",
   "metadata": {},
   "source": [
    "### `device_brand — марка устройства`"
   ]
  },
  {
   "cell_type": "code",
   "execution_count": 51,
   "id": "ce12cc55",
   "metadata": {},
   "outputs": [
    {
     "data": {
      "text/plain": [
       "count     1492864\n",
       "unique        205\n",
       "top         Apple\n",
       "freq       551088\n",
       "Name: device_brand, dtype: object"
      ]
     },
     "execution_count": 51,
     "metadata": {},
     "output_type": "execute_result"
    }
   ],
   "source": [
    "df_s.device_brand.describe()"
   ]
  },
  {
   "cell_type": "code",
   "execution_count": 52,
   "id": "f404538e",
   "metadata": {},
   "outputs": [
    {
     "name": "stdout",
     "output_type": "stream",
     "text": [
      "Количество незаполненных значений в device_brand: 367178 - 19.74%\n"
     ]
    }
   ],
   "source": [
    "missings_brand = df_s['device_brand'].isna().sum()\n",
    "percent = missings_brand / len(df_s) * 100\n",
    "print(f'Количество незаполненных значений в device_brand: {missings_brand} - {percent:.2f}%')"
   ]
  },
  {
   "cell_type": "code",
   "execution_count": 53,
   "id": "fc33836c",
   "metadata": {},
   "outputs": [
    {
     "name": "stdout",
     "output_type": "stream",
     "text": [
      "mobile\n",
      "----------------------------------------\n",
      "Apple      544793\n",
      "Samsung    327231\n",
      "Xiaomi     288115\n",
      "Huawei     182393\n",
      "Realme      19049\n",
      "Name: device_brand, dtype: int64 \n",
      "\n",
      "tablet\n",
      "----------------------------------------\n",
      "Apple      6223\n",
      "Samsung    4955\n",
      "Huawei     3441\n",
      "Lenovo     1656\n",
      "Google      713\n",
      "Name: device_brand, dtype: int64 \n",
      "\n",
      "desktop\n",
      "----------------------------------------\n",
      "NaN          366721\n",
      "Apple            72\n",
      "Huawei           19\n",
      "Xiaomi           10\n",
      "(not set)        10\n",
      "Name: device_brand, dtype: int64 \n",
      "\n"
     ]
    }
   ],
   "source": [
    "device_list = list(df_s.device_category.unique())\n",
    "for i in device_list:\n",
    "    print(i)\n",
    "    print('-'*40)\n",
    "    print(df_s[df_s['device_category'] == i].device_brand.value_counts(dropna=False).head(),'\\n')"
   ]
  },
  {
   "cell_type": "markdown",
   "id": "ad7c7765",
   "metadata": {},
   "source": [
    "В колонке пропущено около **20%** значений. Уникальных значений **205**. \n",
    "\n",
    "Самыми популярными марками являются:\n",
    "- среди мобильных телефонов - **Apple, Samsung, Xiaomi, Huawei**;\n",
    "- среди планшетов - **Apple, Samsung, Huawei, Lenovo**;\n",
    "- десктопные устройства преимущественно не содержат наименования бренда. \n",
    "\n",
    "Решение о том, оставить или удалить данную колонку будет принято после объединения датасетов."
   ]
  },
  {
   "cell_type": "markdown",
   "id": "e08d67df",
   "metadata": {},
   "source": [
    "### `device_model — модель устройства`"
   ]
  },
  {
   "cell_type": "code",
   "execution_count": 54,
   "id": "ee1fad17",
   "metadata": {},
   "outputs": [
    {
     "data": {
      "text/plain": [
       "count                    16338\n",
       "unique                     104\n",
       "top       AuMdmADEIoPXiWpTsBEj\n",
       "freq                      9778\n",
       "Name: device_model, dtype: object"
      ]
     },
     "execution_count": 54,
     "metadata": {},
     "output_type": "execute_result"
    }
   ],
   "source": [
    "df_s.device_model.describe()"
   ]
  },
  {
   "cell_type": "code",
   "execution_count": 55,
   "id": "30d2453c",
   "metadata": {},
   "outputs": [
    {
     "name": "stdout",
     "output_type": "stream",
     "text": [
      "Количество незаполненных значений в device_brand: 1843704 - 99.12%\n"
     ]
    }
   ],
   "source": [
    "missings_model = df_s['device_model'].isna().sum()\n",
    "percent = missings_model / len(df_s) * 100\n",
    "print(f'Количество незаполненных значений в device_brand: {missings_model} - {percent:.2f}%')"
   ]
  },
  {
   "cell_type": "markdown",
   "id": "68bb57a6",
   "metadata": {},
   "source": [
    "Использование данных **device_model** нецелесообразно, поскольку пропущено более **99%** значений."
   ]
  },
  {
   "cell_type": "markdown",
   "id": "35c4a353",
   "metadata": {},
   "source": [
    "### `device_screen_resolution — разрешение экрана`"
   ]
  },
  {
   "cell_type": "code",
   "execution_count": 56,
   "id": "b566e033",
   "metadata": {},
   "outputs": [
    {
     "data": {
      "text/plain": [
       "count     1860042\n",
       "unique       5039\n",
       "top       414x896\n",
       "freq       169090\n",
       "Name: device_screen_resolution, dtype: object"
      ]
     },
     "execution_count": 56,
     "metadata": {},
     "output_type": "execute_result"
    }
   ],
   "source": [
    "df_s.device_screen_resolution.describe()"
   ]
  },
  {
   "cell_type": "code",
   "execution_count": 57,
   "id": "a59fa2f0",
   "metadata": {},
   "outputs": [
    {
     "data": {
      "text/plain": [
       "414x896      169090\n",
       "1920x1080    125768\n",
       "375x812      117944\n",
       "393x851      115454\n",
       "375x667       93341\n",
       "360x780       92182\n",
       "360x800       80547\n",
       "412x915       74744\n",
       "360x640       70588\n",
       "390x844       60827\n",
       "393x873       52056\n",
       "360x720       50603\n",
       "360x760       50467\n",
       "412x892       43944\n",
       "428x926       40690\n",
       "Name: device_screen_resolution, dtype: int64"
      ]
     },
     "execution_count": 57,
     "metadata": {},
     "output_type": "execute_result"
    }
   ],
   "source": [
    "df_s['device_screen_resolution'].value_counts(dropna=False).head(15)"
   ]
  },
  {
   "cell_type": "markdown",
   "id": "d35fe416",
   "metadata": {},
   "source": [
    "Данные **device_screen_resolution** содержат очень много уникальных значений  - 5039. Чаще всего используются устройства с небольшим разрешением экрана, что логично, поскольку признак **device_category** уже указал на превалирующее использование мобильных телефонов для входа на сайт. \n",
    "\n",
    "Колонка **device_screen_resolution** будет исключена из финального датасета."
   ]
  },
  {
   "cell_type": "markdown",
   "id": "da770a3f",
   "metadata": {},
   "source": [
    "### `device_browser — браузер`"
   ]
  },
  {
   "cell_type": "code",
   "execution_count": 58,
   "id": "b3772d07",
   "metadata": {},
   "outputs": [
    {
     "data": {
      "text/plain": [
       "count     1860042\n",
       "unique         57\n",
       "top        Chrome\n",
       "freq      1013436\n",
       "Name: device_browser, dtype: object"
      ]
     },
     "execution_count": 58,
     "metadata": {},
     "output_type": "execute_result"
    }
   ],
   "source": [
    "df_s.device_browser.describe()"
   ]
  },
  {
   "cell_type": "code",
   "execution_count": 59,
   "id": "8c97924c",
   "metadata": {},
   "outputs": [
    {
     "data": {
      "text/plain": [
       "Chrome                              1013436\n",
       "Safari                               478562\n",
       "YaBrowser                            133311\n",
       "Safari (in-app)                       69912\n",
       "Android Webview                       55369\n",
       "Samsung Internet                      47309\n",
       "Opera                                 26817\n",
       "Firefox                               16588\n",
       "Edge                                  16065\n",
       "UC Browser                              871\n",
       "Android Runtime                         392\n",
       "Mozilla Compatible Agent                362\n",
       "[FBAN                                   269\n",
       "Instagram 208.0.0.32.135 Android        140\n",
       "Instagram 209.0.0.21.119 Android        111\n",
       "MRCHROME                                 77\n",
       "Android Browser                          49\n",
       "Opera Mini                               45\n",
       "Puffin                                   45\n",
       "Internet Explorer                        36\n",
       "Maxthon                                  31\n",
       "Android                                  22\n",
       "Instagram 216.1.0.21.137 Android         19\n",
       "Mozilla                                  17\n",
       "(not set)                                17\n",
       "Instagram 216.0.0.12.135                 17\n",
       "Instagram 202.0.0.23.119                 17\n",
       "Instagram 194.0.0.36.172 Android         15\n",
       "Instagram 207.0.0.28.118                 14\n",
       "Instagram 202.0.0.37.123 Android         12\n",
       "com.vk.vkclient                           8\n",
       "Instagram 192.0.0.37.119                  7\n",
       "Amazon Silk                               7\n",
       "helloworld                                6\n",
       "Coc Coc                                   6\n",
       "Instagram 213.0.0.19.117                  6\n",
       "Instagram 203.0.0.26.117                  6\n",
       "Instagram 212.0.0.38.119 Android          6\n",
       "Instagram 201.0.0.23.111                  5\n",
       "Instagram 213.0.0.29.120 Android          5\n",
       "Instagram 208.0.0.26.131                  5\n",
       "SeaMonkey                                 4\n",
       "Instagram 192.0.0.35.123 Android          3\n",
       "Instagram 158.0.0.30.123 Android          3\n",
       "MyApp                                     2\n",
       "Iron                                      2\n",
       "Instagram 199.0.0.27.120                  2\n",
       "NetFront                                  2\n",
       "Instagram 199.1.0.34.119 Android          2\n",
       "com.zhiliaoapp.musically                  1\n",
       "Konqueror                                 1\n",
       "NokiaX2-02                                1\n",
       "Phantom Browser                           1\n",
       "Instagram 206.1.0.34.121 Android          1\n",
       "Nokia501                                  1\n",
       "MT6735_TD                                 1\n",
       "Threads 202.0.0.23.119                    1\n",
       "Name: device_browser, dtype: int64"
      ]
     },
     "execution_count": 59,
     "metadata": {},
     "output_type": "execute_result"
    }
   ],
   "source": [
    "df_s['device_browser'].value_counts(dropna=False)"
   ]
  },
  {
   "cell_type": "code",
   "execution_count": 60,
   "id": "1d1c60c0",
   "metadata": {},
   "outputs": [
    {
     "data": {
      "text/plain": [
       "Chrome              1013436\n",
       "Safari               478562\n",
       "YaBrowser            133311\n",
       "Safari (in-app)       69912\n",
       "Android Webview       55369\n",
       "Samsung Internet      47309\n",
       "Opera                 26817\n",
       "Firefox               16588\n",
       "Edge                  16065\n",
       "Other                  2673\n",
       "Name: device_browser, dtype: int64"
      ]
     },
     "execution_count": 60,
     "metadata": {},
     "output_type": "execute_result"
    }
   ],
   "source": [
    "browser = list(df_s.device_browser.value_counts(dropna=False, normalize=True)[df_s.device_browser.value_counts(dropna=False, normalize=True) \\\n",
    "                                                                              .apply(lambda x: f'{x:0.3f}') >= '0.001'].index)\n",
    "\n",
    "def browser_freq(data):\n",
    "    if data in browser:\n",
    "        return data\n",
    "    return 'Other'\n",
    "\n",
    "df_s['device_browser'] = df_s.device_browser.apply(browser_freq)\n",
    "df_s.device_browser.value_counts(dropna=False)"
   ]
  },
  {
   "cell_type": "markdown",
   "id": "40c6d506",
   "metadata": {},
   "source": [
    "В колонке 57 уникальных значения, но, поскольку многие встречаются лишь несколько раз, целесообразно объединить в категорию **Other** те значения, доля которых < 0,1%.\n",
    "\n",
    "Т.о., самые популярные браузеры - это **Chrome, Safari и YaBrowser**."
   ]
  },
  {
   "cell_type": "markdown",
   "id": "1e6a65ca",
   "metadata": {},
   "source": [
    "### `geo_country — страна`"
   ]
  },
  {
   "cell_type": "code",
   "execution_count": 61,
   "id": "ff5bd5b2",
   "metadata": {},
   "outputs": [
    {
     "data": {
      "text/plain": [
       "count     1860042\n",
       "unique        166\n",
       "top        Russia\n",
       "freq      1800565\n",
       "Name: geo_country, dtype: object"
      ]
     },
     "execution_count": 61,
     "metadata": {},
     "output_type": "execute_result"
    }
   ],
   "source": [
    "df_s.geo_country.describe()"
   ]
  },
  {
   "cell_type": "code",
   "execution_count": 62,
   "id": "84aba7b7",
   "metadata": {},
   "outputs": [
    {
     "data": {
      "text/plain": [
       "Russia            1800565\n",
       "United States       11784\n",
       "Ukraine              9012\n",
       "Ireland              4034\n",
       "Belarus              3636\n",
       "Sweden               2694\n",
       "Kazakhstan           2279\n",
       "Germany              2232\n",
       "Turkey               1953\n",
       "Netherlands          1549\n",
       "Uzbekistan           1523\n",
       "United Kingdom       1462\n",
       "(not set)            1146\n",
       "Kyrgyzstan            974\n",
       "Georgia               935\n",
       "Name: geo_country, dtype: int64"
      ]
     },
     "execution_count": 62,
     "metadata": {},
     "output_type": "execute_result"
    }
   ],
   "source": [
    "df_s['geo_country'].value_counts(dropna=False).head(15)"
   ]
  },
  {
   "cell_type": "code",
   "execution_count": 63,
   "id": "0a3e24f0",
   "metadata": {},
   "outputs": [
    {
     "data": {
      "text/plain": [
       "geo_country\n",
       "Russia            96.802384\n",
       "United States      0.633534\n",
       "Ukraine            0.484505\n",
       "Ireland            0.216877\n",
       "Belarus            0.195479\n",
       "Sweden             0.144835\n",
       "Kazakhstan         0.122524\n",
       "Germany            0.119997\n",
       "Turkey             0.104998\n",
       "Netherlands        0.083278\n",
       "Uzbekistan         0.081880\n",
       "United Kingdom     0.078600\n",
       "(not set)          0.061612\n",
       "Kyrgyzstan         0.052364\n",
       "Georgia            0.050268\n",
       "dtype: float64"
      ]
     },
     "execution_count": 63,
     "metadata": {},
     "output_type": "execute_result"
    }
   ],
   "source": [
    "(df_s.groupby('geo_country').size() / len(df_s) * 100).sort_values(ascending=False).head(15)"
   ]
  },
  {
   "cell_type": "markdown",
   "id": "96b6faf4",
   "metadata": {},
   "source": [
    "Данные **geo_country** содержат 166 уникальных значений. Превалирующее количество посещений (>96%) осуществляется из России, что логично, поскольку автомобили предоставляются в пользование только на территории РФ и только гражданам РФ. \n",
    "1146 стран имеют значение **(not set)**. Вероятно, эти строки придётся удалить."
   ]
  },
  {
   "cell_type": "markdown",
   "id": "82842814",
   "metadata": {},
   "source": [
    "### `geo_city — город`"
   ]
  },
  {
   "cell_type": "code",
   "execution_count": 64,
   "id": "c37d5e93",
   "metadata": {},
   "outputs": [
    {
     "data": {
      "text/plain": [
       "count     1860042\n",
       "unique       2548\n",
       "top        Moscow\n",
       "freq       805329\n",
       "Name: geo_city, dtype: object"
      ]
     },
     "execution_count": 64,
     "metadata": {},
     "output_type": "execute_result"
    }
   ],
   "source": [
    "df_s.geo_city.describe()"
   ]
  },
  {
   "cell_type": "code",
   "execution_count": 65,
   "id": "7e927dde",
   "metadata": {},
   "outputs": [
    {
     "data": {
      "text/plain": [
       "Moscow              805329\n",
       "Saint Petersburg    296788\n",
       "(not set)            78172\n",
       "Yekaterinburg        35788\n",
       "Krasnodar            32243\n",
       "Kazan                29531\n",
       "Samara               24992\n",
       "Nizhny Novgorod      22227\n",
       "Ufa                  21679\n",
       "Novosibirsk          21568\n",
       "Krasnoyarsk          16346\n",
       "Chelyabinsk          15951\n",
       "Tula                 15814\n",
       "Voronezh             13908\n",
       "Rostov-on-Don        13886\n",
       "Name: geo_city, dtype: int64"
      ]
     },
     "execution_count": 65,
     "metadata": {},
     "output_type": "execute_result"
    }
   ],
   "source": [
    "df_s['geo_city'].value_counts(dropna=False).head(15)"
   ]
  },
  {
   "cell_type": "code",
   "execution_count": 66,
   "id": "adeb2dce",
   "metadata": {},
   "outputs": [
    {
     "data": {
      "text/plain": [
       "geo_city\n",
       "Moscow              43.296280\n",
       "Saint Petersburg    15.955984\n",
       "(not set)            4.202701\n",
       "Yekaterinburg        1.924043\n",
       "Krasnodar            1.733455\n",
       "Kazan                1.587652\n",
       "Samara               1.343626\n",
       "Nizhny Novgorod      1.194973\n",
       "Ufa                  1.165511\n",
       "Novosibirsk          1.159544\n",
       "Krasnoyarsk          0.878797\n",
       "Chelyabinsk          0.857561\n",
       "Tula                 0.850196\n",
       "Voronezh             0.747725\n",
       "Rostov-on-Don        0.746542\n",
       "dtype: float64"
      ]
     },
     "execution_count": 66,
     "metadata": {},
     "output_type": "execute_result"
    }
   ],
   "source": [
    "(df_s.groupby('geo_city').size() / len(df_s) * 100).sort_values(ascending=False).head(15)"
   ]
  },
  {
   "cell_type": "code",
   "execution_count": 67,
   "id": "5cddef67",
   "metadata": {},
   "outputs": [],
   "source": [
    "moscow_region_cities = ['Aprelevka', 'Balashikha', 'Beloozyorskiy', 'Chekhov', 'Chernogolovka', 'Dedovsk', 'Dmitrov', \n",
    "                 'Dolgoprudny', 'Domodedovo', 'Dubna', 'Dzerzhinsky','Elektrogorsk', 'Elektrostal', 'Elektrougli', \n",
    "                 'Fryazino', 'Golitsyno', 'Istra', 'Ivanteyevka', 'Izhevsk', 'Kashira', 'Khimki', 'Khotkovo', 'Klin', \n",
    "                 'Kolomna', 'Korolyov', 'Kotelniki', 'Krasnoarmeysk', 'Krasnogorsk', 'Krasnoznamensk', 'Kubinka',\n",
    "                 'Kurovskoye', 'Likino-Dulyovo', 'Lobnya', 'Losino-Petrovsky', 'Lukhovitsy', 'Lytkarino', 'Lyubertsy', \n",
    "                 'Mozhaysk', 'Mytishchi', 'Naro-Fominsk', 'Noginsk', 'Odintsovo', 'Orekhovo-Zuyevo', \n",
    "                 'Pavlovsky Posad', 'Podolsk', 'Protvino', 'Pushchino', 'Pushkino', 'Ramenskoye', 'Reutov', 'Ruza',               \n",
    "                 'Sergiyev Posad', 'Serpukhov', 'Solnechnogorsk', 'Staraya Kupavna', 'Stupino', 'Shchyolkovo', \n",
    "                 'Shatura', 'Vidnoye', 'Volokolamsk', 'Voskresensk', 'Yakhroma', 'Zvenigorod']\n",
    "\n",
    "df_s['region'] = df_s.apply(lambda x: \n",
    "                           'Moscow' if x.geo_city == 'Moscow'\n",
    "                            else \n",
    "                            ('Saint Petersburg' if x.geo_city == 'Saint Petersburg'\n",
    "                             else\n",
    "                             ('Moscow_region' if x.geo_city in moscow_region_cities\n",
    "                               else\n",
    "                                ('Other_Russia' if x.geo_country == 'Russia'\n",
    "                                 else\n",
    "                                  ('(not set)' if x.geo_city == '(not set)'\n",
    "                                   else                                    \n",
    "                                    'Other_countries')))), axis=1)\n",
    "                               "
   ]
  },
  {
   "cell_type": "code",
   "execution_count": 68,
   "id": "cdd03b7c",
   "metadata": {},
   "outputs": [
    {
     "data": {
      "text/plain": [
       "region\n",
       "Moscow              43.296280\n",
       "Other_Russia        31.887506\n",
       "Saint Petersburg    15.955984\n",
       "Moscow_region        5.662614\n",
       "Other_countries      2.759400\n",
       "(not set)            0.438216\n",
       "dtype: float64"
      ]
     },
     "execution_count": 68,
     "metadata": {},
     "output_type": "execute_result"
    }
   ],
   "source": [
    "(df_s.groupby('region').size() / len(df_s) * 100).sort_values(ascending=False).head(15)"
   ]
  },
  {
   "cell_type": "markdown",
   "id": "4a7bf718",
   "metadata": {},
   "source": [
    "Данные содержат 2548 уникальных значений. Поэтому был создан новый призак **region**, в котором все локации были разделены на 6 позиций: \n",
    "- 2 самых крупных по посещаемости города - Москва и Санкт-Петербург, \n",
    "- Московская область, \n",
    "- остальные Российские города, \n",
    "- города, находящиеся не на территории России и \n",
    "- пропущенные значения.  \n",
    "\n",
    "Пропущенных значений оказадлсь около 4%.\n",
    "\n",
    "43% сессий из Москвы, 15% из Санкт-Петербурга и 5% из Московской области."
   ]
  },
  {
   "cell_type": "markdown",
   "id": "7a253982",
   "metadata": {},
   "source": [
    "### `visit_date_time - дата и время визита` "
   ]
  },
  {
   "cell_type": "code",
   "execution_count": 69,
   "id": "680575ed",
   "metadata": {},
   "outputs": [
    {
     "data": {
      "text/plain": [
       "count                          1860042\n",
       "mean     2021-09-27 01:35:48.891483136\n",
       "min                2021-05-19 10:00:00\n",
       "25%                2021-08-02 15:00:00\n",
       "50%                2021-10-06 18:00:00\n",
       "75%                2021-11-23 13:37:28\n",
       "max                2021-12-31 23:59:35\n",
       "Name: visit_date_time, dtype: object"
      ]
     },
     "execution_count": 69,
     "metadata": {},
     "output_type": "execute_result"
    }
   ],
   "source": [
    "df_s['visit_date_time'].describe(datetime_is_numeric=True)"
   ]
  },
  {
   "cell_type": "code",
   "execution_count": 71,
   "id": "22d67e3d",
   "metadata": {},
   "outputs": [
    {
     "data": {
      "image/png": "[encoded data removed]",
      "text/plain": [
       "<Figure size 1296x360 with 1 Axes>"
      ]
     },
     "metadata": {
      "needs_background": "light"
     },
     "output_type": "display_data"
    }
   ],
   "source": [
    "plt.figure(figsize = (18, 5))\n",
    "sns.histplot(df_s, x='visit_date_time', discrete=True)\n",
    "plt.xlabel('Даты')\n",
    "plt.ylabel('Количество сессий')\n",
    "plt.title('Динамика посещения сайта по дням');"
   ]
  },
  {
   "cell_type": "code",
   "execution_count": 72,
   "id": "239775c4",
   "metadata": {},
   "outputs": [],
   "source": [
    "df_s['week'] = df_s.visit_date_time.dt.isocalendar().week"
   ]
  },
  {
   "cell_type": "code",
   "execution_count": 73,
   "id": "d03d346b",
   "metadata": {},
   "outputs": [
    {
     "data": {
      "image/png": "[encoded data removed]",
      "text/plain": [
       "<Figure size 1296x360 with 1 Axes>"
      ]
     },
     "metadata": {
      "needs_background": "light"
     },
     "output_type": "display_data"
    }
   ],
   "source": [
    "plt.figure(figsize = (18, 5))\n",
    "sns.histplot(data=df_s, x='week', discrete=True)\n",
    "plt.xlabel('Номер недели')\n",
    "plt.ylabel('Количество сессий')\n",
    "plt.title('Динамика посещения сайта по неделям');"
   ]
  },
  {
   "cell_type": "code",
   "execution_count": 101,
   "id": "28a84177",
   "metadata": {},
   "outputs": [],
   "source": [
    "df_s['weekday'] = df_s['visit_date_time'].dt.day_name()\n",
    "df_s['num_weekday'] = df_s['visit_date_time'].dt.weekday\n",
    "weekday = df_s[['session_id', 'weekday', 'num_weekday']].sort_values(by='num_weekday')"
   ]
  },
  {
   "cell_type": "code",
   "execution_count": 104,
   "id": "858ef133",
   "metadata": {},
   "outputs": [
    {
     "data": {
      "image/png": "[encoded data removed]",
      "text/plain": [
       "<Figure size 1296x360 with 1 Axes>"
      ]
     },
     "metadata": {
      "needs_background": "light"
     },
     "output_type": "display_data"
    }
   ],
   "source": [
    "plt.figure(figsize = (18, 5))\n",
    "a = sns.histplot(data=weekday, x='weekday', discrete=True)\n",
    "plt.xlabel('День недели')\n",
    "plt.ylabel('Количество сессий')\n",
    "plt.xticks(ha='right', rotation=30)\n",
    "plt.title('Динамика посещения сайта по дням недели');"
   ]
  },
  {
   "cell_type": "code",
   "execution_count": 112,
   "id": "4318b25b",
   "metadata": {},
   "outputs": [],
   "source": [
    "df_s['month_name'] = df_s.visit_date_time.dt.month_name()\n",
    "df_s['month'] = df_s.visit_date_time.dt.month\n",
    "month = df_s[['session_id', 'month_name', 'month']].sort_values(by='month')"
   ]
  },
  {
   "cell_type": "code",
   "execution_count": 113,
   "id": "09184868",
   "metadata": {},
   "outputs": [
    {
     "data": {
      "image/png": "[encoded data removed]",
      "text/plain": [
       "<Figure size 1296x360 with 1 Axes>"
      ]
     },
     "metadata": {
      "needs_background": "light"
     },
     "output_type": "display_data"
    }
   ],
   "source": [
    "plt.figure(figsize = (18, 5))\n",
    "sns.histplot(data=month, x='month_name', discrete=True)\n",
    "plt.xlabel('Месяц')\n",
    "plt.ylabel('Количество сессий')\n",
    "plt.xticks(ha='right', rotation=30)\n",
    "plt.title('Динамика посещения сайта по месяцам');"
   ]
  },
  {
   "cell_type": "code",
   "execution_count": 81,
   "id": "60f6120e",
   "metadata": {},
   "outputs": [],
   "source": [
    "df_s['hour'] = df_s['visit_date_time'].dt.hour"
   ]
  },
  {
   "cell_type": "code",
   "execution_count": 82,
   "id": "82c66d16",
   "metadata": {},
   "outputs": [
    {
     "data": {
      "image/png": "[encoded data removed]",
      "text/plain": [
       "<Figure size 1296x360 with 1 Axes>"
      ]
     },
     "metadata": {
      "needs_background": "light"
     },
     "output_type": "display_data"
    }
   ],
   "source": [
    "plt.figure(figsize = (18, 5))\n",
    "sns.histplot(data=df_s, x='hour', discrete=True)\n",
    "plt.title('Динамика посещения сайта по часам');"
   ]
  },
  {
   "cell_type": "code",
   "execution_count": 114,
   "id": "1eae3578",
   "metadata": {},
   "outputs": [
    {
     "data": {
      "text/html": [
       "<div>\n",
       "<style scoped>\n",
       "    .dataframe tbody tr th:only-of-type {\n",
       "        vertical-align: middle;\n",
       "    }\n",
       "\n",
       "    .dataframe tbody tr th {\n",
       "        vertical-align: top;\n",
       "    }\n",
       "\n",
       "    .dataframe thead th {\n",
       "        text-align: right;\n",
       "    }\n",
       "</style>\n",
       "<table border=\"1\" class=\"dataframe\">\n",
       "  <thead>\n",
       "    <tr style=\"text-align: right;\">\n",
       "      <th></th>\n",
       "      <th>month_name</th>\n",
       "      <th>month</th>\n",
       "      <th>count</th>\n",
       "    </tr>\n",
       "  </thead>\n",
       "  <tbody>\n",
       "    <tr>\n",
       "      <th>4</th>\n",
       "      <td>May</td>\n",
       "      <td>5</td>\n",
       "      <td>108202</td>\n",
       "    </tr>\n",
       "    <tr>\n",
       "      <th>3</th>\n",
       "      <td>June</td>\n",
       "      <td>6</td>\n",
       "      <td>166470</td>\n",
       "    </tr>\n",
       "    <tr>\n",
       "      <th>2</th>\n",
       "      <td>July</td>\n",
       "      <td>7</td>\n",
       "      <td>185244</td>\n",
       "    </tr>\n",
       "    <tr>\n",
       "      <th>0</th>\n",
       "      <td>August</td>\n",
       "      <td>8</td>\n",
       "      <td>164155</td>\n",
       "    </tr>\n",
       "    <tr>\n",
       "      <th>7</th>\n",
       "      <td>September</td>\n",
       "      <td>9</td>\n",
       "      <td>257478</td>\n",
       "    </tr>\n",
       "    <tr>\n",
       "      <th>6</th>\n",
       "      <td>October</td>\n",
       "      <td>10</td>\n",
       "      <td>281622</td>\n",
       "    </tr>\n",
       "    <tr>\n",
       "      <th>5</th>\n",
       "      <td>November</td>\n",
       "      <td>11</td>\n",
       "      <td>297769</td>\n",
       "    </tr>\n",
       "    <tr>\n",
       "      <th>1</th>\n",
       "      <td>December</td>\n",
       "      <td>12</td>\n",
       "      <td>399102</td>\n",
       "    </tr>\n",
       "  </tbody>\n",
       "</table>\n",
       "</div>"
      ],
      "text/plain": [
       "  month_name  month   count\n",
       "4        May      5  108202\n",
       "3       June      6  166470\n",
       "2       July      7  185244\n",
       "0     August      8  164155\n",
       "7  September      9  257478\n",
       "6    October     10  281622\n",
       "5   November     11  297769\n",
       "1   December     12  399102"
      ]
     },
     "execution_count": 114,
     "metadata": {},
     "output_type": "execute_result"
    }
   ],
   "source": [
    "visit_stats = df_s.groupby(['month_name', 'month'], as_index=False)[['session_id']].count()\n",
    "visit_stats = visit_stats.rename(columns={'session_id': 'count'}).sort_values(by='month')\n",
    "visit_stats"
   ]
  },
  {
   "cell_type": "code",
   "execution_count": 115,
   "id": "77cc3d4a",
   "metadata": {},
   "outputs": [
    {
     "data": {
      "image/png": "[encoded data removed]",
      "text/plain": [
       "<Figure size 1080x576 with 1 Axes>"
      ]
     },
     "metadata": {},
     "output_type": "display_data"
    }
   ],
   "source": [
    "explode = [0.03, 0.03, 0.03, 0.03, 0.03, 0.02, 0.02, 0.02]\n",
    "colors = ['palegreen','yellowgreen', 'olivedrab', 'olive',\n",
    "          'gold', 'goldenrod', 'tan', 'silver']\n",
    "plt.figure(figsize=(15, 8))\n",
    "plt.pie(visit_stats['count'], \n",
    "        labels=visit_stats['month_name'], labeldistance=None, autopct = '%.2f%%', colors=colors, explode=explode)\n",
    "plt.title(\"Доля визитов по месяцам\")\n",
    "plt.legend()\n",
    "plt.show();"
   ]
  },
  {
   "cell_type": "code",
   "execution_count": 69,
   "id": "104b121b",
   "metadata": {},
   "outputs": [],
   "source": [
    "df_s['date']=pd.to_datetime(df_s.visit_date, utc=True)"
   ]
  },
  {
   "cell_type": "markdown",
   "id": "3f72a62e",
   "metadata": {},
   "source": [
    "Данные представлены за неполные **8 месяцев 2021г.**. А именно, **с 19 мая 2021 по 31 декабря 2021**.\n",
    "\n",
    "На графиках посещения сайта по ***неделям*** и по ***месяцам*** наблюдается **положительная динамика** визитов. Можно говорить о том, что растущие показатели являются признаком развития кампании. \n",
    "\n",
    "Самая небольшая доля посещений приходится на первый месяц работы сайта. Но в мае сайт работал всего лишь 12 дней и именно на эти дни приходится пик посещаемости, что, скорее всего, связано с активной рекламной кампанией и новостями о новом сервисе.\n",
    "\n",
    "Небольшое **\"проседание\"** по посещениям отмечается только в ***августе***, природу этого явления, возможно, удасться определить при дальнейшем анализе. **Максимальное** количество визитов пришлось на ***декабрь***. что соответствует общей тенденции. \n",
    "Если рассматривать данные с точки зрения посещения ***по дням недели и по времени суток***, то больше всего сессий происходит в начале недели, в середине дня (в обеденное время). Меньше всего визитов совершается в выходные в середине ночи -  в 04:00."
   ]
  },
  {
   "cell_type": "markdown",
   "id": "52ddc743",
   "metadata": {},
   "source": [
    "##### Вывод очищенного датасета `ga_sessions`"
   ]
  },
  {
   "cell_type": "code",
   "execution_count": 116,
   "id": "03174efb",
   "metadata": {},
   "outputs": [
    {
     "name": "stdout",
     "output_type": "stream",
     "text": [
      "Размер датафрейма:  (1860042, 13)\n"
     ]
    },
    {
     "data": {
      "text/html": [
       "<div>\n",
       "<style scoped>\n",
       "    .dataframe tbody tr th:only-of-type {\n",
       "        vertical-align: middle;\n",
       "    }\n",
       "\n",
       "    .dataframe tbody tr th {\n",
       "        vertical-align: top;\n",
       "    }\n",
       "\n",
       "    .dataframe thead th {\n",
       "        text-align: right;\n",
       "    }\n",
       "</style>\n",
       "<table border=\"1\" class=\"dataframe\">\n",
       "  <thead>\n",
       "    <tr style=\"text-align: right;\">\n",
       "      <th></th>\n",
       "      <th>session_id</th>\n",
       "      <th>utm_source</th>\n",
       "      <th>utm_medium</th>\n",
       "      <th>utm_campaign</th>\n",
       "      <th>device_category</th>\n",
       "      <th>device_brand</th>\n",
       "      <th>geo_country</th>\n",
       "      <th>geo_city</th>\n",
       "      <th>utm_source_social</th>\n",
       "      <th>traffic_type</th>\n",
       "      <th>region</th>\n",
       "      <th>month</th>\n",
       "      <th>num_month</th>\n",
       "    </tr>\n",
       "  </thead>\n",
       "  <tbody>\n",
       "    <tr>\n",
       "      <th>0</th>\n",
       "      <td>9055434745589932991.1637753792.1637753792</td>\n",
       "      <td>ZpYIoDJMcFzVoPFsHGJL</td>\n",
       "      <td>banner</td>\n",
       "      <td>LEoPHuyFvzoNfnzGgfcd</td>\n",
       "      <td>mobile</td>\n",
       "      <td>Huawei</td>\n",
       "      <td>Russia</td>\n",
       "      <td>Zlatoust</td>\n",
       "      <td>0</td>\n",
       "      <td>paid</td>\n",
       "      <td>Other_Russia</td>\n",
       "      <td>11</td>\n",
       "      <td>11</td>\n",
       "    </tr>\n",
       "    <tr>\n",
       "      <th>1</th>\n",
       "      <td>905544597018549464.1636867290.1636867290</td>\n",
       "      <td>MvfHsxITijuriZxsqZqt</td>\n",
       "      <td>cpm</td>\n",
       "      <td>FTjNLDyTrXaWYgZymFkV</td>\n",
       "      <td>mobile</td>\n",
       "      <td>Samsung</td>\n",
       "      <td>Russia</td>\n",
       "      <td>Moscow</td>\n",
       "      <td>1</td>\n",
       "      <td>paid</td>\n",
       "      <td>Moscow</td>\n",
       "      <td>11</td>\n",
       "      <td>11</td>\n",
       "    </tr>\n",
       "    <tr>\n",
       "      <th>2</th>\n",
       "      <td>9055446045651783499.1640648526.1640648526</td>\n",
       "      <td>ZpYIoDJMcFzVoPFsHGJL</td>\n",
       "      <td>banner</td>\n",
       "      <td>LEoPHuyFvzoNfnzGgfcd</td>\n",
       "      <td>mobile</td>\n",
       "      <td>Huawei</td>\n",
       "      <td>Russia</td>\n",
       "      <td>Krasnoyarsk</td>\n",
       "      <td>0</td>\n",
       "      <td>paid</td>\n",
       "      <td>Other_Russia</td>\n",
       "      <td>12</td>\n",
       "      <td>12</td>\n",
       "    </tr>\n",
       "    <tr>\n",
       "      <th>3</th>\n",
       "      <td>9055447046360770272.1622255328.1622255328</td>\n",
       "      <td>kjsLglQLzykiRbcDiGcD</td>\n",
       "      <td>cpc</td>\n",
       "      <td>NaN</td>\n",
       "      <td>mobile</td>\n",
       "      <td>Xiaomi</td>\n",
       "      <td>Russia</td>\n",
       "      <td>Moscow</td>\n",
       "      <td>0</td>\n",
       "      <td>paid</td>\n",
       "      <td>Moscow</td>\n",
       "      <td>5</td>\n",
       "      <td>5</td>\n",
       "    </tr>\n",
       "    <tr>\n",
       "      <th>4</th>\n",
       "      <td>9055447046360770272.1622255345.1622255345</td>\n",
       "      <td>kjsLglQLzykiRbcDiGcD</td>\n",
       "      <td>cpc</td>\n",
       "      <td>NaN</td>\n",
       "      <td>mobile</td>\n",
       "      <td>Xiaomi</td>\n",
       "      <td>Russia</td>\n",
       "      <td>Moscow</td>\n",
       "      <td>0</td>\n",
       "      <td>paid</td>\n",
       "      <td>Moscow</td>\n",
       "      <td>5</td>\n",
       "      <td>5</td>\n",
       "    </tr>\n",
       "  </tbody>\n",
       "</table>\n",
       "</div>"
      ],
      "text/plain": [
       "                                  session_id            utm_source utm_medium  \\\n",
       "0  9055434745589932991.1637753792.1637753792  ZpYIoDJMcFzVoPFsHGJL     banner   \n",
       "1   905544597018549464.1636867290.1636867290  MvfHsxITijuriZxsqZqt        cpm   \n",
       "2  9055446045651783499.1640648526.1640648526  ZpYIoDJMcFzVoPFsHGJL     banner   \n",
       "3  9055447046360770272.1622255328.1622255328  kjsLglQLzykiRbcDiGcD        cpc   \n",
       "4  9055447046360770272.1622255345.1622255345  kjsLglQLzykiRbcDiGcD        cpc   \n",
       "\n",
       "           utm_campaign device_category device_brand geo_country     geo_city  \\\n",
       "0  LEoPHuyFvzoNfnzGgfcd          mobile       Huawei      Russia     Zlatoust   \n",
       "1  FTjNLDyTrXaWYgZymFkV          mobile      Samsung      Russia       Moscow   \n",
       "2  LEoPHuyFvzoNfnzGgfcd          mobile       Huawei      Russia  Krasnoyarsk   \n",
       "3                   NaN          mobile       Xiaomi      Russia       Moscow   \n",
       "4                   NaN          mobile       Xiaomi      Russia       Moscow   \n",
       "\n",
       "   utm_source_social traffic_type        region  month  num_month  \n",
       "0                  0         paid  Other_Russia     11         11  \n",
       "1                  1         paid        Moscow     11         11  \n",
       "2                  0         paid  Other_Russia     12         12  \n",
       "3                  0         paid        Moscow      5          5  \n",
       "4                  0         paid        Moscow      5          5  "
      ]
     },
     "execution_count": 116,
     "metadata": {},
     "output_type": "execute_result"
    }
   ],
   "source": [
    "columns_to_drop_from_sessions = ['client_id', 'visit_number', 'utm_adcontent', 'visit_date_time',\n",
    "                                 'visit_date', 'visit_time','utm_keyword', 'device_os', 'device_model', \n",
    "                                 'device_screen_resolution', 'device_browser', 'week', 'weekday',\n",
    "                                 'num_weekday', 'month_name','hour']\n",
    "                                 \n",
    "\n",
    "dfs_new = df_s.drop(columns_to_drop_from_sessions, axis=1)\n",
    "print('Размер датафрейма: ', dfs_new.shape)\n",
    "dfs_new.head()"
   ]
  },
  {
   "cell_type": "markdown",
   "id": "015aff6e",
   "metadata": {},
   "source": [
    "###### Cохранение очищенного датасета ga_sessions в csv"
   ]
  },
  {
   "cell_type": "code",
   "execution_count": 90,
   "id": "6a04ed42",
   "metadata": {},
   "outputs": [],
   "source": [
    "dfs_new.to_csv('data/ga_sessions_clear.csv', index=False)"
   ]
  },
  {
   "cell_type": "markdown",
   "id": "18f9a59d",
   "metadata": {},
   "source": [
    "**В таблице Датасета событий поле `session_id` являтся внешним ключом. Таким образом, для формирования единого Датасета можно объединить таблицы по полю `session_id`.**"
   ]
  },
  {
   "cell_type": "code",
   "execution_count": null,
   "id": "5775fb7c",
   "metadata": {},
   "outputs": [],
   "source": []
  }
 ],
 "metadata": {
  "kernelspec": {
   "display_name": "Python 3 (ipykernel)",
   "language": "python",
   "name": "python3"
  },
  "language_info": {
   "codemirror_mode": {
    "name": "ipython",
    "version": 3
   },
   "file_extension": ".py",
   "mimetype": "text/x-python",
   "name": "python",
   "nbconvert_exporter": "python",
   "pygments_lexer": "ipython3",
   "version": "3.9.12"
  }
 },
 "nbformat": 4,
 "nbformat_minor": 5
}

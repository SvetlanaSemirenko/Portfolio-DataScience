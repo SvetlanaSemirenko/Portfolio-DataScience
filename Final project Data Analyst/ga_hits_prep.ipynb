{
 "cells": [
  {
   "cell_type": "markdown",
   "id": "57d06444",
   "metadata": {},
   "source": [
    "##  GA HITS"
   ]
  },
  {
   "cell_type": "markdown",
   "id": "ca53d4d5",
   "metadata": {},
   "source": [
    "Данные ***ga_hits***  содержат информацию о действиях совершаемых потенциальным клиентом на  сайте «СберАвтоподписка» : просмотр страниц с вариантами автомобиля, создание личного кабинета, заказ звонка, подписка на рассылку. Данные позволяют понять интересы посетителя и спрос на автомобили."
   ]
  },
  {
   "cell_type": "markdown",
   "id": "0c28868b",
   "metadata": {},
   "source": [
    "#### Целевое действие — события типа «Оставить заявку» и «Заказать звонок»\n",
    "(ga_hits.event_action in ['sub_car_claim_click', 'sub_car_claim_submit_click',\n",
    "'sub_open_dialog_click', 'sub_custom_question_submit_click',\n",
    "'sub_call_number_click', 'sub_callback_submit_click', 'sub_submit_success',\n",
    "'sub_car_request_submit_click']).\n"
   ]
  },
  {
   "cell_type": "markdown",
   "id": "6407c08d",
   "metadata": {},
   "source": [
    "#### CR (Conversion Rate) — показатель конверсии из визита \n",
    "(уникальный session_id) в любое целевое действие в рамках одного визита (в случае наличия 1 целевого действия — считать все как одно)."
   ]
  },
  {
   "cell_type": "markdown",
   "id": "e71155ff",
   "metadata": {},
   "source": [
    "**Информация про марку и модель авто — содержится** в ga_hits.hit_page_path.\n"
   ]
  },
  {
   "cell_type": "markdown",
   "id": "c418f36f",
   "metadata": {},
   "source": [
    "# 0. Импорт необходимых библиотек"
   ]
  },
  {
   "cell_type": "code",
   "execution_count": 1,
   "id": "8fc73c4e",
   "metadata": {},
   "outputs": [],
   "source": [
    "import matplotlib.pyplot as plt\n",
    "import matplotlib.ticker as ticker\n",
    "import numpy as np\n",
    "import pandas as pd\n",
    "import seaborn as sns\n",
    "import warnings\n",
    "warnings.filterwarnings('ignore')\n",
    "\n",
    "from matplotlib.ticker import FormatStrFormatter"
   ]
  },
  {
   "cell_type": "markdown",
   "id": "9c56f02b",
   "metadata": {},
   "source": [
    "# 1. Загрузка исходных файлов"
   ]
  },
  {
   "cell_type": "markdown",
   "id": "e7a71a71",
   "metadata": {},
   "source": [
    "**Описание атрибутов:**\n",
    "\n",
    "*Одна строка = одно событие в рамках одного визита на сайт*\n",
    "- session_id — ID визита;\n",
    "- hit_date — дата события;\n",
    "- hit_time — время события;\n",
    "- hit_number — порядковый номер события в рамках сессии;\n",
    "- hit_type — тип события;\n",
    "- hit_referer — источник события;\n",
    "- hit_page_path — страница события;\n",
    "- event_category — тип действия;\n",
    "- event_action — действие;\n",
    "- event_label — тег действия;\n",
    "- event_value — значение результата действия."
   ]
  },
  {
   "cell_type": "code",
   "execution_count": 2,
   "id": "f3693970",
   "metadata": {},
   "outputs": [
    {
     "name": "stdout",
     "output_type": "stream",
     "text": [
      "Размер выбоpки: 15726470, 11\n"
     ]
    },
    {
     "data": {
      "text/html": [
       "<div>\n",
       "<style scoped>\n",
       "    .dataframe tbody tr th:only-of-type {\n",
       "        vertical-align: middle;\n",
       "    }\n",
       "\n",
       "    .dataframe tbody tr th {\n",
       "        vertical-align: top;\n",
       "    }\n",
       "\n",
       "    .dataframe thead th {\n",
       "        text-align: right;\n",
       "    }\n",
       "</style>\n",
       "<table border=\"1\" class=\"dataframe\">\n",
       "  <thead>\n",
       "    <tr style=\"text-align: right;\">\n",
       "      <th></th>\n",
       "      <th>session_id</th>\n",
       "      <th>hit_date</th>\n",
       "      <th>hit_time</th>\n",
       "      <th>hit_number</th>\n",
       "      <th>hit_type</th>\n",
       "      <th>hit_referer</th>\n",
       "      <th>hit_page_path</th>\n",
       "      <th>event_category</th>\n",
       "      <th>event_action</th>\n",
       "      <th>event_label</th>\n",
       "      <th>event_value</th>\n",
       "    </tr>\n",
       "  </thead>\n",
       "  <tbody>\n",
       "    <tr>\n",
       "      <th>0</th>\n",
       "      <td>5639623078712724064.1640254056.1640254056</td>\n",
       "      <td>2021-12-23</td>\n",
       "      <td>597864.0</td>\n",
       "      <td>30</td>\n",
       "      <td>event</td>\n",
       "      <td>NaN</td>\n",
       "      <td>sberauto.com/cars?utm_source_initial=google&amp;ut...</td>\n",
       "      <td>quiz</td>\n",
       "      <td>quiz_show</td>\n",
       "      <td>NaN</td>\n",
       "      <td>NaN</td>\n",
       "    </tr>\n",
       "    <tr>\n",
       "      <th>1</th>\n",
       "      <td>7750352294969115059.1640271109.1640271109</td>\n",
       "      <td>2021-12-23</td>\n",
       "      <td>597331.0</td>\n",
       "      <td>41</td>\n",
       "      <td>event</td>\n",
       "      <td>NaN</td>\n",
       "      <td>sberauto.com/cars/fiat?city=1&amp;city=18&amp;rental_c...</td>\n",
       "      <td>quiz</td>\n",
       "      <td>quiz_show</td>\n",
       "      <td>NaN</td>\n",
       "      <td>NaN</td>\n",
       "    </tr>\n",
       "    <tr>\n",
       "      <th>2</th>\n",
       "      <td>885342191847998240.1640235807.1640235807</td>\n",
       "      <td>2021-12-23</td>\n",
       "      <td>796252.0</td>\n",
       "      <td>49</td>\n",
       "      <td>event</td>\n",
       "      <td>NaN</td>\n",
       "      <td>sberauto.com/cars/all/volkswagen/polo/e994838f...</td>\n",
       "      <td>quiz</td>\n",
       "      <td>quiz_show</td>\n",
       "      <td>NaN</td>\n",
       "      <td>NaN</td>\n",
       "    </tr>\n",
       "    <tr>\n",
       "      <th>3</th>\n",
       "      <td>142526202120934167.1640211014.1640211014</td>\n",
       "      <td>2021-12-23</td>\n",
       "      <td>934292.0</td>\n",
       "      <td>46</td>\n",
       "      <td>event</td>\n",
       "      <td>NaN</td>\n",
       "      <td>sberauto.com/cars?utm_source_initial=yandex&amp;ut...</td>\n",
       "      <td>quiz</td>\n",
       "      <td>quiz_show</td>\n",
       "      <td>NaN</td>\n",
       "      <td>NaN</td>\n",
       "    </tr>\n",
       "    <tr>\n",
       "      <th>4</th>\n",
       "      <td>3450086108837475701.1640265078.1640265078</td>\n",
       "      <td>2021-12-23</td>\n",
       "      <td>768741.0</td>\n",
       "      <td>79</td>\n",
       "      <td>event</td>\n",
       "      <td>NaN</td>\n",
       "      <td>sberauto.com/cars/all/mercedes-benz/cla-klasse...</td>\n",
       "      <td>quiz</td>\n",
       "      <td>quiz_show</td>\n",
       "      <td>NaN</td>\n",
       "      <td>NaN</td>\n",
       "    </tr>\n",
       "  </tbody>\n",
       "</table>\n",
       "</div>"
      ],
      "text/plain": [
       "                                  session_id    hit_date  hit_time  \\\n",
       "0  5639623078712724064.1640254056.1640254056  2021-12-23  597864.0   \n",
       "1  7750352294969115059.1640271109.1640271109  2021-12-23  597331.0   \n",
       "2   885342191847998240.1640235807.1640235807  2021-12-23  796252.0   \n",
       "3   142526202120934167.1640211014.1640211014  2021-12-23  934292.0   \n",
       "4  3450086108837475701.1640265078.1640265078  2021-12-23  768741.0   \n",
       "\n",
       "   hit_number hit_type hit_referer  \\\n",
       "0          30    event         NaN   \n",
       "1          41    event         NaN   \n",
       "2          49    event         NaN   \n",
       "3          46    event         NaN   \n",
       "4          79    event         NaN   \n",
       "\n",
       "                                       hit_page_path event_category  \\\n",
       "0  sberauto.com/cars?utm_source_initial=google&ut...           quiz   \n",
       "1  sberauto.com/cars/fiat?city=1&city=18&rental_c...           quiz   \n",
       "2  sberauto.com/cars/all/volkswagen/polo/e994838f...           quiz   \n",
       "3  sberauto.com/cars?utm_source_initial=yandex&ut...           quiz   \n",
       "4  sberauto.com/cars/all/mercedes-benz/cla-klasse...           quiz   \n",
       "\n",
       "  event_action event_label  event_value  \n",
       "0    quiz_show         NaN          NaN  \n",
       "1    quiz_show         NaN          NaN  \n",
       "2    quiz_show         NaN          NaN  \n",
       "3    quiz_show         NaN          NaN  \n",
       "4    quiz_show         NaN          NaN  "
      ]
     },
     "execution_count": 2,
     "metadata": {},
     "output_type": "execute_result"
    }
   ],
   "source": [
    "df_hits = pd.read_csv('data/ga_hits.csv')\n",
    "print(f'Размер выбоpки: {df_hits.shape[0]}, { df_hits.shape[1]}')\n",
    "df_hits.head()"
   ]
  },
  {
   "cell_type": "markdown",
   "id": "5bb0bdba",
   "metadata": {},
   "source": [
    "# 2. Data preparation"
   ]
  },
  {
   "cell_type": "markdown",
   "id": "20aaa165",
   "metadata": {},
   "source": [
    "##  Data Cleaning"
   ]
  },
  {
   "cell_type": "markdown",
   "id": "c41a5928",
   "metadata": {},
   "source": [
    "##### Создание копии исходного файла"
   ]
  },
  {
   "cell_type": "code",
   "execution_count": 3,
   "id": "550ee93f",
   "metadata": {},
   "outputs": [
    {
     "name": "stdout",
     "output_type": "stream",
     "text": [
      "Размер выборки: 15726470, 11\n"
     ]
    },
    {
     "data": {
      "text/html": [
       "<div>\n",
       "<style scoped>\n",
       "    .dataframe tbody tr th:only-of-type {\n",
       "        vertical-align: middle;\n",
       "    }\n",
       "\n",
       "    .dataframe tbody tr th {\n",
       "        vertical-align: top;\n",
       "    }\n",
       "\n",
       "    .dataframe thead th {\n",
       "        text-align: right;\n",
       "    }\n",
       "</style>\n",
       "<table border=\"1\" class=\"dataframe\">\n",
       "  <thead>\n",
       "    <tr style=\"text-align: right;\">\n",
       "      <th></th>\n",
       "      <th>session_id</th>\n",
       "      <th>hit_date</th>\n",
       "      <th>hit_time</th>\n",
       "      <th>hit_number</th>\n",
       "      <th>hit_type</th>\n",
       "      <th>hit_referer</th>\n",
       "      <th>hit_page_path</th>\n",
       "      <th>event_category</th>\n",
       "      <th>event_action</th>\n",
       "      <th>event_label</th>\n",
       "      <th>event_value</th>\n",
       "    </tr>\n",
       "  </thead>\n",
       "  <tbody>\n",
       "    <tr>\n",
       "      <th>0</th>\n",
       "      <td>5639623078712724064.1640254056.1640254056</td>\n",
       "      <td>2021-12-23</td>\n",
       "      <td>597864.0</td>\n",
       "      <td>30</td>\n",
       "      <td>event</td>\n",
       "      <td>NaN</td>\n",
       "      <td>sberauto.com/cars?utm_source_initial=google&amp;ut...</td>\n",
       "      <td>quiz</td>\n",
       "      <td>quiz_show</td>\n",
       "      <td>NaN</td>\n",
       "      <td>NaN</td>\n",
       "    </tr>\n",
       "    <tr>\n",
       "      <th>1</th>\n",
       "      <td>7750352294969115059.1640271109.1640271109</td>\n",
       "      <td>2021-12-23</td>\n",
       "      <td>597331.0</td>\n",
       "      <td>41</td>\n",
       "      <td>event</td>\n",
       "      <td>NaN</td>\n",
       "      <td>sberauto.com/cars/fiat?city=1&amp;city=18&amp;rental_c...</td>\n",
       "      <td>quiz</td>\n",
       "      <td>quiz_show</td>\n",
       "      <td>NaN</td>\n",
       "      <td>NaN</td>\n",
       "    </tr>\n",
       "    <tr>\n",
       "      <th>2</th>\n",
       "      <td>885342191847998240.1640235807.1640235807</td>\n",
       "      <td>2021-12-23</td>\n",
       "      <td>796252.0</td>\n",
       "      <td>49</td>\n",
       "      <td>event</td>\n",
       "      <td>NaN</td>\n",
       "      <td>sberauto.com/cars/all/volkswagen/polo/e994838f...</td>\n",
       "      <td>quiz</td>\n",
       "      <td>quiz_show</td>\n",
       "      <td>NaN</td>\n",
       "      <td>NaN</td>\n",
       "    </tr>\n",
       "    <tr>\n",
       "      <th>3</th>\n",
       "      <td>142526202120934167.1640211014.1640211014</td>\n",
       "      <td>2021-12-23</td>\n",
       "      <td>934292.0</td>\n",
       "      <td>46</td>\n",
       "      <td>event</td>\n",
       "      <td>NaN</td>\n",
       "      <td>sberauto.com/cars?utm_source_initial=yandex&amp;ut...</td>\n",
       "      <td>quiz</td>\n",
       "      <td>quiz_show</td>\n",
       "      <td>NaN</td>\n",
       "      <td>NaN</td>\n",
       "    </tr>\n",
       "    <tr>\n",
       "      <th>4</th>\n",
       "      <td>3450086108837475701.1640265078.1640265078</td>\n",
       "      <td>2021-12-23</td>\n",
       "      <td>768741.0</td>\n",
       "      <td>79</td>\n",
       "      <td>event</td>\n",
       "      <td>NaN</td>\n",
       "      <td>sberauto.com/cars/all/mercedes-benz/cla-klasse...</td>\n",
       "      <td>quiz</td>\n",
       "      <td>quiz_show</td>\n",
       "      <td>NaN</td>\n",
       "      <td>NaN</td>\n",
       "    </tr>\n",
       "  </tbody>\n",
       "</table>\n",
       "</div>"
      ],
      "text/plain": [
       "                                  session_id    hit_date  hit_time  \\\n",
       "0  5639623078712724064.1640254056.1640254056  2021-12-23  597864.0   \n",
       "1  7750352294969115059.1640271109.1640271109  2021-12-23  597331.0   \n",
       "2   885342191847998240.1640235807.1640235807  2021-12-23  796252.0   \n",
       "3   142526202120934167.1640211014.1640211014  2021-12-23  934292.0   \n",
       "4  3450086108837475701.1640265078.1640265078  2021-12-23  768741.0   \n",
       "\n",
       "   hit_number hit_type hit_referer  \\\n",
       "0          30    event         NaN   \n",
       "1          41    event         NaN   \n",
       "2          49    event         NaN   \n",
       "3          46    event         NaN   \n",
       "4          79    event         NaN   \n",
       "\n",
       "                                       hit_page_path event_category  \\\n",
       "0  sberauto.com/cars?utm_source_initial=google&ut...           quiz   \n",
       "1  sberauto.com/cars/fiat?city=1&city=18&rental_c...           quiz   \n",
       "2  sberauto.com/cars/all/volkswagen/polo/e994838f...           quiz   \n",
       "3  sberauto.com/cars?utm_source_initial=yandex&ut...           quiz   \n",
       "4  sberauto.com/cars/all/mercedes-benz/cla-klasse...           quiz   \n",
       "\n",
       "  event_action event_label  event_value  \n",
       "0    quiz_show         NaN          NaN  \n",
       "1    quiz_show         NaN          NaN  \n",
       "2    quiz_show         NaN          NaN  \n",
       "3    quiz_show         NaN          NaN  \n",
       "4    quiz_show         NaN          NaN  "
      ]
     },
     "execution_count": 3,
     "metadata": {},
     "output_type": "execute_result"
    }
   ],
   "source": [
    "df_h = df_hits.copy()\n",
    "print(f'Размер выборки: {df_h.shape[0]}, {df_h.shape[1]}')\n",
    "df_h.head()"
   ]
  },
  {
   "cell_type": "markdown",
   "id": "d659d245",
   "metadata": {},
   "source": [
    "###### Проверка на наличие дубликатов"
   ]
  },
  {
   "cell_type": "code",
   "execution_count": 4,
   "id": "d94cf434",
   "metadata": {},
   "outputs": [
    {
     "name": "stdout",
     "output_type": "stream",
     "text": [
      "Количество дубликатов в ga_hits: 0\n"
     ]
    }
   ],
   "source": [
    "print(f'Количество дубликатов в ga_hits: {df_h.duplicated().sum()}')"
   ]
  },
  {
   "cell_type": "markdown",
   "id": "9159a82b",
   "metadata": {},
   "source": [
    "##### Информация по выборке"
   ]
  },
  {
   "cell_type": "code",
   "execution_count": 5,
   "id": "5f557ebb",
   "metadata": {},
   "outputs": [
    {
     "name": "stdout",
     "output_type": "stream",
     "text": [
      "Информация о выборке: \n",
      "\n",
      "<class 'pandas.core.frame.DataFrame'>\n",
      "RangeIndex: 15726470 entries, 0 to 15726469\n",
      "Data columns (total 11 columns):\n",
      " #   Column          Dtype  \n",
      "---  ------          -----  \n",
      " 0   session_id      object \n",
      " 1   hit_date        object \n",
      " 2   hit_time        float64\n",
      " 3   hit_number      int64  \n",
      " 4   hit_type        object \n",
      " 5   hit_referer     object \n",
      " 6   hit_page_path   object \n",
      " 7   event_category  object \n",
      " 8   event_action    object \n",
      " 9   event_label     object \n",
      " 10  event_value     float64\n",
      "dtypes: float64(2), int64(1), object(8)\n",
      "memory usage: 1.3+ GB\n"
     ]
    }
   ],
   "source": [
    "print('Информация о выборке: \\n')\n",
    "df_h.info()"
   ]
  },
  {
   "cell_type": "markdown",
   "id": "c6b7377c",
   "metadata": {},
   "source": [
    "##### Проверка на наличие пропущенных значений"
   ]
  },
  {
   "cell_type": "code",
   "execution_count": 6,
   "id": "a71ea5b3",
   "metadata": {},
   "outputs": [
    {
     "name": "stdout",
     "output_type": "stream",
     "text": [
      "Процент пропущенных значений:\n"
     ]
    },
    {
     "data": {
      "text/plain": [
       "event_value       100.000000\n",
       "hit_time           58.247795\n",
       "hit_referer        39.899634\n",
       "event_label        23.909905\n",
       "session_id          0.000000\n",
       "hit_date            0.000000\n",
       "hit_number          0.000000\n",
       "hit_type            0.000000\n",
       "hit_page_path       0.000000\n",
       "event_category      0.000000\n",
       "event_action        0.000000\n",
       "dtype: float64"
      ]
     },
     "execution_count": 6,
     "metadata": {},
     "output_type": "execute_result"
    }
   ],
   "source": [
    "missing_values = ((df_h.isna().sum()/len(df_h)) * 100).sort_values(ascending=False)\n",
    "print('Процент пропущенных значений:')\n",
    "missing_values"
   ]
  },
  {
   "cell_type": "markdown",
   "id": "1b935f85",
   "metadata": {},
   "source": [
    "##### Сводная таблица ga_hits"
   ]
  },
  {
   "cell_type": "code",
   "execution_count": 7,
   "id": "30216f30",
   "metadata": {},
   "outputs": [
    {
     "data": {
      "text/html": [
       "<div>\n",
       "<style scoped>\n",
       "    .dataframe tbody tr th:only-of-type {\n",
       "        vertical-align: middle;\n",
       "    }\n",
       "\n",
       "    .dataframe tbody tr th {\n",
       "        vertical-align: top;\n",
       "    }\n",
       "\n",
       "    .dataframe thead th {\n",
       "        text-align: right;\n",
       "    }\n",
       "</style>\n",
       "<table border=\"1\" class=\"dataframe\">\n",
       "  <thead>\n",
       "    <tr style=\"text-align: right;\">\n",
       "      <th></th>\n",
       "      <th>count</th>\n",
       "      <th>unique</th>\n",
       "      <th>freq</th>\n",
       "      <th>top</th>\n",
       "    </tr>\n",
       "  </thead>\n",
       "  <tbody>\n",
       "    <tr>\n",
       "      <th>session_id</th>\n",
       "      <td>15726470</td>\n",
       "      <td>1734610</td>\n",
       "      <td>768</td>\n",
       "      <td>5442565791571325612.1632449195.1632449195</td>\n",
       "    </tr>\n",
       "    <tr>\n",
       "      <th>hit_date</th>\n",
       "      <td>15726470</td>\n",
       "      <td>226</td>\n",
       "      <td>513035</td>\n",
       "      <td>2021-05-24</td>\n",
       "    </tr>\n",
       "    <tr>\n",
       "      <th>hit_time</th>\n",
       "      <td>6566148.0</td>\n",
       "      <td>NaN</td>\n",
       "      <td>NaN</td>\n",
       "      <td>NaN</td>\n",
       "    </tr>\n",
       "    <tr>\n",
       "      <th>hit_number</th>\n",
       "      <td>15726470.0</td>\n",
       "      <td>NaN</td>\n",
       "      <td>NaN</td>\n",
       "      <td>NaN</td>\n",
       "    </tr>\n",
       "    <tr>\n",
       "      <th>hit_type</th>\n",
       "      <td>15726470</td>\n",
       "      <td>1</td>\n",
       "      <td>15726470</td>\n",
       "      <td>event</td>\n",
       "    </tr>\n",
       "    <tr>\n",
       "      <th>hit_referer</th>\n",
       "      <td>9451666</td>\n",
       "      <td>37873</td>\n",
       "      <td>8879187</td>\n",
       "      <td>HbolMJUevblAbkHClEQa</td>\n",
       "    </tr>\n",
       "    <tr>\n",
       "      <th>hit_page_path</th>\n",
       "      <td>15726470</td>\n",
       "      <td>342715</td>\n",
       "      <td>2793639</td>\n",
       "      <td>podpiska.sberauto.com/</td>\n",
       "    </tr>\n",
       "    <tr>\n",
       "      <th>event_category</th>\n",
       "      <td>15726470</td>\n",
       "      <td>52</td>\n",
       "      <td>7456998</td>\n",
       "      <td>card_web</td>\n",
       "    </tr>\n",
       "    <tr>\n",
       "      <th>event_action</th>\n",
       "      <td>15726470</td>\n",
       "      <td>230</td>\n",
       "      <td>3558985</td>\n",
       "      <td>view_card</td>\n",
       "    </tr>\n",
       "    <tr>\n",
       "      <th>event_label</th>\n",
       "      <td>11966286</td>\n",
       "      <td>39825</td>\n",
       "      <td>6505447</td>\n",
       "      <td>KclpemfoHstknWHFiLit</td>\n",
       "    </tr>\n",
       "    <tr>\n",
       "      <th>event_value</th>\n",
       "      <td>0.0</td>\n",
       "      <td>NaN</td>\n",
       "      <td>NaN</td>\n",
       "      <td>NaN</td>\n",
       "    </tr>\n",
       "  </tbody>\n",
       "</table>\n",
       "</div>"
      ],
      "text/plain": [
       "                     count   unique      freq  \\\n",
       "session_id        15726470  1734610       768   \n",
       "hit_date          15726470      226    513035   \n",
       "hit_time         6566148.0      NaN       NaN   \n",
       "hit_number      15726470.0      NaN       NaN   \n",
       "hit_type          15726470        1  15726470   \n",
       "hit_referer        9451666    37873   8879187   \n",
       "hit_page_path     15726470   342715   2793639   \n",
       "event_category    15726470       52   7456998   \n",
       "event_action      15726470      230   3558985   \n",
       "event_label       11966286    39825   6505447   \n",
       "event_value            0.0      NaN       NaN   \n",
       "\n",
       "                                                      top  \n",
       "session_id      5442565791571325612.1632449195.1632449195  \n",
       "hit_date                                       2021-05-24  \n",
       "hit_time                                              NaN  \n",
       "hit_number                                            NaN  \n",
       "hit_type                                            event  \n",
       "hit_referer                          HbolMJUevblAbkHClEQa  \n",
       "hit_page_path                      podpiska.sberauto.com/  \n",
       "event_category                                   card_web  \n",
       "event_action                                    view_card  \n",
       "event_label                          KclpemfoHstknWHFiLit  \n",
       "event_value                                           NaN  "
      ]
     },
     "execution_count": 7,
     "metadata": {},
     "output_type": "execute_result"
    }
   ],
   "source": [
    "df_h.describe(include='all').loc[['count', 'unique', 'freq', 'top']].T"
   ]
  },
  {
   "cell_type": "markdown",
   "id": "f621fd9a",
   "metadata": {},
   "source": [
    "**Из сводной таблицы датасета видно, что**\n",
    "1. Колонка **session_id** не содержит пропусков. Уникальных значений **1734610**. Максимальное количество событий за сессию **768**.\n",
    "2. Чаще всего сайт посещался в первый месяц действия сервиса.\n",
    "3. Признаки **hit_time**, **event_value**, **hit_number** и **hit_type** не несут никакой полезной информации.\n",
    "4. Самым популярным источником (**hit_referer**) события является **HbolMJUevblAbkHClEQa**.\n",
    "5. Самой часто посещаемой страницей является **podpiska.sberauto.com**.  \n",
    "6. Чуть меньше половины действий происходят с карточкой(**card_web**). \n",
    "7. Чаще всего карточку просматривают (**view_card**). \n",
    "8. Признаки **hit_referer** и **event_label** зашифрованы.  Оба признака содержат более 20 % пропущенных значений, что не позволяет удалить строки с пропусками из-за возможности потери данных. Так же из-за большого количества пропусков восстановление данных не целесообразно. Поэтому логично удалить столбцы **hit_time**, **event_value**, **hit_number**, **hit_type**, **hit_referer** и **event_label**.\n",
    "9. Наибольший интерес представляют столбцы **session_id**, **hit_date**, **hit_page_path** и **event_action**. Их следует рассмотреть подробнее."
   ]
  },
  {
   "cell_type": "markdown",
   "id": "da92484d",
   "metadata": {},
   "source": [
    "***Удаление колонок***"
   ]
  },
  {
   "cell_type": "code",
   "execution_count": 8,
   "id": "b5ad1cb5",
   "metadata": {},
   "outputs": [],
   "source": [
    "columns_to_drop = ['event_value', 'hit_time', 'hit_number', 'hit_type', 'hit_referer', 'event_label']\n",
    "df_h.drop(columns_to_drop, axis=1, inplace=True)"
   ]
  },
  {
   "cell_type": "code",
   "execution_count": 9,
   "id": "84a31bdf",
   "metadata": {},
   "outputs": [
    {
     "name": "stdout",
     "output_type": "stream",
     "text": [
      "Информация о выборке: \n",
      "\n",
      "<class 'pandas.core.frame.DataFrame'>\n",
      "RangeIndex: 15726470 entries, 0 to 15726469\n",
      "Data columns (total 5 columns):\n",
      " #   Column          Dtype \n",
      "---  ------          ----- \n",
      " 0   session_id      object\n",
      " 1   hit_date        object\n",
      " 2   hit_page_path   object\n",
      " 3   event_category  object\n",
      " 4   event_action    object\n",
      "dtypes: object(5)\n",
      "memory usage: 599.9+ MB\n"
     ]
    }
   ],
   "source": [
    "print('Информация о выборке: \\n')\n",
    "df_h.info()"
   ]
  },
  {
   "cell_type": "markdown",
   "id": "50679b2f",
   "metadata": {},
   "source": [
    "### `session_id - ID визита`"
   ]
  },
  {
   "cell_type": "code",
   "execution_count": 4,
   "id": "e6109fe5",
   "metadata": {},
   "outputs": [
    {
     "data": {
      "text/plain": [
       "5442565791571325612.1632449195.1632449195    768\n",
       "6568868914238486437.1632270313.1632270313    678\n",
       "5959671972744778783.1632490527.1632490600    548\n",
       "7452598043578978502.1632358598.1632358598    514\n",
       "3070792010704358528.1629752408.1629752408    498\n",
       "                                            ... \n",
       "4570994095441102117.1630324006.1630324006      1\n",
       "768506153535315810.1630314342.1630314342       1\n",
       "5517253735248338264.1630315080.1630315080      1\n",
       "4054272189286640867.1630334209.1630334209      1\n",
       "5381267721977892188.1640271196.1640271196      1\n",
       "Name: event_counts, Length: 1734610, dtype: int64"
      ]
     },
     "execution_count": 4,
     "metadata": {},
     "output_type": "execute_result"
    }
   ],
   "source": [
    "event_counts = df_h['session_id'].value_counts()\n",
    "event_counts.name = 'event_counts'\n",
    "event_counts"
   ]
  },
  {
   "cell_type": "code",
   "execution_count": 5,
   "id": "0fec06ae",
   "metadata": {},
   "outputs": [
    {
     "data": {
      "text/plain": [
       "1     537243\n",
       "2     237658\n",
       "6      88086\n",
       "3      85233\n",
       "4      63603\n",
       "9      61938\n",
       "8      58599\n",
       "7      51344\n",
       "10     48890\n",
       "12     42442\n",
       "Name: event_counts, dtype: int64"
      ]
     },
     "execution_count": 5,
     "metadata": {},
     "output_type": "execute_result"
    }
   ],
   "source": [
    "event_counts.value_counts().head(10)"
   ]
  },
  {
   "cell_type": "code",
   "execution_count": 8,
   "id": "8bd093eb",
   "metadata": {},
   "outputs": [
    {
     "data": {
      "image/png": "[encoded data removed]",
      "text/plain": [
       "<Figure size 1296x360 with 1 Axes>"
      ]
     },
     "metadata": {
      "needs_background": "light"
     },
     "output_type": "display_data"
    }
   ],
   "source": [
    "plt.figure(figsize = (18, 5)) \n",
    "plt.title('Количество событий за сессию')\n",
    "plt.xlim(0, 50)\n",
    "my_color = ['mediumseagreen']\n",
    "sns.set_palette(my_color)\n",
    "sns.boxplot(x = event_counts);"
   ]
  },
  {
   "cell_type": "markdown",
   "id": "d6adb15e",
   "metadata": {},
   "source": [
    "Дополнительное исследование колонки **session_id** показало, что большая часть сессий заканчивается с 1 - 2 событиями. Минимальное количество событий за сессию - 1, максимальное - 768. Дальнейшие преобразования будут проводиться, если понадобится, после объединения датасетов. Поле session_id являтся внешним ключом."
   ]
  },
  {
   "cell_type": "markdown",
   "id": "c053966c",
   "metadata": {},
   "source": [
    "### `hit_date — дата события`"
   ]
  },
  {
   "cell_type": "code",
   "execution_count": 9,
   "id": "42e3725a",
   "metadata": {},
   "outputs": [],
   "source": [
    "df_h['hit_date'] = pd.to_datetime(df_h['hit_date'])"
   ]
  },
  {
   "cell_type": "code",
   "execution_count": 10,
   "id": "455581c8",
   "metadata": {},
   "outputs": [
    {
     "data": {
      "text/plain": [
       "count                         15726470\n",
       "mean     2021-09-22 23:21:46.111746304\n",
       "min                2021-05-19 00:00:00\n",
       "25%                2021-07-25 00:00:00\n",
       "50%                2021-10-03 00:00:00\n",
       "75%                2021-11-22 00:00:00\n",
       "max                2021-12-31 00:00:00\n",
       "Name: hit_date, dtype: object"
      ]
     },
     "execution_count": 10,
     "metadata": {},
     "output_type": "execute_result"
    }
   ],
   "source": [
    "df_h['hit_date'].describe(datetime_is_numeric=True)"
   ]
  },
  {
   "cell_type": "code",
   "execution_count": 11,
   "id": "6ef8ab2e",
   "metadata": {},
   "outputs": [
    {
     "data": {
      "image/png": "[encoded data removed]",
      "text/plain": [
       "<Figure size 1296x360 with 1 Axes>"
      ]
     },
     "metadata": {
      "needs_background": "light"
     },
     "output_type": "display_data"
    }
   ],
   "source": [
    "plt.figure(figsize = (18, 5))\n",
    "sns.histplot(df_h, x = 'hit_date', discrete=True)\n",
    "plt.xlabel('Даты')\n",
    "plt.ylabel('Количество сессий')\n",
    "plt.title('Количество сессий по дням');"
   ]
  },
  {
   "cell_type": "code",
   "execution_count": 12,
   "id": "66bc16c1",
   "metadata": {},
   "outputs": [
    {
     "data": {
      "image/png": "[encoded data removed]",
      "text/plain": [
       "<Figure size 1296x360 with 1 Axes>"
      ]
     },
     "metadata": {
      "needs_background": "light"
     },
     "output_type": "display_data"
    }
   ],
   "source": [
    "plt.figure(figsize = (18, 5))\n",
    "sns.kdeplot(df_h, x = 'hit_date')\n",
    "plt.xlabel('Даты')\n",
    "plt.title('Распределение количества сессий за исследуемый период');"
   ]
  },
  {
   "cell_type": "code",
   "execution_count": 21,
   "id": "815c2038",
   "metadata": {},
   "outputs": [
    {
     "name": "stdout",
     "output_type": "stream",
     "text": [
      "Количество уникальных значений в hit_date: 226\n"
     ]
    }
   ],
   "source": [
    "n_unique = df_h['hit_date'].nunique()\n",
    "print(f'Количество уникальных значений в hit_date: {n_unique}')"
   ]
  },
  {
   "cell_type": "markdown",
   "id": "37b4977e",
   "metadata": {},
   "source": [
    "Дополнительное исследование колонки **hit_date** показало, что выборка представлена за период **226 дней**, в диапазоне **19 мая 2021 - 31 декабря 2021**. Что соответствует периоду работы сервиса \"СберАвтоподписка\" в 2021 году.\n",
    "\n",
    "Через несколько дней после начала работы сервиса заметен существенный пик посещаемости сайта. Возможно, это связано с новостями о появлении нового сервиса, а также с массированной рекламой. \n",
    "\n",
    "Наблюдаемый на графике легкий восходящий тренд может говорить о постепенном наборе популярности сервиса."
   ]
  },
  {
   "cell_type": "markdown",
   "id": "79cdc861",
   "metadata": {},
   "source": [
    "### `hit_page_path — страница события`"
   ]
  },
  {
   "cell_type": "markdown",
   "id": "42088c93",
   "metadata": {},
   "source": [
    "Колонка **hit_page_path** содержит информацию о марке и модели автомобиля. Следовательно, можно создать две фичи **brand** и **model** и удалить исходную колонку за ненадобностью."
   ]
  },
  {
   "cell_type": "code",
   "execution_count": 24,
   "id": "594d3a79",
   "metadata": {},
   "outputs": [],
   "source": [
    "df_h['brand'] = df_h.hit_page_path.apply(lambda x: x.split('/')[3]\n",
    "                           if (x.find('sberauto.com/cars/all/') != -1 or x.find('sberauto-team.com/cars/all/') != -1)\n",
    "                               \n",
    "                           else\n",
    "                           (x.split('?')[0].split('/')[2]\n",
    "                            if (x.find('sberauto.com/cars/all/') == -1\n",
    "                                and x.find('sberauto.com/cars/') != -1\n",
    "                                and (x.split('?')[0].split('/')[2].isalpha() == True\n",
    "                                     or x.split('?')[0].split('/')[2].find('-') != -1))\n",
    "                            else np.nan))\n",
    "\n",
    "df_h['model'] = df_h.hit_page_path.apply(lambda x: x.split('/')[4]\n",
    "                           if (x.find('sberauto.com/cars/all/') != -1\n",
    "                               or x.find('sberauto-team.com/cars/all/') != -1)\n",
    "                           else\n",
    "                           (x.split('?')[0].split('/')[3]\n",
    "                            if (x.find('sberauto.com/cars/all/') == -1\n",
    "                                and x.find('sberauto.com/cars/') != -1\n",
    "                                and (x.split('?')[0].split('/')[2].isalpha() == True\n",
    "                                     or x.split('?')[0].split('/')[2].find('-') != -1)\n",
    "                                and len(x.split('?')[0].split('/')) > 3)\n",
    "                            else np.nan))"
   ]
  },
  {
   "cell_type": "code",
   "execution_count": 25,
   "id": "3d9ed2d8",
   "metadata": {},
   "outputs": [
    {
     "data": {
      "text/html": [
       "<div>\n",
       "<style scoped>\n",
       "    .dataframe tbody tr th:only-of-type {\n",
       "        vertical-align: middle;\n",
       "    }\n",
       "\n",
       "    .dataframe tbody tr th {\n",
       "        vertical-align: top;\n",
       "    }\n",
       "\n",
       "    .dataframe thead th {\n",
       "        text-align: right;\n",
       "    }\n",
       "</style>\n",
       "<table border=\"1\" class=\"dataframe\">\n",
       "  <thead>\n",
       "    <tr style=\"text-align: right;\">\n",
       "      <th></th>\n",
       "      <th>session_id</th>\n",
       "      <th>hit_date</th>\n",
       "      <th>hit_page_path</th>\n",
       "      <th>event_category</th>\n",
       "      <th>event_action</th>\n",
       "      <th>brand</th>\n",
       "      <th>model</th>\n",
       "    </tr>\n",
       "  </thead>\n",
       "  <tbody>\n",
       "    <tr>\n",
       "      <th>0</th>\n",
       "      <td>5639623078712724064.1640254056.1640254056</td>\n",
       "      <td>2021-12-23</td>\n",
       "      <td>sberauto.com/cars?utm_source_initial=google&amp;ut...</td>\n",
       "      <td>quiz</td>\n",
       "      <td>quiz_show</td>\n",
       "      <td>NaN</td>\n",
       "      <td>NaN</td>\n",
       "    </tr>\n",
       "    <tr>\n",
       "      <th>1</th>\n",
       "      <td>7750352294969115059.1640271109.1640271109</td>\n",
       "      <td>2021-12-23</td>\n",
       "      <td>sberauto.com/cars/fiat?city=1&amp;city=18&amp;rental_c...</td>\n",
       "      <td>quiz</td>\n",
       "      <td>quiz_show</td>\n",
       "      <td>fiat</td>\n",
       "      <td>NaN</td>\n",
       "    </tr>\n",
       "    <tr>\n",
       "      <th>2</th>\n",
       "      <td>885342191847998240.1640235807.1640235807</td>\n",
       "      <td>2021-12-23</td>\n",
       "      <td>sberauto.com/cars/all/volkswagen/polo/e994838f...</td>\n",
       "      <td>quiz</td>\n",
       "      <td>quiz_show</td>\n",
       "      <td>volkswagen</td>\n",
       "      <td>polo</td>\n",
       "    </tr>\n",
       "    <tr>\n",
       "      <th>3</th>\n",
       "      <td>142526202120934167.1640211014.1640211014</td>\n",
       "      <td>2021-12-23</td>\n",
       "      <td>sberauto.com/cars?utm_source_initial=yandex&amp;ut...</td>\n",
       "      <td>quiz</td>\n",
       "      <td>quiz_show</td>\n",
       "      <td>NaN</td>\n",
       "      <td>NaN</td>\n",
       "    </tr>\n",
       "    <tr>\n",
       "      <th>4</th>\n",
       "      <td>3450086108837475701.1640265078.1640265078</td>\n",
       "      <td>2021-12-23</td>\n",
       "      <td>sberauto.com/cars/all/mercedes-benz/cla-klasse...</td>\n",
       "      <td>quiz</td>\n",
       "      <td>quiz_show</td>\n",
       "      <td>mercedes-benz</td>\n",
       "      <td>cla-klasse</td>\n",
       "    </tr>\n",
       "  </tbody>\n",
       "</table>\n",
       "</div>"
      ],
      "text/plain": [
       "                                  session_id   hit_date  \\\n",
       "0  5639623078712724064.1640254056.1640254056 2021-12-23   \n",
       "1  7750352294969115059.1640271109.1640271109 2021-12-23   \n",
       "2   885342191847998240.1640235807.1640235807 2021-12-23   \n",
       "3   142526202120934167.1640211014.1640211014 2021-12-23   \n",
       "4  3450086108837475701.1640265078.1640265078 2021-12-23   \n",
       "\n",
       "                                       hit_page_path event_category  \\\n",
       "0  sberauto.com/cars?utm_source_initial=google&ut...           quiz   \n",
       "1  sberauto.com/cars/fiat?city=1&city=18&rental_c...           quiz   \n",
       "2  sberauto.com/cars/all/volkswagen/polo/e994838f...           quiz   \n",
       "3  sberauto.com/cars?utm_source_initial=yandex&ut...           quiz   \n",
       "4  sberauto.com/cars/all/mercedes-benz/cla-klasse...           quiz   \n",
       "\n",
       "  event_action          brand       model  \n",
       "0    quiz_show            NaN         NaN  \n",
       "1    quiz_show           fiat         NaN  \n",
       "2    quiz_show     volkswagen        polo  \n",
       "3    quiz_show            NaN         NaN  \n",
       "4    quiz_show  mercedes-benz  cla-klasse  "
      ]
     },
     "execution_count": 25,
     "metadata": {},
     "output_type": "execute_result"
    }
   ],
   "source": [
    "df_h.head()"
   ]
  },
  {
   "cell_type": "markdown",
   "id": "22f7731f",
   "metadata": {},
   "source": [
    "### `event_category — тип действия`"
   ]
  },
  {
   "cell_type": "code",
   "execution_count": 26,
   "id": "2d87d914",
   "metadata": {},
   "outputs": [
    {
     "name": "stdout",
     "output_type": "stream",
     "text": [
      "Количество уникальных значений в event_category = 52\n"
     ]
    }
   ],
   "source": [
    "n_unique = df_h['event_category'].nunique()\n",
    "print(f'Количество уникальных значений в event_category = {n_unique}')"
   ]
  },
  {
   "cell_type": "code",
   "execution_count": 27,
   "id": "a46ae96d",
   "metadata": {},
   "outputs": [
    {
     "data": {
      "text/plain": [
       "card_web                         7456998\n",
       "search_form                      2423605\n",
       "sub_page_view                    1986074\n",
       "sub_button_click                 1073471\n",
       "listing_ads                      1040468\n",
       "cars                              358915\n",
       "sap_search_form                   356596\n",
       "quiz                              263134\n",
       "auth                              189373\n",
       "sap_search__form                  188129\n",
       "jivosite                           88443\n",
       "chat                               85007\n",
       "ad_banner                          40441\n",
       "offers                             31218\n",
       "navigation                         27075\n",
       "footer                             20297\n",
       "sub_submit                         18495\n",
       "greenday_sub_button_click          15425\n",
       "main_banners                       14142\n",
       "profile_menu                       13879\n",
       "scrolling_main_page                12160\n",
       "active_invitation                   8478\n",
       "header                              3531\n",
       "my_idea                             2319\n",
       "greenday_listing_ads                1792\n",
       "main_services                       1464\n",
       "phone                               1212\n",
       "category_tile                        924\n",
       "greenday_gtm.triggergroup            766\n",
       "add_ad                               749\n",
       "greenday_sub_submit                  732\n",
       "credit_landing_pos                   274\n",
       "add_ad_additional_information        122\n",
       "main_advantages                      100\n",
       "add_ad_vin                            88\n",
       "pos_landing                           67\n",
       "add_ad_publish_success                65\n",
       "add_ad_options                        62\n",
       "add_ad_city                           59\n",
       "add_ad_photo                          55\n",
       "add_ad_price                          53\n",
       "add_ad_preview                        49\n",
       "add_ad_description                    48\n",
       "add_ad_documents                      46\n",
       "credit_buttons                        27\n",
       "wallet                                15\n",
       "tesla                                 10\n",
       "greenday_sub_page_view                 7\n",
       "add_ad_form                            4\n",
       "greenday_card_web                      4\n",
       "app_banner                             2\n",
       "titul_form                             1\n",
       "Name: event_category, dtype: int64"
      ]
     },
     "execution_count": 27,
     "metadata": {},
     "output_type": "execute_result"
    }
   ],
   "source": [
    "df_h.event_category.value_counts(dropna=False)"
   ]
  },
  {
   "cell_type": "markdown",
   "id": "4ab6ad1b",
   "metadata": {},
   "source": [
    "В колонке **event_category** 52 уникальных значения. Как говорилось выше, почти половина - это действия с карточкой. \n",
    "\n",
    "Поскольку больше никакой полезной для анализа информации здесь не содержится, колонка **event_category**  в окончательном датасете участвовать не будет."
   ]
  },
  {
   "cell_type": "markdown",
   "id": "4641b8b7",
   "metadata": {},
   "source": [
    "### `event_action — действие`"
   ]
  },
  {
   "cell_type": "markdown",
   "id": "d763a105",
   "metadata": {},
   "source": [
    "Колонка **event_action** содержит целевое действие. Это события типа «Оставить заявку» и «Заказать звонок» и т.п. Поэтому следует привести целевую переменную в бинарный вид."
   ]
  },
  {
   "cell_type": "code",
   "execution_count": 13,
   "id": "ec3e99f2",
   "metadata": {},
   "outputs": [],
   "source": [
    "target_actions = ['sub_car_claim_click', 'sub_car_claim_submit_click',\n",
    "                  'sub_open_dialog_click', 'sub_custom_question_submit_click',\n",
    "                  'sub_call_number_click', 'sub_callback_submit_click', \n",
    "                  'sub_submit_success', 'sub_car_request_submit_click']\n",
    "\n",
    "df_h['target_actions'] = df_h.event_action.apply(lambda x: 1 if x in target_actions else 0)"
   ]
  },
  {
   "cell_type": "code",
   "execution_count": 14,
   "id": "52595518",
   "metadata": {},
   "outputs": [
    {
     "data": {
      "text/plain": [
       "0    15621562\n",
       "1      104908\n",
       "Name: target_actions, dtype: int64"
      ]
     },
     "execution_count": 14,
     "metadata": {},
     "output_type": "execute_result"
    }
   ],
   "source": [
    "df_h.target_actions.value_counts(dropna=False)"
   ]
  },
  {
   "cell_type": "code",
   "execution_count": 15,
   "id": "b7fc49c3",
   "metadata": {},
   "outputs": [
    {
     "data": {
      "image/png": "[encoded data removed]",
      "text/plain": [
       "<Figure size 720x576 with 1 Axes>"
      ]
     },
     "metadata": {
      "needs_background": "light"
     },
     "output_type": "display_data"
    }
   ],
   "source": [
    "fig, ax = plt.subplots(figsize=(10, 8))\n",
    "ax.bar(df_h['target_actions'].unique(), df_h['target_actions'].value_counts(), width=0.5, color=['darkgrey', 'mediumseagreen'])\n",
    "ax.set_xlabel('Значение целевой переменной')\n",
    "ax.set_ylabel('Частота')\n",
    "ax.set_title('Распределение значений целевой переменной')\n",
    "ax.tick_params(axis='both', labelsize=12)\n",
    "\n",
    "ax.xaxis.set_major_locator(ticker.MultipleLocator(1)) \n",
    "\n",
    "ax.yaxis.set_major_formatter(FormatStrFormatter('%.0f'));"
   ]
  },
  {
   "cell_type": "code",
   "execution_count": 35,
   "id": "bfe2c5de",
   "metadata": {},
   "outputs": [
    {
     "data": {
      "text/plain": [
       "target_actions\n",
       "0    99.332921\n",
       "1     0.667079\n",
       "dtype: float64"
      ]
     },
     "execution_count": 35,
     "metadata": {},
     "output_type": "execute_result"
    }
   ],
   "source": [
    "df_h.groupby('target_actions').size() / len(df_h) * 100"
   ]
  },
  {
   "cell_type": "markdown",
   "id": "41895460",
   "metadata": {},
   "source": [
    "  Количество целевых событий в датасете **ga_hits**  - `104908`, что составляет `0.67%` выборки."
   ]
  },
  {
   "cell_type": "markdown",
   "id": "3b808502",
   "metadata": {},
   "source": [
    "###### Сохранение подготовленных датасетов"
   ]
  },
  {
   "cell_type": "code",
   "execution_count": 36,
   "id": "c7ddea02",
   "metadata": {},
   "outputs": [],
   "source": [
    "columns_to_drop = ['hit_page_path', 'event_category', 'event_action']\n",
    "df_h.drop(columns_to_drop, axis=1, inplace=True)"
   ]
  },
  {
   "cell_type": "code",
   "execution_count": 37,
   "id": "a6d3e71b",
   "metadata": {},
   "outputs": [
    {
     "data": {
      "text/html": [
       "<div>\n",
       "<style scoped>\n",
       "    .dataframe tbody tr th:only-of-type {\n",
       "        vertical-align: middle;\n",
       "    }\n",
       "\n",
       "    .dataframe tbody tr th {\n",
       "        vertical-align: top;\n",
       "    }\n",
       "\n",
       "    .dataframe thead th {\n",
       "        text-align: right;\n",
       "    }\n",
       "</style>\n",
       "<table border=\"1\" class=\"dataframe\">\n",
       "  <thead>\n",
       "    <tr style=\"text-align: right;\">\n",
       "      <th></th>\n",
       "      <th>session_id</th>\n",
       "      <th>hit_date</th>\n",
       "      <th>brand</th>\n",
       "      <th>model</th>\n",
       "      <th>target_actions</th>\n",
       "    </tr>\n",
       "  </thead>\n",
       "  <tbody>\n",
       "    <tr>\n",
       "      <th>0</th>\n",
       "      <td>5639623078712724064.1640254056.1640254056</td>\n",
       "      <td>2021-12-23</td>\n",
       "      <td>NaN</td>\n",
       "      <td>NaN</td>\n",
       "      <td>0</td>\n",
       "    </tr>\n",
       "    <tr>\n",
       "      <th>1</th>\n",
       "      <td>7750352294969115059.1640271109.1640271109</td>\n",
       "      <td>2021-12-23</td>\n",
       "      <td>fiat</td>\n",
       "      <td>NaN</td>\n",
       "      <td>0</td>\n",
       "    </tr>\n",
       "    <tr>\n",
       "      <th>2</th>\n",
       "      <td>885342191847998240.1640235807.1640235807</td>\n",
       "      <td>2021-12-23</td>\n",
       "      <td>volkswagen</td>\n",
       "      <td>polo</td>\n",
       "      <td>0</td>\n",
       "    </tr>\n",
       "    <tr>\n",
       "      <th>3</th>\n",
       "      <td>142526202120934167.1640211014.1640211014</td>\n",
       "      <td>2021-12-23</td>\n",
       "      <td>NaN</td>\n",
       "      <td>NaN</td>\n",
       "      <td>0</td>\n",
       "    </tr>\n",
       "    <tr>\n",
       "      <th>4</th>\n",
       "      <td>3450086108837475701.1640265078.1640265078</td>\n",
       "      <td>2021-12-23</td>\n",
       "      <td>mercedes-benz</td>\n",
       "      <td>cla-klasse</td>\n",
       "      <td>0</td>\n",
       "    </tr>\n",
       "  </tbody>\n",
       "</table>\n",
       "</div>"
      ],
      "text/plain": [
       "                                  session_id   hit_date          brand  \\\n",
       "0  5639623078712724064.1640254056.1640254056 2021-12-23            NaN   \n",
       "1  7750352294969115059.1640271109.1640271109 2021-12-23           fiat   \n",
       "2   885342191847998240.1640235807.1640235807 2021-12-23     volkswagen   \n",
       "3   142526202120934167.1640211014.1640211014 2021-12-23            NaN   \n",
       "4  3450086108837475701.1640265078.1640265078 2021-12-23  mercedes-benz   \n",
       "\n",
       "        model  target_actions  \n",
       "0         NaN               0  \n",
       "1         NaN               0  \n",
       "2        polo               0  \n",
       "3         NaN               0  \n",
       "4  cla-klasse               0  "
      ]
     },
     "execution_count": 37,
     "metadata": {},
     "output_type": "execute_result"
    }
   ],
   "source": [
    "df_hits_new = df_h.copy()\n",
    "df_hits_new.head()"
   ]
  },
  {
   "cell_type": "markdown",
   "id": "b9bac4c3",
   "metadata": {},
   "source": [
    "Анализ спроса на автомобили логично проводить, используя только датасет **ga_hits**, поскольку именно он содержит все необходимые данные о действиях клиента на сайте. Следовательно, для ответа на вопрос о лучшем показателе CR (Conversion Rate) в целевые события целесооразно создать дополнительный датасет - **df_auto**"
   ]
  },
  {
   "cell_type": "code",
   "execution_count": 39,
   "id": "2b30f4a1",
   "metadata": {},
   "outputs": [
    {
     "data": {
      "text/html": [
       "<div>\n",
       "<style scoped>\n",
       "    .dataframe tbody tr th:only-of-type {\n",
       "        vertical-align: middle;\n",
       "    }\n",
       "\n",
       "    .dataframe tbody tr th {\n",
       "        vertical-align: top;\n",
       "    }\n",
       "\n",
       "    .dataframe thead th {\n",
       "        text-align: right;\n",
       "    }\n",
       "</style>\n",
       "<table border=\"1\" class=\"dataframe\">\n",
       "  <thead>\n",
       "    <tr style=\"text-align: right;\">\n",
       "      <th></th>\n",
       "      <th>session_id</th>\n",
       "      <th>hit_date</th>\n",
       "      <th>brand</th>\n",
       "      <th>model</th>\n",
       "      <th>target_actions</th>\n",
       "    </tr>\n",
       "  </thead>\n",
       "  <tbody>\n",
       "    <tr>\n",
       "      <th>1</th>\n",
       "      <td>7750352294969115059.1640271109.1640271109</td>\n",
       "      <td>2021-12-23</td>\n",
       "      <td>fiat</td>\n",
       "      <td>NaN</td>\n",
       "      <td>0</td>\n",
       "    </tr>\n",
       "    <tr>\n",
       "      <th>2</th>\n",
       "      <td>885342191847998240.1640235807.1640235807</td>\n",
       "      <td>2021-12-23</td>\n",
       "      <td>volkswagen</td>\n",
       "      <td>polo</td>\n",
       "      <td>0</td>\n",
       "    </tr>\n",
       "    <tr>\n",
       "      <th>4</th>\n",
       "      <td>3450086108837475701.1640265078.1640265078</td>\n",
       "      <td>2021-12-23</td>\n",
       "      <td>mercedes-benz</td>\n",
       "      <td>cla-klasse</td>\n",
       "      <td>0</td>\n",
       "    </tr>\n",
       "    <tr>\n",
       "      <th>6</th>\n",
       "      <td>281215510786615563.1640245516.1640245516</td>\n",
       "      <td>2021-12-23</td>\n",
       "      <td>toyota</td>\n",
       "      <td>NaN</td>\n",
       "      <td>0</td>\n",
       "    </tr>\n",
       "    <tr>\n",
       "      <th>7</th>\n",
       "      <td>4024492994895054107.1640269084.1640269084</td>\n",
       "      <td>2021-12-23</td>\n",
       "      <td>mercedes-benz</td>\n",
       "      <td>glc</td>\n",
       "      <td>0</td>\n",
       "    </tr>\n",
       "    <tr>\n",
       "      <th>...</th>\n",
       "      <td>...</td>\n",
       "      <td>...</td>\n",
       "      <td>...</td>\n",
       "      <td>...</td>\n",
       "      <td>...</td>\n",
       "    </tr>\n",
       "    <tr>\n",
       "      <th>15726465</th>\n",
       "      <td>6866159858916559617.1640270865.1640270865</td>\n",
       "      <td>2021-12-23</td>\n",
       "      <td>toyota</td>\n",
       "      <td>fortuner</td>\n",
       "      <td>0</td>\n",
       "    </tr>\n",
       "    <tr>\n",
       "      <th>15726466</th>\n",
       "      <td>7310304587364460692.1640261783.1640261783</td>\n",
       "      <td>2021-12-23</td>\n",
       "      <td>mercedes-benz</td>\n",
       "      <td>gla-klasse</td>\n",
       "      <td>0</td>\n",
       "    </tr>\n",
       "    <tr>\n",
       "      <th>15726467</th>\n",
       "      <td>8013702685784312179.1640270195.1640270195</td>\n",
       "      <td>2021-12-23</td>\n",
       "      <td>toyota</td>\n",
       "      <td>alphard</td>\n",
       "      <td>0</td>\n",
       "    </tr>\n",
       "    <tr>\n",
       "      <th>15726468</th>\n",
       "      <td>8021505554734405918.1640257821.1640257821</td>\n",
       "      <td>2021-12-23</td>\n",
       "      <td>bmw</td>\n",
       "      <td>x3</td>\n",
       "      <td>0</td>\n",
       "    </tr>\n",
       "    <tr>\n",
       "      <th>15726469</th>\n",
       "      <td>1569014437485249865.1640269129.1640269129</td>\n",
       "      <td>2021-12-23</td>\n",
       "      <td>bmw</td>\n",
       "      <td>7-serii</td>\n",
       "      <td>0</td>\n",
       "    </tr>\n",
       "  </tbody>\n",
       "</table>\n",
       "<p>3575991 rows × 5 columns</p>\n",
       "</div>"
      ],
      "text/plain": [
       "                                         session_id   hit_date          brand  \\\n",
       "1         7750352294969115059.1640271109.1640271109 2021-12-23           fiat   \n",
       "2          885342191847998240.1640235807.1640235807 2021-12-23     volkswagen   \n",
       "4         3450086108837475701.1640265078.1640265078 2021-12-23  mercedes-benz   \n",
       "6          281215510786615563.1640245516.1640245516 2021-12-23         toyota   \n",
       "7         4024492994895054107.1640269084.1640269084 2021-12-23  mercedes-benz   \n",
       "...                                             ...        ...            ...   \n",
       "15726465  6866159858916559617.1640270865.1640270865 2021-12-23         toyota   \n",
       "15726466  7310304587364460692.1640261783.1640261783 2021-12-23  mercedes-benz   \n",
       "15726467  8013702685784312179.1640270195.1640270195 2021-12-23         toyota   \n",
       "15726468  8021505554734405918.1640257821.1640257821 2021-12-23            bmw   \n",
       "15726469  1569014437485249865.1640269129.1640269129 2021-12-23            bmw   \n",
       "\n",
       "               model  target_actions  \n",
       "1                NaN               0  \n",
       "2               polo               0  \n",
       "4         cla-klasse               0  \n",
       "6                NaN               0  \n",
       "7                glc               0  \n",
       "...              ...             ...  \n",
       "15726465    fortuner               0  \n",
       "15726466  gla-klasse               0  \n",
       "15726467     alphard               0  \n",
       "15726468          x3               0  \n",
       "15726469     7-serii               0  \n",
       "\n",
       "[3575991 rows x 5 columns]"
      ]
     },
     "execution_count": 39,
     "metadata": {},
     "output_type": "execute_result"
    }
   ],
   "source": [
    "df_auto = df_hits_new[df_hits_new.brand.notna()]\n",
    "df_auto"
   ]
  },
  {
   "cell_type": "code",
   "execution_count": 40,
   "id": "d39d766f",
   "metadata": {},
   "outputs": [
    {
     "data": {
      "text/plain": [
       "0    3544068\n",
       "1      31923\n",
       "Name: target_actions, dtype: int64"
      ]
     },
     "execution_count": 40,
     "metadata": {},
     "output_type": "execute_result"
    }
   ],
   "source": [
    "df_auto.target_actions.value_counts(dropna=False)"
   ]
  },
  {
   "cell_type": "code",
   "execution_count": 41,
   "id": "509a3050",
   "metadata": {},
   "outputs": [
    {
     "name": "stdout",
     "output_type": "stream",
     "text": [
      "Процент пропущенных значений:\n"
     ]
    },
    {
     "data": {
      "text/plain": [
       "model             4.28505\n",
       "session_id        0.00000\n",
       "hit_date          0.00000\n",
       "brand             0.00000\n",
       "target_actions    0.00000\n",
       "dtype: float64"
      ]
     },
     "execution_count": 41,
     "metadata": {},
     "output_type": "execute_result"
    }
   ],
   "source": [
    "missing_values_auto = ((df_auto.isna().sum()/len(df_auto)) * 100).sort_values(ascending=False)\n",
    "print('Процент пропущенных значений:')\n",
    "missing_values_auto"
   ]
  },
  {
   "cell_type": "code",
   "execution_count": 42,
   "id": "5a0dab3a",
   "metadata": {},
   "outputs": [
    {
     "data": {
      "text/html": [
       "<div>\n",
       "<style scoped>\n",
       "    .dataframe tbody tr th:only-of-type {\n",
       "        vertical-align: middle;\n",
       "    }\n",
       "\n",
       "    .dataframe tbody tr th {\n",
       "        vertical-align: top;\n",
       "    }\n",
       "\n",
       "    .dataframe thead th {\n",
       "        text-align: right;\n",
       "    }\n",
       "</style>\n",
       "<table border=\"1\" class=\"dataframe\">\n",
       "  <thead>\n",
       "    <tr style=\"text-align: right;\">\n",
       "      <th></th>\n",
       "      <th>session_id</th>\n",
       "      <th>hit_date</th>\n",
       "      <th>brand</th>\n",
       "      <th>model</th>\n",
       "      <th>target_actions</th>\n",
       "    </tr>\n",
       "  </thead>\n",
       "  <tbody>\n",
       "    <tr>\n",
       "      <th>1</th>\n",
       "      <td>7750352294969115059.1640271109.1640271109</td>\n",
       "      <td>2021-12-23</td>\n",
       "      <td>fiat</td>\n",
       "      <td>unknown</td>\n",
       "      <td>0</td>\n",
       "    </tr>\n",
       "    <tr>\n",
       "      <th>2</th>\n",
       "      <td>885342191847998240.1640235807.1640235807</td>\n",
       "      <td>2021-12-23</td>\n",
       "      <td>volkswagen</td>\n",
       "      <td>polo</td>\n",
       "      <td>0</td>\n",
       "    </tr>\n",
       "    <tr>\n",
       "      <th>4</th>\n",
       "      <td>3450086108837475701.1640265078.1640265078</td>\n",
       "      <td>2021-12-23</td>\n",
       "      <td>mercedes-benz</td>\n",
       "      <td>cla-klasse</td>\n",
       "      <td>0</td>\n",
       "    </tr>\n",
       "    <tr>\n",
       "      <th>6</th>\n",
       "      <td>281215510786615563.1640245516.1640245516</td>\n",
       "      <td>2021-12-23</td>\n",
       "      <td>toyota</td>\n",
       "      <td>unknown</td>\n",
       "      <td>0</td>\n",
       "    </tr>\n",
       "    <tr>\n",
       "      <th>7</th>\n",
       "      <td>4024492994895054107.1640269084.1640269084</td>\n",
       "      <td>2021-12-23</td>\n",
       "      <td>mercedes-benz</td>\n",
       "      <td>glc</td>\n",
       "      <td>0</td>\n",
       "    </tr>\n",
       "    <tr>\n",
       "      <th>...</th>\n",
       "      <td>...</td>\n",
       "      <td>...</td>\n",
       "      <td>...</td>\n",
       "      <td>...</td>\n",
       "      <td>...</td>\n",
       "    </tr>\n",
       "    <tr>\n",
       "      <th>15726465</th>\n",
       "      <td>6866159858916559617.1640270865.1640270865</td>\n",
       "      <td>2021-12-23</td>\n",
       "      <td>toyota</td>\n",
       "      <td>fortuner</td>\n",
       "      <td>0</td>\n",
       "    </tr>\n",
       "    <tr>\n",
       "      <th>15726466</th>\n",
       "      <td>7310304587364460692.1640261783.1640261783</td>\n",
       "      <td>2021-12-23</td>\n",
       "      <td>mercedes-benz</td>\n",
       "      <td>gla-klasse</td>\n",
       "      <td>0</td>\n",
       "    </tr>\n",
       "    <tr>\n",
       "      <th>15726467</th>\n",
       "      <td>8013702685784312179.1640270195.1640270195</td>\n",
       "      <td>2021-12-23</td>\n",
       "      <td>toyota</td>\n",
       "      <td>alphard</td>\n",
       "      <td>0</td>\n",
       "    </tr>\n",
       "    <tr>\n",
       "      <th>15726468</th>\n",
       "      <td>8021505554734405918.1640257821.1640257821</td>\n",
       "      <td>2021-12-23</td>\n",
       "      <td>bmw</td>\n",
       "      <td>x3</td>\n",
       "      <td>0</td>\n",
       "    </tr>\n",
       "    <tr>\n",
       "      <th>15726469</th>\n",
       "      <td>1569014437485249865.1640269129.1640269129</td>\n",
       "      <td>2021-12-23</td>\n",
       "      <td>bmw</td>\n",
       "      <td>7-serii</td>\n",
       "      <td>0</td>\n",
       "    </tr>\n",
       "  </tbody>\n",
       "</table>\n",
       "<p>3575991 rows × 5 columns</p>\n",
       "</div>"
      ],
      "text/plain": [
       "                                         session_id   hit_date          brand  \\\n",
       "1         7750352294969115059.1640271109.1640271109 2021-12-23           fiat   \n",
       "2          885342191847998240.1640235807.1640235807 2021-12-23     volkswagen   \n",
       "4         3450086108837475701.1640265078.1640265078 2021-12-23  mercedes-benz   \n",
       "6          281215510786615563.1640245516.1640245516 2021-12-23         toyota   \n",
       "7         4024492994895054107.1640269084.1640269084 2021-12-23  mercedes-benz   \n",
       "...                                             ...        ...            ...   \n",
       "15726465  6866159858916559617.1640270865.1640270865 2021-12-23         toyota   \n",
       "15726466  7310304587364460692.1640261783.1640261783 2021-12-23  mercedes-benz   \n",
       "15726467  8013702685784312179.1640270195.1640270195 2021-12-23         toyota   \n",
       "15726468  8021505554734405918.1640257821.1640257821 2021-12-23            bmw   \n",
       "15726469  1569014437485249865.1640269129.1640269129 2021-12-23            bmw   \n",
       "\n",
       "               model  target_actions  \n",
       "1            unknown               0  \n",
       "2               polo               0  \n",
       "4         cla-klasse               0  \n",
       "6            unknown               0  \n",
       "7                glc               0  \n",
       "...              ...             ...  \n",
       "15726465    fortuner               0  \n",
       "15726466  gla-klasse               0  \n",
       "15726467     alphard               0  \n",
       "15726468          x3               0  \n",
       "15726469     7-serii               0  \n",
       "\n",
       "[3575991 rows x 5 columns]"
      ]
     },
     "execution_count": 42,
     "metadata": {},
     "output_type": "execute_result"
    }
   ],
   "source": [
    "df_auto.model = df_auto.model.fillna('unknown')\n",
    "df_auto"
   ]
  },
  {
   "cell_type": "code",
   "execution_count": 43,
   "id": "19744e47",
   "metadata": {},
   "outputs": [
    {
     "name": "stdout",
     "output_type": "stream",
     "text": [
      "Процент пропущенных значений:\n"
     ]
    },
    {
     "data": {
      "text/plain": [
       "session_id        0.0\n",
       "hit_date          0.0\n",
       "brand             0.0\n",
       "model             0.0\n",
       "target_actions    0.0\n",
       "dtype: float64"
      ]
     },
     "execution_count": 43,
     "metadata": {},
     "output_type": "execute_result"
    }
   ],
   "source": [
    "missing_values_auto = ((df_auto.isna().sum()/len(df_auto)) * 100).sort_values(ascending=False)\n",
    "print('Процент пропущенных значений:')\n",
    "missing_values_auto"
   ]
  },
  {
   "cell_type": "code",
   "execution_count": 44,
   "id": "741b821a",
   "metadata": {},
   "outputs": [],
   "source": [
    "df_auto.to_csv('data/ga_auto.csv', index=False)"
   ]
  },
  {
   "cell_type": "markdown",
   "id": "34b06632",
   "metadata": {},
   "source": [
    "Для решения остальных задач из датасета событий требуются только данные **target_actions**, как показатель ***Conversion Rate*** и **session_id**, как ***внешний ключ***."
   ]
  },
  {
   "cell_type": "code",
   "execution_count": 45,
   "id": "fa354b33",
   "metadata": {},
   "outputs": [
    {
     "data": {
      "text/html": [
       "<div>\n",
       "<style scoped>\n",
       "    .dataframe tbody tr th:only-of-type {\n",
       "        vertical-align: middle;\n",
       "    }\n",
       "\n",
       "    .dataframe tbody tr th {\n",
       "        vertical-align: top;\n",
       "    }\n",
       "\n",
       "    .dataframe thead th {\n",
       "        text-align: right;\n",
       "    }\n",
       "</style>\n",
       "<table border=\"1\" class=\"dataframe\">\n",
       "  <thead>\n",
       "    <tr style=\"text-align: right;\">\n",
       "      <th></th>\n",
       "      <th>target_session</th>\n",
       "    </tr>\n",
       "    <tr>\n",
       "      <th>session_id</th>\n",
       "      <th></th>\n",
       "    </tr>\n",
       "  </thead>\n",
       "  <tbody>\n",
       "    <tr>\n",
       "      <th>1000009318903347362.1632663668.1632663668</th>\n",
       "      <td>0</td>\n",
       "    </tr>\n",
       "    <tr>\n",
       "      <th>1000010177899156286.1635013443.1635013443</th>\n",
       "      <td>0</td>\n",
       "    </tr>\n",
       "    <tr>\n",
       "      <th>1000013386240115915.1635402956.1635402956</th>\n",
       "      <td>0</td>\n",
       "    </tr>\n",
       "    <tr>\n",
       "      <th>1000017303238376207.1623489300.1623489300</th>\n",
       "      <td>0</td>\n",
       "    </tr>\n",
       "    <tr>\n",
       "      <th>1000020580299877109.1624943350.1624943350</th>\n",
       "      <td>0</td>\n",
       "    </tr>\n",
       "    <tr>\n",
       "      <th>...</th>\n",
       "      <td>...</td>\n",
       "    </tr>\n",
       "    <tr>\n",
       "      <th>999960188766601545.1626816843.1626816843</th>\n",
       "      <td>0</td>\n",
       "    </tr>\n",
       "    <tr>\n",
       "      <th>99996598443387715.1626811203.1626811203</th>\n",
       "      <td>0</td>\n",
       "    </tr>\n",
       "    <tr>\n",
       "      <th>999966717128502952.1638428330.1638428330</th>\n",
       "      <td>0</td>\n",
       "    </tr>\n",
       "    <tr>\n",
       "      <th>999988617151873171.1623556243.1623556243</th>\n",
       "      <td>0</td>\n",
       "    </tr>\n",
       "    <tr>\n",
       "      <th>999989480451054428.1634311006.1634311006</th>\n",
       "      <td>0</td>\n",
       "    </tr>\n",
       "  </tbody>\n",
       "</table>\n",
       "<p>1734610 rows × 1 columns</p>\n",
       "</div>"
      ],
      "text/plain": [
       "                                           target_session\n",
       "session_id                                               \n",
       "1000009318903347362.1632663668.1632663668               0\n",
       "1000010177899156286.1635013443.1635013443               0\n",
       "1000013386240115915.1635402956.1635402956               0\n",
       "1000017303238376207.1623489300.1623489300               0\n",
       "1000020580299877109.1624943350.1624943350               0\n",
       "...                                                   ...\n",
       "999960188766601545.1626816843.1626816843                0\n",
       "99996598443387715.1626811203.1626811203                 0\n",
       "999966717128502952.1638428330.1638428330                0\n",
       "999988617151873171.1623556243.1623556243                0\n",
       "999989480451054428.1634311006.1634311006                0\n",
       "\n",
       "[1734610 rows x 1 columns]"
      ]
     },
     "execution_count": 45,
     "metadata": {},
     "output_type": "execute_result"
    }
   ],
   "source": [
    "target_sessions = df_hits_new.groupby(['session_id']).agg({'target_actions':'sum'})\n",
    "target_sessions['target_session'] = target_sessions.target_actions.apply(lambda x: 1 if x > 0 else 0)\n",
    "target_sessions.drop(['target_actions'], inplace=True, axis=1)\n",
    "target_sessions"
   ]
  },
  {
   "cell_type": "code",
   "execution_count": 46,
   "id": "cc8c044d",
   "metadata": {},
   "outputs": [
    {
     "data": {
      "text/plain": [
       "0    1683850\n",
       "1      50760\n",
       "Name: target_session, dtype: int64"
      ]
     },
     "execution_count": 46,
     "metadata": {},
     "output_type": "execute_result"
    }
   ],
   "source": [
    "target_sessions.target_session.value_counts(dropna=False)"
   ]
  },
  {
   "cell_type": "code",
   "execution_count": 47,
   "id": "632fc792",
   "metadata": {},
   "outputs": [],
   "source": [
    "target_sessions.to_csv('data/target_sessions.csv')"
   ]
  }
 ],
 "metadata": {
  "kernelspec": {
   "display_name": "Python 3 (ipykernel)",
   "language": "python",
   "name": "python3"
  },
  "language_info": {
   "codemirror_mode": {
    "name": "ipython",
    "version": 3
   },
   "file_extension": ".py",
   "mimetype": "text/x-python",
   "name": "python",
   "nbconvert_exporter": "python",
   "pygments_lexer": "ipython3",
   "version": "3.9.12"
  }
 },
 "nbformat": 4,
 "nbformat_minor": 5
}
